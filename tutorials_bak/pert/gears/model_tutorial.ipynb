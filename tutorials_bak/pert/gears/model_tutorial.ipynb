{
 "cells": [
  {
   "cell_type": "code",
   "execution_count": 20,
   "metadata": {
    "ExecuteTime": {
     "end_time": "2024-03-20T03:18:28.467680575Z",
     "start_time": "2024-03-20T03:18:28.416112420Z"
    }
   },
   "outputs": [],
   "source": [
    "from biollm.repo.gears import GEARS, PertData"
   ],
   "id": "bfea71fd9b3f502f"
  },
  {
   "cell_type": "markdown",
   "metadata": {},
   "source": [
    "Load data. We use norman as an example."
   ],
   "id": "b2761e23052d5d94"
  },
  {
   "cell_type": "code",
   "outputs": [
    {
     "data": {
      "text/plain": "'/home/share/huadjyin/home/s_qiuping1/workspace/omics_model/bio_model/biollm/biollm/repo/gears/__init__.py'"
     },
     "execution_count": 22,
     "metadata": {},
     "output_type": "execute_result"
    }
   ],
   "source": [
    "import biollm\n",
    "biollm.repo.gears.__file__"
   ],
   "metadata": {
    "collapsed": false,
    "ExecuteTime": {
     "end_time": "2024-03-20T03:19:15.162136957Z",
     "start_time": "2024-03-20T03:19:15.139234823Z"
    }
   },
   "id": "36964e46e45d81c5",
   "execution_count": 22
  },
  {
   "cell_type": "code",
   "outputs": [],
   "source": [
    "data_dir = '/home/share/huadjyin/home/s_qiuping1/workspace/omics_model/data/finetune/gears_data/norman'"
   ],
   "metadata": {
    "collapsed": false,
    "ExecuteTime": {
     "end_time": "2024-03-20T03:19:57.133414352Z",
     "start_time": "2024-03-20T03:19:57.076135160Z"
    }
   },
   "id": "dd25f64ce815aa51",
   "execution_count": 23
  },
  {
   "cell_type": "code",
   "execution_count": 24,
   "metadata": {
    "ExecuteTime": {
     "end_time": "2024-03-20T03:20:32.133965458Z",
     "start_time": "2024-03-20T03:19:59.059533655Z"
    }
   },
   "outputs": [
    {
     "name": "stderr",
     "output_type": "stream",
     "text": [
      "Found local copy...\n",
      "Found local copy...\n",
      "the adata shape:\n",
      "(91205, 5045)\n",
      "Found local copy...\n",
      "These perturbations are not in the GO graph and their perturbation can thus not be predicted\n",
      "['RHOXF2BB+ctrl' 'LYL1+IER5L' 'ctrl+IER5L' 'KIAA1804+ctrl' 'IER5L+ctrl'\n",
      " 'RHOXF2BB+ZBTB25' 'RHOXF2BB+SET']\n",
      "Local copy of pyg dataset is detected. Loading...\n",
      "Done!\n",
      "Creating new splits....\n",
      "Saving new splits at /home/share/huadjyin/home/s_qiuping1/workspace/omics_model/data/finetune/gears_data/norman/norman/splits/norman_simulation_1_0.75.pkl\n",
      "Simulation split test composition:\n",
      "combo_seen0:9\n",
      "combo_seen1:43\n",
      "combo_seen2:19\n",
      "unseen_single:36\n",
      "Done!\n",
      "Creating dataloaders....\n",
      "Done!\n"
     ]
    }
   ],
   "source": [
    "pert_data = PertData(data_dir)\n",
    "pert_data.load(data_name = 'norman')\n",
    "pert_data.prepare_split(split = 'simulation', seed = 1)\n",
    "pert_data.get_dataloader(batch_size = 32, test_batch_size = 128)"
   ],
   "id": "8a3ad93a8864b3dd"
  },
  {
   "cell_type": "markdown",
   "metadata": {},
   "source": [
    "Create a model object; if you use [wandb](https://wandb.ai), you can easily track model training and evaluation by setting `weight_bias_track` to true, and specify the `proj_name` and `exp_name` that you like."
   ],
   "id": "e39460c33a627e99"
  },
  {
   "cell_type": "code",
   "execution_count": 25,
   "metadata": {
    "ExecuteTime": {
     "end_time": "2024-03-20T03:22:28.400006241Z",
     "start_time": "2024-03-20T03:21:45.278824694Z"
    }
   },
   "outputs": [
    {
     "name": "stderr",
     "output_type": "stream",
     "text": [
      "Found local copy...\n"
     ]
    }
   ],
   "source": [
    "gears_model = GEARS(pert_data, device = 'cuda:0', \n",
    "                        weight_bias_track = False, \n",
    "                        proj_name = 'pertnet', \n",
    "                        exp_name = 'pertnet')\n",
    "gears_model.model_initialize(hidden_size = 64)"
   ],
   "id": "2d01ea3431fd21db"
  },
  {
   "cell_type": "markdown",
   "metadata": {},
   "source": [
    "You can find available tunable parameters in model_initialize via"
   ],
   "id": "35b9c453b0dbc315"
  },
  {
   "cell_type": "code",
   "execution_count": 26,
   "metadata": {
    "ExecuteTime": {
     "end_time": "2024-03-20T03:22:51.093066111Z",
     "start_time": "2024-03-20T03:22:51.091365543Z"
    }
   },
   "outputs": [
    {
     "data": {
      "text/plain": "{'hidden_size': 'hidden dimension, default 64',\n 'num_go_gnn_layers': 'number of GNN layers for GO graph, default 1',\n 'num_gene_gnn_layers': 'number of GNN layers for co-expression gene graph, default 1',\n 'decoder_hidden_size': 'hidden dimension for gene-specific decoder, default 16',\n 'num_similar_genes_go_graph': 'number of maximum similar K genes in the GO graph, default 20',\n 'num_similar_genes_co_express_graph': 'number of maximum similar K genes in the co expression graph, default 20',\n 'coexpress_threshold': 'pearson correlation threshold when constructing coexpression graph, default 0.4',\n 'uncertainty': 'whether or not to turn on uncertainty mode, default False',\n 'uncertainty_reg': 'regularization term to balance uncertainty loss and prediction loss, default 1',\n 'direction_lambda': 'regularization term to balance direction loss and prediction loss, default 1'}"
     },
     "execution_count": 26,
     "metadata": {},
     "output_type": "execute_result"
    }
   ],
   "source": [
    "gears_model.tunable_parameters()"
   ],
   "id": "f7891e3fdf3ca749"
  },
  {
   "cell_type": "markdown",
   "metadata": {},
   "source": [
    "Train your model:\n",
    "\n",
    "Note: For the sake of demo, we set epoch size to 1. To get full model, set `epochs = 20`."
   ],
   "id": "68bbf7f94eb2159d"
  },
  {
   "cell_type": "code",
   "execution_count": 27,
   "metadata": {
    "scrolled": true,
    "ExecuteTime": {
     "end_time": "2024-03-20T03:22:56.310498733Z",
     "start_time": "2024-03-20T03:22:55.878885617Z"
    }
   },
   "outputs": [
    {
     "name": "stderr",
     "output_type": "stream",
     "text": [
      "Start Training...\n"
     ]
    },
    {
     "ename": "RuntimeError",
     "evalue": "The size of tensor a (161440) must match the size of tensor b (143552) at non-singleton dimension 0",
     "output_type": "error",
     "traceback": [
      "\u001B[0;31m---------------------------------------------------------------------------\u001B[0m",
      "\u001B[0;31mRuntimeError\u001B[0m                              Traceback (most recent call last)",
      "Cell \u001B[0;32mIn[27], line 1\u001B[0m\n\u001B[0;32m----> 1\u001B[0m \u001B[43mgears_model\u001B[49m\u001B[38;5;241;43m.\u001B[39;49m\u001B[43mtrain\u001B[49m\u001B[43m(\u001B[49m\u001B[43mepochs\u001B[49m\u001B[43m \u001B[49m\u001B[38;5;241;43m=\u001B[39;49m\u001B[43m \u001B[49m\u001B[38;5;241;43m1\u001B[39;49m\u001B[43m,\u001B[49m\u001B[43m \u001B[49m\u001B[43mlr\u001B[49m\u001B[43m \u001B[49m\u001B[38;5;241;43m=\u001B[39;49m\u001B[43m \u001B[49m\u001B[38;5;241;43m1e-3\u001B[39;49m\u001B[43m)\u001B[49m\n",
      "File \u001B[0;32m~/workspace/omics_model/bio_model/biollm/biollm/repo/gears/gears.py:531\u001B[0m, in \u001B[0;36mtrain\u001B[0;34m(self, epochs, lr, weight_decay)\u001B[0m\n\u001B[1;32m    526\u001B[0m     loss \u001B[38;5;241m=\u001B[39m loss_fct(pred, y, batch\u001B[38;5;241m.\u001B[39mpert,\n\u001B[1;32m    527\u001B[0m                   ctrl \u001B[38;5;241m=\u001B[39m \u001B[38;5;28mself\u001B[39m\u001B[38;5;241m.\u001B[39mctrl_expression, \n\u001B[1;32m    528\u001B[0m                   dict_filter \u001B[38;5;241m=\u001B[39m \u001B[38;5;28mself\u001B[39m\u001B[38;5;241m.\u001B[39mdict_filter,\n\u001B[1;32m    529\u001B[0m                   direction_lambda \u001B[38;5;241m=\u001B[39m \u001B[38;5;28mself\u001B[39m\u001B[38;5;241m.\u001B[39mconfig[\u001B[38;5;124m'\u001B[39m\u001B[38;5;124mdirection_lambda\u001B[39m\u001B[38;5;124m'\u001B[39m])\n\u001B[1;32m    530\u001B[0m loss\u001B[38;5;241m.\u001B[39mbackward()\n\u001B[0;32m--> 531\u001B[0m nn\u001B[38;5;241m.\u001B[39mutils\u001B[38;5;241m.\u001B[39mclip_grad_value_(\u001B[38;5;28mself\u001B[39m\u001B[38;5;241m.\u001B[39mmodel\u001B[38;5;241m.\u001B[39mparameters(), clip_value\u001B[38;5;241m=\u001B[39m\u001B[38;5;241m1.0\u001B[39m)\n\u001B[1;32m    532\u001B[0m optimizer\u001B[38;5;241m.\u001B[39mstep()\n\u001B[1;32m    534\u001B[0m \u001B[38;5;28;01mif\u001B[39;00m \u001B[38;5;28mself\u001B[39m\u001B[38;5;241m.\u001B[39mwandb:\n",
      "File \u001B[0;32m~/app/miniconda3/envs/scgpt/lib/python3.9/site-packages/torch/nn/modules/module.py:1501\u001B[0m, in \u001B[0;36mModule._call_impl\u001B[0;34m(self, *args, **kwargs)\u001B[0m\n\u001B[1;32m   1496\u001B[0m \u001B[38;5;66;03m# If we don't have any hooks, we want to skip the rest of the logic in\u001B[39;00m\n\u001B[1;32m   1497\u001B[0m \u001B[38;5;66;03m# this function, and just call forward.\u001B[39;00m\n\u001B[1;32m   1498\u001B[0m \u001B[38;5;28;01mif\u001B[39;00m \u001B[38;5;129;01mnot\u001B[39;00m (\u001B[38;5;28mself\u001B[39m\u001B[38;5;241m.\u001B[39m_backward_hooks \u001B[38;5;129;01mor\u001B[39;00m \u001B[38;5;28mself\u001B[39m\u001B[38;5;241m.\u001B[39m_backward_pre_hooks \u001B[38;5;129;01mor\u001B[39;00m \u001B[38;5;28mself\u001B[39m\u001B[38;5;241m.\u001B[39m_forward_hooks \u001B[38;5;129;01mor\u001B[39;00m \u001B[38;5;28mself\u001B[39m\u001B[38;5;241m.\u001B[39m_forward_pre_hooks\n\u001B[1;32m   1499\u001B[0m         \u001B[38;5;129;01mor\u001B[39;00m _global_backward_pre_hooks \u001B[38;5;129;01mor\u001B[39;00m _global_backward_hooks\n\u001B[1;32m   1500\u001B[0m         \u001B[38;5;129;01mor\u001B[39;00m _global_forward_hooks \u001B[38;5;129;01mor\u001B[39;00m _global_forward_pre_hooks):\n\u001B[0;32m-> 1501\u001B[0m     \u001B[38;5;28;01mreturn\u001B[39;00m \u001B[43mforward_call\u001B[49m\u001B[43m(\u001B[49m\u001B[38;5;241;43m*\u001B[39;49m\u001B[43margs\u001B[49m\u001B[43m,\u001B[49m\u001B[43m \u001B[49m\u001B[38;5;241;43m*\u001B[39;49m\u001B[38;5;241;43m*\u001B[39;49m\u001B[43mkwargs\u001B[49m\u001B[43m)\u001B[49m\n\u001B[1;32m   1502\u001B[0m \u001B[38;5;66;03m# Do not call functions when jit is used\u001B[39;00m\n\u001B[1;32m   1503\u001B[0m full_backward_hooks, non_full_backward_hooks \u001B[38;5;241m=\u001B[39m [], []\n",
      "File \u001B[0;32m~/workspace/omics_model/bio_model/biollm/biollm/repo/gears/model.py:210\u001B[0m, in \u001B[0;36mforward\u001B[0;34m(self, data)\u001B[0m\n\u001B[1;32m    207\u001B[0m out \u001B[38;5;241m=\u001B[39m torch\u001B[38;5;241m.\u001B[39msplit(torch\u001B[38;5;241m.\u001B[39mflatten(out), \u001B[38;5;28mself\u001B[39m\u001B[38;5;241m.\u001B[39mnum_genes)\n\u001B[1;32m    209\u001B[0m \u001B[38;5;66;03m## uncertainty head\u001B[39;00m\n\u001B[0;32m--> 210\u001B[0m \u001B[38;5;28;01mif\u001B[39;00m \u001B[38;5;28mself\u001B[39m\u001B[38;5;241m.\u001B[39muncertainty:\n\u001B[1;32m    211\u001B[0m     out_logvar \u001B[38;5;241m=\u001B[39m \u001B[38;5;28mself\u001B[39m\u001B[38;5;241m.\u001B[39muncertainty_w(base_emb)\n\u001B[1;32m    212\u001B[0m     out_logvar \u001B[38;5;241m=\u001B[39m torch\u001B[38;5;241m.\u001B[39msplit(torch\u001B[38;5;241m.\u001B[39mflatten(out_logvar), \u001B[38;5;28mself\u001B[39m\u001B[38;5;241m.\u001B[39mnum_genes)\n",
      "\u001B[0;31mRuntimeError\u001B[0m: The size of tensor a (161440) must match the size of tensor b (143552) at non-singleton dimension 0"
     ]
    }
   ],
   "source": [
    "gears_model.train(epochs = 1, lr = 1e-3)"
   ],
   "id": "7f0632d1fba79e1e"
  },
  {
   "cell_type": "markdown",
   "metadata": {},
   "source": [
    "Save and load pretrained models:"
   ],
   "id": "3af19c74f3556d56"
  },
  {
   "cell_type": "code",
   "execution_count": 7,
   "metadata": {
    "ExecuteTime": {
     "end_time": "2024-03-20T01:27:56.157931430Z",
     "start_time": "2024-03-20T01:27:55.980503054Z"
    }
   },
   "outputs": [],
   "source": [
    "gears_model.save_model('test_model')\n",
    "gears_model.load_pretrained('test_model')"
   ],
   "id": "4425d6f669bebf3"
  },
  {
   "cell_type": "markdown",
   "metadata": {},
   "source": [
    "Make prediction for new perturbation:"
   ],
   "id": "1003fce2f869efc3"
  },
  {
   "cell_type": "code",
   "execution_count": 8,
   "metadata": {
    "ExecuteTime": {
     "end_time": "2024-03-20T01:27:59.523586399Z",
     "start_time": "2024-03-20T01:27:59.200152629Z"
    }
   },
   "outputs": [
    {
     "data": {
      "text/plain": "{'FEV': array([-4.3144148e-11,  3.8635105e-02,  2.0985277e-01, ...,\n         2.9860971e+00, -2.1779465e-03, -1.4885039e-17], dtype=float32),\n 'FEV_AHR': array([-4.9785936e-11,  3.9381046e-02,  2.6676694e-01, ...,\n         2.7445843e+00, -5.0356295e-03, -1.8939207e-17], dtype=float32)}"
     },
     "execution_count": 8,
     "metadata": {},
     "output_type": "execute_result"
    }
   ],
   "source": [
    "gears_model.predict([['FEV'], ['FEV', 'AHR']])"
   ],
   "id": "5e47bce27e97b234"
  },
  {
   "cell_type": "markdown",
   "metadata": {},
   "source": [
    "Gene list can be found here:"
   ],
   "id": "d97c4a3a0d68256a"
  },
  {
   "cell_type": "code",
   "execution_count": 9,
   "metadata": {
    "ExecuteTime": {
     "end_time": "2024-03-20T01:28:03.225810840Z",
     "start_time": "2024-03-20T01:28:03.224708007Z"
    }
   },
   "outputs": [
    {
     "data": {
      "text/plain": "['RP11-34P13.8', 'RP11-54O7.3', 'SAMD11', 'PERM1', 'HES4']"
     },
     "execution_count": 9,
     "metadata": {},
     "output_type": "execute_result"
    }
   ],
   "source": [
    "gears_model.gene_list[:5]"
   ],
   "id": "e7ac43bc923319f"
  },
  {
   "cell_type": "code",
   "outputs": [
    {
     "data": {
      "text/plain": "<method '__dir__' of 'object' objects>"
     },
     "execution_count": 19,
     "metadata": {},
     "output_type": "execute_result"
    }
   ],
   "source": [
    "gears_model.model_initialize()"
   ],
   "metadata": {
    "collapsed": false,
    "ExecuteTime": {
     "end_time": "2024-03-20T01:38:01.053437168Z",
     "start_time": "2024-03-20T01:38:01.023079044Z"
    }
   },
   "id": "3a6d954061e5131f",
   "execution_count": 19
  }
 ],
 "metadata": {
  "kernelspec": {
   "display_name": "Python 3",
   "language": "python",
   "name": "python3"
  },
  "language_info": {
   "codemirror_mode": {
    "name": "ipython",
    "version": 3
   },
   "file_extension": ".py",
   "mimetype": "text/x-python",
   "name": "python",
   "nbconvert_exporter": "python",
   "pygments_lexer": "ipython3",
   "version": "3.8.10"
  }
 },
 "nbformat": 4,
 "nbformat_minor": 5
}
