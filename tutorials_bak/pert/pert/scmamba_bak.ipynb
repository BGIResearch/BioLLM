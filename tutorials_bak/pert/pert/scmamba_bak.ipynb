{
 "cells": [
  {
   "cell_type": "code",
   "outputs": [
    {
     "name": "stderr",
     "output_type": "stream",
     "text": [
      "/home/share/huadjyin/home/s_qiuping1/app/miniconda3/envs/scgpt/lib/python3.9/site-packages/lightning/fabric/plugins/environments/xla.py:18: DeprecationWarning: `ModuleAvailableCache` is a special case of `RequirementCache`. Please use `RequirementCache(module=...)` instead.\n",
      "  from lightning.fabric.accelerators.tpu import _XLA_AVAILABLE, TPUAccelerator\n",
      "/home/share/huadjyin/home/s_qiuping1/app/miniconda3/envs/scgpt/lib/python3.9/site-packages/lightning/fabric/__init__.py:36: DeprecationWarning: Deprecated call to `pkg_resources.declare_namespace('lightning.fabric')`.\n",
      "Implementing implicit namespace packages (as specified in PEP 420) is preferred to `pkg_resources.declare_namespace`. See https://setuptools.pypa.io/en/latest/references/keywords.html#keyword-namespace-packages\n",
      "  __import__(\"pkg_resources\").declare_namespace(__name__)\n",
      "/home/share/huadjyin/home/s_qiuping1/app/miniconda3/envs/scgpt/lib/python3.9/site-packages/pkg_resources/__init__.py:2348: DeprecationWarning: Deprecated call to `pkg_resources.declare_namespace('lightning')`.\n",
      "Implementing implicit namespace packages (as specified in PEP 420) is preferred to `pkg_resources.declare_namespace`. See https://setuptools.pypa.io/en/latest/references/keywords.html#keyword-namespace-packages\n",
      "  declare_namespace(parent)\n",
      "/home/share/huadjyin/home/s_qiuping1/app/miniconda3/envs/scgpt/lib/python3.9/site-packages/lightning/pytorch/__init__.py:36: DeprecationWarning: Deprecated call to `pkg_resources.declare_namespace('lightning.pytorch')`.\n",
      "Implementing implicit namespace packages (as specified in PEP 420) is preferred to `pkg_resources.declare_namespace`. See https://setuptools.pypa.io/en/latest/references/keywords.html#keyword-namespace-packages\n",
      "  __import__(\"pkg_resources\").declare_namespace(__name__)\n",
      "/home/share/huadjyin/home/s_qiuping1/app/miniconda3/envs/scgpt/lib/python3.9/site-packages/pkg_resources/__init__.py:2348: DeprecationWarning: Deprecated call to `pkg_resources.declare_namespace('lightning')`.\n",
      "Implementing implicit namespace packages (as specified in PEP 420) is preferred to `pkg_resources.declare_namespace`. See https://setuptools.pypa.io/en/latest/references/keywords.html#keyword-namespace-packages\n",
      "  declare_namespace(parent)\n",
      "/home/share/huadjyin/home/s_qiuping1/app/miniconda3/envs/scgpt/lib/python3.9/site-packages/scvi/_settings.py:63: UserWarning: Since v1.0.0, scvi-tools no longer uses a random seed by default. Run `scvi.settings.seed = 0` to reproduce results from previous versions.\n",
      "  self.seed = seed\n",
      "/home/share/huadjyin/home/s_qiuping1/app/miniconda3/envs/scgpt/lib/python3.9/site-packages/scvi/_settings.py:70: UserWarning: Setting `dl_pin_memory_gpu_training` is deprecated in v1.0 and will be removed in v1.1. Please pass in `pin_memory` to the data loaders instead.\n",
      "  self.dl_pin_memory_gpu_training = (\n",
      "/home/share/huadjyin/home/s_qiuping1/app/miniconda3/envs/scgpt/lib/python3.9/site-packages/chex/_src/pytypes.py:53: DeprecationWarning: jax.core.Shape is deprecated. Use Shape = Sequence[int | Any].\n",
      "  Shape = jax.core.Shape\n",
      "/home/share/huadjyin/home/s_qiuping1/app/miniconda3/envs/scgpt/lib/python3.9/site-packages/chex/_src/pytypes.py:54: DeprecationWarning: jax.random.KeyArray is deprecated. Use jax.Array for annotations, and jax.dtypes.issubdtype(arr.dtype, jax.dtypes.prng_key) for runtime detection of typed prng keys (i.e. keys created with jax.random.key).\n",
      "For more information, see https://jax.readthedocs.io/en/latest/jep/9263-typed-keys.html\n",
      "  PRNGKey = jax.random.KeyArray\n"
     ]
    },
    {
     "name": "stdout",
     "output_type": "stream",
     "text": [
      "Using simple batchnorm instead of domain specific batchnorm\n"
     ]
    },
    {
     "name": "stderr",
     "output_type": "stream",
     "text": [
      "Found local copy...\n"
     ]
    },
    {
     "name": "stdout",
     "output_type": "stream",
     "text": [
      "before filter: (63585, 4399)\n",
      "match 1.0 genes in vocab of size 4399\n",
      "after filter: View of AnnData object with n_obs × n_vars = 63585 × 4399\n",
      "    obs: 'condition', 'cell_type', 'dose_val', 'control', 'condition_name', 'pert_gene_in_vocab'\n",
      "    var: 'gene_name', 'is_in_vocab'\n",
      "    uns: 'non_dropout_gene_idx', 'non_zeros_gene_idx', 'rank_genes_groups_cov_all', 'top_non_dropout_de_20', 'top_non_zero_de_20'\n"
     ]
    },
    {
     "name": "stderr",
     "output_type": "stream",
     "text": [
      "Found local copy...\n",
      "Local copy of pyg dataset is detected. Loading...\n",
      "Done!\n",
      "Found local copy...\n",
      "These perturbations are not in the GO graph and their perturbation can thus not be predicted\n",
      "['TIMM23+ctrl' 'AMIGO3+ctrl' 'KCTD16+ctrl']\n",
      "Local copy of split is detected. Loading...\n",
      "Simulation split test composition:\n",
      "combo_seen0:0\n",
      "combo_seen1:0\n",
      "combo_seen2:0\n",
      "unseen_single:18\n",
      "Done!\n",
      "Creating dataloaders....\n",
      "Done!\n"
     ]
    },
    {
     "name": "stdout",
     "output_type": "stream",
     "text": [
      "here1\n"
     ]
    },
    {
     "name": "stderr",
     "output_type": "stream",
     "text": [
      "2024-04-18 18:51:22-pert_task[line-67]-INFO: match 4399/4399 genes in vocabulary of size 60697.\n"
     ]
    }
   ],
   "source": [
    "from biollm.task.perturbation.pert_task import PertTask\n",
    "\n",
    "\n",
    "config_file = '../../config/pert/scmamba_pert.toml'\n",
    "obj = PertTask(config_file)\n",
    "pert_data, gene_ids = obj.make_dataset()"
   ],
   "metadata": {
    "collapsed": false,
    "ExecuteTime": {
     "end_time": "2024-04-18T10:51:22.270426968Z",
     "start_time": "2024-04-18T10:49:08.939160906Z"
    }
   },
   "id": "515566caa8ea4529",
   "execution_count": 1
  },
  {
   "cell_type": "code",
   "outputs": [],
   "source": [
    "best_model_path = obj.args.save_dir + '/best_model.pt'\n",
    "best_model = obj.load_obj.load_pretrain_model(best_model_path, obj.model)"
   ],
   "metadata": {
    "collapsed": false,
    "ExecuteTime": {
     "end_time": "2024-04-18T10:51:22.642405433Z",
     "start_time": "2024-04-18T10:51:22.270797417Z"
    }
   },
   "id": "f259653a01d07579",
   "execution_count": 2
  },
  {
   "cell_type": "code",
   "outputs": [],
   "source": [
    "import torch\n",
    "from torch.utils.data import DataLoader\n",
    "from biollm.model.perturbation import ScgptPerturbation\n",
    "from typing import Dict, Optional\n",
    "import numpy as np\n",
    "from anndata import AnnData\n",
    "import pickle\n",
    "from biollm.repo.scmamba.scmamba.mambaLM import MambaModel\n",
    "\n",
    "def eval_scmamba_perturb(\n",
    "    loader: DataLoader, model: MambaModel, device: torch.device, include_zero_gene: str\n",
    ", gene_ids: np.ndarray) -> Dict:\n",
    "    \"\"\"\n",
    "    Run model in inference mode using a given data loader\n",
    "    \"\"\"\n",
    "    model.eval()\n",
    "    model.to(device)\n",
    "    pert_cat = []\n",
    "    pred = []\n",
    "    truth = []\n",
    "    pred_de = []\n",
    "    truth_de = []\n",
    "    results = {}\n",
    "    de_idxs = {}\n",
    "    print('start to predict: ', len(loader.dataset))\n",
    "    for itr, batch in enumerate(loader):\n",
    "        batch.to(device)\n",
    "        pert_cat.extend(batch.pert)\n",
    "        for i in range(len(batch['pert'])):\n",
    "            if batch[\"pert\"][i] not in de_idxs:\n",
    "                de_idxs[batch[\"pert\"][i]] = batch.de_idx[i]\n",
    "        with torch.no_grad():\n",
    "            p = model.pred_perturb(\n",
    "                batch,\n",
    "                include_zero_gene=include_zero_gene,\n",
    "                gene_ids=gene_ids,\n",
    "            )\n",
    "            t = batch.y\n",
    "            pred.extend(p.cpu())\n",
    "            truth.extend(t.cpu())\n",
    "            \n",
    "            # Differentially expressed genes\n",
    "            for itr, de_idx in enumerate(batch.de_idx):\n",
    "                pred_de.append(p[itr, de_idx])\n",
    "                truth_de.append(t[itr, de_idx])\n",
    "    print('end')\n",
    "    # all genes\n",
    "    results[\"pert_cat\"] = np.array(pert_cat)\n",
    "    pred = torch.stack(pred)\n",
    "    truth = torch.stack(truth)\n",
    "    results[\"pred\"] = pred.detach().cpu().numpy().astype(float)\n",
    "    results[\"truth\"] = truth.detach().cpu().numpy().astype(float)\n",
    "    results['de_idx'] = de_idxs\n",
    "    pred_de = torch.stack(pred_de)\n",
    "    truth_de = torch.stack(truth_de)\n",
    "    results[\"pred_de\"] = pred_de.detach().cpu().numpy().astype(float)\n",
    "    results[\"truth_de\"] = truth_de.detach().cpu().numpy().astype(float)\n",
    "    return results"
   ],
   "metadata": {
    "collapsed": false,
    "ExecuteTime": {
     "end_time": "2024-04-18T11:13:44.643513346Z",
     "start_time": "2024-04-18T11:13:44.595007438Z"
    }
   },
   "id": "7d09692fc1c15539",
   "execution_count": 26
  },
  {
   "cell_type": "code",
   "outputs": [
    {
     "name": "stdout",
     "output_type": "stream",
     "text": [
      "start to predict:  8695\n",
      "end\n"
     ]
    }
   ],
   "source": [
    "test_loader = pert_data.dataloader[\"test_loader\"]\n",
    "test_res = eval_scmamba_perturb(test_loader, best_model, 'cuda:2', 'all', gene_ids)"
   ],
   "metadata": {
    "collapsed": false,
    "ExecuteTime": {
     "end_time": "2024-04-18T11:15:12.917991018Z",
     "start_time": "2024-04-18T11:13:53.398206698Z"
    }
   },
   "id": "b05347245aad0aa7",
   "execution_count": 27
  },
  {
   "cell_type": "code",
   "outputs": [
    {
     "data": {
      "text/plain": "{'pert_cat': array(['ZNF326+ctrl', 'ZNF326+ctrl', 'ZNF326+ctrl', ..., 'CHERP+ctrl',\n        'CHERP+ctrl', 'CHERP+ctrl'], dtype='<U13'),\n 'pred': array([[0.00795746, 0.0055275 , 0.00562668, ..., 0.05117798, 1.48535156,\n         0.12133789],\n        [0.00795746, 0.0055275 , 0.00562668, ..., 0.04867554, 1.5625    ,\n         0.11669922],\n        [0.00795746, 0.0055275 , 0.00562668, ..., 0.04949951, 1.18847656,\n         0.11810303],\n        ...,\n        [0.00795746, 0.0055275 , 0.00562668, ..., 0.05126953, 0.65185547,\n         0.11956787],\n        [0.00795746, 0.0055275 , 0.00562668, ..., 0.04769897, 1.42578125,\n         0.11590576],\n        [0.00795746, 0.0055275 , 0.00562668, ..., 0.15820312, 1.27246094,\n         0.328125  ]]),\n 'truth': array([[0.        , 0.        , 0.        , ..., 0.        , 1.35589421,\n         0.89204502],\n        [0.        , 0.        , 0.        , ..., 0.        , 2.03724742,\n         0.        ],\n        [0.        , 0.        , 0.        , ..., 0.        , 2.28242207,\n         0.        ],\n        ...,\n        [0.        , 0.        , 0.        , ..., 0.        , 1.65158963,\n         0.        ],\n        [0.        , 0.        , 0.        , ..., 0.        , 1.51006341,\n         0.        ],\n        [0.        , 0.        , 0.        , ..., 0.        , 1.1121006 ,\n         0.        ]]),\n 'de_idx': {'ZNF326+ctrl': array([ 409,  795,  951,  952,  953,  954, 1178, 2621, 2716, 2757, 2867,\n         2885, 3246, 3293, 3365, 3536, 3542, 3686, 3740, 4217]),\n  'OST4+ctrl': array([ 409,  460, 1178, 1578, 1654, 1747, 2100, 2175, 2499, 2566, 2757,\n         2885, 3128, 3228, 3245, 3246, 3293, 3365, 3536, 4217]),\n  'EIF2B4+ctrl': array([ 129,  298,  409,  904, 1305, 1578, 1654, 1707, 1710, 2100, 2541,\n         3059, 3365, 3536, 3740, 3909, 3962, 4182, 4285, 4358]),\n  'DAD1+ctrl': array([ 409,  460, 1178, 1578, 1654, 1747, 2100, 2175, 2757, 2860, 2885,\n         3128, 3228, 3245, 3246, 3293, 3365, 3536, 3962, 4217]),\n  'IARS2+ctrl': array([ 129,  151,  245,  409,  423, 1305, 1578, 1654, 1707, 1710, 2100,\n         2906, 3200, 3245, 3365, 3525, 3686, 3740, 3962, 4285]),\n  'DDRGK1+ctrl': array([ 409,  460, 1178, 1578, 1654, 1747, 2010, 2100, 2175, 2757, 2885,\n         3128, 3228, 3245, 3246, 3293, 3365, 3536, 3962, 4217]),\n  'TMEM167A+ctrl': array([ 409, 1178, 1578, 1654, 1747, 2100, 2175, 2636, 2885, 3064, 3228,\n         3245, 3246, 3365, 3524, 3536, 3581, 3651, 3962, 4217]),\n  'FARSB+ctrl': array([ 409,  420,  423, 1305, 1443, 1578, 1654, 1710, 1747, 2100, 3245,\n         3365, 3525, 3597, 3706, 3740, 3962, 4182, 4285, 4335]),\n  'HSD17B12+ctrl': array([ 409,  949, 1578, 1747, 2100, 2469, 2541, 2558, 2608, 2636, 2757,\n         2885, 3245, 3246, 3293, 3365, 3536, 3962, 4217, 4349]),\n  'ASCC3+ctrl': array([ 409,  875, 1178, 1654, 1747, 2100, 2541, 2885, 3059, 3228, 3245,\n         3246, 3293, 3305, 3365, 3403, 3461, 3491, 3536, 4349]),\n  'EIF2B2+ctrl': array([ 129,  409,  904, 1282, 1283, 1578, 1654, 1707, 1710, 1818, 2100,\n         3245, 3365, 3523, 3740, 3909, 3962, 4182, 4285, 4358]),\n  'TIMM44+ctrl': array([ 129,  271,  409,  423,  904, 1282, 1308, 1578, 1654, 1707, 1710,\n         2096, 2100, 2541, 3245, 3365, 3740, 3962, 4182, 4285]),\n  'PTDSS1+ctrl': array([ 409,  460, 1084, 1178, 1578, 1654, 1747, 2100, 2175, 2757, 2885,\n         3128, 3228, 3245, 3246, 3293, 3365, 3536, 3962, 4217]),\n  'HYOU1+ctrl': array([ 409,  460, 1178, 1578, 1654, 1747, 2100, 2737, 2757, 2885, 3128,\n         3228, 3245, 3246, 3293, 3365, 3536, 3634, 4217, 4349]),\n  'DDOST+ctrl': array([  27,  409,  950, 1178, 1305, 1578, 1654, 2100, 2175, 2757, 2885,\n         3064, 3228, 3245, 3246, 3293, 3365, 3536, 3962, 4217]),\n  'SLC35B1+ctrl': array([ 409,  460, 1178, 1578, 1654, 1747, 2100, 2175, 2623, 2757, 2885,\n         3128, 3228, 3245, 3246, 3293, 3365, 3536, 4217, 4349]),\n  'COPB1+ctrl': array([  10,   40,  318,  409,  547,  648,  773,  830,  857, 1682, 1828,\n         2022, 2163, 2648, 2682, 2893, 2901, 3365, 3652, 3662]),\n  'CHERP+ctrl': array([  46,   50,  409, 1305, 1432, 1578, 2175, 2238, 2553, 2558, 2903,\n         3189, 3245, 3246, 3365, 3479, 3591, 3634, 3706, 3962])},\n 'pred_de': array([[3.39062500e+00, 2.97070312e+00, 1.72576904e-02, ...,\n         7.29980469e-01, 5.16796875e+00, 4.69140625e+00],\n        [2.98242188e+00, 2.72070312e+00, 1.59301758e-02, ...,\n         1.42285156e+00, 5.37500000e+00, 4.09765625e+00],\n        [3.16210938e+00, 2.65625000e+00, 1.50985718e-02, ...,\n         9.90722656e-01, 5.46484375e+00, 4.48828125e+00],\n        ...,\n        [3.28369141e-02, 3.69644165e-03, 3.35156250e+00, ...,\n         9.08203125e-01, 2.95703125e+00, 2.90039062e+00],\n        [2.93945312e-01, 2.69317627e-03, 3.13281250e+00, ...,\n         1.59082031e+00, 2.91992188e+00, 2.91210938e+00],\n        [2.53417969e-01, 2.79426575e-03, 3.20507812e+00, ...,\n         1.86523438e+00, 2.90234375e+00, 2.58398438e+00]]),\n 'truth_de': array([[4.04593277, 3.68595266, 0.        , ..., 0.        , 4.59439039,\n         4.7302947 ],\n        [3.62918448, 3.79214764, 0.        , ..., 0.        , 4.80988741,\n         5.05027342],\n        [4.03840542, 3.58910203, 0.        , ..., 0.        , 5.07146072,\n         4.58296824],\n        ...,\n        [0.        , 0.        , 3.01505518, ..., 2.32957554, 3.30081105,\n         3.47174764],\n        [0.        , 0.        , 2.66741347, ..., 1.78134286, 3.16009831,\n         3.0983839 ],\n        [0.        , 0.        , 3.23824167, ..., 1.40145588, 2.90942693,\n         3.23824167]])}"
     },
     "execution_count": 28,
     "metadata": {},
     "output_type": "execute_result"
    }
   ],
   "source": [
    "test_res"
   ],
   "metadata": {
    "collapsed": false,
    "ExecuteTime": {
     "end_time": "2024-04-18T11:15:12.945715410Z",
     "start_time": "2024-04-18T11:15:12.918208770Z"
    }
   },
   "id": "e05b088d3b8791f5",
   "execution_count": 28
  },
  {
   "cell_type": "code",
   "outputs": [],
   "source": [
    "def compute_perturbation_metrics(\n",
    "    results: Dict,\n",
    "    ctrl_adata: AnnData,\n",
    "    de_idx: Dict,\n",
    "    non_zero_genes: bool = False,\n",
    "    return_raw: bool = False,\n",
    "    output: Optional[str] = None\n",
    ") -> Dict:\n",
    "    \"\"\"\n",
    "    Given results from a model run and the ground truth, compute metrics\n",
    "\n",
    "    Args:\n",
    "        results (:obj:`Dict`): The results from a model run\n",
    "        ctrl_adata (:obj:`AnnData`): The adata of the control condtion\n",
    "        non_zero_genes (:obj:`bool`, optional): Whether to only consider non-zero\n",
    "            genes in the ground truth when computing metrics\n",
    "        return_raw (:obj:`bool`, optional): Whether to return the raw metrics or\n",
    "            the mean of the metrics. Default is False.\n",
    "\n",
    "    Returns:\n",
    "        :obj:`Dict`: The metrics computed\n",
    "    \"\"\"\n",
    "    from scipy.stats import pearsonr\n",
    "\n",
    "    # metrics:\n",
    "    #   Pearson correlation of expression on all genes, on DE genes,\n",
    "    #   Pearson correlation of expression change on all genes, on DE genes,\n",
    "\n",
    "    metrics_across_genes = {\n",
    "        \"pearson\": [],\n",
    "        \"pearson_de\": [],\n",
    "        \"pearson_delta\": [],\n",
    "        \"pearson_de_delta\": [],\n",
    "    }\n",
    "\n",
    "    metrics_across_conditions = {\n",
    "        \"pearson\": [],\n",
    "        \"pearson_delta\": [],\n",
    "    }\n",
    "\n",
    "    conditions = np.unique(results[\"pert_cat\"])\n",
    "    assert not \"ctrl\" in conditions, \"ctrl should not be in test conditions\"\n",
    "    condition2idx = {c: np.where(results[\"pert_cat\"] == c)[0] for c in conditions}\n",
    "\n",
    "    mean_ctrl = np.array(ctrl_adata.X.mean(0)).flatten()  # (n_genes,)\n",
    "    assert ctrl_adata.X.max() <= 1000, \"gene expression should be log transformed\"\n",
    "\n",
    "    true_perturbed = results[\"truth\"]  # (n_cells, n_genes)\n",
    "    assert true_perturbed.max() <= 1000, \"gene expression should be log transformed\"\n",
    "    true_mean_perturbed_by_condition = np.array(\n",
    "        [true_perturbed[condition2idx[c]].mean(0) for c in conditions]\n",
    "    )  # (n_conditions, n_genes)\n",
    "    true_mean_delta_by_condition = true_mean_perturbed_by_condition - mean_ctrl\n",
    "    zero_rows = np.where(np.all(true_mean_perturbed_by_condition == 0, axis=1))[\n",
    "        0\n",
    "    ].tolist()\n",
    "    zero_cols = np.where(np.all(true_mean_perturbed_by_condition == 0, axis=0))[\n",
    "        0\n",
    "    ].tolist()\n",
    "\n",
    "    pred_perturbed = results[\"pred\"]  # (n_cells, n_genes)\n",
    "    pred_mean_perturbed_by_condition = np.array(\n",
    "        [pred_perturbed[condition2idx[c]].mean(0) for c in conditions]\n",
    "    )  # (n_conditions, n_genes)\n",
    "    pred_mean_delta_by_condition = pred_mean_perturbed_by_condition - mean_ctrl\n",
    "\n",
    "    def corr_over_genes(x, y, conditions, res_list, skip_rows=[], non_zero_mask=None):\n",
    "        \"\"\"compute pearson correlation over genes for each condition\"\"\"\n",
    "        for i, c in enumerate(conditions):\n",
    "            if i in skip_rows:\n",
    "                continue\n",
    "            x_, y_ = x[i], y[i]\n",
    "            if non_zero_mask is not None:\n",
    "                x_ = x_[non_zero_mask[i]]\n",
    "                y_ = y_[non_zero_mask[i]]\n",
    "            res_list.append(pearsonr(x_, y_)[0])\n",
    "\n",
    "    corr_over_genes(\n",
    "        true_mean_perturbed_by_condition,\n",
    "        pred_mean_perturbed_by_condition,\n",
    "        conditions,\n",
    "        metrics_across_genes[\"pearson\"],\n",
    "        zero_rows,\n",
    "        non_zero_mask=true_mean_perturbed_by_condition != 0 if non_zero_genes else None,\n",
    "    )\n",
    "    corr_over_genes(\n",
    "        true_mean_delta_by_condition,\n",
    "        pred_mean_delta_by_condition,\n",
    "        conditions,\n",
    "        metrics_across_genes[\"pearson_delta\"],\n",
    "        zero_rows,\n",
    "        non_zero_mask=true_mean_perturbed_by_condition != 0 if non_zero_genes else None,\n",
    "    )\n",
    "    mean_ctrl_de = np.array(\n",
    "        [mean_ctrl[de_idx[c]] for c in conditions]\n",
    "    )  # (n_conditions, n_diff_genes)\n",
    "\n",
    "    true_mean_perturbed_by_condition_de = np.array(\n",
    "        [\n",
    "            true_mean_perturbed_by_condition[i, de_idx[c]]\n",
    "            for i, c in enumerate(conditions)\n",
    "        ]\n",
    "    )  # (n_conditions, n_diff_genes)\n",
    "    zero_rows_de = np.where(np.all(true_mean_perturbed_by_condition_de == 0, axis=1))[\n",
    "        0\n",
    "    ].tolist()\n",
    "    true_mean_delta_by_condition_de = true_mean_perturbed_by_condition_de - mean_ctrl_de\n",
    "\n",
    "    pred_mean_perturbed_by_condition_de = np.array(\n",
    "        [\n",
    "            pred_mean_perturbed_by_condition[i, de_idx[c]]\n",
    "            for i, c in enumerate(conditions)\n",
    "        ]\n",
    "    )  # (n_conditions, n_diff_genes)\n",
    "    pred_mean_delta_by_condition_de = pred_mean_perturbed_by_condition_de - mean_ctrl_de\n",
    "\n",
    "    corr_over_genes(\n",
    "        true_mean_perturbed_by_condition_de,\n",
    "        pred_mean_perturbed_by_condition_de,\n",
    "        conditions,\n",
    "        metrics_across_genes[\"pearson_de\"],\n",
    "        zero_rows_de,\n",
    "    )\n",
    "    corr_over_genes(\n",
    "        true_mean_delta_by_condition_de,\n",
    "        pred_mean_delta_by_condition_de,\n",
    "        conditions,\n",
    "        metrics_across_genes[\"pearson_de_delta\"],\n",
    "        zero_rows_de,\n",
    "    )\n",
    "\n",
    "    if not return_raw:\n",
    "        for k, v in metrics_across_genes.items():\n",
    "            metrics_across_genes[k] = np.mean(v)\n",
    "        for k, v in metrics_across_conditions.items():\n",
    "            metrics_across_conditions[k] = np.mean(v)\n",
    "    metrics = metrics_across_genes\n",
    "    if output is not None:\n",
    "        with open(output, 'wb') as f:\n",
    "            pickle.dump(metrics, f)\n",
    "    return metrics\n"
   ],
   "metadata": {
    "collapsed": false,
    "ExecuteTime": {
     "end_time": "2024-04-18T11:15:43.886066949Z",
     "start_time": "2024-04-18T11:15:43.830871216Z"
    }
   },
   "id": "6c1a6c5473f001d3",
   "execution_count": 29
  },
  {
   "cell_type": "code",
   "outputs": [],
   "source": [
    "from biollm.repo.gears.inference import evaluate, compute_metrics\n",
    "\n",
    "test_metrics, test_pert_res = compute_metrics(test_res)"
   ],
   "metadata": {
    "collapsed": false,
    "ExecuteTime": {
     "end_time": "2024-04-18T10:29:41.887980321Z",
     "start_time": "2024-04-18T10:29:41.419354013Z"
    }
   },
   "id": "9ad5fb88374bfb12",
   "execution_count": 10
  },
  {
   "cell_type": "code",
   "outputs": [
    {
     "data": {
      "text/plain": "{'mse': 0.010639110014391306,\n 'mse_de': 0.182111431037015,\n 'pearson': 0.9865111277927033,\n 'pearson_de': 0.9534139080623021}"
     },
     "execution_count": 11,
     "metadata": {},
     "output_type": "execute_result"
    }
   ],
   "source": [
    "test_metrics"
   ],
   "metadata": {
    "collapsed": false,
    "ExecuteTime": {
     "end_time": "2024-04-18T10:29:43.335990501Z",
     "start_time": "2024-04-18T10:29:43.328013753Z"
    }
   },
   "id": "319e9f82a6e7a557",
   "execution_count": 11
  },
  {
   "cell_type": "code",
   "outputs": [],
   "source": [
    "test_res"
   ],
   "metadata": {
    "collapsed": false
   },
   "id": "b02147e8112c5eca",
   "execution_count": null
  },
  {
   "cell_type": "code",
   "outputs": [
    {
     "name": "stdout",
     "output_type": "stream",
     "text": [
      "{'pearson': 0.9865111277927033, 'pearson_de': 0.9534139080623021, 'pearson_delta': 0.9929274519015182, 'pearson_de_delta': 0.9556105969532533}\n"
     ]
    }
   ],
   "source": [
    "# test_metrics, test_pert_res = compute_metrics(test_res)\n",
    "\n",
    "test_metrics = compute_perturbation_metrics(\n",
    "    test_res, pert_data.adata[pert_data.adata.obs[\"condition\"] == \"ctrl\"], de_idx\n",
    ")\n",
    "print(test_metrics)"
   ],
   "metadata": {
    "collapsed": false,
    "ExecuteTime": {
     "end_time": "2024-04-18T11:16:03.931095713Z",
     "start_time": "2024-04-18T11:16:03.375671171Z"
    }
   },
   "id": "4519cf46ca25d663",
   "execution_count": 30
  },
  {
   "cell_type": "code",
   "outputs": [
    {
     "data": {
      "text/plain": "dict_keys(['pert_cat', 'pred', 'truth', 'de_idx', 'pred_de', 'truth_de'])"
     },
     "execution_count": 37,
     "metadata": {},
     "output_type": "execute_result"
    }
   ],
   "source": [
    "test_res1 = {}\n",
    "for i in test_res.keys():\n",
    "    if i in ['pred', 'truth', 'pred_de', 'truth_de']:\n",
    "        "
   ],
   "metadata": {
    "collapsed": false,
    "ExecuteTime": {
     "end_time": "2024-04-18T11:31:22.106285491Z",
     "start_time": "2024-04-18T11:31:22.051499683Z"
    }
   },
   "id": "52eae2cf483b1b11",
   "execution_count": 37
  },
  {
   "cell_type": "code",
   "execution_count": 9,
   "id": "initial_id",
   "metadata": {
    "collapsed": true,
    "ExecuteTime": {
     "end_time": "2024-04-18T10:13:46.622770205Z",
     "start_time": "2024-04-18T10:13:38.249503908Z"
    }
   },
   "outputs": [
    {
     "name": "stdout",
     "output_type": "stream",
     "text": [
      "test_combo_seen0_pearson_delta: nan\n",
      "test_combo_seen0_pearson_delta_de: nan\n",
      "test_combo_seen0_pearson_delta_top20_de_non_dropout: nan\n",
      "test_combo_seen0_pearson_top20_de_non_dropout: nan\n",
      "test_combo_seen1_pearson_delta: nan\n",
      "test_combo_seen1_pearson_delta_de: nan\n",
      "test_combo_seen1_pearson_delta_top20_de_non_dropout: nan\n",
      "test_combo_seen1_pearson_top20_de_non_dropout: nan\n",
      "test_combo_seen2_pearson_delta: nan\n",
      "test_combo_seen2_pearson_delta_de: nan\n",
      "test_combo_seen2_pearson_delta_top20_de_non_dropout: nan\n",
      "test_combo_seen2_pearson_top20_de_non_dropout: nan\n",
      "test_unseen_single_pearson_delta: 0.9929274519015183\n",
      "test_unseen_single_pearson_delta_de: 0.9982413877940277\n",
      "test_unseen_single_pearson_delta_top20_de_non_dropout: 0.998154297025653\n",
      "test_unseen_single_pearson_top20_de_non_dropout: 0.9779201245821848\n"
     ]
    }
   ],
   "source": [
    "from biollm.repo.gears.inference import deeper_analysis, non_dropout_analysis\n",
    "import numpy as np\n",
    "\n",
    "deeper_res = deeper_analysis(pert_data.adata, test_res)\n",
    "non_dropout_res = non_dropout_analysis(pert_data.adata, test_res)\n",
    "\n",
    "metrics = [\"pearson_delta\", \"pearson_delta_de\"]\n",
    "metrics_non_dropout = [\n",
    "    \"pearson_delta_top20_de_non_dropout\",\n",
    "    \"pearson_top20_de_non_dropout\",\n",
    "]\n",
    "subgroup_analysis = {}\n",
    "for name in pert_data.subgroup[\"test_subgroup\"].keys():\n",
    "    subgroup_analysis[name] = {}\n",
    "    for m in metrics:\n",
    "        subgroup_analysis[name][m] = []\n",
    "\n",
    "    for m in metrics_non_dropout:\n",
    "        subgroup_analysis[name][m] = []\n",
    "\n",
    "for name, pert_list in pert_data.subgroup[\"test_subgroup\"].items():\n",
    "    for pert in pert_list:\n",
    "        for m in metrics:\n",
    "            subgroup_analysis[name][m].append(deeper_res[pert][m])\n",
    "\n",
    "        for m in metrics_non_dropout:\n",
    "            subgroup_analysis[name][m].append(non_dropout_res[pert][m])\n",
    "\n",
    "for name, result in subgroup_analysis.items():\n",
    "    for m in result.keys():\n",
    "        mean_value = np.mean(subgroup_analysis[name][m])\n",
    "        print(\"test_\" + name + \"_\" + m + \": \" + str(mean_value))\n"
   ]
  }
 ],
 "metadata": {
  "kernelspec": {
   "display_name": "Python 3",
   "language": "python",
   "name": "python3"
  },
  "language_info": {
   "codemirror_mode": {
    "name": "ipython",
    "version": 2
   },
   "file_extension": ".py",
   "mimetype": "text/x-python",
   "name": "python",
   "nbconvert_exporter": "python",
   "pygments_lexer": "ipython2",
   "version": "2.7.6"
  }
 },
 "nbformat": 4,
 "nbformat_minor": 5
}
