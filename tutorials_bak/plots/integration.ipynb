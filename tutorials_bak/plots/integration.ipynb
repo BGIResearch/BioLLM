{
 "cells": [
  {
   "cell_type": "code",
   "outputs": [
    {
     "name": "stdout",
     "output_type": "stream",
     "text": [
      "PCA\n",
      "scBert\n",
      "scGPT\n",
      "scFoundation\n",
      "Geneformer\n"
     ]
    },
    {
     "name": "stderr",
     "output_type": "stream",
     "text": [
      "Computing neighbors: 100%|██████████| 5/5 [00:49<00:00,  9.94s/it]\n",
      "Embeddings:   0%|\u001B[32m          \u001B[0m| 0/5 [00:00<?, ?it/s]\n",
      "Metrics:   0%|\u001B[34m          \u001B[0m| 0/10 [00:00<?, ?it/s]\u001B[A\n",
      "Metrics:   0%|\u001B[34m          \u001B[0m| 0/10 [00:00<?, ?it/s, Bio conservation: isolated_labels]\u001B[AWARNING:jax._src.xla_bridge:An NVIDIA GPU may be present on this machine, but a CUDA-enabled jaxlib is not installed. Falling back to cpu.\n",
      "\n",
      "Metrics:  10%|\u001B[34m█         \u001B[0m| 1/10 [00:06<00:54,  6.01s/it, Bio conservation: isolated_labels]\u001B[A\n",
      "Metrics:  10%|\u001B[34m█         \u001B[0m| 1/10 [00:06<00:54,  6.01s/it, Bio conservation: nmi_ari_cluster_labels_kmeans]\u001B[A\n",
      "Metrics:  20%|\u001B[34m██        \u001B[0m| 2/10 [00:11<00:43,  5.46s/it, Bio conservation: nmi_ari_cluster_labels_kmeans]\u001B[A\n",
      "Metrics:  20%|\u001B[34m██        \u001B[0m| 2/10 [00:11<00:43,  5.46s/it, Bio conservation: silhouette_label]             \u001B[A\n",
      "Metrics:  30%|\u001B[34m███       \u001B[0m| 3/10 [00:16<00:36,  5.27s/it, Bio conservation: silhouette_label]\u001B[A\n",
      "Metrics:  30%|\u001B[34m███       \u001B[0m| 3/10 [00:16<00:36,  5.27s/it, Bio conservation: clisi_knn]       \u001B[A\n",
      "Metrics:  40%|\u001B[34m████      \u001B[0m| 4/10 [00:17<00:22,  3.75s/it, Bio conservation: clisi_knn]\u001B[A\n",
      "Metrics:  40%|\u001B[34m████      \u001B[0m| 4/10 [00:17<00:22,  3.75s/it, Batch correction: silhouette_batch]\u001B[A\n",
      "Metrics:  50%|\u001B[34m█████     \u001B[0m| 5/10 [00:24<00:24,  4.90s/it, Batch correction: silhouette_batch]\u001B[A\n",
      "Metrics:  50%|\u001B[34m█████     \u001B[0m| 5/10 [00:24<00:24,  4.90s/it, Batch correction: ilisi_knn]       \u001B[A\n",
      "Metrics:  60%|\u001B[34m██████    \u001B[0m| 6/10 [00:25<00:13,  3.41s/it, Batch correction: ilisi_knn]\u001B[A\n",
      "Metrics:  60%|\u001B[34m██████    \u001B[0m| 6/10 [00:25<00:13,  3.41s/it, Batch correction: kbet_per_label]\u001B[A"
     ]
    }
   ],
   "source": [
    "import os\n",
    "import pickle\n",
    "import scanpy as sc\n",
    "\n",
    "from scib_metrics.benchmark import Benchmarker\n",
    "\n",
    "%matplotlib inline\n",
    "\n",
    "\n",
    "models = ['scBert', 'scGPT', 'scFoundation', 'Geneformer']\n",
    "path = '/home/share/huadjyin/home/s_huluni/project/bio_model_240614/Data/INT/'\n",
    "output_dir = '/home/share/huadjyin/home/s_qiuping1/workspace/omics_model/bio_model/biollm/case/result/zero-shot/cell_emb/int/'\n",
    "datasets = ['dataset1/humanDC.h5ad', 'dataset4/hPancreas.h5ad', 'dataset5/hPBMC.h5ad']\n",
    "datasets = ['dataset5/hPBMC.h5ad']\n",
    "dataset_name = {'dataset1': 'humanDC', 'dataset4': 'hPancreas', 'dataset5': 'hPBMC'}\n",
    "pkl_map = {'scBert': 'scbert_cell_emb.pkl', 'scGPT': 'scg_cell_emb.pkl', 'scFoundation': 'scf_cell_emb.pkl', 'Geneformer': 'gf_cell_emb.pkl'}\n",
    "\n",
    "bm_res1 = []\n",
    "for i in datasets:\n",
    "    adata = sc.read_h5ad(path + i)\n",
    "    \n",
    "    label_key = 'celltype' if 'celltype' in adata.obs.columns else 'CellType'\n",
    "    for model in ['PCA', 'scBert', 'scGPT', 'scFoundation', 'Geneformer']:\n",
    "        print(model)\n",
    "        if model != 'PCA':\n",
    "            with open(os.path.join(output_dir, i.split('/')[0], pkl_map[model]), 'rb') as f: \n",
    "                adata.obsm[model] = pickle.load(f)\n",
    "        else:\n",
    "            adata.obsm[model] = adata.obsm['X_pca']\n",
    "    bm = Benchmarker(\n",
    "    adata,\n",
    "    batch_key=\"batch\",\n",
    "    label_key=label_key,\n",
    "    embedding_obsm_keys=['PCA', 'scBert', 'scGPT', 'scFoundation', 'Geneformer'],\n",
    "    n_jobs=6)\n",
    "    bm.benchmark()\n",
    "    bm_res1.append(bm)"
   ],
   "metadata": {
    "collapsed": false,
    "is_executing": true,
    "ExecuteTime": {
     "start_time": "2024-08-14T08:46:52.268443Z"
    }
   },
   "id": "764d885c9b17195a",
   "execution_count": null
  },
  {
   "cell_type": "code",
   "outputs": [],
   "source": [
    "\n",
    "bm_res1[0].plot_results_table(min_max_scale=False, save_dir='../figures/fig2/')\n",
    "df = bm_res1[0].get_results(min_max_scale=False)\n",
    "# df.to_csv(f'./fig3_interation_hPBMC.csv')"
   ],
   "metadata": {
    "collapsed": false,
    "is_executing": true
   },
   "id": "72e41f64638d062a",
   "execution_count": null
  },
  {
   "cell_type": "code",
   "outputs": [
    {
     "data": {
      "text/plain": "               Isolated labels        KMeans NMI        KMeans ARI  \\\nEmbedding                                                            \nPCA                   0.552987          0.607935          0.423918   \nscBert                0.418096          0.141535          0.090206   \nscGPT                 0.621359          0.606642          0.367705   \nscFoundation          0.508755          0.255997           0.15396   \nGeneformer            0.489874          0.256132          0.150842   \nMetric Type   Bio conservation  Bio conservation  Bio conservation   \n\n              Silhouette label             cLISI  Silhouette batch  \\\nEmbedding                                                            \nPCA                   0.584205               1.0          0.681296   \nscBert                0.345286          0.819709          0.829535   \nscGPT                 0.593002           0.99897          0.769753   \nscFoundation           0.48005          0.909228          0.902137   \nGeneformer            0.478581          0.938306          0.823835   \nMetric Type   Bio conservation  Bio conservation  Batch correction   \n\n                         iLISI              KBET Graph connectivity  \\\nEmbedding                                                             \nPCA                        0.0          0.149206           0.577947   \nscBert                0.625378          0.212912           0.463615   \nscGPT                      0.0          0.120701           0.816485   \nscFoundation          0.047333          0.088786            0.72541   \nGeneformer            0.015747           0.08117           0.732138   \nMetric Type   Batch correction  Batch correction   Batch correction   \n\n                PCR comparison Batch correction Bio conservation  \\\nEmbedding                                                          \nPCA                   0.410068         0.363704         0.633809   \nscBert                0.777404         0.581769         0.362967   \nscGPT                  0.40648         0.422684         0.637535   \nscFoundation          0.668447         0.486423         0.461598   \nGeneformer            0.539538         0.438485         0.462747   \nMetric Type   Batch correction  Aggregate score  Aggregate score   \n\n                        Total  \nEmbedding                      \nPCA                  0.525767  \nscBert               0.450487  \nscGPT                0.551595  \nscFoundation         0.471528  \nGeneformer           0.453042  \nMetric Type   Aggregate score  ",
      "text/html": "<div>\n<style scoped>\n    .dataframe tbody tr th:only-of-type {\n        vertical-align: middle;\n    }\n\n    .dataframe tbody tr th {\n        vertical-align: top;\n    }\n\n    .dataframe thead th {\n        text-align: right;\n    }\n</style>\n<table border=\"1\" class=\"dataframe\">\n  <thead>\n    <tr style=\"text-align: right;\">\n      <th></th>\n      <th>Isolated labels</th>\n      <th>KMeans NMI</th>\n      <th>KMeans ARI</th>\n      <th>Silhouette label</th>\n      <th>cLISI</th>\n      <th>Silhouette batch</th>\n      <th>iLISI</th>\n      <th>KBET</th>\n      <th>Graph connectivity</th>\n      <th>PCR comparison</th>\n      <th>Batch correction</th>\n      <th>Bio conservation</th>\n      <th>Total</th>\n    </tr>\n    <tr>\n      <th>Embedding</th>\n      <th></th>\n      <th></th>\n      <th></th>\n      <th></th>\n      <th></th>\n      <th></th>\n      <th></th>\n      <th></th>\n      <th></th>\n      <th></th>\n      <th></th>\n      <th></th>\n      <th></th>\n    </tr>\n  </thead>\n  <tbody>\n    <tr>\n      <th>PCA</th>\n      <td>0.552987</td>\n      <td>0.607935</td>\n      <td>0.423918</td>\n      <td>0.584205</td>\n      <td>1.0</td>\n      <td>0.681296</td>\n      <td>0.0</td>\n      <td>0.149206</td>\n      <td>0.577947</td>\n      <td>0.410068</td>\n      <td>0.363704</td>\n      <td>0.633809</td>\n      <td>0.525767</td>\n    </tr>\n    <tr>\n      <th>scBert</th>\n      <td>0.418096</td>\n      <td>0.141535</td>\n      <td>0.090206</td>\n      <td>0.345286</td>\n      <td>0.819709</td>\n      <td>0.829535</td>\n      <td>0.625378</td>\n      <td>0.212912</td>\n      <td>0.463615</td>\n      <td>0.777404</td>\n      <td>0.581769</td>\n      <td>0.362967</td>\n      <td>0.450487</td>\n    </tr>\n    <tr>\n      <th>scGPT</th>\n      <td>0.621359</td>\n      <td>0.606642</td>\n      <td>0.367705</td>\n      <td>0.593002</td>\n      <td>0.99897</td>\n      <td>0.769753</td>\n      <td>0.0</td>\n      <td>0.120701</td>\n      <td>0.816485</td>\n      <td>0.40648</td>\n      <td>0.422684</td>\n      <td>0.637535</td>\n      <td>0.551595</td>\n    </tr>\n    <tr>\n      <th>scFoundation</th>\n      <td>0.508755</td>\n      <td>0.255997</td>\n      <td>0.15396</td>\n      <td>0.48005</td>\n      <td>0.909228</td>\n      <td>0.902137</td>\n      <td>0.047333</td>\n      <td>0.088786</td>\n      <td>0.72541</td>\n      <td>0.668447</td>\n      <td>0.486423</td>\n      <td>0.461598</td>\n      <td>0.471528</td>\n    </tr>\n    <tr>\n      <th>Geneformer</th>\n      <td>0.489874</td>\n      <td>0.256132</td>\n      <td>0.150842</td>\n      <td>0.478581</td>\n      <td>0.938306</td>\n      <td>0.823835</td>\n      <td>0.015747</td>\n      <td>0.08117</td>\n      <td>0.732138</td>\n      <td>0.539538</td>\n      <td>0.438485</td>\n      <td>0.462747</td>\n      <td>0.453042</td>\n    </tr>\n    <tr>\n      <th>Metric Type</th>\n      <td>Bio conservation</td>\n      <td>Bio conservation</td>\n      <td>Bio conservation</td>\n      <td>Bio conservation</td>\n      <td>Bio conservation</td>\n      <td>Batch correction</td>\n      <td>Batch correction</td>\n      <td>Batch correction</td>\n      <td>Batch correction</td>\n      <td>Batch correction</td>\n      <td>Aggregate score</td>\n      <td>Aggregate score</td>\n      <td>Aggregate score</td>\n    </tr>\n  </tbody>\n</table>\n</div>"
     },
     "execution_count": 31,
     "metadata": {},
     "output_type": "execute_result"
    }
   ],
   "source": [
    "df"
   ],
   "metadata": {
    "collapsed": false,
    "ExecuteTime": {
     "end_time": "2024-07-23T09:19:30.754056Z",
     "start_time": "2024-07-23T09:19:30.710957Z"
    }
   },
   "id": "aab52d7a96a09d26",
   "execution_count": 31
  }
 ],
 "metadata": {
  "kernelspec": {
   "display_name": "Python 3",
   "language": "python",
   "name": "python3"
  },
  "language_info": {
   "codemirror_mode": {
    "name": "ipython",
    "version": 2
   },
   "file_extension": ".py",
   "mimetype": "text/x-python",
   "name": "python",
   "nbconvert_exporter": "python",
   "pygments_lexer": "ipython2",
   "version": "2.7.6"
  }
 },
 "nbformat": 4,
 "nbformat_minor": 5
}
