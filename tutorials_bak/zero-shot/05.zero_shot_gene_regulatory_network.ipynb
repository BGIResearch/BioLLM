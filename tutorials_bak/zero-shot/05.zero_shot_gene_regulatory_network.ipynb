{
 "cells": [
  {
   "cell_type": "code",
   "outputs": [],
   "source": [
    "import sys\n",
    "sys.path.append(\"/home/share/huadjyin/home/s_huluni/project/bio_model/biollm\")\n",
    "\n",
    "from biollm.utils.utils import load_config\n",
    "\n",
    "import scanpy as sc\n",
    "import pandas as pd\n",
    "import numpy as np\n",
    "import torch\n",
    "from tqdm import tqdm"
   ],
   "metadata": {
    "collapsed": false,
    "is_executing": true
   },
   "id": "ef00879bbc2d724e",
   "execution_count": null
  },
  {
   "cell_type": "code",
   "outputs": [],
   "source": [
    "import os\n",
    "os.chdir(\"/home/share/huadjyin/home/s_huluni/project/bio_model/biollm/tutorials/zero-shot\")"
   ],
   "metadata": {
    "collapsed": true,
    "ExecuteTime": {
     "end_time": "2024-06-19T02:21:54.459022500Z",
     "start_time": "2024-06-19T02:21:54.452200800Z"
    }
   },
   "id": "initial_id",
   "execution_count": 2
  },
  {
   "cell_type": "markdown",
   "source": [
    "#### Get Gene Expression Embedding"
   ],
   "metadata": {
    "collapsed": false
   },
   "id": "d101cfb10f808d3"
  },
  {
   "cell_type": "markdown",
   "source": [
    "##### scFoundation"
   ],
   "metadata": {
    "collapsed": false
   },
   "id": "2d969c7d190c43b3"
  },
  {
   "cell_type": "code",
   "outputs": [
    {
     "ename": "ModuleNotFoundError",
     "evalue": "No module named 'biollm'",
     "output_type": "error",
     "traceback": [
      "\u001B[0;31m---------------------------------------------------------------------------\u001B[0m",
      "\u001B[0;31mModuleNotFoundError\u001B[0m                       Traceback (most recent call last)",
      "Cell \u001B[0;32mIn[1], line 1\u001B[0m\n\u001B[0;32m----> 1\u001B[0m \u001B[38;5;28;01mfrom\u001B[39;00m \u001B[38;5;21;01mbiollm\u001B[39;00m\u001B[38;5;21;01m.\u001B[39;00m\u001B[38;5;21;01mbase\u001B[39;00m\u001B[38;5;21;01m.\u001B[39;00m\u001B[38;5;21;01mload_scfoundation\u001B[39;00m \u001B[38;5;28;01mimport\u001B[39;00m LoadScfoundation\n\u001B[1;32m      3\u001B[0m config_file \u001B[38;5;241m=\u001B[39m \u001B[38;5;124m'\u001B[39m\u001B[38;5;124m./configs/scfoundation_gene-expression_emb.toml\u001B[39m\u001B[38;5;124m'\u001B[39m\n\u001B[1;32m      4\u001B[0m configs \u001B[38;5;241m=\u001B[39m load_config(config_file)\n",
      "\u001B[0;31mModuleNotFoundError\u001B[0m: No module named 'biollm'"
     ]
    }
   ],
   "source": [
    "from biollm.base.load_scfoundation import LoadScfoundation\n",
    "\n",
    "config_file = './configs/scfoundation_gene-expression_emb.toml'\n",
    "configs = load_config(config_file)\n",
    "\n",
    "obj = LoadScfoundation(configs)\n",
    "print(obj.args)\n",
    "\n",
    "adata = sc.read_h5ad(configs.input_file)\n",
    "adata.var_names = adata.var[\"gene_symbols\"].tolist()\n",
    "\n",
    "obj.model = obj.model.to(configs.device)\n",
    "emb = obj.get_embedding(configs.emb_type, gene_ids=None, adata=adata)\n",
    "print('embedding shape:', emb.shape)\n",
    "\n",
    "vocab = {v :k for k, v in obj.get_gene2idx().items()}\n",
    "data = pd.DataFrame(emb)\n",
    "data.index = [vocab[idx] for idx in data.index.tolist()]\n",
    "data = data.loc[data.index.isin(adata.var_names), :]\n",
    "scf_gene_emb = data"
   ],
   "metadata": {
    "collapsed": false,
    "ExecuteTime": {
     "end_time": "2024-06-19T09:37:38.607672900Z",
     "start_time": "2024-06-19T09:37:38.241532Z"
    }
   },
   "id": "65692adff4c27b84",
   "execution_count": 1
  },
  {
   "cell_type": "code",
   "outputs": [],
   "source": [
    "import os\n",
    "import pickle\n",
    "\n",
    "gene_name_file = os.path.join(configs.output_dir, \"scf_gene_names.pkl\")\n",
    "with open(gene_name_file, 'wb') as file:\n",
    "    pickle.dump(scf_gene_emb.index.tolist(), file)\n",
    "    \n",
    "gene_emb_file = os.path.join(configs.output_dir, \"scf_gene_emb.pkl\")\n",
    "with open(gene_emb_file, 'wb') as file:\n",
    "    pickle.dump(np.array(scf_gene_emb), file)"
   ],
   "metadata": {
    "collapsed": false
   },
   "id": "a99df3ce705efb21",
   "execution_count": null
  },
  {
   "cell_type": "markdown",
   "source": [
    "##### scMamba"
   ],
   "metadata": {
    "collapsed": false
   },
   "id": "e762a626d327775a"
  },
  {
   "cell_type": "code",
   "outputs": [
    {
     "name": "stderr",
     "output_type": "stream",
     "text": [
      "/home/share/huadjyin/home/s_huluni/anaconda3/envs/py39_torch/lib/python3.9/site-packages/lightning/fabric/plugins/environments/xla.py:18: DeprecationWarning: `ModuleAvailableCache` is a special case of `RequirementCache`. Please use `RequirementCache(module=...)` instead.\n",
      "  from lightning.fabric.accelerators.tpu import _XLA_AVAILABLE, TPUAccelerator\n",
      "/home/share/huadjyin/home/s_huluni/anaconda3/envs/py39_torch/lib/python3.9/site-packages/lightning/fabric/__init__.py:36: DeprecationWarning: Deprecated call to `pkg_resources.declare_namespace('lightning.fabric')`.\n",
      "Implementing implicit namespace packages (as specified in PEP 420) is preferred to `pkg_resources.declare_namespace`. See https://setuptools.pypa.io/en/latest/references/keywords.html#keyword-namespace-packages\n",
      "  __import__(\"pkg_resources\").declare_namespace(__name__)\n",
      "/home/share/huadjyin/home/s_huluni/anaconda3/envs/py39_torch/lib/python3.9/site-packages/pkg_resources/__init__.py:2350: DeprecationWarning: Deprecated call to `pkg_resources.declare_namespace('lightning')`.\n",
      "Implementing implicit namespace packages (as specified in PEP 420) is preferred to `pkg_resources.declare_namespace`. See https://setuptools.pypa.io/en/latest/references/keywords.html#keyword-namespace-packages\n",
      "  declare_namespace(parent)\n",
      "/home/share/huadjyin/home/s_huluni/anaconda3/envs/py39_torch/lib/python3.9/site-packages/lightning/pytorch/__init__.py:36: DeprecationWarning: Deprecated call to `pkg_resources.declare_namespace('lightning.pytorch')`.\n",
      "Implementing implicit namespace packages (as specified in PEP 420) is preferred to `pkg_resources.declare_namespace`. See https://setuptools.pypa.io/en/latest/references/keywords.html#keyword-namespace-packages\n",
      "  __import__(\"pkg_resources\").declare_namespace(__name__)\n",
      "/home/share/huadjyin/home/s_huluni/anaconda3/envs/py39_torch/lib/python3.9/site-packages/pkg_resources/__init__.py:2350: DeprecationWarning: Deprecated call to `pkg_resources.declare_namespace('lightning')`.\n",
      "Implementing implicit namespace packages (as specified in PEP 420) is preferred to `pkg_resources.declare_namespace`. See https://setuptools.pypa.io/en/latest/references/keywords.html#keyword-namespace-packages\n",
      "  declare_namespace(parent)\n",
      "/home/share/huadjyin/home/s_huluni/anaconda3/envs/py39_torch/lib/python3.9/site-packages/scvi/_settings.py:63: UserWarning: Since v1.0.0, scvi-tools no longer uses a random seed by default. Run `scvi.settings.seed = 0` to reproduce results from previous versions.\n",
      "  self.seed = seed\n",
      "/home/share/huadjyin/home/s_huluni/anaconda3/envs/py39_torch/lib/python3.9/site-packages/scvi/_settings.py:70: UserWarning: Setting `dl_pin_memory_gpu_training` is deprecated in v1.0 and will be removed in v1.1. Please pass in `pin_memory` to the data loaders instead.\n",
      "  self.dl_pin_memory_gpu_training = (\n",
      "/home/share/huadjyin/home/s_huluni/anaconda3/envs/py39_torch/lib/python3.9/site-packages/chex/_src/pytypes.py:53: DeprecationWarning: jax.core.Shape is deprecated. Use Shape = Sequence[int | Any].\n",
      "  Shape = jax.core.Shape\n",
      "/home/share/huadjyin/home/s_huluni/anaconda3/envs/py39_torch/lib/python3.9/site-packages/chex/_src/pytypes.py:54: DeprecationWarning: jax.random.KeyArray is deprecated. Use jax.Array for annotations, and jax.dtypes.issubdtype(arr.dtype, jax.dtypes.prng_key) for runtime detection of typed prng keys (i.e. keys created with jax.random.key).\n",
      "For more information, see https://jax.readthedocs.io/en/latest/jep/9263-typed-keys.html\n",
      "  PRNGKey = jax.random.KeyArray\n"
     ]
    },
    {
     "name": "stdout",
     "output_type": "stream",
     "text": [
      "Using simple batchnorm instead of domain specific batchnorm\n"
     ]
    },
    {
     "name": "stderr",
     "output_type": "stream",
     "text": [
      "2024-06-19 10:22:15-load_llm[line-40]-INFO: Loading params encoder.embedding.weight with shape torch.Size([60697, 512])\n",
      "2024-06-19 10:22:15-load_llm[line-40]-INFO: Loading params encoder.enc_norm.weight with shape torch.Size([512])\n",
      "2024-06-19 10:22:15-load_llm[line-40]-INFO: Loading params encoder.enc_norm.bias with shape torch.Size([512])\n",
      "2024-06-19 10:22:15-load_llm[line-40]-INFO: Loading params value_encoder.linear1.weight with shape torch.Size([512, 1])\n",
      "2024-06-19 10:22:15-load_llm[line-40]-INFO: Loading params value_encoder.linear1.bias with shape torch.Size([512])\n",
      "2024-06-19 10:22:15-load_llm[line-40]-INFO: Loading params value_encoder.linear2.weight with shape torch.Size([512, 512])\n",
      "2024-06-19 10:22:15-load_llm[line-40]-INFO: Loading params value_encoder.linear2.bias with shape torch.Size([512])\n",
      "2024-06-19 10:22:15-load_llm[line-40]-INFO: Loading params value_encoder.norm.weight with shape torch.Size([512])\n",
      "2024-06-19 10:22:15-load_llm[line-40]-INFO: Loading params value_encoder.norm.bias with shape torch.Size([512])\n",
      "2024-06-19 10:22:15-load_llm[line-40]-INFO: Loading params bn.weight with shape torch.Size([512])\n",
      "2024-06-19 10:22:15-load_llm[line-40]-INFO: Loading params bn.bias with shape torch.Size([512])\n",
      "2024-06-19 10:22:15-load_llm[line-40]-INFO: Loading params bn.running_mean with shape torch.Size([512])\n",
      "2024-06-19 10:22:15-load_llm[line-40]-INFO: Loading params bn.running_var with shape torch.Size([512])\n",
      "2024-06-19 10:22:15-load_llm[line-40]-INFO: Loading params bn.num_batches_tracked with shape torch.Size([])\n",
      "2024-06-19 10:22:15-load_llm[line-40]-INFO: Loading params decoder.fc.0.weight with shape torch.Size([512, 512])\n",
      "2024-06-19 10:22:15-load_llm[line-40]-INFO: Loading params decoder.fc.0.bias with shape torch.Size([512])\n",
      "2024-06-19 10:22:15-load_llm[line-40]-INFO: Loading params decoder.fc.2.weight with shape torch.Size([512, 512])\n",
      "2024-06-19 10:22:15-load_llm[line-40]-INFO: Loading params decoder.fc.2.bias with shape torch.Size([512])\n",
      "2024-06-19 10:22:15-load_llm[line-40]-INFO: Loading params decoder.fc.4.weight with shape torch.Size([1, 512])\n",
      "2024-06-19 10:22:15-load_llm[line-40]-INFO: Loading params decoder.fc.4.bias with shape torch.Size([1])\n"
     ]
    },
    {
     "name": "stdout",
     "output_type": "stream",
     "text": [
      "Munch({'model_used': 'scmamba', 'emb_type': 'gene-expression', 'model_file': '../../case/models/scmamba/best_model.pt', 'model_param_file': '../../case/models/scmamba/args.json', 'vocab_file': '../../case/models/scmamba/vocab.json', 'input_file': '/home/share/huadjyin/home/s_huluni/cellxgene/h5ads/d7d7e89c-c93a-422d-8958-9b4a90b69558.h5ad', 'distributed': False, 'do_pretrain': False, 'output_dir': '../../case/result/zero-shot/', 'device': 'cuda:3', 'include_zero_gene': True, 'hvg_number': 0, 'data_is_raw': False, 'input_style': 'binned', 'task': 'Embedding', 'pad_token': '<pad>', 'pad_value': -2, 'batch_size': 32, 'mask_ratio': 0, 'CLS': False, 'ADV': False, 'CCE': False, 'MVC': False, 'ECS': False, 'data_name': 'cellxgene', 'model_name': 'mamba', 'run_name': 'gst_ori_initemb', 'single_gpu': False, 'do_train': True, 'GEPC': False, 'epochs': 5, 'seed': 1927, 'dropout': 0.2, 'lr': 1e-06, 'num_workers': 0, 'log_interval': 1000, 'save_eval_interval': 5, 'schedule_ratio': 0.9, 'amp': True, 'data_path': '/home/share/huadjyin/home/s_jiangwenjian/proj/scLLM/scGPT/data', 'source_path': '/home/share/huadjyin/home/s_qiuping1/workspace/omics_model/data/train_data/cellxgene_6w', 'lmdb': True, 'load_model': '/home/share/huadjyin/home/s_jiangwenjian/proj/scLLM/scGPT/saves/Pretraining/cellxgene/mamba/gst_ori_initemb', 'save_dir': '/home/share/huadjyin/home/s_jiangwenjian/proj/scLLM/scGPT/saves', 'gene_array_file': '/home/share/huadjyin/home/s_jiangwenjian/proj/scLLM/scGPT/data/Pretraining/panglao/binned/panglao_gene_ids.pk', 'graph_path': '/home/share/huadjyin/home/s_huluni/project/bio_model/biollm/case/graph', 'embsize': 512, 'd_hid': 512, 'nheads': 8, 'nlayers': 12, 'append_cls': False, 'pre_norm': False, 'n_layers_cls': 3, 'graph_sort': True, 'sampling_etype': 'ori', 'layer_mask': False, 'layer_emb': True, 'n_bins': 51, 'n_hvg': -1, 'ecs_thres': 0, 'dab_weight': 1.0, 'per_seq_batch_sample': False, 'DSBN': False, 'explicit_zero_prob': False, 'use_batch_labels': False, 'max_seq_len': 3000, 'input_emb_style': 'continuous', 'cell_emb_style': 'avg-pool', 'mvc_decoder_style': 'inner product'})\n"
     ]
    },
    {
     "name": "stderr",
     "output_type": "stream",
     "text": [
      "/home/share/huadjyin/home/s_huluni/anaconda3/envs/py39_torch/lib/python3.9/site-packages/pandas/core/dtypes/cast.py:1641: DeprecationWarning: np.find_common_type is deprecated.  Please use `np.result_type` or `np.promote_types`.\n",
      "See https://numpy.org/devdocs/release/1.25.0-notes.html and the docs for more information.  (Deprecated NumPy 1.25)\n",
      "  return np.find_common_type(types, [])\n",
      "/home/share/huadjyin/home/s_huluni/anaconda3/envs/py39_torch/lib/python3.9/site-packages/pandas/core/algorithms.py:522: DeprecationWarning: np.find_common_type is deprecated.  Please use `np.result_type` or `np.promote_types`.\n",
      "See https://numpy.org/devdocs/release/1.25.0-notes.html and the docs for more information.  (Deprecated NumPy 1.25)\n",
      "  common = np.find_common_type([values.dtype, comps_array.dtype], [])\n",
      "/home/share/huadjyin/home/s_huluni/anaconda3/envs/py39_torch/lib/python3.9/site-packages/pandas/core/algorithms.py:522: DeprecationWarning: np.find_common_type is deprecated.  Please use `np.result_type` or `np.promote_types`.\n",
      "See https://numpy.org/devdocs/release/1.25.0-notes.html and the docs for more information.  (Deprecated NumPy 1.25)\n",
      "  common = np.find_common_type([values.dtype, comps_array.dtype], [])\n",
      "/home/share/huadjyin/home/s_huluni/anaconda3/envs/py39_torch/lib/python3.9/site-packages/pandas/core/algorithms.py:522: DeprecationWarning: np.find_common_type is deprecated.  Please use `np.result_type` or `np.promote_types`.\n",
      "See https://numpy.org/devdocs/release/1.25.0-notes.html and the docs for more information.  (Deprecated NumPy 1.25)\n",
      "  common = np.find_common_type([values.dtype, comps_array.dtype], [])\n",
      "/home/share/huadjyin/home/s_huluni/anaconda3/envs/py39_torch/lib/python3.9/site-packages/scanpy/preprocessing/_simple.py:248: ImplicitModificationWarning: Trying to modify attribute `.var` of view, initializing view as actual.\n",
      "  adata.var['n_counts'] = number\n",
      "2024-06-19 10:23:36-load_mamba[line-185]-INFO: start to get gene expression!\n",
      "Gene expression embedding: 100%|██████████| 529/529 [00:50<00:00, 10.51it/s]\n",
      "2024-06-19 10:24:49-load_mamba[line-211]-INFO: get gene expression Done!\n"
     ]
    }
   ],
   "source": [
    "from biollm.base.load_mamba import LoadScmamba\n",
    "\n",
    "config_file = './configs/scmamba_gene-expression_emb.toml'\n",
    "configs = load_config(config_file)\n",
    "\n",
    "obj = LoadScmamba(configs)\n",
    "print(obj.args)\n",
    "\n",
    "adata = sc.read_h5ad(configs.input_file)\n",
    "adata.var_names = adata.var[\"gene_symbols\"].tolist()\n",
    "sc.pp.highly_variable_genes(adata, n_top_genes=2000, subset=True)\n",
    "adata = obj.preprocess_adata(adata)\n",
    "obj.args['max_seq_len'] = adata.shape[1]\n",
    "\n",
    "file_name = os.path.basename(configs.input_file)\n",
    "\n",
    "if 'gene_name' not in adata.var:\n",
    "    adata.var['gene_name'] = adata.var.index.values\n",
    "    \n",
    "gene_ids = [obj.get_gene2idx().get(key) for key in adata.var_names]\n",
    "gene_ids = np.array(gene_ids)\n",
    "gene_ids = torch.tensor(gene_ids, dtype=torch.long).to(configs.device)\n",
    "\n",
    "obj.model = obj.model.to(configs.device)\n",
    "emb, gene_names = obj.get_embedding(obj.args.emb_type, adata, gene_ids)\n",
    "emb = pd.DataFrame(emb, index = gene_names)\n",
    "\n",
    "mamba_gene_emb = emb"
   ],
   "metadata": {
    "collapsed": false,
    "ExecuteTime": {
     "end_time": "2024-06-19T02:24:49.658017900Z",
     "start_time": "2024-06-19T02:21:54.455955800Z"
    }
   },
   "id": "df4a6b8fa5a6d50d",
   "execution_count": 3
  },
  {
   "cell_type": "code",
   "outputs": [],
   "source": [
    "import os\n",
    "import pickle\n",
    "\n",
    "gene_name_file = os.path.join(configs.output_dir, \"mamba_gene_names.pkl\")\n",
    "with open(gene_name_file, 'wb') as file:\n",
    "    pickle.dump(mamba_gene_emb.index.tolist(), file)\n",
    "    \n",
    "gene_emb_file = os.path.join(configs.output_dir, \"mamba_gene_emb.pkl\")\n",
    "with open(gene_emb_file, 'wb') as file:\n",
    "    pickle.dump(np.array(mamba_gene_emb), file)"
   ],
   "metadata": {
    "collapsed": false
   },
   "id": "79d7437c96713390",
   "execution_count": null
  },
  {
   "cell_type": "markdown",
   "source": [
    "##### scBERT"
   ],
   "metadata": {
    "collapsed": false
   },
   "id": "ead19f8b020ae8a6"
  },
  {
   "cell_type": "code",
   "outputs": [],
   "source": [
    "from biollm.base.load_scbert import LoadScbert\n",
    "\n",
    "config_file = './configs/scbert_gene-expression_emb.toml'\n",
    "configs = load_config(config_file)\n",
    "obj = LoadScbert(configs)\n",
    "print(obj.args)\n",
    "\n",
    "gene_ids = list(obj.get_gene2idx().values())\n",
    "gene_ids = np.array(gene_ids)\n",
    "gene_ids = torch.tensor(gene_ids, dtype=torch.long).to(configs.device)\n",
    "obj.model = obj.model.to(configs.device)\n",
    "adata = sc.read_h5ad(configs.input_file)\n",
    "adata.var_names = adata.var[\"gene_symbols\"].tolist()\n",
    "sc.pp.highly_variable_genes(adata, n_top_genes=2000, subset=True)\n",
    "emb = obj.get_embedding(configs.emb_type, adata=adata)\n",
    "print('embedding shape:', emb.shape)\n",
    "\n",
    "vocab = {v :k for k, v in obj.get_gene2idx().items()}\n",
    "data = pd.DataFrame(emb)\n",
    "data.index = [vocab[idx] for idx in data.index.tolist()]\n",
    "data = data.loc[data.index.isin(adata.var_names), :]\n",
    "scb_gene_emb = data"
   ],
   "metadata": {
    "collapsed": false
   },
   "id": "232073169a359415",
   "execution_count": null
  },
  {
   "cell_type": "code",
   "outputs": [],
   "source": [
    "import os\n",
    "import pickle\n",
    "\n",
    "gene_name_file = os.path.join(configs.output_dir, \"scb_gene_names.pkl\")\n",
    "with open(gene_name_file, 'wb') as file:\n",
    "    pickle.dump(scb_gene_emb.index.tolist(), file)\n",
    "    \n",
    "gene_emb_file = os.path.join(configs.output_dir, \"scb_gene_emb.pkl\")\n",
    "with open(gene_emb_file, 'wb') as file:\n",
    "    pickle.dump(np.array(scb_gene_emb), file)"
   ],
   "metadata": {
    "collapsed": false
   },
   "id": "c963442ddd5cdf34",
   "execution_count": null
  },
  {
   "cell_type": "markdown",
   "source": [
    "##### scGPT"
   ],
   "metadata": {
    "collapsed": false
   },
   "id": "ee832cf125994f0c"
  },
  {
   "cell_type": "code",
   "outputs": [],
   "source": [
    "from biollm.base.load_scgpt import LoadScgpt\n",
    "\n",
    "config_file = './configs/scgpt_gene-expression_emb.toml'\n",
    "configs = load_config(config_file)\n",
    "\n",
    "adata = sc.read_h5ad(configs.input_file)\n",
    "adata.var_names = adata.var[\"gene_symbols\"].tolist()\n",
    "sc.pp.highly_variable_genes(adata, n_top_genes=2000, subset=True)\n",
    "adata.var[\"gene_name\"] = adata.var[\"feature_name\"]\n",
    "adata.obs[\"celltype_id\"] = adata.obs[\"cell_type\"].cat.codes\n",
    "adata.obs[\"batch_id\"] = 0\n",
    "\n",
    "obj = LoadScgpt(configs)\n",
    "adata = adata[:, adata.var_names.isin(obj.get_gene2idx().keys())].copy()\n",
    "configs.max_seq_len = adata.var.shape[0] + 1\n",
    "obj = LoadScgpt(configs)\n",
    "print(obj.args)\n",
    "\n",
    "obj.model = obj.model.to(configs.device)\n",
    "\n",
    "emb = obj.get_embedding(configs.emb_type, adata=adata)\n",
    "print('embedding shape:', emb.shape)\n",
    "\n",
    "data = pd.DataFrame(emb)\n",
    "data.index = adata.var_names\n",
    "scg_gene_emb = data"
   ],
   "metadata": {
    "collapsed": false
   },
   "id": "8e8a91898f12c527",
   "execution_count": null
  },
  {
   "cell_type": "code",
   "outputs": [],
   "source": [
    "import os\n",
    "import pickle\n",
    "\n",
    "gene_name_file = os.path.join(configs.output_dir, \"scg_gene_names.pkl\")\n",
    "with open(gene_name_file, 'wb') as file:\n",
    "    pickle.dump(scg_gene_emb.index.tolist(), file)\n",
    "    \n",
    "gene_emb_file = os.path.join(configs.output_dir, \"scg_gene_emb.pkl\")\n",
    "with open(gene_emb_file, 'wb') as file:\n",
    "    pickle.dump(np.array(scg_gene_emb), file)"
   ],
   "metadata": {
    "collapsed": false
   },
   "id": "30d3c1709c24eb07",
   "execution_count": null
  },
  {
   "cell_type": "markdown",
   "source": [
    "##### GeneFormer\n"
   ],
   "metadata": {
    "collapsed": false
   },
   "id": "135565085145f816"
  },
  {
   "cell_type": "code",
   "outputs": [
    {
     "name": "stdout",
     "output_type": "stream",
     "text": [
      "Munch({'model_used': 'geneformer', 'model_type': 'Pretrained', 'model_file': '/home/share/huadjyin/home/s_huluni/project/bio_model/biollm/case/models/geneformer', 'vocab_file': '/home/share/huadjyin/home/s_huluni/project/bio_model/biollm/case/models/geneformer/gene_vocab.json', 'n_bins': 100, 'input_file': '/home/share/huadjyin/home/s_huluni/cellxgene/h5ads/d7d7e89c-c93a-422d-8958-9b4a90b69558.h5ad', 'output_dir': '../../case/result/zero-shot/', 'device': 'cuda:0', 'emb_type': 'gene-expression', 'encoder_dims': 768, 'encoder_heads': 12, 'encoder_depth': 12})\n"
     ]
    },
    {
     "name": "stderr",
     "output_type": "stream",
     "text": [
      "/home/share/huadjyin/home/s_huluni/anaconda3/envs/py39_torch/lib/python3.9/site-packages/anndata/_core/anndata.py:956: UserWarning: \n",
      "AnnData expects .var.index to contain strings, but got values like:\n",
      "    ['RP11-34P13.7', 'DDX11L17', 'WASH9P', 'AP006222.1', 'RP11-206L10.17']\n",
      "\n",
      "    Inferred to be: categorical\n",
      "\n",
      "  names = self._prep_dim_index(names, \"var\")\n",
      "/home/share/huadjyin/home/s_huluni/anaconda3/envs/py39_torch/lib/python3.9/site-packages/pandas/core/dtypes/cast.py:1641: DeprecationWarning: np.find_common_type is deprecated.  Please use `np.result_type` or `np.promote_types`.\n",
      "See https://numpy.org/devdocs/release/1.25.0-notes.html and the docs for more information.  (Deprecated NumPy 1.25)\n",
      "  return np.find_common_type(types, [])\n",
      "/home/share/huadjyin/home/s_huluni/anaconda3/envs/py39_torch/lib/python3.9/site-packages/pandas/core/algorithms.py:522: DeprecationWarning: np.find_common_type is deprecated.  Please use `np.result_type` or `np.promote_types`.\n",
      "See https://numpy.org/devdocs/release/1.25.0-notes.html and the docs for more information.  (Deprecated NumPy 1.25)\n",
      "  common = np.find_common_type([values.dtype, comps_array.dtype], [])\n",
      "/home/share/huadjyin/home/s_huluni/anaconda3/envs/py39_torch/lib/python3.9/site-packages/pandas/core/algorithms.py:522: DeprecationWarning: np.find_common_type is deprecated.  Please use `np.result_type` or `np.promote_types`.\n",
      "See https://numpy.org/devdocs/release/1.25.0-notes.html and the docs for more information.  (Deprecated NumPy 1.25)\n",
      "  common = np.find_common_type([values.dtype, comps_array.dtype], [])\n",
      "/home/share/huadjyin/home/s_huluni/anaconda3/envs/py39_torch/lib/python3.9/site-packages/pandas/core/algorithms.py:522: DeprecationWarning: np.find_common_type is deprecated.  Please use `np.result_type` or `np.promote_types`.\n",
      "See https://numpy.org/devdocs/release/1.25.0-notes.html and the docs for more information.  (Deprecated NumPy 1.25)\n",
      "  common = np.find_common_type([values.dtype, comps_array.dtype], [])\n",
      "/home/share/huadjyin/home/s_huluni/anaconda3/envs/py39_torch/lib/python3.9/site-packages/anndata/_core/anndata.py:183: ImplicitModificationWarning: Transforming to str index.\n",
      "  warnings.warn(\"Transforming to str index.\", ImplicitModificationWarning)\n"
     ]
    },
    {
     "name": "stdout",
     "output_type": "stream",
     "text": [
      "AnnData has no column attribute 'filter_pass'; tokenizing all cells.\n",
      "Creating dataset.\n"
     ]
    },
    {
     "data": {
      "text/plain": "Map (num_proc=16):   0%|          | 0/16901 [00:00<?, ? examples/s]",
      "application/vnd.jupyter.widget-view+json": {
       "version_major": 2,
       "version_minor": 0,
       "model_id": "9c9f8bfa7bd047f8bba2ae8e4fd6f4e9"
      }
     },
     "metadata": {},
     "output_type": "display_data"
    },
    {
     "data": {
      "text/plain": "Map (num_proc=16):   0%|          | 0/16901 [00:00<?, ? examples/s]",
      "application/vnd.jupyter.widget-view+json": {
       "version_major": 2,
       "version_minor": 0,
       "model_id": "a4cd0f392d1543a3b2f4220a99554164"
      }
     },
     "metadata": {},
     "output_type": "display_data"
    },
    {
     "data": {
      "text/plain": "  0%|          | 0/529 [00:00<?, ?it/s]",
      "application/vnd.jupyter.widget-view+json": {
       "version_major": 2,
       "version_minor": 0,
       "model_id": "34c35fa558c744fea78c1786a505976f"
      }
     },
     "metadata": {},
     "output_type": "display_data"
    },
    {
     "name": "stdout",
     "output_type": "stream",
     "text": [
      "embedding shape: (1363, 256)\n"
     ]
    }
   ],
   "source": [
    "from biollm.base.load_geneformer import LoadGeneformer\n",
    "\n",
    "config_file = './configs/geneformer_gene-expression_emb.toml'\n",
    "configs = load_config(config_file)\n",
    "\n",
    "obj = LoadGeneformer(configs)\n",
    "print(obj.args)\n",
    "\n",
    "adata = sc.read_h5ad(configs.input_file)\n",
    "adata.var_names = adata.var[\"feature_name\"]\n",
    "sc.pp.highly_variable_genes(adata, n_top_genes=2000, subset=True)\n",
    "file_name = os.path.basename(configs.input_file)\n",
    "obj.model = obj.model.to(configs.device)\n",
    "emb, gene_ids = obj.get_embedding(obj.args.emb_type, adata=adata)\n",
    "print('embedding shape:', emb.shape)\n",
    "\n",
    "vocab = {v:k for k,v in  obj.get_gene2idx().items()}\n",
    "gene_names = [vocab[id] for id in gene_ids]\n",
    "\n",
    "gf_gene_emb = pd.DataFrame(emb, index=gene_names)"
   ],
   "metadata": {
    "collapsed": false,
    "ExecuteTime": {
     "end_time": "2024-06-18T06:14:28.278481500Z",
     "start_time": "2024-06-18T06:12:02.320851400Z"
    }
   },
   "id": "82c70c0302eb26ac",
   "execution_count": 4
  },
  {
   "cell_type": "code",
   "outputs": [],
   "source": [
    "import os\n",
    "import pickle\n",
    "\n",
    "gene_name_file = os.path.join(configs.output_dir, \"gf_gene_names.pkl\")\n",
    "with open(gene_name_file, 'wb') as file:\n",
    "    pickle.dump(gf_gene_emb.index.tolist(), file)\n",
    "    \n",
    "gene_emb_file = os.path.join(configs.output_dir, \"gf_gene_emb.pkl\")\n",
    "with open(gene_emb_file, 'wb') as file:\n",
    "    pickle.dump(np.array(gf_gene_emb), file)"
   ],
   "metadata": {
    "collapsed": false,
    "ExecuteTime": {
     "end_time": "2024-06-18T06:14:28.352394300Z",
     "start_time": "2024-06-18T06:14:28.270479500Z"
    }
   },
   "id": "70d9f6da79e552e9",
   "execution_count": 5
  },
  {
   "cell_type": "markdown",
   "source": [
    "##### PCA"
   ],
   "metadata": {
    "collapsed": false
   },
   "id": "47dc6c7a9970b407"
  },
  {
   "cell_type": "code",
   "outputs": [
    {
     "name": "stderr",
     "output_type": "stream",
     "text": [
      "/home/share/huadjyin/home/s_huluni/anaconda3/envs/py39_torch/lib/python3.9/site-packages/pandas/core/dtypes/cast.py:1641: DeprecationWarning: np.find_common_type is deprecated.  Please use `np.result_type` or `np.promote_types`.\n",
      "See https://numpy.org/devdocs/release/1.25.0-notes.html and the docs for more information.  (Deprecated NumPy 1.25)\n",
      "  return np.find_common_type(types, [])\n",
      "/home/share/huadjyin/home/s_huluni/anaconda3/envs/py39_torch/lib/python3.9/site-packages/pandas/core/algorithms.py:522: DeprecationWarning: np.find_common_type is deprecated.  Please use `np.result_type` or `np.promote_types`.\n",
      "See https://numpy.org/devdocs/release/1.25.0-notes.html and the docs for more information.  (Deprecated NumPy 1.25)\n",
      "  common = np.find_common_type([values.dtype, comps_array.dtype], [])\n",
      "/home/share/huadjyin/home/s_huluni/anaconda3/envs/py39_torch/lib/python3.9/site-packages/pandas/core/algorithms.py:522: DeprecationWarning: np.find_common_type is deprecated.  Please use `np.result_type` or `np.promote_types`.\n",
      "See https://numpy.org/devdocs/release/1.25.0-notes.html and the docs for more information.  (Deprecated NumPy 1.25)\n",
      "  common = np.find_common_type([values.dtype, comps_array.dtype], [])\n",
      "/home/share/huadjyin/home/s_huluni/anaconda3/envs/py39_torch/lib/python3.9/site-packages/pandas/core/algorithms.py:522: DeprecationWarning: np.find_common_type is deprecated.  Please use `np.result_type` or `np.promote_types`.\n",
      "See https://numpy.org/devdocs/release/1.25.0-notes.html and the docs for more information.  (Deprecated NumPy 1.25)\n",
      "  common = np.find_common_type([values.dtype, comps_array.dtype], [])\n"
     ]
    }
   ],
   "source": [
    "adata = sc.read_h5ad(configs.input_file)\n",
    "adata.var_names = adata.var[\"gene_symbols\"].tolist()\n",
    "sc.pp.highly_variable_genes(adata, n_top_genes=2000, subset=True)\n",
    "sc.pp.scale(adata)\n",
    "sc.pp.pca(adata)\n",
    "emb = adata.varm[\"PCs\"]\n",
    "pca_gene_emb = pd.DataFrame(emb, index = adata.var_names)"
   ],
   "metadata": {
    "collapsed": false,
    "ExecuteTime": {
     "end_time": "2024-06-19T02:32:24.758531200Z",
     "start_time": "2024-06-19T02:32:09.988520700Z"
    }
   },
   "id": "8dec8fde7f5d569",
   "execution_count": 10
  },
  {
   "cell_type": "markdown",
   "source": [
    "#### Get GRN Graph"
   ],
   "metadata": {
    "collapsed": false
   },
   "id": "6ed0434b6cfda75d"
  },
  {
   "cell_type": "code",
   "outputs": [],
   "source": [
    "import hnswlib\n",
    "\n",
    "def construct_grn_graph(data):\n",
    "    \n",
    "    gene_dict = dict(zip(range(len(data)), data.index))\n",
    "    data = np.array(data)\n",
    "    \n",
    "    num_elements = data.shape[0]\n",
    "    dim = data.shape[1]\n",
    "    ids = np.arange(num_elements)\n",
    "    \n",
    "    # Declaring index\n",
    "    p = hnswlib.Index(space = 'cosine', dim = dim) # possible options are l2, cosine or ip\n",
    "    \n",
    "    # Initializing index - the maximum number of elements should be known beforehand\n",
    "    p.init_index(max_elements = num_elements, ef_construction = 200, M = 16)\n",
    "    \n",
    "    # Element insertion (can be called several times):\n",
    "    p.add_items(data, ids)\n",
    "    \n",
    "    # Controlling the recall by setting ef:\n",
    "    p.set_ef(100) # ef should always be > k\n",
    "    \n",
    "    # Query dataset, k - number of the closest elements (returns 2 numpy arrays)\n",
    "    k_neighbors = 100\n",
    "    labels, _ = p.knn_query(data, k = k_neighbors + 1)\n",
    "    \n",
    "    graph = labels[:, 1:]\n",
    "    edgeDF = np.stack([np.repeat(np.arange(graph.shape[0]), graph.shape[1]),\n",
    "                      graph.ravel()], axis=1, dtype=int)\n",
    "    \n",
    "    \n",
    "    edgeDF = pd.DataFrame(edgeDF)\n",
    "    edgeDF.columns = [\"Gene1\", \"Gene2\"]\n",
    "    \n",
    "    edgeDF[\"Gene1\"] = [gene_dict[key] for key in edgeDF[\"Gene1\"]]\n",
    "    edgeDF[\"Gene2\"] = [gene_dict[key] for key in edgeDF[\"Gene2\"]]\n",
    "    \n",
    "    return edgeDF"
   ],
   "metadata": {
    "collapsed": false,
    "ExecuteTime": {
     "end_time": "2024-06-19T02:25:29.797976600Z",
     "start_time": "2024-06-19T02:25:29.784841300Z"
    }
   },
   "id": "ae471b7d88ba665",
   "execution_count": 4
  },
  {
   "cell_type": "markdown",
   "source": [
    "#### GRN evaluation"
   ],
   "metadata": {
    "collapsed": false
   },
   "id": "f0d00f7a57ca3b13"
  },
  {
   "cell_type": "code",
   "outputs": [],
   "source": [
    "import pyarrow.feather as feather\n",
    "from sklearn.metrics import precision_recall_curve, roc_curve, auc\n",
    "import pandas as pd\n",
    "\n",
    "def process_edges(df):\n",
    "    \n",
    "    pos_edges = []\n",
    "    neg_edges = []\n",
    "\n",
    "    for i, row in tqdm(df.iterrows(), total=len(df) , desc=\"Processing TFs\"):\n",
    "        pos_edges.append(row.sort_values(ascending=True)[:50].index.tolist())\n",
    "        neg_edges.append(row.sort_values(ascending=False)[:50].index.tolist())\n",
    "\n",
    "    pos_edges = pd.DataFrame(pos_edges, index=df.index)\n",
    "    pos_edges = pos_edges.melt(ignore_index=False)\n",
    "    pos_edges[\"Gene1\"] = pos_edges.index.tolist()\n",
    "    pos_edges[\"Gene2\"] = pos_edges[\"value\"].tolist()\n",
    "    pos_edges = pos_edges.loc[:, [\"Gene1\", \"Gene2\"]]\n",
    "    pos_edges[\"class\"] = 1\n",
    "\n",
    "    neg_edges = pd.DataFrame(neg_edges, index=df.index)\n",
    "    neg_edges = neg_edges.melt(ignore_index=False)\n",
    "    neg_edges[\"Gene1\"] = neg_edges.index.tolist()\n",
    "    neg_edges[\"Gene2\"] = neg_edges[\"value\"].tolist()\n",
    "    neg_edges = neg_edges.loc[:, [\"Gene1\", \"Gene2\"]]\n",
    "    neg_edges[\"class\"] = 0\n",
    "\n",
    "    return pd.concat([pos_edges, neg_edges], axis=0)\n",
    "\n",
    "def evaluate_grn(edgeDF, df, motif_df):\n",
    "    df.index = df[\"motifs\"].tolist()\n",
    "    df = df.drop(\"motifs\", axis=1)\n",
    "\n",
    "    motif_dict = dict(zip(motif_df.index, motif_df[\"gene_name\"]))\n",
    "    df = df.loc[df.index.isin(motif_dict.keys()), :]\n",
    "    df.index = [motif_dict[key] for key in df.index]\n",
    "    \n",
    "    gene_list = list(set(edgeDF[\"Gene1\"]).union(edgeDF[\"Gene2\"]))\n",
    "    df = df.loc[df.index.isin(gene_list), df.columns.isin(gene_list)]\n",
    "\n",
    "    true_edge_df = process_edges(df)\n",
    "    true_edge = true_edge_df.set_index([\"Gene1\", \"Gene2\"]).index\n",
    "    pred_edge = edgeDF.set_index([\"Gene1\", \"Gene2\"]).index\n",
    "\n",
    "    out_df = pd.DataFrame(index=true_edge)\n",
    "    out_df[\"TrueEdges\"] = true_edge_df[\"class\"].tolist()\n",
    "    out_df[\"PredEdges\"] = 0\n",
    "    out_df[\"PredEdges\"][out_df.index.isin(pred_edge)] = 1\n",
    "    print((out_df.shape, sum(out_df[\"PredEdges\"])))\n",
    "    \n",
    "    fpr, tpr, thresholds = roc_curve(y_true=out_df['TrueEdges'].tolist(), y_score=out_df['PredEdges'].tolist(), pos_label=1)\n",
    "    prec, recall, thresholds = precision_recall_curve(y_true=out_df['TrueEdges'].tolist(), probas_pred=out_df['PredEdges'].tolist(), pos_label=1)\n",
    "\n",
    "    return prec, recall, fpr, tpr, auc(recall, prec), auc(fpr, tpr)\n",
    "\n",
    "def grn_eval(edgeDF):\n",
    "    df = feather.read_feather('/home/share/huadjyin/home/s_huluni/project/bio_model/biollm/case/ref/hg19-tss-centered-10kb-10species.mc9nr.genes_vs_motifs.rankings.feather')\n",
    "    motif_df = pd.read_csv(\"/home/share/huadjyin/home/s_huluni/project/bio_model/biollm/case/ref/motifs-v9-nr.hgnc-m0.001-o0.0.tbl\", sep='\\t', index_col=0)\n",
    "    return evaluate_grn(edgeDF, df, motif_df)"
   ],
   "metadata": {
    "collapsed": false,
    "ExecuteTime": {
     "end_time": "2024-06-19T03:16:35.008424500Z",
     "start_time": "2024-06-19T03:16:34.939087600Z"
    }
   },
   "id": "dd1ef9ebe8890f47",
   "execution_count": 26
  },
  {
   "cell_type": "markdown",
   "source": [
    "#### runs"
   ],
   "metadata": {
    "collapsed": false
   },
   "id": "7ffcaac5ccaee6da"
  },
  {
   "cell_type": "code",
   "outputs": [],
   "source": [
    "import pickle\n",
    "\n",
    "with open(\"../../case/result/zero-shot/\"+\"gf_gene_emb.pkl\", 'rb') as f:\n",
    "    gf_gene_emb = pickle.load(f)\n",
    "    \n",
    "with open(\"../../case/result/zero-shot/\"+\"gf_gene_names.pkl\", 'rb') as f:\n",
    "    gene_names = pickle.load(f)\n",
    "\n",
    "gf_gene_emb = pd.DataFrame(gf_gene_emb, index=gene_names)\n",
    "\n",
    "with open(\"../../case/result/zero-shot/\"+\"scb_gene_emb.pkl\", 'rb') as f:\n",
    "    scb_gene_emb = pickle.load(f)\n",
    "    \n",
    "with open(\"../../case/result/zero-shot/\"+\"scb_gene_names.pkl\", 'rb') as f:\n",
    "    gene_names = pickle.load(f)\n",
    "\n",
    "scb_gene_emb = pd.DataFrame(scb_gene_emb, index=gene_names)\n",
    "\n",
    "with open(\"../../case/result/zero-shot/\"+\"mamba_gene_emb.pkl\", 'rb') as f:\n",
    "    mamba_gene_emb = pickle.load(f)\n",
    "    \n",
    "with open(\"../../case/result/zero-shot/\"+\"mamba_gene_names.pkl\", 'rb') as f:\n",
    "    gene_names = pickle.load(f)\n",
    "\n",
    "mamba_gene_emb = pd.DataFrame(mamba_gene_emb, index=gene_names)\n",
    "\n",
    "with open(\"../../case/result/zero-shot/\"+\"scg_gene_emb.pkl\", 'rb') as f:\n",
    "    scg_gene_emb = pickle.load(f)\n",
    "    \n",
    "with open(\"../../case/result/zero-shot/\"+\"scg_gene_names.pkl\", 'rb') as f:\n",
    "    gene_names = pickle.load(f)\n",
    "\n",
    "scg_gene_emb = pd.DataFrame(scg_gene_emb, index=gene_names)\n",
    "\n",
    "with open(\"../../case/result/zero-shot/\"+\"scf_gene_emb.pkl\", 'rb') as f:\n",
    "    scf_gene_emb = pickle.load(f)\n",
    "    \n",
    "with open(\"../../case/result/zero-shot/\"+\"scf_gene_names.pkl\", 'rb') as f:\n",
    "    gene_names = pickle.load(f)\n",
    "\n",
    "scf_gene_emb = pd.DataFrame(scf_gene_emb, index=gene_names)"
   ],
   "metadata": {
    "collapsed": false,
    "ExecuteTime": {
     "end_time": "2024-06-19T02:31:54.120293400Z",
     "start_time": "2024-06-19T02:31:54.072663300Z"
    }
   },
   "id": "4f254311d42e3532",
   "execution_count": 8
  },
  {
   "cell_type": "code",
   "outputs": [
    {
     "name": "stderr",
     "output_type": "stream",
     "text": [
      "/home/share/huadjyin/home/s_huluni/anaconda3/envs/py39_torch/lib/python3.9/site-packages/pandas/core/algorithms.py:522: DeprecationWarning: np.find_common_type is deprecated.  Please use `np.result_type` or `np.promote_types`.\n",
      "See https://numpy.org/devdocs/release/1.25.0-notes.html and the docs for more information.  (Deprecated NumPy 1.25)\n",
      "  common = np.find_common_type([values.dtype, comps_array.dtype], [])\n"
     ]
    }
   ],
   "source": [
    "import numpy as np\n",
    "import pandas as pd\n",
    "import json\n",
    "\n",
    "emb = np.load(\"/home/share/huadjyin/home/s_qiuping1/workspace/omics_model/bio_model/biollm/case/models/scbert/gene2vec_16906.npy\")\n",
    "\n",
    "with open('/home/share/huadjyin/home/s_qiuping1/workspace/omics_model/bio_model/biollm/case/models/scbert/gene_vocab.json', 'r') as f:\n",
    "    vocab = json.load(f)\n",
    "\n",
    "gene2vec_emb = pd.DataFrame(emb, index = list(vocab.keys()))\n",
    "gene2vec_emb = gene2vec_emb.loc[gene2vec_emb.index.isin(adata.var_names), :]"
   ],
   "metadata": {
    "collapsed": false,
    "ExecuteTime": {
     "end_time": "2024-06-19T03:13:13.836880300Z",
     "start_time": "2024-06-19T03:13:13.787914900Z"
    }
   },
   "id": "d65d6ec5219c8bb6",
   "execution_count": 21
  },
  {
   "cell_type": "code",
   "outputs": [],
   "source": [
    "emb_dict = {\"scFoundation\":scf_gene_emb,\n",
    "            \"scBERT\":scb_gene_emb,\n",
    "            \"scGPT\":scg_gene_emb,\n",
    "            \"scMamba\":mamba_gene_emb,\n",
    "            \"GeneFormer\":gf_gene_emb,\n",
    "            \"PCA\":pca_gene_emb,\n",
    "            'gene2vec': gene2vec_emb\n",
    "            }"
   ],
   "metadata": {
    "collapsed": false,
    "ExecuteTime": {
     "end_time": "2024-06-19T03:16:41.278642200Z",
     "start_time": "2024-06-19T03:16:41.276370100Z"
    }
   },
   "id": "69fbcbbd93d4f3a9",
   "execution_count": 27
  },
  {
   "cell_type": "code",
   "outputs": [
    {
     "name": "stderr",
     "output_type": "stream",
     "text": [
      "/home/share/huadjyin/home/s_huluni/anaconda3/envs/py39_torch/lib/python3.9/site-packages/pandas/io/parsers/c_parser_wrapper.py:373: DeprecationWarning: np.find_common_type is deprecated.  Please use `np.result_type` or `np.promote_types`.\n",
      "See https://numpy.org/devdocs/release/1.25.0-notes.html and the docs for more information.  (Deprecated NumPy 1.25)\n",
      "  common_type = np.find_common_type(\n",
      "/tmp/ipykernel_408806/3569791768.py:58: DtypeWarning: Columns (4) have mixed types. Specify dtype option on import or set low_memory=False.\n",
      "  motif_df = pd.read_csv(\"/home/share/huadjyin/home/s_huluni/project/bio_model/biollm/case/ref/motifs-v9-nr.hgnc-m0.001-o0.0.tbl\", sep='\\t', index_col=0)\n",
      "/home/share/huadjyin/home/s_huluni/anaconda3/envs/py39_torch/lib/python3.9/site-packages/pandas/core/algorithms.py:522: DeprecationWarning: np.find_common_type is deprecated.  Please use `np.result_type` or `np.promote_types`.\n",
      "See https://numpy.org/devdocs/release/1.25.0-notes.html and the docs for more information.  (Deprecated NumPy 1.25)\n",
      "  common = np.find_common_type([values.dtype, comps_array.dtype], [])\n",
      "/home/share/huadjyin/home/s_huluni/anaconda3/envs/py39_torch/lib/python3.9/site-packages/pandas/core/algorithms.py:522: DeprecationWarning: np.find_common_type is deprecated.  Please use `np.result_type` or `np.promote_types`.\n",
      "See https://numpy.org/devdocs/release/1.25.0-notes.html and the docs for more information.  (Deprecated NumPy 1.25)\n",
      "  common = np.find_common_type([values.dtype, comps_array.dtype], [])\n",
      "Processing TFs: 100%|██████████| 1447/1447 [00:01<00:00, 1361.47it/s]\n",
      "/home/share/huadjyin/home/s_huluni/anaconda3/envs/py39_torch/lib/python3.9/site-packages/pandas/core/algorithms.py:522: DeprecationWarning: np.find_common_type is deprecated.  Please use `np.result_type` or `np.promote_types`.\n",
      "See https://numpy.org/devdocs/release/1.25.0-notes.html and the docs for more information.  (Deprecated NumPy 1.25)\n",
      "  common = np.find_common_type([values.dtype, comps_array.dtype], [])\n"
     ]
    },
    {
     "name": "stdout",
     "output_type": "stream",
     "text": [
      "((144700, 2), 11344)\n"
     ]
    },
    {
     "name": "stderr",
     "output_type": "stream",
     "text": [
      "/home/share/huadjyin/home/s_huluni/anaconda3/envs/py39_torch/lib/python3.9/site-packages/pandas/io/parsers/c_parser_wrapper.py:373: DeprecationWarning: np.find_common_type is deprecated.  Please use `np.result_type` or `np.promote_types`.\n",
      "See https://numpy.org/devdocs/release/1.25.0-notes.html and the docs for more information.  (Deprecated NumPy 1.25)\n",
      "  common_type = np.find_common_type(\n",
      "/tmp/ipykernel_408806/3569791768.py:58: DtypeWarning: Columns (4) have mixed types. Specify dtype option on import or set low_memory=False.\n",
      "  motif_df = pd.read_csv(\"/home/share/huadjyin/home/s_huluni/project/bio_model/biollm/case/ref/motifs-v9-nr.hgnc-m0.001-o0.0.tbl\", sep='\\t', index_col=0)\n",
      "/home/share/huadjyin/home/s_huluni/anaconda3/envs/py39_torch/lib/python3.9/site-packages/pandas/core/algorithms.py:522: DeprecationWarning: np.find_common_type is deprecated.  Please use `np.result_type` or `np.promote_types`.\n",
      "See https://numpy.org/devdocs/release/1.25.0-notes.html and the docs for more information.  (Deprecated NumPy 1.25)\n",
      "  common = np.find_common_type([values.dtype, comps_array.dtype], [])\n",
      "/home/share/huadjyin/home/s_huluni/anaconda3/envs/py39_torch/lib/python3.9/site-packages/pandas/core/algorithms.py:522: DeprecationWarning: np.find_common_type is deprecated.  Please use `np.result_type` or `np.promote_types`.\n",
      "See https://numpy.org/devdocs/release/1.25.0-notes.html and the docs for more information.  (Deprecated NumPy 1.25)\n",
      "  common = np.find_common_type([values.dtype, comps_array.dtype], [])\n",
      "Processing TFs: 100%|██████████| 1447/1447 [00:01<00:00, 1399.80it/s]\n",
      "/home/share/huadjyin/home/s_huluni/anaconda3/envs/py39_torch/lib/python3.9/site-packages/pandas/core/algorithms.py:522: DeprecationWarning: np.find_common_type is deprecated.  Please use `np.result_type` or `np.promote_types`.\n",
      "See https://numpy.org/devdocs/release/1.25.0-notes.html and the docs for more information.  (Deprecated NumPy 1.25)\n",
      "  common = np.find_common_type([values.dtype, comps_array.dtype], [])\n"
     ]
    },
    {
     "name": "stdout",
     "output_type": "stream",
     "text": [
      "((144700, 2), 10777)\n"
     ]
    },
    {
     "name": "stderr",
     "output_type": "stream",
     "text": [
      "/home/share/huadjyin/home/s_huluni/anaconda3/envs/py39_torch/lib/python3.9/site-packages/pandas/io/parsers/c_parser_wrapper.py:373: DeprecationWarning: np.find_common_type is deprecated.  Please use `np.result_type` or `np.promote_types`.\n",
      "See https://numpy.org/devdocs/release/1.25.0-notes.html and the docs for more information.  (Deprecated NumPy 1.25)\n",
      "  common_type = np.find_common_type(\n",
      "/tmp/ipykernel_408806/3569791768.py:58: DtypeWarning: Columns (4) have mixed types. Specify dtype option on import or set low_memory=False.\n",
      "  motif_df = pd.read_csv(\"/home/share/huadjyin/home/s_huluni/project/bio_model/biollm/case/ref/motifs-v9-nr.hgnc-m0.001-o0.0.tbl\", sep='\\t', index_col=0)\n",
      "/home/share/huadjyin/home/s_huluni/anaconda3/envs/py39_torch/lib/python3.9/site-packages/pandas/core/algorithms.py:522: DeprecationWarning: np.find_common_type is deprecated.  Please use `np.result_type` or `np.promote_types`.\n",
      "See https://numpy.org/devdocs/release/1.25.0-notes.html and the docs for more information.  (Deprecated NumPy 1.25)\n",
      "  common = np.find_common_type([values.dtype, comps_array.dtype], [])\n",
      "/home/share/huadjyin/home/s_huluni/anaconda3/envs/py39_torch/lib/python3.9/site-packages/pandas/core/algorithms.py:522: DeprecationWarning: np.find_common_type is deprecated.  Please use `np.result_type` or `np.promote_types`.\n",
      "See https://numpy.org/devdocs/release/1.25.0-notes.html and the docs for more information.  (Deprecated NumPy 1.25)\n",
      "  common = np.find_common_type([values.dtype, comps_array.dtype], [])\n",
      "Processing TFs: 100%|██████████| 1447/1447 [00:01<00:00, 1407.50it/s]\n",
      "/home/share/huadjyin/home/s_huluni/anaconda3/envs/py39_torch/lib/python3.9/site-packages/pandas/core/algorithms.py:522: DeprecationWarning: np.find_common_type is deprecated.  Please use `np.result_type` or `np.promote_types`.\n",
      "See https://numpy.org/devdocs/release/1.25.0-notes.html and the docs for more information.  (Deprecated NumPy 1.25)\n",
      "  common = np.find_common_type([values.dtype, comps_array.dtype], [])\n"
     ]
    },
    {
     "name": "stdout",
     "output_type": "stream",
     "text": [
      "((144700, 2), 8744)\n"
     ]
    },
    {
     "name": "stderr",
     "output_type": "stream",
     "text": [
      "/home/share/huadjyin/home/s_huluni/anaconda3/envs/py39_torch/lib/python3.9/site-packages/pandas/io/parsers/c_parser_wrapper.py:373: DeprecationWarning: np.find_common_type is deprecated.  Please use `np.result_type` or `np.promote_types`.\n",
      "See https://numpy.org/devdocs/release/1.25.0-notes.html and the docs for more information.  (Deprecated NumPy 1.25)\n",
      "  common_type = np.find_common_type(\n",
      "/tmp/ipykernel_408806/3569791768.py:58: DtypeWarning: Columns (4) have mixed types. Specify dtype option on import or set low_memory=False.\n",
      "  motif_df = pd.read_csv(\"/home/share/huadjyin/home/s_huluni/project/bio_model/biollm/case/ref/motifs-v9-nr.hgnc-m0.001-o0.0.tbl\", sep='\\t', index_col=0)\n",
      "/home/share/huadjyin/home/s_huluni/anaconda3/envs/py39_torch/lib/python3.9/site-packages/pandas/core/algorithms.py:522: DeprecationWarning: np.find_common_type is deprecated.  Please use `np.result_type` or `np.promote_types`.\n",
      "See https://numpy.org/devdocs/release/1.25.0-notes.html and the docs for more information.  (Deprecated NumPy 1.25)\n",
      "  common = np.find_common_type([values.dtype, comps_array.dtype], [])\n",
      "/home/share/huadjyin/home/s_huluni/anaconda3/envs/py39_torch/lib/python3.9/site-packages/pandas/core/algorithms.py:522: DeprecationWarning: np.find_common_type is deprecated.  Please use `np.result_type` or `np.promote_types`.\n",
      "See https://numpy.org/devdocs/release/1.25.0-notes.html and the docs for more information.  (Deprecated NumPy 1.25)\n",
      "  common = np.find_common_type([values.dtype, comps_array.dtype], [])\n",
      "Processing TFs: 100%|██████████| 1447/1447 [00:01<00:00, 1369.22it/s]\n",
      "/home/share/huadjyin/home/s_huluni/anaconda3/envs/py39_torch/lib/python3.9/site-packages/pandas/core/algorithms.py:522: DeprecationWarning: np.find_common_type is deprecated.  Please use `np.result_type` or `np.promote_types`.\n",
      "See https://numpy.org/devdocs/release/1.25.0-notes.html and the docs for more information.  (Deprecated NumPy 1.25)\n",
      "  common = np.find_common_type([values.dtype, comps_array.dtype], [])\n"
     ]
    },
    {
     "name": "stdout",
     "output_type": "stream",
     "text": [
      "((144700, 2), 8852)\n"
     ]
    },
    {
     "name": "stderr",
     "output_type": "stream",
     "text": [
      "/home/share/huadjyin/home/s_huluni/anaconda3/envs/py39_torch/lib/python3.9/site-packages/pandas/io/parsers/c_parser_wrapper.py:373: DeprecationWarning: np.find_common_type is deprecated.  Please use `np.result_type` or `np.promote_types`.\n",
      "See https://numpy.org/devdocs/release/1.25.0-notes.html and the docs for more information.  (Deprecated NumPy 1.25)\n",
      "  common_type = np.find_common_type(\n",
      "/tmp/ipykernel_408806/3569791768.py:58: DtypeWarning: Columns (4) have mixed types. Specify dtype option on import or set low_memory=False.\n",
      "  motif_df = pd.read_csv(\"/home/share/huadjyin/home/s_huluni/project/bio_model/biollm/case/ref/motifs-v9-nr.hgnc-m0.001-o0.0.tbl\", sep='\\t', index_col=0)\n",
      "/home/share/huadjyin/home/s_huluni/anaconda3/envs/py39_torch/lib/python3.9/site-packages/pandas/core/algorithms.py:522: DeprecationWarning: np.find_common_type is deprecated.  Please use `np.result_type` or `np.promote_types`.\n",
      "See https://numpy.org/devdocs/release/1.25.0-notes.html and the docs for more information.  (Deprecated NumPy 1.25)\n",
      "  common = np.find_common_type([values.dtype, comps_array.dtype], [])\n",
      "/home/share/huadjyin/home/s_huluni/anaconda3/envs/py39_torch/lib/python3.9/site-packages/pandas/core/algorithms.py:522: DeprecationWarning: np.find_common_type is deprecated.  Please use `np.result_type` or `np.promote_types`.\n",
      "See https://numpy.org/devdocs/release/1.25.0-notes.html and the docs for more information.  (Deprecated NumPy 1.25)\n",
      "  common = np.find_common_type([values.dtype, comps_array.dtype], [])\n",
      "Processing TFs: 100%|██████████| 1447/1447 [00:01<00:00, 1379.25it/s]\n",
      "/home/share/huadjyin/home/s_huluni/anaconda3/envs/py39_torch/lib/python3.9/site-packages/pandas/core/algorithms.py:522: DeprecationWarning: np.find_common_type is deprecated.  Please use `np.result_type` or `np.promote_types`.\n",
      "See https://numpy.org/devdocs/release/1.25.0-notes.html and the docs for more information.  (Deprecated NumPy 1.25)\n",
      "  common = np.find_common_type([values.dtype, comps_array.dtype], [])\n"
     ]
    },
    {
     "name": "stdout",
     "output_type": "stream",
     "text": [
      "((144700, 2), 10176)\n"
     ]
    },
    {
     "name": "stderr",
     "output_type": "stream",
     "text": [
      "/home/share/huadjyin/home/s_huluni/anaconda3/envs/py39_torch/lib/python3.9/site-packages/pandas/io/parsers/c_parser_wrapper.py:373: DeprecationWarning: np.find_common_type is deprecated.  Please use `np.result_type` or `np.promote_types`.\n",
      "See https://numpy.org/devdocs/release/1.25.0-notes.html and the docs for more information.  (Deprecated NumPy 1.25)\n",
      "  common_type = np.find_common_type(\n",
      "/tmp/ipykernel_408806/3569791768.py:58: DtypeWarning: Columns (4) have mixed types. Specify dtype option on import or set low_memory=False.\n",
      "  motif_df = pd.read_csv(\"/home/share/huadjyin/home/s_huluni/project/bio_model/biollm/case/ref/motifs-v9-nr.hgnc-m0.001-o0.0.tbl\", sep='\\t', index_col=0)\n",
      "/home/share/huadjyin/home/s_huluni/anaconda3/envs/py39_torch/lib/python3.9/site-packages/pandas/core/algorithms.py:522: DeprecationWarning: np.find_common_type is deprecated.  Please use `np.result_type` or `np.promote_types`.\n",
      "See https://numpy.org/devdocs/release/1.25.0-notes.html and the docs for more information.  (Deprecated NumPy 1.25)\n",
      "  common = np.find_common_type([values.dtype, comps_array.dtype], [])\n",
      "/home/share/huadjyin/home/s_huluni/anaconda3/envs/py39_torch/lib/python3.9/site-packages/pandas/core/algorithms.py:522: DeprecationWarning: np.find_common_type is deprecated.  Please use `np.result_type` or `np.promote_types`.\n",
      "See https://numpy.org/devdocs/release/1.25.0-notes.html and the docs for more information.  (Deprecated NumPy 1.25)\n",
      "  common = np.find_common_type([values.dtype, comps_array.dtype], [])\n",
      "Processing TFs: 100%|██████████| 1450/1450 [00:01<00:00, 1357.63it/s]\n",
      "/home/share/huadjyin/home/s_huluni/anaconda3/envs/py39_torch/lib/python3.9/site-packages/pandas/core/algorithms.py:522: DeprecationWarning: np.find_common_type is deprecated.  Please use `np.result_type` or `np.promote_types`.\n",
      "See https://numpy.org/devdocs/release/1.25.0-notes.html and the docs for more information.  (Deprecated NumPy 1.25)\n",
      "  common = np.find_common_type([values.dtype, comps_array.dtype], [])\n"
     ]
    },
    {
     "name": "stdout",
     "output_type": "stream",
     "text": [
      "((145000, 2), 7855)\n"
     ]
    },
    {
     "name": "stderr",
     "output_type": "stream",
     "text": [
      "/home/share/huadjyin/home/s_huluni/anaconda3/envs/py39_torch/lib/python3.9/site-packages/pandas/io/parsers/c_parser_wrapper.py:373: DeprecationWarning: np.find_common_type is deprecated.  Please use `np.result_type` or `np.promote_types`.\n",
      "See https://numpy.org/devdocs/release/1.25.0-notes.html and the docs for more information.  (Deprecated NumPy 1.25)\n",
      "  common_type = np.find_common_type(\n",
      "/tmp/ipykernel_408806/3569791768.py:58: DtypeWarning: Columns (4) have mixed types. Specify dtype option on import or set low_memory=False.\n",
      "  motif_df = pd.read_csv(\"/home/share/huadjyin/home/s_huluni/project/bio_model/biollm/case/ref/motifs-v9-nr.hgnc-m0.001-o0.0.tbl\", sep='\\t', index_col=0)\n",
      "/home/share/huadjyin/home/s_huluni/anaconda3/envs/py39_torch/lib/python3.9/site-packages/pandas/core/algorithms.py:522: DeprecationWarning: np.find_common_type is deprecated.  Please use `np.result_type` or `np.promote_types`.\n",
      "See https://numpy.org/devdocs/release/1.25.0-notes.html and the docs for more information.  (Deprecated NumPy 1.25)\n",
      "  common = np.find_common_type([values.dtype, comps_array.dtype], [])\n",
      "/home/share/huadjyin/home/s_huluni/anaconda3/envs/py39_torch/lib/python3.9/site-packages/pandas/core/algorithms.py:522: DeprecationWarning: np.find_common_type is deprecated.  Please use `np.result_type` or `np.promote_types`.\n",
      "See https://numpy.org/devdocs/release/1.25.0-notes.html and the docs for more information.  (Deprecated NumPy 1.25)\n",
      "  common = np.find_common_type([values.dtype, comps_array.dtype], [])\n",
      "Processing TFs: 100%|██████████| 1447/1447 [00:01<00:00, 1430.16it/s]\n"
     ]
    },
    {
     "name": "stdout",
     "output_type": "stream",
     "text": [
      "((144700, 2), 11351)\n"
     ]
    },
    {
     "name": "stderr",
     "output_type": "stream",
     "text": [
      "/home/share/huadjyin/home/s_huluni/anaconda3/envs/py39_torch/lib/python3.9/site-packages/pandas/core/algorithms.py:522: DeprecationWarning: np.find_common_type is deprecated.  Please use `np.result_type` or `np.promote_types`.\n",
      "See https://numpy.org/devdocs/release/1.25.0-notes.html and the docs for more information.  (Deprecated NumPy 1.25)\n",
      "  common = np.find_common_type([values.dtype, comps_array.dtype], [])\n"
     ]
    }
   ],
   "source": [
    "eval_model = {}\n",
    "\n",
    "for k, v in emb_dict.items():\n",
    "    edge_df = construct_grn_graph(v)\n",
    "    eval_res = grn_eval(edge_df)\n",
    "    eval_res = {\"AUPRC\":eval_res[4], \"AUROC\":eval_res[5]}\n",
    "    eval_model.update({k:eval_res})"
   ],
   "metadata": {
    "collapsed": false,
    "ExecuteTime": {
     "end_time": "2024-06-19T03:17:20.111517500Z",
     "start_time": "2024-06-19T03:16:43.039876500Z"
    }
   },
   "id": "3bdfbee16e0ebcec",
   "execution_count": 28
  },
  {
   "cell_type": "code",
   "outputs": [
    {
     "data": {
      "text/plain": "{'scFoundation': {'AUPRC': 0.5261585299286594, 'AUROC': 0.501907394609537},\n 'scBERT': {'AUPRC': 0.6585250580676206, 'AUROC': 0.5387906012439531},\n 'scGPT': {'AUPRC': 0.5858104346880412, 'AUROC': 0.5161161022805805},\n 'scMamba': {'AUPRC': 0.560668166463734, 'AUROC': 0.510463026952315},\n 'GeneFormer': {'AUPRC': 0.5631247011817987, 'AUROC': 0.511969592259848},\n 'PCA': {'AUPRC': 0.564037358150969, 'AUROC': 0.5103793103448275},\n 'gene2vec': {'AUPRC': 0.5967821746462093, 'AUROC': 0.5224533517622668}}"
     },
     "execution_count": 29,
     "metadata": {},
     "output_type": "execute_result"
    }
   ],
   "source": [
    "eval_model"
   ],
   "metadata": {
    "collapsed": false,
    "ExecuteTime": {
     "end_time": "2024-06-19T03:17:50.872340200Z",
     "start_time": "2024-06-19T03:17:50.855640800Z"
    }
   },
   "id": "b6f6b3e186403ec8",
   "execution_count": 29
  },
  {
   "cell_type": "code",
   "outputs": [],
   "source": [
    "import pickle\n",
    "\n",
    "pkl_file = \"/home/share/huadjyin/home/s_huluni/project/bio_model/biollm/biollm/evaluate/gene_setinfo.pkl\"\n",
    "# Load the pickle file\n",
    "with open(pkl_file, \"rb\") as file:\n",
    "    gene_pw_dict = pickle.load(file)"
   ],
   "metadata": {
    "collapsed": false,
    "ExecuteTime": {
     "end_time": "2024-06-19T03:23:37.219751900Z",
     "start_time": "2024-06-19T03:23:36.866375400Z"
    }
   },
   "id": "d41e19e086b0d34c",
   "execution_count": 30
  },
  {
   "cell_type": "code",
   "outputs": [],
   "source": [
    "from biollm.evaluate.bm_metrices_grn import evaluate\n",
    "import networkx as nx\n",
    "eval_res = {}\n",
    "for k, v in emb_dict.items():\n",
    "    edge_df = construct_grn_graph(v)\n",
    "    g = nx.from_pandas_edgelist(edge_df, source=\"Gene1\", target=\"Gene2\")\n",
    "    res = evaluate(g, gene_pw_dict)\n",
    "    eval_res.update({k:res})"
   ],
   "metadata": {
    "collapsed": false,
    "ExecuteTime": {
     "end_time": "2024-06-19T03:24:10.889989300Z",
     "start_time": "2024-06-19T03:23:38.778938800Z"
    }
   },
   "id": "613c2c85ac426b7a",
   "execution_count": 31
  },
  {
   "cell_type": "code",
   "outputs": [
    {
     "data": {
      "text/plain": "{'scFoundation': {'Modularity': 0.367546966266302,\n  'Biological Index': 0.02107849522249016},\n 'scBERT': {'Modularity': 0.3777987695897467,\n  'Biological Index': 0.02106492046029973},\n 'scGPT': {'Modularity': 0.5214893246362132,\n  'Biological Index': 0.07417045168765554},\n 'scMamba': {'Modularity': 0.6419021133541871,\n  'Biological Index': 0.08803182961457973},\n 'GeneFormer': {'Modularity': 0.19107282576386592,\n  'Biological Index': 0.019754984032642676},\n 'PCA': {'Modularity': 0.322332363133518,\n  'Biological Index': 0.04959567069421787},\n 'gene2vec': {'Modularity': 0.3825188901280674,\n  'Biological Index': 0.023186796660255565}}"
     },
     "execution_count": 32,
     "metadata": {},
     "output_type": "execute_result"
    }
   ],
   "source": [
    "eval_res"
   ],
   "metadata": {
    "collapsed": false,
    "ExecuteTime": {
     "end_time": "2024-06-19T03:24:10.894158700Z",
     "start_time": "2024-06-19T03:24:10.889989300Z"
    }
   },
   "id": "6ecfbcdef53abb9e",
   "execution_count": 32
  }
 ],
 "metadata": {
  "kernelspec": {
   "display_name": "Python 3",
   "language": "python",
   "name": "python3"
  },
  "language_info": {
   "codemirror_mode": {
    "name": "ipython",
    "version": 2
   },
   "file_extension": ".py",
   "mimetype": "text/x-python",
   "name": "python",
   "nbconvert_exporter": "python",
   "pygments_lexer": "ipython2",
   "version": "2.7.6"
  }
 },
 "nbformat": 4,
 "nbformat_minor": 5
}
