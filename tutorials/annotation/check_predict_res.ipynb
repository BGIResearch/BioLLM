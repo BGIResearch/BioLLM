{
 "cells": [
  {
   "cell_type": "markdown",
   "source": [
    "# scbert"
   ],
   "metadata": {
    "collapsed": false
   },
   "id": "996b3e5e31b32fdd"
  },
  {
   "cell_type": "code",
   "outputs": [
    {
     "name": "stderr",
     "output_type": "stream",
     "text": [
      "2024-07-24 16:59:36-load_llm[line-50]-INFO: Loading params token_emb.weight with shape torch.Size([7, 200])\n",
      "2024-07-24 16:59:36-load_llm[line-50]-INFO: Loading params pos_emb.emb.weight with shape torch.Size([16907, 200])\n",
      "2024-07-24 16:59:36-load_llm[line-50]-INFO: Loading params performer.calls_since_last_redraw with shape torch.Size([])\n",
      "2024-07-24 16:59:36-load_llm[line-50]-INFO: Loading params performer.net.layers.0.0.norm.weight with shape torch.Size([200])\n",
      "2024-07-24 16:59:36-load_llm[line-50]-INFO: Loading params performer.net.layers.0.0.norm.bias with shape torch.Size([200])\n",
      "2024-07-24 16:59:36-load_llm[line-50]-INFO: Loading params performer.net.layers.0.0.fn.fast_attention.projection_matrix with shape torch.Size([266, 64])\n",
      "2024-07-24 16:59:36-load_llm[line-50]-INFO: Loading params performer.net.layers.0.0.fn.to_q.weight with shape torch.Size([640, 200])\n",
      "2024-07-24 16:59:36-load_llm[line-50]-INFO: Loading params performer.net.layers.0.0.fn.to_k.weight with shape torch.Size([640, 200])\n",
      "2024-07-24 16:59:36-load_llm[line-50]-INFO: Loading params performer.net.layers.0.0.fn.to_v.weight with shape torch.Size([640, 200])\n",
      "2024-07-24 16:59:36-load_llm[line-50]-INFO: Loading params performer.net.layers.0.0.fn.to_out.weight with shape torch.Size([200, 640])\n",
      "2024-07-24 16:59:36-load_llm[line-50]-INFO: Loading params performer.net.layers.0.0.fn.to_out.bias with shape torch.Size([200])\n",
      "2024-07-24 16:59:36-load_llm[line-50]-INFO: Loading params performer.net.layers.0.1.norm.weight with shape torch.Size([200])\n",
      "2024-07-24 16:59:36-load_llm[line-50]-INFO: Loading params performer.net.layers.0.1.norm.bias with shape torch.Size([200])\n",
      "2024-07-24 16:59:36-load_llm[line-50]-INFO: Loading params performer.net.layers.0.1.fn.fn.w1.weight with shape torch.Size([800, 200])\n",
      "2024-07-24 16:59:36-load_llm[line-50]-INFO: Loading params performer.net.layers.0.1.fn.fn.w1.bias with shape torch.Size([800])\n",
      "2024-07-24 16:59:36-load_llm[line-50]-INFO: Loading params performer.net.layers.0.1.fn.fn.w2.weight with shape torch.Size([200, 800])\n",
      "2024-07-24 16:59:36-load_llm[line-50]-INFO: Loading params performer.net.layers.0.1.fn.fn.w2.bias with shape torch.Size([200])\n",
      "2024-07-24 16:59:36-load_llm[line-50]-INFO: Loading params performer.net.layers.1.0.norm.weight with shape torch.Size([200])\n",
      "2024-07-24 16:59:36-load_llm[line-50]-INFO: Loading params performer.net.layers.1.0.norm.bias with shape torch.Size([200])\n",
      "2024-07-24 16:59:36-load_llm[line-50]-INFO: Loading params performer.net.layers.1.0.fn.fast_attention.projection_matrix with shape torch.Size([266, 64])\n",
      "2024-07-24 16:59:36-load_llm[line-50]-INFO: Loading params performer.net.layers.1.0.fn.to_q.weight with shape torch.Size([640, 200])\n",
      "2024-07-24 16:59:36-load_llm[line-50]-INFO: Loading params performer.net.layers.1.0.fn.to_k.weight with shape torch.Size([640, 200])\n",
      "2024-07-24 16:59:36-load_llm[line-50]-INFO: Loading params performer.net.layers.1.0.fn.to_v.weight with shape torch.Size([640, 200])\n",
      "2024-07-24 16:59:36-load_llm[line-50]-INFO: Loading params performer.net.layers.1.0.fn.to_out.weight with shape torch.Size([200, 640])\n",
      "2024-07-24 16:59:36-load_llm[line-50]-INFO: Loading params performer.net.layers.1.0.fn.to_out.bias with shape torch.Size([200])\n",
      "2024-07-24 16:59:36-load_llm[line-50]-INFO: Loading params performer.net.layers.1.1.norm.weight with shape torch.Size([200])\n",
      "2024-07-24 16:59:36-load_llm[line-50]-INFO: Loading params performer.net.layers.1.1.norm.bias with shape torch.Size([200])\n",
      "2024-07-24 16:59:36-load_llm[line-50]-INFO: Loading params performer.net.layers.1.1.fn.fn.w1.weight with shape torch.Size([800, 200])\n",
      "2024-07-24 16:59:36-load_llm[line-50]-INFO: Loading params performer.net.layers.1.1.fn.fn.w1.bias with shape torch.Size([800])\n",
      "2024-07-24 16:59:36-load_llm[line-50]-INFO: Loading params performer.net.layers.1.1.fn.fn.w2.weight with shape torch.Size([200, 800])\n",
      "2024-07-24 16:59:36-load_llm[line-50]-INFO: Loading params performer.net.layers.1.1.fn.fn.w2.bias with shape torch.Size([200])\n",
      "2024-07-24 16:59:36-load_llm[line-50]-INFO: Loading params performer.net.layers.2.0.norm.weight with shape torch.Size([200])\n",
      "2024-07-24 16:59:36-load_llm[line-50]-INFO: Loading params performer.net.layers.2.0.norm.bias with shape torch.Size([200])\n",
      "2024-07-24 16:59:36-load_llm[line-50]-INFO: Loading params performer.net.layers.2.0.fn.fast_attention.projection_matrix with shape torch.Size([266, 64])\n",
      "2024-07-24 16:59:36-load_llm[line-50]-INFO: Loading params performer.net.layers.2.0.fn.to_q.weight with shape torch.Size([640, 200])\n",
      "2024-07-24 16:59:36-load_llm[line-50]-INFO: Loading params performer.net.layers.2.0.fn.to_k.weight with shape torch.Size([640, 200])\n",
      "2024-07-24 16:59:36-load_llm[line-50]-INFO: Loading params performer.net.layers.2.0.fn.to_v.weight with shape torch.Size([640, 200])\n",
      "2024-07-24 16:59:36-load_llm[line-50]-INFO: Loading params performer.net.layers.2.0.fn.to_out.weight with shape torch.Size([200, 640])\n",
      "2024-07-24 16:59:36-load_llm[line-50]-INFO: Loading params performer.net.layers.2.0.fn.to_out.bias with shape torch.Size([200])\n",
      "2024-07-24 16:59:36-load_llm[line-50]-INFO: Loading params performer.net.layers.2.1.norm.weight with shape torch.Size([200])\n",
      "2024-07-24 16:59:36-load_llm[line-50]-INFO: Loading params performer.net.layers.2.1.norm.bias with shape torch.Size([200])\n",
      "2024-07-24 16:59:36-load_llm[line-50]-INFO: Loading params performer.net.layers.2.1.fn.fn.w1.weight with shape torch.Size([800, 200])\n",
      "2024-07-24 16:59:36-load_llm[line-50]-INFO: Loading params performer.net.layers.2.1.fn.fn.w1.bias with shape torch.Size([800])\n",
      "2024-07-24 16:59:36-load_llm[line-50]-INFO: Loading params performer.net.layers.2.1.fn.fn.w2.weight with shape torch.Size([200, 800])\n",
      "2024-07-24 16:59:36-load_llm[line-50]-INFO: Loading params performer.net.layers.2.1.fn.fn.w2.bias with shape torch.Size([200])\n",
      "2024-07-24 16:59:36-load_llm[line-50]-INFO: Loading params performer.net.layers.3.0.norm.weight with shape torch.Size([200])\n",
      "2024-07-24 16:59:36-load_llm[line-50]-INFO: Loading params performer.net.layers.3.0.norm.bias with shape torch.Size([200])\n",
      "2024-07-24 16:59:36-load_llm[line-50]-INFO: Loading params performer.net.layers.3.0.fn.fast_attention.projection_matrix with shape torch.Size([266, 64])\n",
      "2024-07-24 16:59:36-load_llm[line-50]-INFO: Loading params performer.net.layers.3.0.fn.to_q.weight with shape torch.Size([640, 200])\n",
      "2024-07-24 16:59:36-load_llm[line-50]-INFO: Loading params performer.net.layers.3.0.fn.to_k.weight with shape torch.Size([640, 200])\n",
      "2024-07-24 16:59:36-load_llm[line-50]-INFO: Loading params performer.net.layers.3.0.fn.to_v.weight with shape torch.Size([640, 200])\n",
      "2024-07-24 16:59:36-load_llm[line-50]-INFO: Loading params performer.net.layers.3.0.fn.to_out.weight with shape torch.Size([200, 640])\n",
      "2024-07-24 16:59:36-load_llm[line-50]-INFO: Loading params performer.net.layers.3.0.fn.to_out.bias with shape torch.Size([200])\n",
      "2024-07-24 16:59:36-load_llm[line-50]-INFO: Loading params performer.net.layers.3.1.norm.weight with shape torch.Size([200])\n",
      "2024-07-24 16:59:36-load_llm[line-50]-INFO: Loading params performer.net.layers.3.1.norm.bias with shape torch.Size([200])\n",
      "2024-07-24 16:59:36-load_llm[line-50]-INFO: Loading params performer.net.layers.3.1.fn.fn.w1.weight with shape torch.Size([800, 200])\n",
      "2024-07-24 16:59:36-load_llm[line-50]-INFO: Loading params performer.net.layers.3.1.fn.fn.w1.bias with shape torch.Size([800])\n",
      "2024-07-24 16:59:36-load_llm[line-50]-INFO: Loading params performer.net.layers.3.1.fn.fn.w2.weight with shape torch.Size([200, 800])\n",
      "2024-07-24 16:59:36-load_llm[line-50]-INFO: Loading params performer.net.layers.3.1.fn.fn.w2.bias with shape torch.Size([200])\n",
      "2024-07-24 16:59:36-load_llm[line-50]-INFO: Loading params performer.net.layers.4.0.norm.weight with shape torch.Size([200])\n",
      "2024-07-24 16:59:36-load_llm[line-50]-INFO: Loading params performer.net.layers.4.0.norm.bias with shape torch.Size([200])\n",
      "2024-07-24 16:59:36-load_llm[line-50]-INFO: Loading params performer.net.layers.4.0.fn.fast_attention.projection_matrix with shape torch.Size([266, 64])\n",
      "2024-07-24 16:59:36-load_llm[line-50]-INFO: Loading params performer.net.layers.4.0.fn.to_q.weight with shape torch.Size([640, 200])\n",
      "2024-07-24 16:59:36-load_llm[line-50]-INFO: Loading params performer.net.layers.4.0.fn.to_k.weight with shape torch.Size([640, 200])\n",
      "2024-07-24 16:59:36-load_llm[line-50]-INFO: Loading params performer.net.layers.4.0.fn.to_v.weight with shape torch.Size([640, 200])\n",
      "2024-07-24 16:59:36-load_llm[line-50]-INFO: Loading params performer.net.layers.4.0.fn.to_out.weight with shape torch.Size([200, 640])\n",
      "2024-07-24 16:59:36-load_llm[line-50]-INFO: Loading params performer.net.layers.4.0.fn.to_out.bias with shape torch.Size([200])\n",
      "2024-07-24 16:59:36-load_llm[line-50]-INFO: Loading params performer.net.layers.4.1.norm.weight with shape torch.Size([200])\n",
      "2024-07-24 16:59:36-load_llm[line-50]-INFO: Loading params performer.net.layers.4.1.norm.bias with shape torch.Size([200])\n",
      "2024-07-24 16:59:36-load_llm[line-50]-INFO: Loading params performer.net.layers.4.1.fn.fn.w1.weight with shape torch.Size([800, 200])\n",
      "2024-07-24 16:59:36-load_llm[line-50]-INFO: Loading params performer.net.layers.4.1.fn.fn.w1.bias with shape torch.Size([800])\n",
      "2024-07-24 16:59:36-load_llm[line-50]-INFO: Loading params performer.net.layers.4.1.fn.fn.w2.weight with shape torch.Size([200, 800])\n",
      "2024-07-24 16:59:36-load_llm[line-50]-INFO: Loading params performer.net.layers.4.1.fn.fn.w2.bias with shape torch.Size([200])\n",
      "2024-07-24 16:59:36-load_llm[line-50]-INFO: Loading params performer.net.layers.5.0.norm.weight with shape torch.Size([200])\n",
      "2024-07-24 16:59:36-load_llm[line-50]-INFO: Loading params performer.net.layers.5.0.norm.bias with shape torch.Size([200])\n",
      "2024-07-24 16:59:36-load_llm[line-50]-INFO: Loading params performer.net.layers.5.0.fn.fast_attention.projection_matrix with shape torch.Size([266, 64])\n",
      "2024-07-24 16:59:36-load_llm[line-50]-INFO: Loading params performer.net.layers.5.0.fn.to_q.weight with shape torch.Size([640, 200])\n",
      "2024-07-24 16:59:36-load_llm[line-50]-INFO: Loading params performer.net.layers.5.0.fn.to_k.weight with shape torch.Size([640, 200])\n",
      "2024-07-24 16:59:36-load_llm[line-50]-INFO: Loading params performer.net.layers.5.0.fn.to_v.weight with shape torch.Size([640, 200])\n",
      "2024-07-24 16:59:36-load_llm[line-50]-INFO: Loading params performer.net.layers.5.0.fn.to_out.weight with shape torch.Size([200, 640])\n",
      "2024-07-24 16:59:36-load_llm[line-50]-INFO: Loading params performer.net.layers.5.0.fn.to_out.bias with shape torch.Size([200])\n",
      "2024-07-24 16:59:36-load_llm[line-50]-INFO: Loading params performer.net.layers.5.1.norm.weight with shape torch.Size([200])\n",
      "2024-07-24 16:59:36-load_llm[line-50]-INFO: Loading params performer.net.layers.5.1.norm.bias with shape torch.Size([200])\n",
      "2024-07-24 16:59:36-load_llm[line-50]-INFO: Loading params performer.net.layers.5.1.fn.fn.w1.weight with shape torch.Size([800, 200])\n",
      "2024-07-24 16:59:36-load_llm[line-50]-INFO: Loading params performer.net.layers.5.1.fn.fn.w1.bias with shape torch.Size([800])\n",
      "2024-07-24 16:59:36-load_llm[line-50]-INFO: Loading params performer.net.layers.5.1.fn.fn.w2.weight with shape torch.Size([200, 800])\n",
      "2024-07-24 16:59:36-load_llm[line-50]-INFO: Loading params performer.net.layers.5.1.fn.fn.w2.bias with shape torch.Size([200])\n",
      "2024-07-24 16:59:36-load_llm[line-50]-INFO: Loading params norm.weight with shape torch.Size([200])\n",
      "2024-07-24 16:59:36-load_llm[line-50]-INFO: Loading params norm.bias with shape torch.Size([200])\n",
      "2024-07-24 16:59:38-anno_task_scbert[line-50]-INFO: Munch({'model_used': 'scbert', 'model_file': '/home/share/huadjyin/home/s_qiuping1/workspace/omics_model/bio_model/biollm/case/result/anno/scbert/zheng68k/best_model.pt', 'vocab_file': '../../case/models/scbert/gene_vocab.json', 'g2v_file': '../../case/models/scbert/gene2vec_16906.npy', 'bin_num': 7, 'embsize': 200, 'max_seq_len': 16907, 'batch_size': 16, 'use_g2v': True, 'GRADIENT_ACCUMULATION': 60, 'UNASSIGN_THRES': 0.0, 'device': 'cuda:0', 'distributed': False, 'finetune': False, 'input_file': '/home/share/huadjyin/home/s_qiuping1/workspace/omics_model/bio_model/biollm/case/data/annotation/human/organs/zheng68k/test.h5ad', 'output_dir': '../../case/result/anno/scbert/zheng68k/', 'do_preprocess': True, 'label_key': 'celltype', 'lr': 0.001, 'epochs': 30, 'early_stop': 10, 'weight_bias_track': False, 'project_name': 'biollm_annotation', 'exp_name': 'scbert_pancreas_test'})\n",
      "2024-07-24 16:59:38-anno_task_scbert[line-54]-INFO: local rank: 0\n",
      "2024-07-24 16:59:38-scbert_dataset[line-56]-INFO: AnnData object with n_obs × n_vars = 13690 × 16906\n",
      "    obs: 'TSNE.1', 'TSNE.2', 'celltype', 'n_genes'\n",
      "    var: 'gene_name'\n",
      "    uns: 'log1p'\n",
      "/home/share/huadjyin/home/s_qiuping1/app/miniconda3/envs/scgpt/lib/python3.9/site-packages/pandas/core/algorithms.py:522: DeprecationWarning: np.find_common_type is deprecated.  Please use `np.result_type` or `np.promote_types`.\n",
      "See https://numpy.org/devdocs/release/1.25.0-notes.html and the docs for more information.  (Deprecated NumPy 1.25)\n",
      "  common = np.find_common_type([values.dtype, comps_array.dtype], [])\n",
      "2024-07-24 16:59:38-scbert_dataset[line-67]-INFO: useful gene index: 16906\n",
      "2024-07-24 17:00:19-scbert_dataset[line-76]-INFO: end to make scbert adata for model, start preprocess\n",
      "2024-07-24 17:00:19-scbert_dataset[line-90]-INFO: end to preprocess\n",
      "2024-07-24 17:00:20-load_llm[line-50]-INFO: Loading params token_emb.weight with shape torch.Size([7, 200])\n",
      "2024-07-24 17:00:20-load_llm[line-50]-INFO: Loading params pos_emb.emb.weight with shape torch.Size([16907, 200])\n",
      "2024-07-24 17:00:20-load_llm[line-50]-INFO: Loading params performer.calls_since_last_redraw with shape torch.Size([])\n",
      "2024-07-24 17:00:20-load_llm[line-50]-INFO: Loading params performer.net.layers.0.0.norm.weight with shape torch.Size([200])\n",
      "2024-07-24 17:00:20-load_llm[line-50]-INFO: Loading params performer.net.layers.0.0.norm.bias with shape torch.Size([200])\n",
      "2024-07-24 17:00:20-load_llm[line-50]-INFO: Loading params performer.net.layers.0.0.fn.fast_attention.projection_matrix with shape torch.Size([266, 64])\n",
      "2024-07-24 17:00:20-load_llm[line-50]-INFO: Loading params performer.net.layers.0.0.fn.to_q.weight with shape torch.Size([640, 200])\n",
      "2024-07-24 17:00:20-load_llm[line-50]-INFO: Loading params performer.net.layers.0.0.fn.to_k.weight with shape torch.Size([640, 200])\n",
      "2024-07-24 17:00:20-load_llm[line-50]-INFO: Loading params performer.net.layers.0.0.fn.to_v.weight with shape torch.Size([640, 200])\n",
      "2024-07-24 17:00:20-load_llm[line-50]-INFO: Loading params performer.net.layers.0.0.fn.to_out.weight with shape torch.Size([200, 640])\n",
      "2024-07-24 17:00:20-load_llm[line-50]-INFO: Loading params performer.net.layers.0.0.fn.to_out.bias with shape torch.Size([200])\n",
      "2024-07-24 17:00:20-load_llm[line-50]-INFO: Loading params performer.net.layers.0.1.norm.weight with shape torch.Size([200])\n",
      "2024-07-24 17:00:20-load_llm[line-50]-INFO: Loading params performer.net.layers.0.1.norm.bias with shape torch.Size([200])\n",
      "2024-07-24 17:00:20-load_llm[line-50]-INFO: Loading params performer.net.layers.0.1.fn.fn.w1.weight with shape torch.Size([800, 200])\n",
      "2024-07-24 17:00:20-load_llm[line-50]-INFO: Loading params performer.net.layers.0.1.fn.fn.w1.bias with shape torch.Size([800])\n",
      "2024-07-24 17:00:20-load_llm[line-50]-INFO: Loading params performer.net.layers.0.1.fn.fn.w2.weight with shape torch.Size([200, 800])\n",
      "2024-07-24 17:00:20-load_llm[line-50]-INFO: Loading params performer.net.layers.0.1.fn.fn.w2.bias with shape torch.Size([200])\n",
      "2024-07-24 17:00:20-load_llm[line-50]-INFO: Loading params performer.net.layers.1.0.norm.weight with shape torch.Size([200])\n",
      "2024-07-24 17:00:20-load_llm[line-50]-INFO: Loading params performer.net.layers.1.0.norm.bias with shape torch.Size([200])\n",
      "2024-07-24 17:00:20-load_llm[line-50]-INFO: Loading params performer.net.layers.1.0.fn.fast_attention.projection_matrix with shape torch.Size([266, 64])\n",
      "2024-07-24 17:00:20-load_llm[line-50]-INFO: Loading params performer.net.layers.1.0.fn.to_q.weight with shape torch.Size([640, 200])\n",
      "2024-07-24 17:00:20-load_llm[line-50]-INFO: Loading params performer.net.layers.1.0.fn.to_k.weight with shape torch.Size([640, 200])\n",
      "2024-07-24 17:00:20-load_llm[line-50]-INFO: Loading params performer.net.layers.1.0.fn.to_v.weight with shape torch.Size([640, 200])\n",
      "2024-07-24 17:00:20-load_llm[line-50]-INFO: Loading params performer.net.layers.1.0.fn.to_out.weight with shape torch.Size([200, 640])\n",
      "2024-07-24 17:00:20-load_llm[line-50]-INFO: Loading params performer.net.layers.1.0.fn.to_out.bias with shape torch.Size([200])\n",
      "2024-07-24 17:00:20-load_llm[line-50]-INFO: Loading params performer.net.layers.1.1.norm.weight with shape torch.Size([200])\n",
      "2024-07-24 17:00:20-load_llm[line-50]-INFO: Loading params performer.net.layers.1.1.norm.bias with shape torch.Size([200])\n",
      "2024-07-24 17:00:20-load_llm[line-50]-INFO: Loading params performer.net.layers.1.1.fn.fn.w1.weight with shape torch.Size([800, 200])\n",
      "2024-07-24 17:00:20-load_llm[line-50]-INFO: Loading params performer.net.layers.1.1.fn.fn.w1.bias with shape torch.Size([800])\n",
      "2024-07-24 17:00:20-load_llm[line-50]-INFO: Loading params performer.net.layers.1.1.fn.fn.w2.weight with shape torch.Size([200, 800])\n",
      "2024-07-24 17:00:20-load_llm[line-50]-INFO: Loading params performer.net.layers.1.1.fn.fn.w2.bias with shape torch.Size([200])\n",
      "2024-07-24 17:00:20-load_llm[line-50]-INFO: Loading params performer.net.layers.2.0.norm.weight with shape torch.Size([200])\n",
      "2024-07-24 17:00:20-load_llm[line-50]-INFO: Loading params performer.net.layers.2.0.norm.bias with shape torch.Size([200])\n",
      "2024-07-24 17:00:20-load_llm[line-50]-INFO: Loading params performer.net.layers.2.0.fn.fast_attention.projection_matrix with shape torch.Size([266, 64])\n",
      "2024-07-24 17:00:20-load_llm[line-50]-INFO: Loading params performer.net.layers.2.0.fn.to_q.weight with shape torch.Size([640, 200])\n",
      "2024-07-24 17:00:20-load_llm[line-50]-INFO: Loading params performer.net.layers.2.0.fn.to_k.weight with shape torch.Size([640, 200])\n",
      "2024-07-24 17:00:20-load_llm[line-50]-INFO: Loading params performer.net.layers.2.0.fn.to_v.weight with shape torch.Size([640, 200])\n",
      "2024-07-24 17:00:20-load_llm[line-50]-INFO: Loading params performer.net.layers.2.0.fn.to_out.weight with shape torch.Size([200, 640])\n",
      "2024-07-24 17:00:20-load_llm[line-50]-INFO: Loading params performer.net.layers.2.0.fn.to_out.bias with shape torch.Size([200])\n",
      "2024-07-24 17:00:20-load_llm[line-50]-INFO: Loading params performer.net.layers.2.1.norm.weight with shape torch.Size([200])\n",
      "2024-07-24 17:00:20-load_llm[line-50]-INFO: Loading params performer.net.layers.2.1.norm.bias with shape torch.Size([200])\n",
      "2024-07-24 17:00:20-load_llm[line-50]-INFO: Loading params performer.net.layers.2.1.fn.fn.w1.weight with shape torch.Size([800, 200])\n",
      "2024-07-24 17:00:20-load_llm[line-50]-INFO: Loading params performer.net.layers.2.1.fn.fn.w1.bias with shape torch.Size([800])\n",
      "2024-07-24 17:00:20-load_llm[line-50]-INFO: Loading params performer.net.layers.2.1.fn.fn.w2.weight with shape torch.Size([200, 800])\n",
      "2024-07-24 17:00:20-load_llm[line-50]-INFO: Loading params performer.net.layers.2.1.fn.fn.w2.bias with shape torch.Size([200])\n",
      "2024-07-24 17:00:20-load_llm[line-50]-INFO: Loading params performer.net.layers.3.0.norm.weight with shape torch.Size([200])\n",
      "2024-07-24 17:00:20-load_llm[line-50]-INFO: Loading params performer.net.layers.3.0.norm.bias with shape torch.Size([200])\n",
      "2024-07-24 17:00:20-load_llm[line-50]-INFO: Loading params performer.net.layers.3.0.fn.fast_attention.projection_matrix with shape torch.Size([266, 64])\n",
      "2024-07-24 17:00:20-load_llm[line-50]-INFO: Loading params performer.net.layers.3.0.fn.to_q.weight with shape torch.Size([640, 200])\n",
      "2024-07-24 17:00:20-load_llm[line-50]-INFO: Loading params performer.net.layers.3.0.fn.to_k.weight with shape torch.Size([640, 200])\n",
      "2024-07-24 17:00:20-load_llm[line-50]-INFO: Loading params performer.net.layers.3.0.fn.to_v.weight with shape torch.Size([640, 200])\n",
      "2024-07-24 17:00:20-load_llm[line-50]-INFO: Loading params performer.net.layers.3.0.fn.to_out.weight with shape torch.Size([200, 640])\n",
      "2024-07-24 17:00:20-load_llm[line-50]-INFO: Loading params performer.net.layers.3.0.fn.to_out.bias with shape torch.Size([200])\n",
      "2024-07-24 17:00:20-load_llm[line-50]-INFO: Loading params performer.net.layers.3.1.norm.weight with shape torch.Size([200])\n",
      "2024-07-24 17:00:20-load_llm[line-50]-INFO: Loading params performer.net.layers.3.1.norm.bias with shape torch.Size([200])\n",
      "2024-07-24 17:00:20-load_llm[line-50]-INFO: Loading params performer.net.layers.3.1.fn.fn.w1.weight with shape torch.Size([800, 200])\n",
      "2024-07-24 17:00:20-load_llm[line-50]-INFO: Loading params performer.net.layers.3.1.fn.fn.w1.bias with shape torch.Size([800])\n",
      "2024-07-24 17:00:20-load_llm[line-50]-INFO: Loading params performer.net.layers.3.1.fn.fn.w2.weight with shape torch.Size([200, 800])\n",
      "2024-07-24 17:00:20-load_llm[line-50]-INFO: Loading params performer.net.layers.3.1.fn.fn.w2.bias with shape torch.Size([200])\n",
      "2024-07-24 17:00:20-load_llm[line-50]-INFO: Loading params performer.net.layers.4.0.norm.weight with shape torch.Size([200])\n",
      "2024-07-24 17:00:20-load_llm[line-50]-INFO: Loading params performer.net.layers.4.0.norm.bias with shape torch.Size([200])\n",
      "2024-07-24 17:00:20-load_llm[line-50]-INFO: Loading params performer.net.layers.4.0.fn.fast_attention.projection_matrix with shape torch.Size([266, 64])\n",
      "2024-07-24 17:00:20-load_llm[line-50]-INFO: Loading params performer.net.layers.4.0.fn.to_q.weight with shape torch.Size([640, 200])\n",
      "2024-07-24 17:00:20-load_llm[line-50]-INFO: Loading params performer.net.layers.4.0.fn.to_k.weight with shape torch.Size([640, 200])\n",
      "2024-07-24 17:00:20-load_llm[line-50]-INFO: Loading params performer.net.layers.4.0.fn.to_v.weight with shape torch.Size([640, 200])\n",
      "2024-07-24 17:00:20-load_llm[line-50]-INFO: Loading params performer.net.layers.4.0.fn.to_out.weight with shape torch.Size([200, 640])\n",
      "2024-07-24 17:00:20-load_llm[line-50]-INFO: Loading params performer.net.layers.4.0.fn.to_out.bias with shape torch.Size([200])\n",
      "2024-07-24 17:00:20-load_llm[line-50]-INFO: Loading params performer.net.layers.4.1.norm.weight with shape torch.Size([200])\n",
      "2024-07-24 17:00:20-load_llm[line-50]-INFO: Loading params performer.net.layers.4.1.norm.bias with shape torch.Size([200])\n",
      "2024-07-24 17:00:20-load_llm[line-50]-INFO: Loading params performer.net.layers.4.1.fn.fn.w1.weight with shape torch.Size([800, 200])\n",
      "2024-07-24 17:00:20-load_llm[line-50]-INFO: Loading params performer.net.layers.4.1.fn.fn.w1.bias with shape torch.Size([800])\n",
      "2024-07-24 17:00:20-load_llm[line-50]-INFO: Loading params performer.net.layers.4.1.fn.fn.w2.weight with shape torch.Size([200, 800])\n",
      "2024-07-24 17:00:20-load_llm[line-50]-INFO: Loading params performer.net.layers.4.1.fn.fn.w2.bias with shape torch.Size([200])\n",
      "2024-07-24 17:00:20-load_llm[line-50]-INFO: Loading params performer.net.layers.5.0.norm.weight with shape torch.Size([200])\n",
      "2024-07-24 17:00:20-load_llm[line-50]-INFO: Loading params performer.net.layers.5.0.norm.bias with shape torch.Size([200])\n",
      "2024-07-24 17:00:20-load_llm[line-50]-INFO: Loading params performer.net.layers.5.0.fn.fast_attention.projection_matrix with shape torch.Size([266, 64])\n",
      "2024-07-24 17:00:20-load_llm[line-50]-INFO: Loading params performer.net.layers.5.0.fn.to_q.weight with shape torch.Size([640, 200])\n",
      "2024-07-24 17:00:20-load_llm[line-50]-INFO: Loading params performer.net.layers.5.0.fn.to_k.weight with shape torch.Size([640, 200])\n",
      "2024-07-24 17:00:20-load_llm[line-50]-INFO: Loading params performer.net.layers.5.0.fn.to_v.weight with shape torch.Size([640, 200])\n",
      "2024-07-24 17:00:20-load_llm[line-50]-INFO: Loading params performer.net.layers.5.0.fn.to_out.weight with shape torch.Size([200, 640])\n",
      "2024-07-24 17:00:20-load_llm[line-50]-INFO: Loading params performer.net.layers.5.0.fn.to_out.bias with shape torch.Size([200])\n",
      "2024-07-24 17:00:20-load_llm[line-50]-INFO: Loading params performer.net.layers.5.1.norm.weight with shape torch.Size([200])\n",
      "2024-07-24 17:00:20-load_llm[line-50]-INFO: Loading params performer.net.layers.5.1.norm.bias with shape torch.Size([200])\n",
      "2024-07-24 17:00:20-load_llm[line-50]-INFO: Loading params performer.net.layers.5.1.fn.fn.w1.weight with shape torch.Size([800, 200])\n",
      "2024-07-24 17:00:20-load_llm[line-50]-INFO: Loading params performer.net.layers.5.1.fn.fn.w1.bias with shape torch.Size([800])\n",
      "2024-07-24 17:00:20-load_llm[line-50]-INFO: Loading params performer.net.layers.5.1.fn.fn.w2.weight with shape torch.Size([200, 800])\n",
      "2024-07-24 17:00:20-load_llm[line-50]-INFO: Loading params performer.net.layers.5.1.fn.fn.w2.bias with shape torch.Size([200])\n",
      "2024-07-24 17:00:20-load_llm[line-50]-INFO: Loading params norm.weight with shape torch.Size([200])\n",
      "2024-07-24 17:00:20-load_llm[line-50]-INFO: Loading params norm.bias with shape torch.Size([200])\n",
      "2024-07-24 17:00:20-load_llm[line-50]-INFO: Loading params to_out.conv1.weight with shape torch.Size([1, 1, 1, 200])\n",
      "2024-07-24 17:00:20-load_llm[line-50]-INFO: Loading params to_out.conv1.bias with shape torch.Size([1])\n",
      "2024-07-24 17:00:20-load_llm[line-50]-INFO: Loading params to_out.fc1.weight with shape torch.Size([512, 16907])\n",
      "2024-07-24 17:00:20-load_llm[line-50]-INFO: Loading params to_out.fc1.bias with shape torch.Size([512])\n",
      "2024-07-24 17:00:20-load_llm[line-50]-INFO: Loading params to_out.fc2.weight with shape torch.Size([128, 512])\n",
      "2024-07-24 17:00:20-load_llm[line-50]-INFO: Loading params to_out.fc2.bias with shape torch.Size([128])\n",
      "2024-07-24 17:00:20-load_llm[line-50]-INFO: Loading params to_out.fc3.weight with shape torch.Size([11, 128])\n",
      "2024-07-24 17:00:20-load_llm[line-50]-INFO: Loading params to_out.fc3.bias with shape torch.Size([11])\n",
      "2024-07-24 17:12:42-anno_task_scbert[line-118]-INFO: Total time: 784.420325756073 s.\n"
     ]
    },
    {
     "name": "stdout",
     "output_type": "stream",
     "text": [
      "{'accuracy': 0.699926953981008, 'macro_f1': 0.5646457515528428}\n"
     ]
    },
    {
     "name": "stderr",
     "output_type": "stream",
     "text": [
      "/tmp/ipykernel_1006927/2661222604.py:16: ResourceWarning: unclosed file <_io.BufferedReader name='/home/share/huadjyin/home/s_qiuping1/workspace/omics_model/bio_model/biollm/case/result/anno/scbert/zheng68k/predict_list.pk'>\n",
      "  predict_label = pickle.load(open(path + 'predict_list.pk', 'rb'))\n"
     ]
    },
    {
     "ename": "KeyError",
     "evalue": "'cell_type_ontology_term_id'",
     "output_type": "error",
     "traceback": [
      "\u001B[0;31m---------------------------------------------------------------------------\u001B[0m",
      "\u001B[0;31mKeyError\u001B[0m                                  Traceback (most recent call last)",
      "File \u001B[0;32m~/app/miniconda3/envs/scgpt/lib/python3.9/site-packages/pandas/core/indexes/base.py:3802\u001B[0m, in \u001B[0;36mIndex.get_loc\u001B[0;34m(self, key, method, tolerance)\u001B[0m\n\u001B[1;32m   3801\u001B[0m \u001B[38;5;28;01mtry\u001B[39;00m:\n\u001B[0;32m-> 3802\u001B[0m     \u001B[38;5;28;01mreturn\u001B[39;00m \u001B[38;5;28;43mself\u001B[39;49m\u001B[38;5;241;43m.\u001B[39;49m\u001B[43m_engine\u001B[49m\u001B[38;5;241;43m.\u001B[39;49m\u001B[43mget_loc\u001B[49m\u001B[43m(\u001B[49m\u001B[43mcasted_key\u001B[49m\u001B[43m)\u001B[49m\n\u001B[1;32m   3803\u001B[0m \u001B[38;5;28;01mexcept\u001B[39;00m \u001B[38;5;167;01mKeyError\u001B[39;00m \u001B[38;5;28;01mas\u001B[39;00m err:\n",
      "File \u001B[0;32m~/app/miniconda3/envs/scgpt/lib/python3.9/site-packages/pandas/_libs/index.pyx:138\u001B[0m, in \u001B[0;36mpandas._libs.index.IndexEngine.get_loc\u001B[0;34m()\u001B[0m\n",
      "File \u001B[0;32m~/app/miniconda3/envs/scgpt/lib/python3.9/site-packages/pandas/_libs/index.pyx:165\u001B[0m, in \u001B[0;36mpandas._libs.index.IndexEngine.get_loc\u001B[0;34m()\u001B[0m\n",
      "File \u001B[0;32mpandas/_libs/hashtable_class_helper.pxi:5745\u001B[0m, in \u001B[0;36mpandas._libs.hashtable.PyObjectHashTable.get_item\u001B[0;34m()\u001B[0m\n",
      "File \u001B[0;32mpandas/_libs/hashtable_class_helper.pxi:5753\u001B[0m, in \u001B[0;36mpandas._libs.hashtable.PyObjectHashTable.get_item\u001B[0;34m()\u001B[0m\n",
      "\u001B[0;31mKeyError\u001B[0m: 'cell_type_ontology_term_id'",
      "\nThe above exception was the direct cause of the following exception:\n",
      "\u001B[0;31mKeyError\u001B[0m                                  Traceback (most recent call last)",
      "Cell \u001B[0;32mIn[2], line 18\u001B[0m\n\u001B[1;32m     16\u001B[0m predict_label \u001B[38;5;241m=\u001B[39m pickle\u001B[38;5;241m.\u001B[39mload(\u001B[38;5;28mopen\u001B[39m(path \u001B[38;5;241m+\u001B[39m \u001B[38;5;124m'\u001B[39m\u001B[38;5;124mpredict_list.pk\u001B[39m\u001B[38;5;124m'\u001B[39m, \u001B[38;5;124m'\u001B[39m\u001B[38;5;124mrb\u001B[39m\u001B[38;5;124m'\u001B[39m))\n\u001B[1;32m     17\u001B[0m adata \u001B[38;5;241m=\u001B[39m sc\u001B[38;5;241m.\u001B[39mread_h5ad(\u001B[38;5;124mf\u001B[39m\u001B[38;5;124m'\u001B[39m\u001B[38;5;124m/home/share/huadjyin/home/s_qiuping1/workspace/omics_model/bio_model/biollm/case/data/annotation/human/organs/\u001B[39m\u001B[38;5;132;01m{\u001B[39;00mi\u001B[38;5;132;01m}\u001B[39;00m\u001B[38;5;124m/test.h5ad\u001B[39m\u001B[38;5;124m'\u001B[39m)\n\u001B[0;32m---> 18\u001B[0m labels \u001B[38;5;241m=\u001B[39m \u001B[43madata\u001B[49m\u001B[38;5;241;43m.\u001B[39;49m\u001B[43mobs\u001B[49m\u001B[43m[\u001B[49m\u001B[38;5;124;43m'\u001B[39;49m\u001B[38;5;124;43mcell_type_ontology_term_id\u001B[39;49m\u001B[38;5;124;43m'\u001B[39;49m\u001B[43m]\u001B[49m\u001B[38;5;241m.\u001B[39mvalues\n\u001B[1;32m     19\u001B[0m acc \u001B[38;5;241m=\u001B[39m accuracy_score(labels, predict_label)\n\u001B[1;32m     20\u001B[0m macro_f1 \u001B[38;5;241m=\u001B[39m f1_score(labels, predict_label, average\u001B[38;5;241m=\u001B[39m\u001B[38;5;124m'\u001B[39m\u001B[38;5;124mmacro\u001B[39m\u001B[38;5;124m'\u001B[39m)\n",
      "File \u001B[0;32m~/app/miniconda3/envs/scgpt/lib/python3.9/site-packages/pandas/core/frame.py:3807\u001B[0m, in \u001B[0;36mDataFrame.__getitem__\u001B[0;34m(self, key)\u001B[0m\n\u001B[1;32m   3805\u001B[0m \u001B[38;5;28;01mif\u001B[39;00m \u001B[38;5;28mself\u001B[39m\u001B[38;5;241m.\u001B[39mcolumns\u001B[38;5;241m.\u001B[39mnlevels \u001B[38;5;241m>\u001B[39m \u001B[38;5;241m1\u001B[39m:\n\u001B[1;32m   3806\u001B[0m     \u001B[38;5;28;01mreturn\u001B[39;00m \u001B[38;5;28mself\u001B[39m\u001B[38;5;241m.\u001B[39m_getitem_multilevel(key)\n\u001B[0;32m-> 3807\u001B[0m indexer \u001B[38;5;241m=\u001B[39m \u001B[38;5;28;43mself\u001B[39;49m\u001B[38;5;241;43m.\u001B[39;49m\u001B[43mcolumns\u001B[49m\u001B[38;5;241;43m.\u001B[39;49m\u001B[43mget_loc\u001B[49m\u001B[43m(\u001B[49m\u001B[43mkey\u001B[49m\u001B[43m)\u001B[49m\n\u001B[1;32m   3808\u001B[0m \u001B[38;5;28;01mif\u001B[39;00m is_integer(indexer):\n\u001B[1;32m   3809\u001B[0m     indexer \u001B[38;5;241m=\u001B[39m [indexer]\n",
      "File \u001B[0;32m~/app/miniconda3/envs/scgpt/lib/python3.9/site-packages/pandas/core/indexes/base.py:3804\u001B[0m, in \u001B[0;36mIndex.get_loc\u001B[0;34m(self, key, method, tolerance)\u001B[0m\n\u001B[1;32m   3802\u001B[0m     \u001B[38;5;28;01mreturn\u001B[39;00m \u001B[38;5;28mself\u001B[39m\u001B[38;5;241m.\u001B[39m_engine\u001B[38;5;241m.\u001B[39mget_loc(casted_key)\n\u001B[1;32m   3803\u001B[0m \u001B[38;5;28;01mexcept\u001B[39;00m \u001B[38;5;167;01mKeyError\u001B[39;00m \u001B[38;5;28;01mas\u001B[39;00m err:\n\u001B[0;32m-> 3804\u001B[0m     \u001B[38;5;28;01mraise\u001B[39;00m \u001B[38;5;167;01mKeyError\u001B[39;00m(key) \u001B[38;5;28;01mfrom\u001B[39;00m \u001B[38;5;21;01merr\u001B[39;00m\n\u001B[1;32m   3805\u001B[0m \u001B[38;5;28;01mexcept\u001B[39;00m \u001B[38;5;167;01mTypeError\u001B[39;00m:\n\u001B[1;32m   3806\u001B[0m     \u001B[38;5;66;03m# If we have a listlike key, _check_indexing_error will raise\u001B[39;00m\n\u001B[1;32m   3807\u001B[0m     \u001B[38;5;66;03m#  InvalidIndexError. Otherwise we fall through and re-raise\u001B[39;00m\n\u001B[1;32m   3808\u001B[0m     \u001B[38;5;66;03m#  the TypeError.\u001B[39;00m\n\u001B[1;32m   3809\u001B[0m     \u001B[38;5;28mself\u001B[39m\u001B[38;5;241m.\u001B[39m_check_indexing_error(key)\n",
      "\u001B[0;31mKeyError\u001B[0m: 'cell_type_ontology_term_id'"
     ]
    }
   ],
   "source": [
    "from biollm.task.annotation.anno_task_scbert import AnnoTaskScbert\n",
    "import scanpy as sc\n",
    "import pickle\n",
    "from sklearn.metrics import accuracy_score, f1_score, recall_score, precision_score\n",
    "from collections import defaultdict\n",
    "import pandas as pd\n",
    "# organs = \"colon,eye,kidney,prostate_gland,spleen,esophagus,immune_system,mucosa,small_intestine,lung\"\n",
    "organs = \"zheng68k,hpancreas\"\n",
    "result = defaultdict(list)\n",
    "for i in organs.split(','):\n",
    "  \n",
    "    config_file = f'./configs/organs/predict/scbert_{i}.toml'\n",
    "    task = AnnoTaskScbert(config_file)\n",
    "    task.run()\n",
    "    path = f'/home/share/huadjyin/home/s_qiuping1/workspace/omics_model/bio_model/biollm/case/result/anno/scbert/{i}/'\n",
    "    predict_label = pickle.load(open(path + 'predict_list.pk', 'rb'))\n",
    "    adata = sc.read_h5ad(f'/home/share/huadjyin/home/s_qiuping1/workspace/omics_model/bio_model/biollm/case/data/annotation/human/organs/{i}/test.h5ad')\n",
    "    labels = adata.obs['cell_type_ontology_term_id'].values\n",
    "    acc = accuracy_score(labels, predict_label)\n",
    "    macro_f1 = f1_score(labels, predict_label, average='macro')\n",
    "    recall = recall_score(labels, predict_label, average='macro')\n",
    "    precision = precision_score(labels, predict_label, average='macro')\n",
    "    # result[i] = {'acc': '%.5f'% acc, \n",
    "    #              'macro_precision': '%.5f'% precision,\n",
    "    #              'macro_recall': '%.5f'% recall,\n",
    "    #              'macro_f1': '%.5f'% macro_f1}\n",
    "    result['dataset'].append(i)\n",
    "    result['acc'].append(float('%.5f'% acc))\n",
    "    result['precision'].append(float('%.5f'% precision))\n",
    "    result['recall'].append(float('%.5f'% recall))\n",
    "    result['f1'].append(float('%.5f'% macro_f1))\n",
    "    print(i, acc, macro_f1)\n",
    "  # except Exception as e:\n",
    "  #   print('error:', i, e)\n",
    "df = pd.DataFrame(result)\n",
    "print(df)"
   ],
   "metadata": {
    "collapsed": false,
    "ExecuteTime": {
     "end_time": "2024-07-24T09:12:44.000995Z",
     "start_time": "2024-07-24T08:59:35.259497Z"
    }
   },
   "id": "83718448e3fd54b7",
   "execution_count": 2
  },
  {
   "cell_type": "code",
   "outputs": [
    {
     "name": "stderr",
     "output_type": "stream",
     "text": [
      "/tmp/ipykernel_1784660/2650771568.py:15: ResourceWarning: unclosed file <_io.BufferedReader name='/home/share/huadjyin/home/s_qiuping1/workspace/omics_model/bio_model/biollm/case/result/anno/scbert/colon/predict_list.pk'>\n",
      "  predict_label = pickle.load(open(path + 'predict_list.pk', 'rb'))\n",
      "/home/share/huadjyin/home/s_qiuping1/app/miniconda3/envs/scgpt/lib/python3.9/site-packages/anndata/_core/anndata.py:183: ImplicitModificationWarning: Transforming to str index.\n",
      "  warnings.warn(\"Transforming to str index.\", ImplicitModificationWarning)\n",
      "/home/share/huadjyin/home/s_qiuping1/app/miniconda3/envs/scgpt/lib/python3.9/site-packages/sklearn/metrics/_classification.py:1471: UndefinedMetricWarning: Precision is ill-defined and being set to 0.0 in labels with no predicted samples. Use `zero_division` parameter to control this behavior.\n",
      "  _warn_prf(average, modifier, msg_start, len(result))\n"
     ]
    },
    {
     "name": "stdout",
     "output_type": "stream",
     "text": [
      "colon 0.4695902228612509 0.10614136281181583\n"
     ]
    },
    {
     "name": "stderr",
     "output_type": "stream",
     "text": [
      "/tmp/ipykernel_1784660/2650771568.py:15: ResourceWarning: unclosed file <_io.BufferedReader name='/home/share/huadjyin/home/s_qiuping1/workspace/omics_model/bio_model/biollm/case/result/anno/scbert/eye/predict_list.pk'>\n",
      "  predict_label = pickle.load(open(path + 'predict_list.pk', 'rb'))\n",
      "/home/share/huadjyin/home/s_qiuping1/app/miniconda3/envs/scgpt/lib/python3.9/site-packages/anndata/_core/anndata.py:183: ImplicitModificationWarning: Transforming to str index.\n",
      "  warnings.warn(\"Transforming to str index.\", ImplicitModificationWarning)\n",
      "/home/share/huadjyin/home/s_qiuping1/app/miniconda3/envs/scgpt/lib/python3.9/site-packages/sklearn/metrics/_classification.py:1471: UndefinedMetricWarning: Precision is ill-defined and being set to 0.0 in labels with no predicted samples. Use `zero_division` parameter to control this behavior.\n",
      "  _warn_prf(average, modifier, msg_start, len(result))\n",
      "/tmp/ipykernel_1784660/2650771568.py:15: ResourceWarning: unclosed file <_io.BufferedReader name='/home/share/huadjyin/home/s_qiuping1/workspace/omics_model/bio_model/biollm/case/result/anno/scbert/kidney/predict_list.pk'>\n",
      "  predict_label = pickle.load(open(path + 'predict_list.pk', 'rb'))\n"
     ]
    },
    {
     "name": "stdout",
     "output_type": "stream",
     "text": [
      "eye 0.9958243340532758 0.9333663487120514\n"
     ]
    },
    {
     "name": "stderr",
     "output_type": "stream",
     "text": [
      "/home/share/huadjyin/home/s_qiuping1/app/miniconda3/envs/scgpt/lib/python3.9/site-packages/anndata/_core/anndata.py:183: ImplicitModificationWarning: Transforming to str index.\n",
      "  warnings.warn(\"Transforming to str index.\", ImplicitModificationWarning)\n",
      "/home/share/huadjyin/home/s_qiuping1/app/miniconda3/envs/scgpt/lib/python3.9/site-packages/sklearn/metrics/_classification.py:1471: UndefinedMetricWarning: Precision is ill-defined and being set to 0.0 in labels with no predicted samples. Use `zero_division` parameter to control this behavior.\n",
      "  _warn_prf(average, modifier, msg_start, len(result))\n",
      "/tmp/ipykernel_1784660/2650771568.py:15: ResourceWarning: unclosed file <_io.BufferedReader name='/home/share/huadjyin/home/s_qiuping1/workspace/omics_model/bio_model/biollm/case/result/anno/scbert/prostate_gland/predict_list.pk'>\n",
      "  predict_label = pickle.load(open(path + 'predict_list.pk', 'rb'))\n"
     ]
    },
    {
     "name": "stdout",
     "output_type": "stream",
     "text": [
      "kidney 0.933705772811918 0.5873272308955909\n"
     ]
    },
    {
     "name": "stderr",
     "output_type": "stream",
     "text": [
      "/home/share/huadjyin/home/s_qiuping1/app/miniconda3/envs/scgpt/lib/python3.9/site-packages/anndata/_core/anndata.py:183: ImplicitModificationWarning: Transforming to str index.\n",
      "  warnings.warn(\"Transforming to str index.\", ImplicitModificationWarning)\n",
      "/home/share/huadjyin/home/s_qiuping1/app/miniconda3/envs/scgpt/lib/python3.9/site-packages/sklearn/metrics/_classification.py:1471: UndefinedMetricWarning: Precision is ill-defined and being set to 0.0 in labels with no predicted samples. Use `zero_division` parameter to control this behavior.\n",
      "  _warn_prf(average, modifier, msg_start, len(result))\n",
      "/tmp/ipykernel_1784660/2650771568.py:15: ResourceWarning: unclosed file <_io.BufferedReader name='/home/share/huadjyin/home/s_qiuping1/workspace/omics_model/bio_model/biollm/case/result/anno/scbert/spleen/predict_list.pk'>\n",
      "  predict_label = pickle.load(open(path + 'predict_list.pk', 'rb'))\n"
     ]
    },
    {
     "name": "stdout",
     "output_type": "stream",
     "text": [
      "prostate_gland 0.8487208675334013 0.5648078629499729\n",
      "spleen 0.8053256948864842 0.7352592973363521\n"
     ]
    },
    {
     "name": "stderr",
     "output_type": "stream",
     "text": [
      "/tmp/ipykernel_1784660/2650771568.py:15: ResourceWarning: unclosed file <_io.BufferedReader name='/home/share/huadjyin/home/s_qiuping1/workspace/omics_model/bio_model/biollm/case/result/anno/scbert/esophagus/predict_list.pk'>\n",
      "  predict_label = pickle.load(open(path + 'predict_list.pk', 'rb'))\n"
     ]
    },
    {
     "name": "stdout",
     "output_type": "stream",
     "text": [
      "esophagus 0.9396282189756126 0.8905885774621453\n"
     ]
    },
    {
     "name": "stderr",
     "output_type": "stream",
     "text": [
      "/tmp/ipykernel_1784660/2650771568.py:15: ResourceWarning: unclosed file <_io.BufferedReader name='/home/share/huadjyin/home/s_qiuping1/workspace/omics_model/bio_model/biollm/case/result/anno/scbert/immune_system/predict_list.pk'>\n",
      "  predict_label = pickle.load(open(path + 'predict_list.pk', 'rb'))\n",
      "/home/share/huadjyin/home/s_qiuping1/app/miniconda3/envs/scgpt/lib/python3.9/site-packages/anndata/_core/anndata.py:183: ImplicitModificationWarning: Transforming to str index.\n",
      "  warnings.warn(\"Transforming to str index.\", ImplicitModificationWarning)\n",
      "/home/share/huadjyin/home/s_qiuping1/app/miniconda3/envs/scgpt/lib/python3.9/site-packages/sklearn/metrics/_classification.py:1471: UndefinedMetricWarning: Precision is ill-defined and being set to 0.0 in labels with no predicted samples. Use `zero_division` parameter to control this behavior.\n",
      "  _warn_prf(average, modifier, msg_start, len(result))\n",
      "/tmp/ipykernel_1784660/2650771568.py:15: ResourceWarning: unclosed file <_io.BufferedReader name='/home/share/huadjyin/home/s_qiuping1/workspace/omics_model/bio_model/biollm/case/result/anno/scbert/mucosa/predict_list.pk'>\n",
      "  predict_label = pickle.load(open(path + 'predict_list.pk', 'rb'))\n"
     ]
    },
    {
     "name": "stdout",
     "output_type": "stream",
     "text": [
      "immune_system 0.8624865859267208 0.6577999178830919\n"
     ]
    },
    {
     "name": "stderr",
     "output_type": "stream",
     "text": [
      "/home/share/huadjyin/home/s_qiuping1/app/miniconda3/envs/scgpt/lib/python3.9/site-packages/anndata/_core/anndata.py:183: ImplicitModificationWarning: Transforming to str index.\n",
      "  warnings.warn(\"Transforming to str index.\", ImplicitModificationWarning)\n"
     ]
    },
    {
     "name": "stdout",
     "output_type": "stream",
     "text": [
      "mucosa 0.8880811895208874 0.759918860965137\n"
     ]
    },
    {
     "name": "stderr",
     "output_type": "stream",
     "text": [
      "/tmp/ipykernel_1784660/2650771568.py:15: ResourceWarning: unclosed file <_io.BufferedReader name='/home/share/huadjyin/home/s_qiuping1/workspace/omics_model/bio_model/biollm/case/result/anno/scbert/small_intestine/predict_list.pk'>\n",
      "  predict_label = pickle.load(open(path + 'predict_list.pk', 'rb'))\n",
      "/home/share/huadjyin/home/s_qiuping1/app/miniconda3/envs/scgpt/lib/python3.9/site-packages/anndata/_core/anndata.py:183: ImplicitModificationWarning: Transforming to str index.\n",
      "  warnings.warn(\"Transforming to str index.\", ImplicitModificationWarning)\n"
     ]
    },
    {
     "name": "stdout",
     "output_type": "stream",
     "text": [
      "small_intestine 0.9212620332758333 0.8163923677727387\n"
     ]
    },
    {
     "name": "stderr",
     "output_type": "stream",
     "text": [
      "/tmp/ipykernel_1784660/2650771568.py:15: ResourceWarning: unclosed file <_io.BufferedReader name='/home/share/huadjyin/home/s_qiuping1/workspace/omics_model/bio_model/biollm/case/result/anno/scbert/lung/predict_list.pk'>\n",
      "  predict_label = pickle.load(open(path + 'predict_list.pk', 'rb'))\n"
     ]
    },
    {
     "name": "stdout",
     "output_type": "stream",
     "text": [
      "lung 0.9475899005355777 0.8615634766646678\n",
      "           dataset      acc  precision   recall       f1\n",
      "0            colon  0.46959    0.12023  0.13768  0.10614\n",
      "1              eye  0.99582    0.92891  0.94008  0.93337\n",
      "2           kidney  0.93371    0.70145  0.56414  0.58733\n",
      "3   prostate_gland  0.84872    0.62159  0.56898  0.56481\n",
      "4           spleen  0.80533    0.82053  0.69214  0.73526\n",
      "5        esophagus  0.93963    0.91239  0.87893  0.89059\n",
      "6    immune_system  0.86249    0.71668  0.63520  0.65780\n",
      "7           mucosa  0.88808    0.78751  0.75000  0.75992\n",
      "8  small_intestine  0.92126    0.90440  0.79491  0.81639\n",
      "9             lung  0.94759    0.93768  0.83311  0.86156\n"
     ]
    }
   ],
   "source": [
    "from biollm.task.annotation.anno_task_scbert import AnnoTaskScbert\n",
    "import scanpy as sc\n",
    "import pickle\n",
    "from sklearn.metrics import accuracy_score, f1_score, recall_score, precision_score\n",
    "from collections import defaultdict\n",
    "import pandas as pd\n",
    "# organs = \"colon,eye,kidney,prostate_gland,spleen,esophagus,immune_system,mucosa,small_intestine,lung\"\n",
    "organs = \"colon\"\n",
    "result = defaultdict(list)\n",
    "for i in organs.split(','):\n",
    "  \n",
    "    # config_file = f'./configs/organs/predict/scbert_{i}.toml'\n",
    "    # task = AnnoTaskScbert(config_file)\n",
    "    # task.run()\n",
    "    path = f'/home/share/huadjyin/home/s_qiuping1/workspace/omics_model/bio_model/biollm/case/result/anno/scbert/{i}/'\n",
    "    predict_label = pickle.load(open(path + 'predict_list.pk', 'rb'))\n",
    "    adata = sc.read_h5ad(f'/home/share/huadjyin/home/s_qiuping1/workspace/omics_model/bio_model/biollm/case/data/annotation/human/organs/{i}/test.h5ad')\n",
    "    labels = adata.obs['cell_type_ontology_term_id'].values\n",
    "    acc = accuracy_score(labels, predict_label)\n",
    "    macro_f1 = f1_score(labels, predict_label, average='macro')\n",
    "    recall = recall_score(labels, predict_label, average='macro')\n",
    "    precision = precision_score(labels, predict_label, average='macro')\n",
    "    # result[i] = {'acc': '%.5f'% acc, \n",
    "    #              'macro_precision': '%.5f'% precision,\n",
    "    #              'macro_recall': '%.5f'% recall,\n",
    "    #              'macro_f1': '%.5f'% macro_f1}\n",
    "    result['dataset'].append(i)\n",
    "    result['acc'].append(float('%.5f'% acc))\n",
    "    result['precision'].append(float('%.5f'% precision))\n",
    "    result['recall'].append(float('%.5f'% recall))\n",
    "    result['f1'].append(float('%.5f'% macro_f1))\n",
    "    print(i, acc, macro_f1)\n",
    "  # except Exception as e:\n",
    "  #   print('error:', i, e)\n",
    "df = pd.DataFrame(result)\n",
    "print(df)"
   ],
   "metadata": {
    "collapsed": false
   },
   "id": "98f6dde411f53a5f",
   "execution_count": 7
  },
  {
   "cell_type": "markdown",
   "source": [
    "# scgpt"
   ],
   "metadata": {
    "collapsed": false
   },
   "id": "89a3823080fa444e"
  },
  {
   "cell_type": "code",
   "outputs": [
    {
     "name": "stdout",
     "output_type": "stream",
     "text": [
      "colon\r\n",
      "eye\r\n",
      "kidney\r\n",
      "prostate_gland\r\n",
      "spleen\r\n",
      "esophagus\r\n",
      "immune_system\r\n",
      "mucosa\r\n",
      "small_intestine\r\n",
      "lung\r\n"
     ]
    }
   ],
   "source": [
    "!sh /home/share/huadjyin/home/s_qiuping1/workspace/omics_model/bio_model/biollm/tutorials/annotation/bin/make_configs.sh scgpt colon,eye,kidney,prostate_gland,spleen,esophagus,immune_system,mucosa,small_intestine,lung ../configs/scgpt.toml"
   ],
   "metadata": {
    "collapsed": false,
    "ExecuteTime": {
     "end_time": "2024-07-15T04:23:07.934266Z",
     "start_time": "2024-07-15T04:23:04.333457Z"
    }
   },
   "id": "be26487c5de01ca",
   "execution_count": 2
  },
  {
   "cell_type": "code",
   "outputs": [
    {
     "name": "stderr",
     "output_type": "stream",
     "text": [
      "/tmp/ipykernel_1784660/3185901811.py:15: ResourceWarning: unclosed file <_io.BufferedReader name='/home/share/huadjyin/home/s_qiuping1/workspace/omics_model/bio_model/biollm/case/result/anno/scgpt/colon/predict_list.pk'>\n",
      "  predict_label = pickle.load(open(path + 'predict_list.pk', 'rb'))\n",
      "/home/share/huadjyin/home/s_qiuping1/app/miniconda3/envs/scgpt/lib/python3.9/site-packages/anndata/_core/anndata.py:183: ImplicitModificationWarning: Transforming to str index.\n",
      "  warnings.warn(\"Transforming to str index.\", ImplicitModificationWarning)\n",
      "/home/share/huadjyin/home/s_qiuping1/app/miniconda3/envs/scgpt/lib/python3.9/site-packages/sklearn/metrics/_classification.py:1471: UndefinedMetricWarning: Precision is ill-defined and being set to 0.0 in labels with no predicted samples. Use `zero_division` parameter to control this behavior.\n",
      "  _warn_prf(average, modifier, msg_start, len(result))\n",
      "/tmp/ipykernel_1784660/3185901811.py:15: ResourceWarning: unclosed file <_io.BufferedReader name='/home/share/huadjyin/home/s_qiuping1/workspace/omics_model/bio_model/biollm/case/result/anno/scgpt/eye/predict_list.pk'>\n",
      "  predict_label = pickle.load(open(path + 'predict_list.pk', 'rb'))\n"
     ]
    },
    {
     "name": "stdout",
     "output_type": "stream",
     "text": [
      "colon 0.9342918763479511 0.6387916424951355\n"
     ]
    },
    {
     "name": "stderr",
     "output_type": "stream",
     "text": [
      "/home/share/huadjyin/home/s_qiuping1/app/miniconda3/envs/scgpt/lib/python3.9/site-packages/anndata/_core/anndata.py:183: ImplicitModificationWarning: Transforming to str index.\n",
      "  warnings.warn(\"Transforming to str index.\", ImplicitModificationWarning)\n",
      "/tmp/ipykernel_1784660/3185901811.py:15: ResourceWarning: unclosed file <_io.BufferedReader name='/home/share/huadjyin/home/s_qiuping1/workspace/omics_model/bio_model/biollm/case/result/anno/scgpt/kidney/predict_list.pk'>\n",
      "  predict_label = pickle.load(open(path + 'predict_list.pk', 'rb'))\n"
     ]
    },
    {
     "name": "stdout",
     "output_type": "stream",
     "text": [
      "eye 0.9975521958243341 0.9789610629273074\n"
     ]
    },
    {
     "name": "stderr",
     "output_type": "stream",
     "text": [
      "/home/share/huadjyin/home/s_qiuping1/app/miniconda3/envs/scgpt/lib/python3.9/site-packages/anndata/_core/anndata.py:183: ImplicitModificationWarning: Transforming to str index.\n",
      "  warnings.warn(\"Transforming to str index.\", ImplicitModificationWarning)\n"
     ]
    },
    {
     "name": "stdout",
     "output_type": "stream",
     "text": [
      "kidney 0.9805090006207324 0.9333435426461262\n"
     ]
    },
    {
     "name": "stderr",
     "output_type": "stream",
     "text": [
      "/tmp/ipykernel_1784660/3185901811.py:15: ResourceWarning: unclosed file <_io.BufferedReader name='/home/share/huadjyin/home/s_qiuping1/workspace/omics_model/bio_model/biollm/case/result/anno/scgpt/prostate_gland/predict_list.pk'>\n",
      "  predict_label = pickle.load(open(path + 'predict_list.pk', 'rb'))\n",
      "/home/share/huadjyin/home/s_qiuping1/app/miniconda3/envs/scgpt/lib/python3.9/site-packages/anndata/_core/anndata.py:183: ImplicitModificationWarning: Transforming to str index.\n",
      "  warnings.warn(\"Transforming to str index.\", ImplicitModificationWarning)\n"
     ]
    },
    {
     "name": "stdout",
     "output_type": "stream",
     "text": [
      "prostate_gland 0.9037205679707627 0.8282034287843093\n"
     ]
    },
    {
     "name": "stderr",
     "output_type": "stream",
     "text": [
      "/tmp/ipykernel_1784660/3185901811.py:15: ResourceWarning: unclosed file <_io.BufferedReader name='/home/share/huadjyin/home/s_qiuping1/workspace/omics_model/bio_model/biollm/case/result/anno/scgpt/spleen/predict_list.pk'>\n",
      "  predict_label = pickle.load(open(path + 'predict_list.pk', 'rb'))\n"
     ]
    },
    {
     "name": "stdout",
     "output_type": "stream",
     "text": [
      "spleen 0.872533418204965 0.8339628200617204\n"
     ]
    },
    {
     "name": "stderr",
     "output_type": "stream",
     "text": [
      "/tmp/ipykernel_1784660/3185901811.py:15: ResourceWarning: unclosed file <_io.BufferedReader name='/home/share/huadjyin/home/s_qiuping1/workspace/omics_model/bio_model/biollm/case/result/anno/scgpt/esophagus/predict_list.pk'>\n",
      "  predict_label = pickle.load(open(path + 'predict_list.pk', 'rb'))\n"
     ]
    },
    {
     "name": "stdout",
     "output_type": "stream",
     "text": [
      "esophagus 0.9589562844636462 0.9414576856228037\n"
     ]
    },
    {
     "name": "stderr",
     "output_type": "stream",
     "text": [
      "/tmp/ipykernel_1784660/3185901811.py:15: ResourceWarning: unclosed file <_io.BufferedReader name='/home/share/huadjyin/home/s_qiuping1/workspace/omics_model/bio_model/biollm/case/result/anno/scgpt/immune_system/predict_list.pk'>\n",
      "  predict_label = pickle.load(open(path + 'predict_list.pk', 'rb'))\n",
      "/home/share/huadjyin/home/s_qiuping1/app/miniconda3/envs/scgpt/lib/python3.9/site-packages/anndata/_core/anndata.py:183: ImplicitModificationWarning: Transforming to str index.\n",
      "  warnings.warn(\"Transforming to str index.\", ImplicitModificationWarning)\n",
      "/tmp/ipykernel_1784660/3185901811.py:15: ResourceWarning: unclosed file <_io.BufferedReader name='/home/share/huadjyin/home/s_qiuping1/workspace/omics_model/bio_model/biollm/case/result/anno/scgpt/mucosa/predict_list.pk'>\n",
      "  predict_label = pickle.load(open(path + 'predict_list.pk', 'rb'))\n"
     ]
    },
    {
     "name": "stdout",
     "output_type": "stream",
     "text": [
      "immune_system 0.9009658132760999 0.8811401661572664\n"
     ]
    },
    {
     "name": "stderr",
     "output_type": "stream",
     "text": [
      "/home/share/huadjyin/home/s_qiuping1/app/miniconda3/envs/scgpt/lib/python3.9/site-packages/anndata/_core/anndata.py:183: ImplicitModificationWarning: Transforming to str index.\n",
      "  warnings.warn(\"Transforming to str index.\", ImplicitModificationWarning)\n",
      "/home/share/huadjyin/home/s_qiuping1/app/miniconda3/envs/scgpt/lib/python3.9/site-packages/sklearn/metrics/_classification.py:1471: UndefinedMetricWarning: Precision is ill-defined and being set to 0.0 in labels with no predicted samples. Use `zero_division` parameter to control this behavior.\n",
      "  _warn_prf(average, modifier, msg_start, len(result))\n",
      "/tmp/ipykernel_1784660/3185901811.py:15: ResourceWarning: unclosed file <_io.BufferedReader name='/home/share/huadjyin/home/s_qiuping1/workspace/omics_model/bio_model/biollm/case/result/anno/scgpt/small_intestine/predict_list.pk'>\n",
      "  predict_label = pickle.load(open(path + 'predict_list.pk', 'rb'))\n"
     ]
    },
    {
     "name": "stdout",
     "output_type": "stream",
     "text": [
      "mucosa 0.052584375737550156 0.01968183906560851\n"
     ]
    },
    {
     "name": "stderr",
     "output_type": "stream",
     "text": [
      "/home/share/huadjyin/home/s_qiuping1/app/miniconda3/envs/scgpt/lib/python3.9/site-packages/anndata/_core/anndata.py:183: ImplicitModificationWarning: Transforming to str index.\n",
      "  warnings.warn(\"Transforming to str index.\", ImplicitModificationWarning)\n",
      "/home/share/huadjyin/home/s_qiuping1/app/miniconda3/envs/scgpt/lib/python3.9/site-packages/sklearn/metrics/_classification.py:1471: UndefinedMetricWarning: Precision is ill-defined and being set to 0.0 in labels with no predicted samples. Use `zero_division` parameter to control this behavior.\n",
      "  _warn_prf(average, modifier, msg_start, len(result))\n",
      "/tmp/ipykernel_1784660/3185901811.py:15: ResourceWarning: unclosed file <_io.BufferedReader name='/home/share/huadjyin/home/s_qiuping1/workspace/omics_model/bio_model/biollm/case/result/anno/scgpt/lung/predict_list.pk'>\n",
      "  predict_label = pickle.load(open(path + 'predict_list.pk', 'rb'))\n"
     ]
    },
    {
     "name": "stdout",
     "output_type": "stream",
     "text": [
      "small_intestine 0.01686049746814312 0.009264851804849311\n",
      "lung 0.9711808212190768 0.9516423313207573\n",
      "defaultdict(<class 'list'>, {'dataset': ['colon', 'eye', 'kidney', 'prostate_gland', 'spleen', 'esophagus', 'immune_system', 'mucosa', 'small_intestine', 'lung'], 'acc': [0.93429, 0.99755, 0.98051, 0.90372, 0.87253, 0.95896, 0.90097, 0.05258, 0.01686, 0.97118], 'precision': [0.64671, 0.98322, 0.9292, 0.82822, 0.81385, 0.94063, 0.87925, 0.04435, 0.03194, 0.94468], 'recall': [0.63834, 0.97628, 0.94696, 0.8312, 0.86087, 0.94311, 0.89097, 0.04706, 0.03872, 0.95955], 'f1': [0.63879, 0.97896, 0.93334, 0.8282, 0.83396, 0.94146, 0.88114, 0.01968, 0.00926, 0.95164]})\n",
      "           dataset      acc  precision   recall       f1\n",
      "0            colon  0.93429    0.64671  0.63834  0.63879\n",
      "1              eye  0.99755    0.98322  0.97628  0.97896\n",
      "2           kidney  0.98051    0.92920  0.94696  0.93334\n",
      "3   prostate_gland  0.90372    0.82822  0.83120  0.82820\n",
      "4           spleen  0.87253    0.81385  0.86087  0.83396\n",
      "5        esophagus  0.95896    0.94063  0.94311  0.94146\n",
      "6    immune_system  0.90097    0.87925  0.89097  0.88114\n",
      "7           mucosa  0.05258    0.04435  0.04706  0.01968\n",
      "8  small_intestine  0.01686    0.03194  0.03872  0.00926\n",
      "9             lung  0.97118    0.94468  0.95955  0.95164\n"
     ]
    }
   ],
   "source": [
    "from biollm.task.annotation.anno_task_scgpt import AnnoTaskScgpt\n",
    "import scanpy as sc\n",
    "import pickle\n",
    "from sklearn.metrics import accuracy_score, f1_score\n",
    "from collections import defaultdict\n",
    "import pandas as pd\n",
    "organs = \"colon,eye,kidney,prostate_gland,spleen,esophagus,immune_system,mucosa,small_intestine,lung\"\n",
    "result = defaultdict(list)\n",
    "for i in organs.split(','):\n",
    "  try:\n",
    "    # config_file = f'./configs/organs/predict/scgpt_{i}.toml'\n",
    "    # task = AnnoTaskScgpt(config_file)\n",
    "    # task.run()\n",
    "    path = f'/home/share/huadjyin/home/s_qiuping1/workspace/omics_model/bio_model/biollm/case/result/anno/scgpt/{i}/'\n",
    "    predict_label = pickle.load(open(path + 'predict_list.pk', 'rb'))\n",
    "    adata = sc.read_h5ad(f'/home/share/huadjyin/home/s_qiuping1/workspace/omics_model/bio_model/biollm/case/data/annotation/human/organs/{i}/test.h5ad')\n",
    "    labels = adata.obs['cell_type_ontology_term_id'].values\n",
    "    acc = accuracy_score(labels, predict_label)\n",
    "    macro_f1 = f1_score(labels, predict_label, average='macro')\n",
    "    recall = recall_score(labels, predict_label, average='macro')\n",
    "    precision = precision_score(labels, predict_label, average='macro')\n",
    "    # result[i] = {'acc': '%.5f'% acc, \n",
    "    #              'macro_precision': '%.5f'% precision,\n",
    "    #              'macro_recall': '%.5f'% recall,\n",
    "    #              'macro_f1': '%.5f'% macro_f1}\n",
    "    result['dataset'].append(i)\n",
    "    result['acc'].append(float('%.5f'% acc))\n",
    "    result['precision'].append(float('%.5f'% precision))\n",
    "    result['recall'].append(float('%.5f'% recall))\n",
    "    result['f1'].append(float('%.5f'% macro_f1))\n",
    "    print(i, acc, macro_f1)\n",
    "  except Exception as e:\n",
    "    print('error:', i, e)\n",
    "print(result)\n",
    "df = pd.DataFrame(result)\n",
    "print(df)"
   ],
   "metadata": {
    "collapsed": false,
    "ExecuteTime": {
     "end_time": "2024-07-16T02:54:48.661636Z",
     "start_time": "2024-07-16T02:54:41.210454Z"
    }
   },
   "id": "dd55a9d66f1fc983",
   "execution_count": 18
  },
  {
   "cell_type": "markdown",
   "source": [
    "# geneformer"
   ],
   "metadata": {
    "collapsed": false
   },
   "id": "fbd32fd6cb223f04"
  },
  {
   "cell_type": "code",
   "outputs": [
    {
     "name": "stderr",
     "output_type": "stream",
     "text": [
      "/home/share/huadjyin/home/s_qiuping1/app/miniconda3/envs/scgpt/lib/python3.9/site-packages/anndata/_core/anndata.py:183: ImplicitModificationWarning: Transforming to str index.\n",
      "  warnings.warn(\"Transforming to str index.\", ImplicitModificationWarning)\n"
     ]
    },
    {
     "data": {
      "text/plain": "{'accuracy': 0.9930885529157667, 'macro_f1': 0.9480988845143667}"
     },
     "execution_count": 10,
     "metadata": {},
     "output_type": "execute_result"
    }
   ],
   "source": [
    "\n",
    "import scanpy as sc\n",
    "import pickle\n",
    "from sklearn.metrics import accuracy_score, f1_score\n",
    "\n",
    "from biollm.task.annotation.anno_task_gf import AnnoTask\n",
    "import sys\n",
    "import os\n",
    "\n",
    "os.environ['CUDA_VISIBLE_DEVICES'] = '1,2,3'\n",
    "config_file = './configs/gf.toml'\n",
    "task = AnnoTask(config_file)\n",
    "task.run()\n",
    "\n",
    "predict_label = pickle.load(open('../../case/result/anno/geneformer/eye/predict_list.pk', 'rb'))\n",
    "adata = sc.read_h5ad('/home/share/huadjyin/home/s_qiuping1/workspace/omics_model/bio_model/biollm/case/data/annotation/human/organs/eye/test.h5ad')\n",
    "\n",
    "labels = adata.obs['cell_type_ontology_term_id'].values\n",
    "\n",
    "acc = accuracy_score(labels, predict_label)\n",
    "macro_f1 = f1_score(labels, predict_label, average='macro')\n",
    "{\n",
    "  'accuracy': acc,\n",
    "  'macro_f1': macro_f1\n",
    "}"
   ],
   "metadata": {
    "collapsed": false,
    "ExecuteTime": {
     "end_time": "2024-07-10T07:40:52.383341Z",
     "start_time": "2024-07-10T07:40:51.845604Z"
    }
   },
   "id": "9eeab5762920aa3b",
   "execution_count": 10
  },
  {
   "cell_type": "code",
   "outputs": [
    {
     "name": "stderr",
     "output_type": "stream",
     "text": [
      "/tmp/ipykernel_1784660/871604982.py:14: ResourceWarning: unclosed file <_io.BufferedReader name='/home/share/huadjyin/home/s_qiuping1/workspace/omics_model/bio_model/biollm/case/result/anno/geneformer/colon/predict_list.pk'>\n",
      "  predict_label = pickle.load(open(path + 'predict_list.pk', 'rb'))\n",
      "/home/share/huadjyin/home/s_qiuping1/app/miniconda3/envs/scgpt/lib/python3.9/site-packages/anndata/_core/anndata.py:183: ImplicitModificationWarning: Transforming to str index.\n",
      "  warnings.warn(\"Transforming to str index.\", ImplicitModificationWarning)\n",
      "/home/share/huadjyin/home/s_qiuping1/app/miniconda3/envs/scgpt/lib/python3.9/site-packages/sklearn/metrics/_classification.py:1471: UndefinedMetricWarning: Precision is ill-defined and being set to 0.0 in labels with no predicted samples. Use `zero_division` parameter to control this behavior.\n",
      "  _warn_prf(average, modifier, msg_start, len(result))\n",
      "/tmp/ipykernel_1784660/871604982.py:14: ResourceWarning: unclosed file <_io.BufferedReader name='/home/share/huadjyin/home/s_qiuping1/workspace/omics_model/bio_model/biollm/case/result/anno/geneformer/eye/predict_list.pk'>\n",
      "  predict_label = pickle.load(open(path + 'predict_list.pk', 'rb'))\n"
     ]
    },
    {
     "name": "stdout",
     "output_type": "stream",
     "text": [
      "colon 0.9263838964773544 0.38453001422951993\n"
     ]
    },
    {
     "name": "stderr",
     "output_type": "stream",
     "text": [
      "/home/share/huadjyin/home/s_qiuping1/app/miniconda3/envs/scgpt/lib/python3.9/site-packages/anndata/_core/anndata.py:183: ImplicitModificationWarning: Transforming to str index.\n",
      "  warnings.warn(\"Transforming to str index.\", ImplicitModificationWarning)\n",
      "/tmp/ipykernel_1784660/871604982.py:14: ResourceWarning: unclosed file <_io.BufferedReader name='/home/share/huadjyin/home/s_qiuping1/workspace/omics_model/bio_model/biollm/case/result/anno/geneformer/kidney/predict_list.pk'>\n",
      "  predict_label = pickle.load(open(path + 'predict_list.pk', 'rb'))\n"
     ]
    },
    {
     "name": "stdout",
     "output_type": "stream",
     "text": [
      "eye 0.9952483801295896 0.9730444135451617\n"
     ]
    },
    {
     "name": "stderr",
     "output_type": "stream",
     "text": [
      "/home/share/huadjyin/home/s_qiuping1/app/miniconda3/envs/scgpt/lib/python3.9/site-packages/anndata/_core/anndata.py:183: ImplicitModificationWarning: Transforming to str index.\n",
      "  warnings.warn(\"Transforming to str index.\", ImplicitModificationWarning)\n",
      "/home/share/huadjyin/home/s_qiuping1/app/miniconda3/envs/scgpt/lib/python3.9/site-packages/sklearn/metrics/_classification.py:1471: UndefinedMetricWarning: Precision is ill-defined and being set to 0.0 in labels with no predicted samples. Use `zero_division` parameter to control this behavior.\n",
      "  _warn_prf(average, modifier, msg_start, len(result))\n",
      "/tmp/ipykernel_1784660/871604982.py:14: ResourceWarning: unclosed file <_io.BufferedReader name='/home/share/huadjyin/home/s_qiuping1/workspace/omics_model/bio_model/biollm/case/result/anno/geneformer/prostate_gland/predict_list.pk'>\n",
      "  predict_label = pickle.load(open(path + 'predict_list.pk', 'rb'))\n"
     ]
    },
    {
     "name": "stdout",
     "output_type": "stream",
     "text": [
      "kidney 0.9623836126629423 0.7280475928438203\n"
     ]
    },
    {
     "name": "stderr",
     "output_type": "stream",
     "text": [
      "/home/share/huadjyin/home/s_qiuping1/app/miniconda3/envs/scgpt/lib/python3.9/site-packages/anndata/_core/anndata.py:183: ImplicitModificationWarning: Transforming to str index.\n",
      "  warnings.warn(\"Transforming to str index.\", ImplicitModificationWarning)\n",
      "/home/share/huadjyin/home/s_qiuping1/app/miniconda3/envs/scgpt/lib/python3.9/site-packages/sklearn/metrics/_classification.py:1471: UndefinedMetricWarning: Precision is ill-defined and being set to 0.0 in labels with no predicted samples. Use `zero_division` parameter to control this behavior.\n",
      "  _warn_prf(average, modifier, msg_start, len(result))\n",
      "/tmp/ipykernel_1784660/871604982.py:14: ResourceWarning: unclosed file <_io.BufferedReader name='/home/share/huadjyin/home/s_qiuping1/workspace/omics_model/bio_model/biollm/case/result/anno/geneformer/spleen/predict_list.pk'>\n",
      "  predict_label = pickle.load(open(path + 'predict_list.pk', 'rb'))\n"
     ]
    },
    {
     "name": "stdout",
     "output_type": "stream",
     "text": [
      "prostate_gland 0.885027859325385 0.6554479038731893\n",
      "spleen 0.8417144069594737 0.7697397106259642\n"
     ]
    },
    {
     "name": "stderr",
     "output_type": "stream",
     "text": [
      "/tmp/ipykernel_1784660/871604982.py:14: ResourceWarning: unclosed file <_io.BufferedReader name='/home/share/huadjyin/home/s_qiuping1/workspace/omics_model/bio_model/biollm/case/result/anno/geneformer/esophagus/predict_list.pk'>\n",
      "  predict_label = pickle.load(open(path + 'predict_list.pk', 'rb'))\n"
     ]
    },
    {
     "name": "stdout",
     "output_type": "stream",
     "text": [
      "esophagus 0.9509976692626911 0.8545624567133968\n"
     ]
    },
    {
     "name": "stderr",
     "output_type": "stream",
     "text": [
      "/tmp/ipykernel_1784660/871604982.py:14: ResourceWarning: unclosed file <_io.BufferedReader name='/home/share/huadjyin/home/s_qiuping1/workspace/omics_model/bio_model/biollm/case/result/anno/geneformer/immune_system/predict_list.pk'>\n",
      "  predict_label = pickle.load(open(path + 'predict_list.pk', 'rb'))\n",
      "/home/share/huadjyin/home/s_qiuping1/app/miniconda3/envs/scgpt/lib/python3.9/site-packages/anndata/_core/anndata.py:183: ImplicitModificationWarning: Transforming to str index.\n",
      "  warnings.warn(\"Transforming to str index.\", ImplicitModificationWarning)\n",
      "/home/share/huadjyin/home/s_qiuping1/app/miniconda3/envs/scgpt/lib/python3.9/site-packages/sklearn/metrics/_classification.py:1471: UndefinedMetricWarning: Precision is ill-defined and being set to 0.0 in labels with no predicted samples. Use `zero_division` parameter to control this behavior.\n",
      "  _warn_prf(average, modifier, msg_start, len(result))\n",
      "/tmp/ipykernel_1784660/871604982.py:14: ResourceWarning: unclosed file <_io.BufferedReader name='/home/share/huadjyin/home/s_qiuping1/workspace/omics_model/bio_model/biollm/case/result/anno/geneformer/mucosa/predict_list.pk'>\n",
      "  predict_label = pickle.load(open(path + 'predict_list.pk', 'rb'))\n"
     ]
    },
    {
     "name": "stdout",
     "output_type": "stream",
     "text": [
      "immune_system 0.8620266748428637 0.6180953440678818\n"
     ]
    },
    {
     "name": "stderr",
     "output_type": "stream",
     "text": [
      "/home/share/huadjyin/home/s_qiuping1/app/miniconda3/envs/scgpt/lib/python3.9/site-packages/anndata/_core/anndata.py:183: ImplicitModificationWarning: Transforming to str index.\n",
      "  warnings.warn(\"Transforming to str index.\", ImplicitModificationWarning)\n",
      "/home/share/huadjyin/home/s_qiuping1/app/miniconda3/envs/scgpt/lib/python3.9/site-packages/sklearn/metrics/_classification.py:1471: UndefinedMetricWarning: Precision is ill-defined and being set to 0.0 in labels with no predicted samples. Use `zero_division` parameter to control this behavior.\n",
      "  _warn_prf(average, modifier, msg_start, len(result))\n",
      "/tmp/ipykernel_1784660/871604982.py:14: ResourceWarning: unclosed file <_io.BufferedReader name='/home/share/huadjyin/home/s_qiuping1/workspace/omics_model/bio_model/biollm/case/result/anno/geneformer/small_intestine/predict_list.pk'>\n",
      "  predict_label = pickle.load(open(path + 'predict_list.pk', 'rb'))\n"
     ]
    },
    {
     "name": "stdout",
     "output_type": "stream",
     "text": [
      "mucosa 0.9037998583903706 0.7279752766473833\n"
     ]
    },
    {
     "name": "stderr",
     "output_type": "stream",
     "text": [
      "/home/share/huadjyin/home/s_qiuping1/app/miniconda3/envs/scgpt/lib/python3.9/site-packages/anndata/_core/anndata.py:183: ImplicitModificationWarning: Transforming to str index.\n",
      "  warnings.warn(\"Transforming to str index.\", ImplicitModificationWarning)\n",
      "/home/share/huadjyin/home/s_qiuping1/app/miniconda3/envs/scgpt/lib/python3.9/site-packages/sklearn/metrics/_classification.py:1471: UndefinedMetricWarning: Precision is ill-defined and being set to 0.0 in labels with no predicted samples. Use `zero_division` parameter to control this behavior.\n",
      "  _warn_prf(average, modifier, msg_start, len(result))\n",
      "/tmp/ipykernel_1784660/871604982.py:14: ResourceWarning: unclosed file <_io.BufferedReader name='/home/share/huadjyin/home/s_qiuping1/workspace/omics_model/bio_model/biollm/case/result/anno/geneformer/lung/predict_list.pk'>\n",
      "  predict_label = pickle.load(open(path + 'predict_list.pk', 'rb'))\n"
     ]
    },
    {
     "name": "stdout",
     "output_type": "stream",
     "text": [
      "small_intestine 0.940348338990596 0.7327653640246029\n",
      "lung 0.9500127518490181 0.806195585001035\n",
      "           dataset      acc  precision   recall       f1\n",
      "0            colon  0.92638    0.37456  0.40417  0.38453\n",
      "1              eye  0.99525    0.98444  0.96670  0.97304\n",
      "2           kidney  0.96238    0.78349  0.72899  0.72805\n",
      "3   prostate_gland  0.88503    0.69606  0.66519  0.65545\n",
      "4           spleen  0.84171    0.80214  0.75152  0.76974\n",
      "5        esophagus  0.95100    0.89261  0.83382  0.85456\n",
      "6    immune_system  0.86203    0.63798  0.62403  0.61810\n",
      "7           mucosa  0.90380    0.74591  0.72906  0.72798\n",
      "8  small_intestine  0.94035    0.76005  0.72624  0.73277\n",
      "9             lung  0.95001    0.82169  0.79557  0.80620\n"
     ]
    },
    {
     "name": "stderr",
     "output_type": "stream",
     "text": [
      "/home/share/huadjyin/home/s_qiuping1/app/miniconda3/envs/scgpt/lib/python3.9/site-packages/sklearn/metrics/_classification.py:1471: UndefinedMetricWarning: Precision is ill-defined and being set to 0.0 in labels with no predicted samples. Use `zero_division` parameter to control this behavior.\n",
      "  _warn_prf(average, modifier, msg_start, len(result))\n"
     ]
    }
   ],
   "source": [
    "\n",
    "import scanpy as sc\n",
    "import pickle\n",
    "from sklearn.metrics import accuracy_score, f1_score\n",
    "from collections import defaultdict\n",
    "import pandas as pd\n",
    "organs = \"colon,eye,kidney,prostate_gland,spleen,esophagus,immune_system,mucosa,small_intestine,lung\"\n",
    "result = defaultdict(list)\n",
    "for i in organs.split(','):\n",
    "  try:\n",
    "    # config_file = f'./configs/organs/predict/scgpt_{i}.toml'\n",
    "    # task = AnnoTaskScgpt(config_file)\n",
    "    # task.run()\n",
    "    path = f'/home/share/huadjyin/home/s_qiuping1/workspace/omics_model/bio_model/biollm/case/result/anno/geneformer/{i}/'\n",
    "    predict_label = pickle.load(open(path + 'predict_list.pk', 'rb'))\n",
    "    adata = sc.read_h5ad(f'/home/share/huadjyin/home/s_qiuping1/workspace/omics_model/bio_model/biollm/case/data/annotation/human/organs/{i}/test.h5ad')\n",
    "    labels = adata.obs['cell_type_ontology_term_id'].values\n",
    "    acc = accuracy_score(labels, predict_label)\n",
    "    macro_f1 = f1_score(labels, predict_label, average='macro')\n",
    "    recall = recall_score(labels, predict_label, average='macro')\n",
    "    precision = precision_score(labels, predict_label, average='macro')\n",
    "    # result[i] = {'acc': '%.5f'% acc, \n",
    "    #              'macro_precision': '%.5f'% precision,\n",
    "    #              'macro_recall': '%.5f'% recall,\n",
    "    #              'macro_f1': '%.5f'% macro_f1}\n",
    "    result['dataset'].append(i)\n",
    "    result['acc'].append(float('%.5f'% acc))\n",
    "    result['precision'].append(float('%.5f'% precision))\n",
    "    result['recall'].append(float('%.5f'% recall))\n",
    "    result['f1'].append(float('%.5f'% macro_f1))\n",
    "    print(i, acc, macro_f1)\n",
    "  except Exception as e:\n",
    "    print('error:', i, e)\n",
    "df = pd.DataFrame(result)\n",
    "print(df)"
   ],
   "metadata": {
    "collapsed": false,
    "ExecuteTime": {
     "end_time": "2024-07-15T09:02:13.835289Z",
     "start_time": "2024-07-15T09:02:06.005059Z"
    }
   },
   "id": "c013cfef3efda86a",
   "execution_count": 14
  },
  {
   "cell_type": "markdown",
   "source": [
    "# scfoundation"
   ],
   "metadata": {
    "collapsed": false
   },
   "id": "e69ff80c36ef5a8e"
  },
  {
   "cell_type": "code",
   "outputs": [
    {
     "name": "stderr",
     "output_type": "stream",
     "text": [
      "/tmp/ipykernel_1784660/1068395201.py:15: ResourceWarning: unclosed file <_io.BufferedReader name='/home/share/huadjyin/home/s_qiuping1/workspace/omics_model/bio_model/biollm/case/result/anno/scf/all_genes/colon/predict_list.pk'>\n",
      "  predict_label = pickle.load(open(path + 'predict_list.pk', 'rb'))\n",
      "/home/share/huadjyin/home/s_qiuping1/app/miniconda3/envs/scgpt/lib/python3.9/site-packages/anndata/_core/anndata.py:183: ImplicitModificationWarning: Transforming to str index.\n",
      "  warnings.warn(\"Transforming to str index.\", ImplicitModificationWarning)\n",
      "/home/share/huadjyin/home/s_qiuping1/app/miniconda3/envs/scgpt/lib/python3.9/site-packages/sklearn/metrics/_classification.py:1471: UndefinedMetricWarning: Precision is ill-defined and being set to 0.0 in labels with no predicted samples. Use `zero_division` parameter to control this behavior.\n",
      "  _warn_prf(average, modifier, msg_start, len(result))\n",
      "/tmp/ipykernel_1784660/1068395201.py:15: ResourceWarning: unclosed file <_io.BufferedReader name='/home/share/huadjyin/home/s_qiuping1/workspace/omics_model/bio_model/biollm/case/result/anno/scf/all_genes/eye/predict_list.pk'>\n",
      "  predict_label = pickle.load(open(path + 'predict_list.pk', 'rb'))\n"
     ]
    },
    {
     "name": "stdout",
     "output_type": "stream",
     "text": [
      "colon 0.9061107117181884 0.42582745570416775\n"
     ]
    },
    {
     "name": "stderr",
     "output_type": "stream",
     "text": [
      "/home/share/huadjyin/home/s_qiuping1/app/miniconda3/envs/scgpt/lib/python3.9/site-packages/anndata/_core/anndata.py:183: ImplicitModificationWarning: Transforming to str index.\n",
      "  warnings.warn(\"Transforming to str index.\", ImplicitModificationWarning)\n",
      "/home/share/huadjyin/home/s_qiuping1/app/miniconda3/envs/scgpt/lib/python3.9/site-packages/sklearn/metrics/_classification.py:1471: UndefinedMetricWarning: Precision is ill-defined and being set to 0.0 in labels with no predicted samples. Use `zero_division` parameter to control this behavior.\n",
      "  _warn_prf(average, modifier, msg_start, len(result))\n",
      "/tmp/ipykernel_1784660/1068395201.py:15: ResourceWarning: unclosed file <_io.BufferedReader name='/home/share/huadjyin/home/s_qiuping1/workspace/omics_model/bio_model/biollm/case/result/anno/scf/all_genes/kidney/predict_list.pk'>\n",
      "  predict_label = pickle.load(open(path + 'predict_list.pk', 'rb'))\n"
     ]
    },
    {
     "name": "stdout",
     "output_type": "stream",
     "text": [
      "eye 0.3670266378689705 0.027342514653687033\n"
     ]
    },
    {
     "name": "stderr",
     "output_type": "stream",
     "text": [
      "/home/share/huadjyin/home/s_qiuping1/app/miniconda3/envs/scgpt/lib/python3.9/site-packages/anndata/_core/anndata.py:183: ImplicitModificationWarning: Transforming to str index.\n",
      "  warnings.warn(\"Transforming to str index.\", ImplicitModificationWarning)\n",
      "/home/share/huadjyin/home/s_qiuping1/app/miniconda3/envs/scgpt/lib/python3.9/site-packages/sklearn/metrics/_classification.py:1471: UndefinedMetricWarning: Precision is ill-defined and being set to 0.0 in labels with no predicted samples. Use `zero_division` parameter to control this behavior.\n",
      "  _warn_prf(average, modifier, msg_start, len(result))\n",
      "/tmp/ipykernel_1784660/1068395201.py:15: ResourceWarning: unclosed file <_io.BufferedReader name='/home/share/huadjyin/home/s_qiuping1/workspace/omics_model/bio_model/biollm/case/result/anno/scf/all_genes/prostate_gland/predict_list.pk'>\n",
      "  predict_label = pickle.load(open(path + 'predict_list.pk', 'rb'))\n"
     ]
    },
    {
     "name": "stdout",
     "output_type": "stream",
     "text": [
      "kidney 0.7718187461204221 0.2122279378582768\n"
     ]
    },
    {
     "name": "stderr",
     "output_type": "stream",
     "text": [
      "/home/share/huadjyin/home/s_qiuping1/app/miniconda3/envs/scgpt/lib/python3.9/site-packages/anndata/_core/anndata.py:183: ImplicitModificationWarning: Transforming to str index.\n",
      "  warnings.warn(\"Transforming to str index.\", ImplicitModificationWarning)\n",
      "/home/share/huadjyin/home/s_qiuping1/app/miniconda3/envs/scgpt/lib/python3.9/site-packages/sklearn/metrics/_classification.py:1471: UndefinedMetricWarning: Precision is ill-defined and being set to 0.0 in labels with no predicted samples. Use `zero_division` parameter to control this behavior.\n",
      "  _warn_prf(average, modifier, msg_start, len(result))\n",
      "/tmp/ipykernel_1784660/1068395201.py:15: ResourceWarning: unclosed file <_io.BufferedReader name='/home/share/huadjyin/home/s_qiuping1/workspace/omics_model/bio_model/biollm/case/result/anno/scf/all_genes/spleen/predict_list.pk'>\n",
      "  predict_label = pickle.load(open(path + 'predict_list.pk', 'rb'))\n"
     ]
    },
    {
     "name": "stdout",
     "output_type": "stream",
     "text": [
      "prostate_gland 0.47486669462584624 0.18481240349863617\n",
      "spleen 0.7500530447697857 0.5419625422555278\n"
     ]
    },
    {
     "name": "stderr",
     "output_type": "stream",
     "text": [
      "/tmp/ipykernel_1784660/1068395201.py:15: ResourceWarning: unclosed file <_io.BufferedReader name='/home/share/huadjyin/home/s_qiuping1/workspace/omics_model/bio_model/biollm/case/result/anno/scf/all_genes/esophagus/predict_list.pk'>\n",
      "  predict_label = pickle.load(open(path + 'predict_list.pk', 'rb'))\n",
      "/home/share/huadjyin/home/s_qiuping1/app/miniconda3/envs/scgpt/lib/python3.9/site-packages/sklearn/metrics/_classification.py:1471: UndefinedMetricWarning: Precision is ill-defined and being set to 0.0 in labels with no predicted samples. Use `zero_division` parameter to control this behavior.\n",
      "  _warn_prf(average, modifier, msg_start, len(result))\n",
      "/tmp/ipykernel_1784660/1068395201.py:15: ResourceWarning: unclosed file <_io.BufferedReader name='/home/share/huadjyin/home/s_qiuping1/workspace/omics_model/bio_model/biollm/case/result/anno/scf/all_genes/immune_system/predict_list.pk'>\n",
      "  predict_label = pickle.load(open(path + 'predict_list.pk', 'rb'))\n"
     ]
    },
    {
     "name": "stdout",
     "output_type": "stream",
     "text": [
      "esophagus 0.5925189017111022 0.16074353425252313\n"
     ]
    },
    {
     "name": "stderr",
     "output_type": "stream",
     "text": [
      "/home/share/huadjyin/home/s_qiuping1/app/miniconda3/envs/scgpt/lib/python3.9/site-packages/anndata/_core/anndata.py:183: ImplicitModificationWarning: Transforming to str index.\n",
      "  warnings.warn(\"Transforming to str index.\", ImplicitModificationWarning)\n",
      "/home/share/huadjyin/home/s_qiuping1/app/miniconda3/envs/scgpt/lib/python3.9/site-packages/sklearn/metrics/_classification.py:1471: UndefinedMetricWarning: Precision is ill-defined and being set to 0.0 in labels with no predicted samples. Use `zero_division` parameter to control this behavior.\n",
      "  _warn_prf(average, modifier, msg_start, len(result))\n",
      "/tmp/ipykernel_1784660/1068395201.py:15: ResourceWarning: unclosed file <_io.BufferedReader name='/home/share/huadjyin/home/s_qiuping1/workspace/omics_model/bio_model/biollm/case/result/anno/scf/all_genes/small_intestine/predict_list.pk'>\n",
      "  predict_label = pickle.load(open(path + 'predict_list.pk', 'rb'))\n"
     ]
    },
    {
     "name": "stdout",
     "output_type": "stream",
     "text": [
      "immune_system 0.6711635750421585 0.31657379536652114\n",
      "error: mucosa [Errno 2] No such file or directory: '/home/share/huadjyin/home/s_qiuping1/workspace/omics_model/bio_model/biollm/case/result/anno/scf/all_genes/mucosa/predict_list.pk'\n"
     ]
    },
    {
     "name": "stderr",
     "output_type": "stream",
     "text": [
      "/home/share/huadjyin/home/s_qiuping1/app/miniconda3/envs/scgpt/lib/python3.9/site-packages/anndata/_core/anndata.py:183: ImplicitModificationWarning: Transforming to str index.\n",
      "  warnings.warn(\"Transforming to str index.\", ImplicitModificationWarning)\n"
     ]
    },
    {
     "name": "stdout",
     "output_type": "stream",
     "text": [
      "small_intestine 0.8979466918924934 0.6384346019334894\n",
      "error: lung [Errno 2] No such file or directory: '/home/share/huadjyin/home/s_qiuping1/workspace/omics_model/bio_model/biollm/case/result/anno/scf/all_genes/lung/predict_list.pk'\n",
      "           dataset      acc  precision   recall       f1\n",
      "0            colon  0.90611    0.52571  0.40309  0.42583\n",
      "1              eye  0.36703    0.06831  0.05027  0.02734\n",
      "2           kidney  0.77182    0.63667  0.15779  0.21223\n",
      "3   prostate_gland  0.47487    0.44361  0.16407  0.18481\n",
      "4           spleen  0.75005    0.75311  0.51187  0.54196\n",
      "5        esophagus  0.59252    0.63301  0.13767  0.16074\n",
      "6    immune_system  0.67116    0.54019  0.34105  0.31657\n",
      "7  small_intestine  0.89795    0.77743  0.60216  0.63843\n"
     ]
    },
    {
     "name": "stderr",
     "output_type": "stream",
     "text": [
      "/home/share/huadjyin/home/s_qiuping1/app/miniconda3/envs/scgpt/lib/python3.9/site-packages/sklearn/metrics/_classification.py:1471: UndefinedMetricWarning: Precision is ill-defined and being set to 0.0 in labels with no predicted samples. Use `zero_division` parameter to control this behavior.\n",
      "  _warn_prf(average, modifier, msg_start, len(result))\n"
     ]
    }
   ],
   "source": [
    "from biollm.task.annotation.anno_task_scgpt import AnnoTaskScgpt\n",
    "import scanpy as sc\n",
    "import pickle\n",
    "from sklearn.metrics import accuracy_score, f1_score, recall_score, precision_score\n",
    "from collections import defaultdict\n",
    "import pandas as pd\n",
    "organs = \"colon,eye,kidney,prostate_gland,spleen,esophagus,immune_system,mucosa,small_intestine,lung\"\n",
    "result = defaultdict(list)\n",
    "for i in organs.split(','):\n",
    "  try:\n",
    "    # config_file = f'./configs/organs/predict/scgpt_{i}.toml'\n",
    "    # task = AnnoTaskScgpt(config_file)\n",
    "    # task.run()\n",
    "    path = f'/home/share/huadjyin/home/s_qiuping1/workspace/omics_model/bio_model/biollm/case/result/anno/scf/all_genes/{i}/'\n",
    "    predict_label = pickle.load(open(path + 'predict_list.pk', 'rb'))\n",
    "    adata = sc.read_h5ad(f'/home/share/huadjyin/home/s_qiuping1/workspace/omics_model/bio_model/biollm/case/data/annotation/human/organs/{i}/test.h5ad')\n",
    "    labels = adata.obs['cell_type_ontology_term_id'].values\n",
    "    acc = accuracy_score(labels, predict_label)\n",
    "    macro_f1 = f1_score(labels, predict_label, average='macro')\n",
    "    recall = recall_score(labels, predict_label, average='macro')\n",
    "    precision = precision_score(labels, predict_label, average='macro')\n",
    "    # result[i] = {'acc': '%.5f'% acc, \n",
    "    #              'macro_precision': '%.5f'% precision,\n",
    "    #              'macro_recall': '%.5f'% recall,\n",
    "    #              'macro_f1': '%.5f'% macro_f1}\n",
    "    result['dataset'].append(i)\n",
    "    result['acc'].append(float('%.5f'% acc))\n",
    "    result['precision'].append(float('%.5f'% precision))\n",
    "    result['recall'].append(float('%.5f'% recall))\n",
    "    result['f1'].append(float('%.5f'% macro_f1))\n",
    "    print(i, acc, macro_f1)\n",
    "  except Exception as e:\n",
    "    print('error:', i, e)\n",
    "df = pd.DataFrame(result)\n",
    "print(df)"
   ],
   "metadata": {
    "collapsed": false,
    "ExecuteTime": {
     "end_time": "2024-07-16T06:39:19.488563Z",
     "start_time": "2024-07-16T06:39:13.546073Z"
    }
   },
   "id": "ee89858c0632d87f",
   "execution_count": 19
  },
  {
   "cell_type": "code",
   "outputs": [
    {
     "name": "stdout",
     "output_type": "stream",
     "text": [
      "scbert\n",
      "AnnData object with n_obs × n_vars = 1949 × 15558\n",
      "    obs: 'batch', 'batchlb', 'celltype_orig', 'cellname', 'celltype', 'Celltype'\n",
      "    var: 'mean', 'std'\n",
      "    uns: 'log1p', 'pca'\n",
      "    obsm: 'X_pca'\n",
      "    varm: 'PCs'\n"
     ]
    },
    {
     "name": "stderr",
     "output_type": "stream",
     "text": [
      "/home/share/huadjyin/home/s_qiuping1/app/miniconda3/envs/scgpt/lib/python3.9/site-packages/sklearn/metrics/_classification.py:1471: UndefinedMetricWarning: Recall is ill-defined and being set to 0.0 in labels with no true samples. Use `zero_division` parameter to control this behavior.\n",
      "  _warn_prf(average, modifier, msg_start, len(result))\n",
      "/home/share/huadjyin/home/s_qiuping1/app/miniconda3/envs/scgpt/lib/python3.9/site-packages/sklearn/metrics/_classification.py:1471: UndefinedMetricWarning: Precision is ill-defined and being set to 0.0 in labels with no predicted samples. Use `zero_division` parameter to control this behavior.\n",
      "  _warn_prf(average, modifier, msg_start, len(result))\n",
      "/home/share/huadjyin/home/s_qiuping1/app/miniconda3/envs/scgpt/lib/python3.9/site-packages/sklearn/metrics/_classification.py:1471: UndefinedMetricWarning: Recall is ill-defined and being set to 0.0 in labels with no true samples. Use `zero_division` parameter to control this behavior.\n",
      "  _warn_prf(average, modifier, msg_start, len(result))\n"
     ]
    },
    {
     "name": "stdout",
     "output_type": "stream",
     "text": [
      "hpancreas_intra 0.9743458183683941 0.6307800875921667\n",
      "scgpt\n",
      "AnnData object with n_obs × n_vars = 1949 × 15558\n",
      "    obs: 'batch', 'batchlb', 'celltype_orig', 'cellname', 'celltype', 'Celltype'\n",
      "    var: 'mean', 'std'\n",
      "    uns: 'log1p', 'pca'\n",
      "    obsm: 'X_pca'\n",
      "    varm: 'PCs'\n",
      "hpancreas_intra 0.8065674704976912 0.3820318036663641\n",
      "geneformer\n",
      "AnnData object with n_obs × n_vars = 1949 × 15558\n",
      "    obs: 'batch', 'batchlb', 'celltype_orig', 'cellname', 'celltype', 'Celltype'\n",
      "    var: 'mean', 'std'\n",
      "    uns: 'log1p', 'pca'\n",
      "    obsm: 'X_pca'\n",
      "    varm: 'PCs'\n"
     ]
    },
    {
     "name": "stderr",
     "output_type": "stream",
     "text": [
      "/home/share/huadjyin/home/s_qiuping1/app/miniconda3/envs/scgpt/lib/python3.9/site-packages/sklearn/metrics/_classification.py:1471: UndefinedMetricWarning: Recall is ill-defined and being set to 0.0 in labels with no true samples. Use `zero_division` parameter to control this behavior.\n",
      "  _warn_prf(average, modifier, msg_start, len(result))\n",
      "/home/share/huadjyin/home/s_qiuping1/app/miniconda3/envs/scgpt/lib/python3.9/site-packages/sklearn/metrics/_classification.py:1471: UndefinedMetricWarning: Recall is ill-defined and being set to 0.0 in labels with no true samples. Use `zero_division` parameter to control this behavior.\n",
      "  _warn_prf(average, modifier, msg_start, len(result))\n",
      "/home/share/huadjyin/home/s_qiuping1/app/miniconda3/envs/scgpt/lib/python3.9/site-packages/sklearn/metrics/_classification.py:1471: UndefinedMetricWarning: Precision is ill-defined and being set to 0.0 in labels with no predicted samples. Use `zero_division` parameter to control this behavior.\n",
      "  _warn_prf(average, modifier, msg_start, len(result))\n"
     ]
    },
    {
     "name": "stdout",
     "output_type": "stream",
     "text": [
      "hpancreas_intra 0.8830169317598768 0.471161644686094\n",
      "scf\n",
      "AnnData object with n_obs × n_vars = 1949 × 15558\n",
      "    obs: 'batch', 'batchlb', 'celltype_orig', 'cellname', 'celltype', 'Celltype'\n",
      "    var: 'mean', 'std'\n",
      "    uns: 'log1p', 'pca'\n",
      "    obsm: 'X_pca'\n",
      "    varm: 'PCs'\n",
      "hpancreas_intra 0.8281169830682401 0.37560556536795076\n",
      "scbert\n",
      "AnnData object with n_obs × n_vars = 7378 × 33694\n",
      "    obs: 'Sample', 'n_counts', 'n_genes', 'batch', 'louvain', 'anno', 'Method', 'CellType', 'cell_type_ontology_term_id'\n",
      "    var: 'mean', 'std'\n",
      "    uns: 'log1p', 'pca'\n",
      "    obsm: 'X_pca'\n",
      "    varm: 'PCs'\n",
      "hPBMC_intra 0.8969910544863107 0.7494354515347615\n",
      "scgpt\n",
      "AnnData object with n_obs × n_vars = 7378 × 33694\n",
      "    obs: 'Sample', 'n_counts', 'n_genes', 'batch', 'louvain', 'anno', 'Method', 'CellType', 'cell_type_ontology_term_id'\n",
      "    var: 'mean', 'std'\n",
      "    uns: 'log1p', 'pca'\n",
      "    obsm: 'X_pca'\n",
      "    varm: 'PCs'\n",
      "hPBMC_intra 0.9756031444835999 0.9677762631844679\n",
      "geneformer\n",
      "AnnData object with n_obs × n_vars = 7378 × 33694\n",
      "    obs: 'Sample', 'n_counts', 'n_genes', 'batch', 'louvain', 'anno', 'Method', 'CellType', 'cell_type_ontology_term_id'\n",
      "    var: 'mean', 'std'\n",
      "    uns: 'log1p', 'pca'\n",
      "    obsm: 'X_pca'\n",
      "    varm: 'PCs'\n",
      "hPBMC_intra 0.9422607752778531 0.7550240848537626\n",
      "scf\n"
     ]
    },
    {
     "name": "stderr",
     "output_type": "stream",
     "text": [
      "/home/share/huadjyin/home/s_qiuping1/app/miniconda3/envs/scgpt/lib/python3.9/site-packages/sklearn/metrics/_classification.py:1471: UndefinedMetricWarning: Precision is ill-defined and being set to 0.0 in labels with no predicted samples. Use `zero_division` parameter to control this behavior.\n",
      "  _warn_prf(average, modifier, msg_start, len(result))\n"
     ]
    },
    {
     "name": "stdout",
     "output_type": "stream",
     "text": [
      "AnnData object with n_obs × n_vars = 7378 × 33694\n",
      "    obs: 'Sample', 'n_counts', 'n_genes', 'batch', 'louvain', 'anno', 'Method', 'CellType', 'cell_type_ontology_term_id'\n",
      "    var: 'mean', 'std'\n",
      "    uns: 'log1p', 'pca'\n",
      "    obsm: 'X_pca'\n",
      "    varm: 'PCs'\n",
      "hPBMC_intra 0.9127134724857685 0.7374586564907094\n",
      "           dataset  scbert.acc  scbert.precision  scbert.recall  scbert.f1  \\\n",
      "0  hpancreas_intra     0.97435           0.66137        0.60823    0.63078   \n",
      "1      hPBMC_intra     0.89699           0.87221        0.72095    0.74944   \n",
      "\n",
      "   scgpt.acc  scgpt.precision  scgpt.recall  scgpt.f1  geneformer.acc  \\\n",
      "0    0.80657          0.45151       0.44091   0.38203         0.88302   \n",
      "1    0.97560          0.96735       0.96879   0.96778         0.94226   \n",
      "\n",
      "   geneformer.precision  geneformer.recall  geneformer.f1  scf.acc  \\\n",
      "0               0.46013            0.51235        0.47116  0.82812   \n",
      "1               0.83238            0.75105        0.75502  0.91271   \n",
      "\n",
      "   scf.precision  scf.recall   scf.f1  \n",
      "0        0.46449     0.40103  0.37561  \n",
      "1        0.83331     0.78686  0.73746  \n"
     ]
    }
   ],
   "source": [
    "\n",
    "import scanpy as sc\n",
    "import pickle\n",
    "from sklearn.metrics import accuracy_score, f1_score, recall_score, precision_score\n",
    "from collections import defaultdict\n",
    "import pandas as pd\n",
    "# organs = \"colon,eye,kidney,prostate_gland,spleen,esophagus,immune_system,mucosa,small_intestine,lung\"\n",
    "organs = \"hpancreas_intra,hPBMC_intra\"\n",
    "result = defaultdict(list)\n",
    "for i in organs.split(','):\n",
    "    result['dataset'].append(i)\n",
    "    for model in {'scbert': 'scBert', 'scgpt': 'scGPT', 'geneformer':'Geneformer', 'scf': 'Scfoundation'}:\n",
    "    # for model in {'scbert': 'scBert'}:\n",
    "        print(model)\n",
    "        path = f'/home/share/huadjyin/home/s_qiuping1/workspace/omics_model/bio_model/biollm/case/result/anno/{model}/{i}/' if model != 'scf' else f'/home/share/huadjyin/home/s_qiuping1/workspace/omics_model/bio_model/biollm/case/result/anno/{model}/all_genes/{i}/'\n",
    "        if model in ['scbert']:\n",
    "            predict_label = pickle.load(open(path + 'predict_list.pk.best_model.pt', 'rb')) \n",
    "        elif model == 'scgpt':\n",
    "            predict_label = pickle.load(open(path + 'predict_list.pk.anno_scgpt_best_model.pt', 'rb')) \n",
    "        elif model == 'scf':\n",
    "            predict_label = pickle.load(open(path + 'predict_list.pk.model_best.pt', 'rb')) \n",
    "        else:\n",
    "            predict_label = pickle.load(open(path + 'predict_list.pk', 'rb'))\n",
    "        adata = sc.read_h5ad(f'/home/share/huadjyin/home/s_qiuping1/workspace/omics_model/bio_model/biollm/case/data/annotation/human/organs/{i}/test.h5ad')\n",
    "        print(adata)\n",
    "        labels = adata.obs['Celltype'].values if i == 'hpancreas_intra' else adata.obs['cell_type_ontology_term_id'].values\n",
    "        acc = accuracy_score(labels, predict_label)\n",
    "        macro_f1 = f1_score(labels, predict_label, average='macro')\n",
    "        recall = recall_score(labels, predict_label, average='macro')\n",
    "        precision = precision_score(labels, predict_label, average='macro')\n",
    "        \n",
    "        result[model + '.acc'].append(float('%.5f'% acc))\n",
    "        result[model + '.precision'].append(float('%.5f'% precision))\n",
    "        result[model + '.recall'].append(float('%.5f'% recall))\n",
    "        result[model + '.f1'].append(float('%.5f'% macro_f1))\n",
    "        print(i, acc, macro_f1)\n",
    "\n",
    "df = pd.DataFrame(result)\n",
    "print(df)"
   ],
   "metadata": {
    "collapsed": false,
    "ExecuteTime": {
     "end_time": "2024-08-12T06:37:37.565766Z",
     "start_time": "2024-08-12T06:37:35.125971Z"
    }
   },
   "id": "37d756fa686a2c5c",
   "execution_count": 6
  },
  {
   "cell_type": "code",
   "outputs": [
    {
     "data": {
      "text/plain": "defaultdict(list,\n            {'dataset': ['zheng68k',\n              'zheng68k',\n              'zheng68k',\n              'zheng68k',\n              'hpancreas',\n              'hpancreas',\n              'hpancreas',\n              'hpancreas'],\n             'scbert.acc': [0.69993, 0.01731],\n             'scbert.precision': [0.65389, 0.00157],\n             'scbert.recall': [0.55412, 0.09091],\n             'scbert.f1': [0.56465, 0.00309],\n             'scgpt.acc': [0.84675, 0.97226],\n             'scgpt.precision': [0.74884, 0.65818],\n             'scgpt.recall': [0.76586, 0.66044],\n             'scgpt.f1': [0.75488, 0.64469],\n             'geneformer.acc': [0.82221, 0.84851],\n             'geneformer.precision': [0.72118, 0.47778],\n             'geneformer.recall': [0.69456, 0.55799],\n             'geneformer.f1': [0.70621, 0.49168],\n             'scf.acc': [0.11855, 0.94761],\n             'scf.precision': [0.03386, 0.68972],\n             'scf.recall': [0.09713, 0.63778],\n             'scf.f1': [0.02998, 0.65419]})"
     },
     "execution_count": 6,
     "metadata": {},
     "output_type": "execute_result"
    }
   ],
   "source": [
    "result"
   ],
   "metadata": {
    "collapsed": false,
    "ExecuteTime": {
     "end_time": "2024-07-24T10:36:42.449497Z",
     "start_time": "2024-07-24T10:36:42.439143Z"
    }
   },
   "id": "acc2cb4dfb45dda5",
   "execution_count": 6
  },
  {
   "cell_type": "code",
   "outputs": [
    {
     "data": {
      "text/plain": "array([2, 2, 2, ..., 3, 6, 1])"
     },
     "execution_count": 12,
     "metadata": {},
     "output_type": "execute_result"
    }
   ],
   "source": [
    "import numpy as np\n",
    "import pickle as pkl\n",
    "import scanpy as sc\n",
    "\n",
    "\n",
    "output_dir = '/home/share/huadjyin/home/s_qiuping1/workspace/omics_model/bio_model/biollm/case/result/anno/scbert/hpancreas/'\n",
    "\n",
    "adata = sc.read_h5ad('/home/share/huadjyin/home/s_qiuping1/workspace/omics_model/bio_model/biollm/case/data/annotation/human/organs/hpancreas/train.h5ad')\n",
    "label_dict, label = np.unique(np.array(adata.obs['Celltype']), return_inverse=True)\n",
    "label\n",
    "# with open(f'{output_dir}/label_dict.pk', 'wb') as fp:\n",
    "#     pkl.dump(label_dict, fp)\n",
    "# with open(f'{output_dir}/label.pk', 'wb') as fp:\n",
    "#     pkl.dump(label, fp)"
   ],
   "metadata": {
    "collapsed": false,
    "ExecuteTime": {
     "end_time": "2024-07-25T01:52:00.885401Z",
     "start_time": "2024-07-25T01:52:00.806546Z"
    }
   },
   "id": "c3242100534c1a99",
   "execution_count": 12
  },
  {
   "cell_type": "markdown",
   "source": [
    "# lr"
   ],
   "metadata": {
    "collapsed": false
   },
   "id": "67610a534898866c"
  },
  {
   "cell_type": "code",
   "outputs": [
    {
     "name": "stdout",
     "output_type": "stream",
     "text": [
      "scbert\n"
     ]
    },
    {
     "name": "stderr",
     "output_type": "stream",
     "text": [
      "/home/share/huadjyin/home/s_qiuping1/app/miniconda3/envs/scgpt/lib/python3.9/site-packages/sklearn/metrics/_classification.py:1471: UndefinedMetricWarning: Precision is ill-defined and being set to 0.0 in labels with no predicted samples. Use `zero_division` parameter to control this behavior.\n",
      "  _warn_prf(average, modifier, msg_start, len(result))\n"
     ]
    },
    {
     "name": "stdout",
     "output_type": "stream",
     "text": [
      "2 0.3164518574677786 0.043705890976105215\n",
      "scgpt\n"
     ]
    },
    {
     "name": "stderr",
     "output_type": "stream",
     "text": [
      "/home/share/huadjyin/home/s_qiuping1/app/miniconda3/envs/scgpt/lib/python3.9/site-packages/sklearn/metrics/_classification.py:1471: UndefinedMetricWarning: Precision is ill-defined and being set to 0.0 in labels with no predicted samples. Use `zero_division` parameter to control this behavior.\n",
      "  _warn_prf(average, modifier, msg_start, len(result))\n"
     ]
    },
    {
     "name": "stdout",
     "output_type": "stream",
     "text": [
      "2 0.3164518574677786 0.043705890976105215\n",
      "geneformer\n"
     ]
    },
    {
     "name": "stderr",
     "output_type": "stream",
     "text": [
      "/home/share/huadjyin/home/s_qiuping1/app/miniconda3/envs/scgpt/lib/python3.9/site-packages/sklearn/metrics/_classification.py:1471: UndefinedMetricWarning: Precision is ill-defined and being set to 0.0 in labels with no predicted samples. Use `zero_division` parameter to control this behavior.\n",
      "  _warn_prf(average, modifier, msg_start, len(result))\n"
     ]
    },
    {
     "name": "stdout",
     "output_type": "stream",
     "text": [
      "2 0.3164518574677786 0.043705890976105215\n",
      "scf\n"
     ]
    },
    {
     "name": "stderr",
     "output_type": "stream",
     "text": [
      "/home/share/huadjyin/home/s_qiuping1/app/miniconda3/envs/scgpt/lib/python3.9/site-packages/sklearn/metrics/_classification.py:1471: UndefinedMetricWarning: Precision is ill-defined and being set to 0.0 in labels with no predicted samples. Use `zero_division` parameter to control this behavior.\n",
      "  _warn_prf(average, modifier, msg_start, len(result))\n"
     ]
    },
    {
     "name": "stdout",
     "output_type": "stream",
     "text": [
      "2 0.3164518574677786 0.043705890976105215\n",
      "scbert\n"
     ]
    },
    {
     "name": "stderr",
     "output_type": "stream",
     "text": [
      "/home/share/huadjyin/home/s_qiuping1/app/miniconda3/envs/scgpt/lib/python3.9/site-packages/sklearn/metrics/_classification.py:1471: UndefinedMetricWarning: Precision is ill-defined and being set to 0.0 in labels with no predicted samples. Use `zero_division` parameter to control this behavior.\n",
      "  _warn_prf(average, modifier, msg_start, len(result))\n"
     ]
    },
    {
     "name": "stdout",
     "output_type": "stream",
     "text": [
      "3 0.7055344958301744 0.5885513856053396\n",
      "scgpt\n"
     ]
    },
    {
     "name": "stderr",
     "output_type": "stream",
     "text": [
      "/home/share/huadjyin/home/s_qiuping1/app/miniconda3/envs/scgpt/lib/python3.9/site-packages/sklearn/metrics/_classification.py:1471: UndefinedMetricWarning: Precision is ill-defined and being set to 0.0 in labels with no predicted samples. Use `zero_division` parameter to control this behavior.\n",
      "  _warn_prf(average, modifier, msg_start, len(result))\n"
     ]
    },
    {
     "name": "stdout",
     "output_type": "stream",
     "text": [
      "3 0.3164518574677786 0.043705890976105215\n",
      "geneformer\n"
     ]
    },
    {
     "name": "stderr",
     "output_type": "stream",
     "text": [
      "/home/share/huadjyin/home/s_qiuping1/app/miniconda3/envs/scgpt/lib/python3.9/site-packages/sklearn/metrics/_classification.py:1471: UndefinedMetricWarning: Precision is ill-defined and being set to 0.0 in labels with no predicted samples. Use `zero_division` parameter to control this behavior.\n",
      "  _warn_prf(average, modifier, msg_start, len(result))\n"
     ]
    },
    {
     "name": "stdout",
     "output_type": "stream",
     "text": [
      "3 0.8298711144806672 0.7108285506679414\n",
      "scf\n"
     ]
    },
    {
     "name": "stderr",
     "output_type": "stream",
     "text": [
      "/home/share/huadjyin/home/s_qiuping1/app/miniconda3/envs/scgpt/lib/python3.9/site-packages/sklearn/metrics/_classification.py:1471: UndefinedMetricWarning: Precision is ill-defined and being set to 0.0 in labels with no predicted samples. Use `zero_division` parameter to control this behavior.\n",
      "  _warn_prf(average, modifier, msg_start, len(result))\n"
     ]
    },
    {
     "name": "stdout",
     "output_type": "stream",
     "text": [
      "3 0.36648976497346475 0.11490443551363642\n",
      "scbert\n"
     ]
    },
    {
     "name": "stderr",
     "output_type": "stream",
     "text": [
      "/home/share/huadjyin/home/s_qiuping1/app/miniconda3/envs/scgpt/lib/python3.9/site-packages/sklearn/metrics/_classification.py:1471: UndefinedMetricWarning: Precision is ill-defined and being set to 0.0 in labels with no predicted samples. Use `zero_division` parameter to control this behavior.\n",
      "  _warn_prf(average, modifier, msg_start, len(result))\n"
     ]
    },
    {
     "name": "stdout",
     "output_type": "stream",
     "text": [
      "4 0.7156937073540561 0.5990853873667675\n",
      "scgpt\n",
      "4 0.8576194086429113 0.7768911297293664\n",
      "geneformer\n"
     ]
    },
    {
     "name": "stderr",
     "output_type": "stream",
     "text": [
      "/home/share/huadjyin/home/s_qiuping1/app/miniconda3/envs/scgpt/lib/python3.9/site-packages/sklearn/metrics/_classification.py:1471: UndefinedMetricWarning: Precision is ill-defined and being set to 0.0 in labels with no predicted samples. Use `zero_division` parameter to control this behavior.\n",
      "  _warn_prf(average, modifier, msg_start, len(result))\n"
     ]
    },
    {
     "name": "stdout",
     "output_type": "stream",
     "text": [
      "4 0.8282031842304777 0.7114664745959322\n",
      "scf\n",
      "4 0.7434420015163002 0.5701597181973789\n"
     ]
    },
    {
     "name": "stderr",
     "output_type": "stream",
     "text": [
      "/home/share/huadjyin/home/s_qiuping1/app/miniconda3/envs/scgpt/lib/python3.9/site-packages/sklearn/metrics/_classification.py:1471: UndefinedMetricWarning: Precision is ill-defined and being set to 0.0 in labels with no predicted samples. Use `zero_division` parameter to control this behavior.\n",
      "  _warn_prf(average, modifier, msg_start, len(result))\n"
     ]
    }
   ],
   "source": [
    "\n",
    "import scanpy as sc\n",
    "import pickle\n",
    "from sklearn.metrics import accuracy_score, f1_score, recall_score, precision_score\n",
    "from collections import defaultdict\n",
    "import pandas as pd\n",
    "import os\n",
    "\n",
    "# organs = \"colon,eye,kidney,prostate_gland,spleen,esophagus,immune_system,mucosa,small_intestine,lung\"\n",
    "lr = [2, 3, 4]\n",
    "lr_map = {2: '0.01', 3: '0.001', 4: '0.0001'}\n",
    "result = defaultdict(list)\n",
    "for i in lr:\n",
    "    \n",
    "    for model in {'scbert': 'scBert', 'scgpt': 'scGPT', 'geneformer':'Geneformer', 'scf': 'Scfoundation'}:\n",
    "    # for model in {'scbert': 'scBert'}:\n",
    "        print(model)\n",
    "        path = f'/home/share/huadjyin/home/s_qiuping1/workspace/omics_model/bio_model/biollm/case/result/anno/{model}/zheng68k/lr_{i}/' if model != 'scf' else f'/home/share/huadjyin/home/s_qiuping1/workspace/omics_model/bio_model/biollm/case/result/anno/{model}/hvg/zheng68k/lr_{i}/'\n",
    "        if model == 'scf' and i == 4:\n",
    "            path = f'/home/share/huadjyin/home/s_qiuping1/workspace/omics_model/bio_model/biollm/case/result/anno/{model}/hvg/zheng68k/'\n",
    "        if model == 'scgpt' and i == 4:\n",
    "            path = f'/home/share/huadjyin/home/s_qiuping1/workspace/omics_model/bio_model/biollm/case/result/anno/{model}/zheng68k/'\n",
    "        if model == 'scbert' and i == 3:\n",
    "            path = f'/home/share/huadjyin/home/s_qiuping1/workspace/omics_model/bio_model/biollm/case/result/anno/{model}/zheng68k/'\n",
    "        if os.path.exists(path + 'predict_list.pk'):\n",
    "            predict_label = pickle.load(open(path + 'predict_list.pk', 'rb'))\n",
    "            adata = sc.read_h5ad(f'/home/share/huadjyin/home/s_qiuping1/workspace/omics_model/bio_model/biollm/case/data/annotation/human/organs/zheng68k/test.h5ad')\n",
    "            labels = adata.obs['celltype'].values\n",
    "            acc = accuracy_score(labels, predict_label)\n",
    "            macro_f1 = f1_score(labels, predict_label, average='macro')\n",
    "            recall = recall_score(labels, predict_label, average='macro')\n",
    "            precision = precision_score(labels, predict_label, average='macro')\n",
    "            result['score'].append(lr_map[i])\n",
    "            result['type'].append('lr')\n",
    "            result['model'].append(model)\n",
    "            result['acc'].append(float('%.5f'% acc))\n",
    "            result['precision'].append(float('%.5f'% precision))\n",
    "            result['recall'].append(float('%.5f'% recall))\n",
    "            result['f1'].append(float('%.5f'% macro_f1))\n",
    "            print(i, acc, macro_f1)\n",
    "        else:\n",
    "            print('not exist:', path + 'predict_list.pk')\n",
    "\n",
    "df = pd.DataFrame(result)"
   ],
   "metadata": {
    "collapsed": false,
    "ExecuteTime": {
     "end_time": "2024-08-09T06:58:11.251837Z",
     "start_time": "2024-08-09T06:58:06.728371Z"
    }
   },
   "id": "cc291015fa7ec3d7",
   "execution_count": 47
  },
  {
   "cell_type": "markdown",
   "source": [
    "# hvg"
   ],
   "metadata": {
    "collapsed": false
   },
   "id": "d083f0f03071d6fb"
  },
  {
   "cell_type": "code",
   "outputs": [
    {
     "name": "stdout",
     "output_type": "stream",
     "text": [
      "scbert\n",
      "1000 0.7811978771796816 0.6828171140250817\n",
      "scgpt\n",
      "1000 0.7725549658832449 0.6504268523996058\n",
      "geneformer\n"
     ]
    },
    {
     "name": "stderr",
     "output_type": "stream",
     "text": [
      "/home/share/huadjyin/home/s_qiuping1/app/miniconda3/envs/scgpt/lib/python3.9/site-packages/sklearn/metrics/_classification.py:1471: UndefinedMetricWarning: Precision is ill-defined and being set to 0.0 in labels with no predicted samples. Use `zero_division` parameter to control this behavior.\n",
      "  _warn_prf(average, modifier, msg_start, len(result))\n"
     ]
    },
    {
     "name": "stdout",
     "output_type": "stream",
     "text": [
      "1000 0.7159969673995451 0.5809493524947095\n",
      "scf\n"
     ]
    },
    {
     "name": "stderr",
     "output_type": "stream",
     "text": [
      "/home/share/huadjyin/home/s_qiuping1/app/miniconda3/envs/scgpt/lib/python3.9/site-packages/sklearn/metrics/_classification.py:1471: UndefinedMetricWarning: Precision is ill-defined and being set to 0.0 in labels with no predicted samples. Use `zero_division` parameter to control this behavior.\n",
      "  _warn_prf(average, modifier, msg_start, len(result))\n"
     ]
    },
    {
     "name": "stdout",
     "output_type": "stream",
     "text": [
      "1000 0.7055344958301744 0.5265945783076956\n",
      "scbert\n",
      "2000 0.7902956785443518 0.7051784611004265\n",
      "scgpt\n",
      "2000 0.8118271417740712 0.7383322702272427\n",
      "geneformer\n"
     ]
    },
    {
     "name": "stderr",
     "output_type": "stream",
     "text": [
      "/home/share/huadjyin/home/s_qiuping1/app/miniconda3/envs/scgpt/lib/python3.9/site-packages/sklearn/metrics/_classification.py:1471: UndefinedMetricWarning: Precision is ill-defined and being set to 0.0 in labels with no predicted samples. Use `zero_division` parameter to control this behavior.\n",
      "  _warn_prf(average, modifier, msg_start, len(result))\n"
     ]
    },
    {
     "name": "stdout",
     "output_type": "stream",
     "text": [
      "2000 0.7573919636087946 0.6259501363863506\n",
      "scf\n"
     ]
    },
    {
     "name": "stderr",
     "output_type": "stream",
     "text": [
      "/home/share/huadjyin/home/s_qiuping1/app/miniconda3/envs/scgpt/lib/python3.9/site-packages/sklearn/metrics/_classification.py:1471: UndefinedMetricWarning: Precision is ill-defined and being set to 0.0 in labels with no predicted samples. Use `zero_division` parameter to control this behavior.\n",
      "  _warn_prf(average, modifier, msg_start, len(result))\n"
     ]
    },
    {
     "name": "stdout",
     "output_type": "stream",
     "text": [
      "2000 0.689461713419257 0.5383068797490336\n",
      "scbert\n"
     ]
    },
    {
     "name": "stderr",
     "output_type": "stream",
     "text": [
      "/home/share/huadjyin/home/s_qiuping1/app/miniconda3/envs/scgpt/lib/python3.9/site-packages/sklearn/metrics/_classification.py:1471: UndefinedMetricWarning: Precision is ill-defined and being set to 0.0 in labels with no predicted samples. Use `zero_division` parameter to control this behavior.\n",
      "  _warn_prf(average, modifier, msg_start, len(result))\n"
     ]
    },
    {
     "name": "stdout",
     "output_type": "stream",
     "text": [
      "3000 0.7936315390447308 0.6848344683710641\n",
      "scgpt\n",
      "3000 0.8213798332069749 0.7151004173714396\n",
      "geneformer\n",
      "3000 0.7589082638362395 0.5815257914753991\n",
      "scf\n",
      "3000 0.7434420015163002 0.5701597181973789\n"
     ]
    },
    {
     "name": "stderr",
     "output_type": "stream",
     "text": [
      "/home/share/huadjyin/home/s_qiuping1/app/miniconda3/envs/scgpt/lib/python3.9/site-packages/sklearn/metrics/_classification.py:1471: UndefinedMetricWarning: Precision is ill-defined and being set to 0.0 in labels with no predicted samples. Use `zero_division` parameter to control this behavior.\n",
      "  _warn_prf(average, modifier, msg_start, len(result))\n"
     ]
    }
   ],
   "source": [
    "\n",
    "import scanpy as sc\n",
    "import pickle\n",
    "from sklearn.metrics import accuracy_score, f1_score, recall_score, precision_score\n",
    "from collections import defaultdict\n",
    "import pandas as pd\n",
    "import os\n",
    "\n",
    "# organs = \"colon,eye,kidney,prostate_gland,spleen,esophagus,immune_system,mucosa,small_intestine,lung\"\n",
    "lr = [1000, 2000, 3000]\n",
    "# result = defaultdict(list)\n",
    "for i in lr:\n",
    "    \n",
    "    for model in {'scbert': 'scBert', 'scgpt': 'scGPT', 'geneformer':'Geneformer', 'scf': 'Scfoundation'}:\n",
    "    # for model in {'scbert': 'scBert'}:\n",
    "        print(model)\n",
    "        path = f'/home/share/huadjyin/home/s_qiuping1/workspace/omics_model/bio_model/biollm/case/result/anno/{model}/zheng68k/hvg_{i}/' if model != 'scf' else f'/home/share/huadjyin/home/s_qiuping1/workspace/omics_model/bio_model/biollm/case/result/anno/{model}/hvg/zheng68k/hvg_{i}/'\n",
    "        if model == 'scf' and i == 3000:\n",
    "            path = f'/home/share/huadjyin/home/s_qiuping1/workspace/omics_model/bio_model/biollm/case/result/anno/{model}/hvg/zheng68k/'\n",
    "        if os.path.exists(path + 'predict_list.pk'):\n",
    "            predict_label = pickle.load(open(path + 'predict_list.pk', 'rb'))\n",
    "            adata = sc.read_h5ad(f'/home/share/huadjyin/home/s_qiuping1/workspace/omics_model/bio_model/biollm/case/data/annotation/human/organs/zheng68k/test.h5ad')\n",
    "            labels = adata.obs['celltype'].values\n",
    "            acc = accuracy_score(labels, predict_label)\n",
    "            macro_f1 = f1_score(labels, predict_label, average='macro')\n",
    "            recall = recall_score(labels, predict_label, average='macro')\n",
    "            precision = precision_score(labels, predict_label, average='macro')\n",
    "            result['score'].append(i)\n",
    "            result['type'].append('hvg')\n",
    "            result['model'].append(model)\n",
    "            result['acc'].append(float('%.5f'% acc))\n",
    "            result['precision'].append(float('%.5f'% precision))\n",
    "            result['recall'].append(float('%.5f'% recall))\n",
    "            result['f1'].append(float('%.5f'% macro_f1))\n",
    "            print(i, acc, macro_f1)\n",
    "        else:\n",
    "            print('not exist:', path + 'predict_list.pk')\n",
    "\n",
    "df = pd.DataFrame(result)"
   ],
   "metadata": {
    "collapsed": false,
    "ExecuteTime": {
     "end_time": "2024-08-09T06:58:21.373151Z",
     "start_time": "2024-08-09T06:58:16.647434Z"
    }
   },
   "id": "fe1cd9b92268befd",
   "execution_count": 48
  },
  {
   "cell_type": "markdown",
   "source": [
    "# epoch"
   ],
   "metadata": {
    "collapsed": false
   },
   "id": "2e889c6e66f603f7"
  },
  {
   "cell_type": "code",
   "outputs": [
    {
     "name": "stdout",
     "output_type": "stream",
     "text": [
      "scbert\n"
     ]
    },
    {
     "name": "stderr",
     "output_type": "stream",
     "text": [
      "/home/share/huadjyin/home/s_qiuping1/app/miniconda3/envs/scgpt/lib/python3.9/site-packages/sklearn/metrics/_classification.py:1471: UndefinedMetricWarning: Precision is ill-defined and being set to 0.0 in labels with no predicted samples. Use `zero_division` parameter to control this behavior.\n",
      "  _warn_prf(average, modifier, msg_start, len(result))\n"
     ]
    },
    {
     "name": "stdout",
     "output_type": "stream",
     "text": [
      "5 0.6952236542835482 0.5846718111116728\n",
      "scgpt\n",
      "5 0.8278999241849886 0.7225945289099195\n",
      "geneformer\n"
     ]
    },
    {
     "name": "stderr",
     "output_type": "stream",
     "text": [
      "/home/share/huadjyin/home/s_qiuping1/app/miniconda3/envs/scgpt/lib/python3.9/site-packages/sklearn/metrics/_classification.py:1471: UndefinedMetricWarning: Precision is ill-defined and being set to 0.0 in labels with no predicted samples. Use `zero_division` parameter to control this behavior.\n",
      "  _warn_prf(average, modifier, msg_start, len(result))\n"
     ]
    },
    {
     "name": "stdout",
     "output_type": "stream",
     "text": [
      "5 0.7613343442001517 0.5590734347763493\n",
      "scf\n"
     ]
    },
    {
     "name": "stderr",
     "output_type": "stream",
     "text": [
      "/home/share/huadjyin/home/s_qiuping1/app/miniconda3/envs/scgpt/lib/python3.9/site-packages/sklearn/metrics/_classification.py:1471: UndefinedMetricWarning: Precision is ill-defined and being set to 0.0 in labels with no predicted samples. Use `zero_division` parameter to control this behavior.\n",
      "  _warn_prf(average, modifier, msg_start, len(result))\n"
     ]
    },
    {
     "name": "stdout",
     "output_type": "stream",
     "text": [
      "5 0.7097801364670204 0.555744572302375\n",
      "scbert\n"
     ]
    },
    {
     "name": "stderr",
     "output_type": "stream",
     "text": [
      "/home/share/huadjyin/home/s_qiuping1/app/miniconda3/envs/scgpt/lib/python3.9/site-packages/sklearn/metrics/_classification.py:1471: UndefinedMetricWarning: Precision is ill-defined and being set to 0.0 in labels with no predicted samples. Use `zero_division` parameter to control this behavior.\n",
      "  _warn_prf(average, modifier, msg_start, len(result))\n"
     ]
    },
    {
     "name": "stdout",
     "output_type": "stream",
     "text": [
      "10 0.7307050796057619 0.6240134367977642\n",
      "scgpt\n",
      "10 0.8605003790750568 0.7897043913618954\n",
      "geneformer\n"
     ]
    },
    {
     "name": "stderr",
     "output_type": "stream",
     "text": [
      "/home/share/huadjyin/home/s_qiuping1/app/miniconda3/envs/scgpt/lib/python3.9/site-packages/sklearn/metrics/_classification.py:1471: UndefinedMetricWarning: Precision is ill-defined and being set to 0.0 in labels with no predicted samples. Use `zero_division` parameter to control this behavior.\n",
      "  _warn_prf(average, modifier, msg_start, len(result))\n"
     ]
    },
    {
     "name": "stdout",
     "output_type": "stream",
     "text": [
      "10 0.802729340409401 0.6747986663844051\n",
      "scf\n"
     ]
    },
    {
     "name": "stderr",
     "output_type": "stream",
     "text": [
      "/home/share/huadjyin/home/s_qiuping1/app/miniconda3/envs/scgpt/lib/python3.9/site-packages/sklearn/metrics/_classification.py:1471: UndefinedMetricWarning: Precision is ill-defined and being set to 0.0 in labels with no predicted samples. Use `zero_division` parameter to control this behavior.\n",
      "  _warn_prf(average, modifier, msg_start, len(result))\n"
     ]
    },
    {
     "name": "stdout",
     "output_type": "stream",
     "text": [
      "10 0.7191811978771797 0.5600136290741881\n",
      "scbert\n"
     ]
    },
    {
     "name": "stderr",
     "output_type": "stream",
     "text": [
      "/home/share/huadjyin/home/s_qiuping1/app/miniconda3/envs/scgpt/lib/python3.9/site-packages/sklearn/metrics/_classification.py:1471: UndefinedMetricWarning: Precision is ill-defined and being set to 0.0 in labels with no predicted samples. Use `zero_division` parameter to control this behavior.\n",
      "  _warn_prf(average, modifier, msg_start, len(result))\n"
     ]
    },
    {
     "name": "stdout",
     "output_type": "stream",
     "text": [
      "15 0.733434420015163 0.6295061447718265\n",
      "scgpt\n",
      "15 0.8510993176648977 0.762927542880973\n",
      "geneformer\n"
     ]
    },
    {
     "name": "stderr",
     "output_type": "stream",
     "text": [
      "/home/share/huadjyin/home/s_qiuping1/app/miniconda3/envs/scgpt/lib/python3.9/site-packages/sklearn/metrics/_classification.py:1471: UndefinedMetricWarning: Precision is ill-defined and being set to 0.0 in labels with no predicted samples. Use `zero_division` parameter to control this behavior.\n",
      "  _warn_prf(average, modifier, msg_start, len(result))\n"
     ]
    },
    {
     "name": "stdout",
     "output_type": "stream",
     "text": [
      "15 0.8245640636846095 0.6991700645729388\n",
      "scf\n"
     ]
    },
    {
     "name": "stderr",
     "output_type": "stream",
     "text": [
      "/home/share/huadjyin/home/s_qiuping1/app/miniconda3/envs/scgpt/lib/python3.9/site-packages/sklearn/metrics/_classification.py:1471: UndefinedMetricWarning: Precision is ill-defined and being set to 0.0 in labels with no predicted samples. Use `zero_division` parameter to control this behavior.\n",
      "  _warn_prf(average, modifier, msg_start, len(result))\n"
     ]
    },
    {
     "name": "stdout",
     "output_type": "stream",
     "text": [
      "15 0.7297952994692949 0.5812217997910518\n",
      "scbert\n"
     ]
    },
    {
     "name": "stderr",
     "output_type": "stream",
     "text": [
      "/home/share/huadjyin/home/s_qiuping1/app/miniconda3/envs/scgpt/lib/python3.9/site-packages/sklearn/metrics/_classification.py:1471: UndefinedMetricWarning: Precision is ill-defined and being set to 0.0 in labels with no predicted samples. Use `zero_division` parameter to control this behavior.\n",
      "  _warn_prf(average, modifier, msg_start, len(result))\n"
     ]
    },
    {
     "name": "stdout",
     "output_type": "stream",
     "text": [
      "20 0.7055344958301744 0.5885513856053396\n",
      "scgpt\n",
      "20 0.8576194086429113 0.7768911297293664\n",
      "geneformer\n"
     ]
    },
    {
     "name": "stderr",
     "output_type": "stream",
     "text": [
      "/home/share/huadjyin/home/s_qiuping1/app/miniconda3/envs/scgpt/lib/python3.9/site-packages/sklearn/metrics/_classification.py:1471: UndefinedMetricWarning: Precision is ill-defined and being set to 0.0 in labels with no predicted samples. Use `zero_division` parameter to control this behavior.\n",
      "  _warn_prf(average, modifier, msg_start, len(result))\n"
     ]
    },
    {
     "name": "stdout",
     "output_type": "stream",
     "text": [
      "20 0.8307808946171342 0.7063162939327053\n",
      "scf\n",
      "20 0.7434420015163002 0.5701597181973789\n"
     ]
    },
    {
     "name": "stderr",
     "output_type": "stream",
     "text": [
      "/home/share/huadjyin/home/s_qiuping1/app/miniconda3/envs/scgpt/lib/python3.9/site-packages/sklearn/metrics/_classification.py:1471: UndefinedMetricWarning: Precision is ill-defined and being set to 0.0 in labels with no predicted samples. Use `zero_division` parameter to control this behavior.\n",
      "  _warn_prf(average, modifier, msg_start, len(result))\n"
     ]
    }
   ],
   "source": [
    "\n",
    "import scanpy as sc\n",
    "import pickle\n",
    "from sklearn.metrics import accuracy_score, f1_score, recall_score, precision_score\n",
    "from collections import defaultdict\n",
    "import pandas as pd\n",
    "import os\n",
    "\n",
    "# organs = \"colon,eye,kidney,prostate_gland,spleen,esophagus,immune_system,mucosa,small_intestine,lung\"\n",
    "lr = [5, 10, 15, 20]\n",
    "# result = defaultdict(list)\n",
    "for i in lr:\n",
    "    \n",
    "    for model in {'scbert': 'scBert', 'scgpt': 'scGPT', 'geneformer':'Geneformer', 'scf': 'Scfoundation'}:\n",
    "    # for model in {'scbert': 'scBert'}:\n",
    "        print(model)\n",
    "        if model == 'geneformer':\n",
    "            path = f'/home/share/huadjyin/home/s_qiuping1/workspace/omics_model/bio_model/biollm/case/result/anno/{model}/zheng68k/epoch_{i}/predict_list.pk'\n",
    "            if i == 20:\n",
    "                path = f'/home/share/huadjyin/home/s_qiuping1/workspace/omics_model/bio_model/biollm/case/result/anno/{model}/zheng68k/predict_list.pk'\n",
    "        else:\n",
    "            path = f'/home/share/huadjyin/home/s_qiuping1/workspace/omics_model/bio_model/biollm/case/result/anno/{model}/zheng68k/predict_list.pk.model_{i}.pt' if model != 'scf' else f'/home/share/huadjyin/home/s_qiuping1/workspace/omics_model/bio_model/biollm/case/result/anno/{model}/hvg/zheng68k/predict_list.pk.model_{i}.pt'\n",
    "            if i == 20:\n",
    "                path = path.split('.model_')[0]\n",
    "        if os.path.exists(path):\n",
    "            predict_label = pickle.load(open(path, 'rb'))\n",
    "            adata = sc.read_h5ad(f'/home/share/huadjyin/home/s_qiuping1/workspace/omics_model/bio_model/biollm/case/data/annotation/human/organs/zheng68k/test.h5ad')\n",
    "            labels = adata.obs['celltype'].values\n",
    "            acc = accuracy_score(labels, predict_label)\n",
    "            macro_f1 = f1_score(labels, predict_label, average='macro')\n",
    "            recall = recall_score(labels, predict_label, average='macro')\n",
    "            precision = precision_score(labels, predict_label, average='macro')\n",
    "            result['score'].append(i)\n",
    "            result['type'].append('epoch')\n",
    "            result['model'].append(model)\n",
    "            result['acc'].append(float('%.5f'% acc))\n",
    "            result['precision'].append(float('%.5f'% precision))\n",
    "            result['recall'].append(float('%.5f'% recall))\n",
    "            result['f1'].append(float('%.5f'% macro_f1))\n",
    "            print(i, acc, macro_f1)\n",
    "        else:\n",
    "            print('not exist:', path + 'predict_list.pk')\n",
    "\n",
    "df = pd.DataFrame(result)"
   ],
   "metadata": {
    "collapsed": false,
    "ExecuteTime": {
     "end_time": "2024-08-09T06:58:43.321392Z",
     "start_time": "2024-08-09T06:58:37.201222Z"
    }
   },
   "id": "c416b933dc1e4f46",
   "execution_count": 49
  },
  {
   "cell_type": "code",
   "outputs": [
    {
     "data": {
      "text/plain": "   score   type       model      acc  precision   recall       f1\n24     5  epoch      scbert  0.69522    0.62721  0.58583  0.58467\n25     5  epoch       scgpt  0.82790    0.79749  0.73621  0.72259\n26     5  epoch  geneformer  0.76133    0.61716  0.54858  0.55907\n27     5  epoch         scf  0.70978    0.65016  0.54470  0.55574\n28    10  epoch      scbert  0.73071    0.65951  0.60346  0.62401\n29    10  epoch       scgpt  0.86050    0.80552  0.78029  0.78970\n30    10  epoch  geneformer  0.80273    0.70398  0.66268  0.67480\n31    10  epoch         scf  0.71918    0.67021  0.53871  0.56001\n32    15  epoch      scbert  0.73343    0.65965  0.61168  0.62951\n33    15  epoch       scgpt  0.85110    0.75529  0.77806  0.76293\n34    15  epoch  geneformer  0.82456    0.70644  0.69593  0.69917\n35    15  epoch         scf  0.72980    0.67994  0.55576  0.58122\n36    20  epoch      scbert  0.70553    0.64820  0.57043  0.58855\n37    20  epoch       scgpt  0.85762    0.76743  0.79191  0.77689\n38    20  epoch  geneformer  0.83078    0.72256  0.69430  0.70632\n39    20  epoch         scf  0.74344    0.68721  0.57195  0.57016",
      "text/html": "<div>\n<style scoped>\n    .dataframe tbody tr th:only-of-type {\n        vertical-align: middle;\n    }\n\n    .dataframe tbody tr th {\n        vertical-align: top;\n    }\n\n    .dataframe thead th {\n        text-align: right;\n    }\n</style>\n<table border=\"1\" class=\"dataframe\">\n  <thead>\n    <tr style=\"text-align: right;\">\n      <th></th>\n      <th>score</th>\n      <th>type</th>\n      <th>model</th>\n      <th>acc</th>\n      <th>precision</th>\n      <th>recall</th>\n      <th>f1</th>\n    </tr>\n  </thead>\n  <tbody>\n    <tr>\n      <th>24</th>\n      <td>5</td>\n      <td>epoch</td>\n      <td>scbert</td>\n      <td>0.69522</td>\n      <td>0.62721</td>\n      <td>0.58583</td>\n      <td>0.58467</td>\n    </tr>\n    <tr>\n      <th>25</th>\n      <td>5</td>\n      <td>epoch</td>\n      <td>scgpt</td>\n      <td>0.82790</td>\n      <td>0.79749</td>\n      <td>0.73621</td>\n      <td>0.72259</td>\n    </tr>\n    <tr>\n      <th>26</th>\n      <td>5</td>\n      <td>epoch</td>\n      <td>geneformer</td>\n      <td>0.76133</td>\n      <td>0.61716</td>\n      <td>0.54858</td>\n      <td>0.55907</td>\n    </tr>\n    <tr>\n      <th>27</th>\n      <td>5</td>\n      <td>epoch</td>\n      <td>scf</td>\n      <td>0.70978</td>\n      <td>0.65016</td>\n      <td>0.54470</td>\n      <td>0.55574</td>\n    </tr>\n    <tr>\n      <th>28</th>\n      <td>10</td>\n      <td>epoch</td>\n      <td>scbert</td>\n      <td>0.73071</td>\n      <td>0.65951</td>\n      <td>0.60346</td>\n      <td>0.62401</td>\n    </tr>\n    <tr>\n      <th>29</th>\n      <td>10</td>\n      <td>epoch</td>\n      <td>scgpt</td>\n      <td>0.86050</td>\n      <td>0.80552</td>\n      <td>0.78029</td>\n      <td>0.78970</td>\n    </tr>\n    <tr>\n      <th>30</th>\n      <td>10</td>\n      <td>epoch</td>\n      <td>geneformer</td>\n      <td>0.80273</td>\n      <td>0.70398</td>\n      <td>0.66268</td>\n      <td>0.67480</td>\n    </tr>\n    <tr>\n      <th>31</th>\n      <td>10</td>\n      <td>epoch</td>\n      <td>scf</td>\n      <td>0.71918</td>\n      <td>0.67021</td>\n      <td>0.53871</td>\n      <td>0.56001</td>\n    </tr>\n    <tr>\n      <th>32</th>\n      <td>15</td>\n      <td>epoch</td>\n      <td>scbert</td>\n      <td>0.73343</td>\n      <td>0.65965</td>\n      <td>0.61168</td>\n      <td>0.62951</td>\n    </tr>\n    <tr>\n      <th>33</th>\n      <td>15</td>\n      <td>epoch</td>\n      <td>scgpt</td>\n      <td>0.85110</td>\n      <td>0.75529</td>\n      <td>0.77806</td>\n      <td>0.76293</td>\n    </tr>\n    <tr>\n      <th>34</th>\n      <td>15</td>\n      <td>epoch</td>\n      <td>geneformer</td>\n      <td>0.82456</td>\n      <td>0.70644</td>\n      <td>0.69593</td>\n      <td>0.69917</td>\n    </tr>\n    <tr>\n      <th>35</th>\n      <td>15</td>\n      <td>epoch</td>\n      <td>scf</td>\n      <td>0.72980</td>\n      <td>0.67994</td>\n      <td>0.55576</td>\n      <td>0.58122</td>\n    </tr>\n    <tr>\n      <th>36</th>\n      <td>20</td>\n      <td>epoch</td>\n      <td>scbert</td>\n      <td>0.70553</td>\n      <td>0.64820</td>\n      <td>0.57043</td>\n      <td>0.58855</td>\n    </tr>\n    <tr>\n      <th>37</th>\n      <td>20</td>\n      <td>epoch</td>\n      <td>scgpt</td>\n      <td>0.85762</td>\n      <td>0.76743</td>\n      <td>0.79191</td>\n      <td>0.77689</td>\n    </tr>\n    <tr>\n      <th>38</th>\n      <td>20</td>\n      <td>epoch</td>\n      <td>geneformer</td>\n      <td>0.83078</td>\n      <td>0.72256</td>\n      <td>0.69430</td>\n      <td>0.70632</td>\n    </tr>\n    <tr>\n      <th>39</th>\n      <td>20</td>\n      <td>epoch</td>\n      <td>scf</td>\n      <td>0.74344</td>\n      <td>0.68721</td>\n      <td>0.57195</td>\n      <td>0.57016</td>\n    </tr>\n  </tbody>\n</table>\n</div>"
     },
     "execution_count": 52,
     "metadata": {},
     "output_type": "execute_result"
    }
   ],
   "source": [
    "df[df.type == 'epoch']"
   ],
   "metadata": {
    "collapsed": false,
    "ExecuteTime": {
     "end_time": "2024-08-09T07:00:02.570759Z",
     "start_time": "2024-08-09T07:00:02.557154Z"
    }
   },
   "id": "9c2bcb558154d06d",
   "execution_count": 52
  },
  {
   "cell_type": "code",
   "outputs": [
    {
     "data": {
      "text/plain": "<Figure size 1152x216 with 3 Axes>",
      "image/png": "[encoded data removed]"
     },
     "metadata": {
      "needs_background": "light"
     },
     "output_type": "display_data"
    }
   ],
   "source": [
    "from matplotlib import pyplot as plt\n",
    "\n",
    "\n",
    "fig, axes = plt.subplots(1, 3, figsize=(16, 3), gridspec_kw={\"wspace\": 0.2, 'hspace': 0.3})\n",
    "model_color = {\"scBert\": \"#4974a4\", \"scGPT\": \"#8acc72\", \"Geneformer\": \"#b81316\", \"scFoundation\": \"#f29600\", 'PCA': '#b79973'}\n",
    "models = {'scbert': 'scBert', 'scgpt': 'scGPT', 'scf': 'scFoundation', 'geneformer': 'Geneformer'}\n",
    "n = 0\n",
    "x_labels = {'lr'}\n",
    "for j in ['lr', 'hvg', 'epoch']:\n",
    "    ax = axes[n]\n",
    "    n += 1\n",
    "    for i in models:\n",
    "        plot_df = df[(df['model'] == i) & (df['type'] == j)]\n",
    "        tmp_df = plot_df.sort_values(by='score')\n",
    "        color_name = \"black\"\n",
    "        ax.spines[\"top\"].set_color(color_name)\n",
    "        ax.spines[\"bottom\"].set_color(color_name)\n",
    "        ax.spines[\"left\"].set_color(color_name)\n",
    "        ax.spines[\"right\"].set_color(color_name)\n",
    "        ax.patch.set_facecolor(\"white\")\n",
    "        ax.axes.xaxis.set_visible(True)\n",
    "        ax.plot(tmp_df['score'], tmp_df['acc'], marker='o', color=model_color[models[i]]) \n",
    "        if j == 'hvg':\n",
    "            ax.set_xticks([1000, 2000, 3000])\n",
    "        if j == 'epoch':\n",
    "            ax.set_xticks([5, 10, 15, 20])\n",
    "        # ax.set_yl(0, 1)\n",
    "        ax.set_title(j)\n",
    "legend = plt.legend(['scBert', 'scGPT', 'scFoundation', 'Geneformer'], loc=1, bbox_to_anchor=(1.45, 1))\n",
    "frame = legend.get_frame()\n",
    "frame.set_facecolor('white')\n",
    "frame.set_edgecolor('black')\n",
    "    # if row == 1:\n",
    "    #     ax.set_xlabel('hvg number')\n",
    "    # if col == 0:\n",
    "    #     ax.set_ylabel('AWS of celltype score')\n",
    "    # # ax.set_ylim(0, 1)\n",
    "\n",
    "# plt.legend(['scBert', 'scGPT', 'scFoundation', 'Geneformer'], loc=1, bbox_to_anchor=(1.2, 1))\n",
    "\n",
    "plt.savefig('./fig6_Hyperparameter.pdf', bbox_inches='tight')"
   ],
   "metadata": {
    "collapsed": false,
    "ExecuteTime": {
     "end_time": "2024-08-09T07:10:45.438085Z",
     "start_time": "2024-08-09T07:10:44.509330Z"
    }
   },
   "id": "c524aca7174352c2",
   "execution_count": 58
  }
 ],
 "metadata": {
  "kernelspec": {
   "display_name": "Python 3",
   "language": "python",
   "name": "python3"
  },
  "language_info": {
   "codemirror_mode": {
    "name": "ipython",
    "version": 2
   },
   "file_extension": ".py",
   "mimetype": "text/x-python",
   "name": "python",
   "nbconvert_exporter": "python",
   "pygments_lexer": "ipython2",
   "version": "2.7.6"
  }
 },
 "nbformat": 4,
 "nbformat_minor": 5
}
