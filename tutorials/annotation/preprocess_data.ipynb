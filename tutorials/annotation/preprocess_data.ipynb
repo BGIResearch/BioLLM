{
 "cells": [
  {
   "cell_type": "code",
   "execution_count": 1,
   "id": "initial_id",
   "metadata": {
    "collapsed": true,
    "ExecuteTime": {
     "end_time": "2024-08-09T08:14:09.397542Z",
     "start_time": "2024-08-09T08:14:03.802792Z"
    }
   },
   "outputs": [],
   "source": [
    "import scanpy as sc\n",
    "from sklearn.model_selection import train_test_split\n",
    "import os\n",
    "\n",
    "def train_test_split_adata(adata, test_size=0.2):\n",
    "    cell_indices = adata.obs.index\n",
    "    cell_indices = cell_indices[~cell_indices.duplicated(keep='first')]\n",
    "    train_indices, test_indices = train_test_split(cell_indices, test_size=test_size)\n",
    "    print(len(cell_indices), len(train_indices), len(test_indices))\n",
    "    train_data = adata[train_indices]\n",
    "    test_data = adata[test_indices]\n",
    "    return train_data, test_data\n"
   ]
  },
  {
   "cell_type": "code",
   "outputs": [
    {
     "data": {
      "text/plain": "AnnData object with n_obs × n_vars = 68450 × 16906\n    obs: 'TSNE.1', 'TSNE.2', 'celltype', 'n_genes'\n    uns: 'log1p'"
     },
     "execution_count": 20,
     "metadata": {},
     "output_type": "execute_result"
    }
   ],
   "source": [
    "# zheng68k\n",
    "path = '/home/share/huadjyin/home/s_qiuping1/workspace/omics_model/data/finetune'\n",
    "output = '/home/share/huadjyin/home/s_qiuping1/workspace/omics_model/bio_model/biollm/case/data/annotation/human/organs'\n",
    "adata = sc.read_h5ad(path + '/Zheng68K.h5ad')\n",
    "adata"
   ],
   "metadata": {
    "collapsed": false,
    "ExecuteTime": {
     "end_time": "2024-07-16T09:20:21.234053Z",
     "start_time": "2024-07-16T09:20:20.912629Z"
    }
   },
   "id": "d17c6ea7c9ecdf0e",
   "execution_count": 20
  },
  {
   "cell_type": "code",
   "outputs": [],
   "source": [
    "adata.var['gene_name'] = adata.var_names.values"
   ],
   "metadata": {
    "collapsed": false,
    "ExecuteTime": {
     "end_time": "2024-07-16T07:54:09.772156Z",
     "start_time": "2024-07-16T07:54:09.767512Z"
    }
   },
   "id": "910e32ed4a647282",
   "execution_count": 6
  },
  {
   "cell_type": "code",
   "outputs": [
    {
     "data": {
      "text/plain": "10.071463"
     },
     "execution_count": 7,
     "metadata": {},
     "output_type": "execute_result"
    }
   ],
   "source": [
    "adata.X.max()"
   ],
   "metadata": {
    "collapsed": false,
    "ExecuteTime": {
     "end_time": "2024-07-16T07:54:18.434856Z",
     "start_time": "2024-07-16T07:54:18.384951Z"
    }
   },
   "id": "c4c80314b50c51e3",
   "execution_count": 7
  },
  {
   "cell_type": "code",
   "outputs": [
    {
     "data": {
      "text/plain": "CD8+ Cytotoxic T                20757\nCD8+/CD45RA+ Naive Cytotoxic    16645\nCD56+ NK                         8775\nCD4+/CD25 T Reg                  6185\nCD19+ B                          5877\nCD4+/CD45RO+ Memory              3059\nCD14+ Monocyte                   2847\nDendritic                        2095\nCD4+/CD45RA+/CD25- Naive T       1871\nCD34+                             242\nCD4+ T Helper2                     97\nName: celltype, dtype: int64"
     },
     "execution_count": 21,
     "metadata": {},
     "output_type": "execute_result"
    }
   ],
   "source": [
    "adata.obs['celltype'].value_counts()"
   ],
   "metadata": {
    "collapsed": false,
    "ExecuteTime": {
     "end_time": "2024-07-16T09:20:23.704693Z",
     "start_time": "2024-07-16T09:20:23.696691Z"
    }
   },
   "id": "2da74195e156d2ae",
   "execution_count": 21
  },
  {
   "cell_type": "code",
   "outputs": [
    {
     "name": "stdout",
     "output_type": "stream",
     "text": [
      "68450 54760 13690\n"
     ]
    }
   ],
   "source": [
    "train_adata, test_adata = train_test_split_adata(adata, test_size=0.2)"
   ],
   "metadata": {
    "collapsed": false,
    "ExecuteTime": {
     "end_time": "2024-07-16T07:58:29.558520Z",
     "start_time": "2024-07-16T07:58:29.527527Z"
    }
   },
   "id": "d3aba1f37c9a19f8",
   "execution_count": 9
  },
  {
   "cell_type": "code",
   "outputs": [],
   "source": [
    "if not os.path.exists(os.path.join(output, 'zheng68k')):\n",
    "    os.makedirs(os.path.join(output, 'zheng68k'), exist_ok=True)\n",
    "train_adata.write_h5ad(output + '/zheng68k/train.h5ad')\n",
    "test_adata.write_h5ad(output + '/zheng68k/test.h5ad')"
   ],
   "metadata": {
    "collapsed": false,
    "ExecuteTime": {
     "end_time": "2024-07-16T08:00:54.493321Z",
     "start_time": "2024-07-16T08:00:53.832595Z"
    }
   },
   "id": "ec30116ba84b8641",
   "execution_count": 12
  },
  {
   "cell_type": "code",
   "outputs": [
    {
     "data": {
      "text/plain": "AnnData object with n_obs × n_vars = 14767 × 15558\n    obs: 'batch', 'batchlb', 'celltype_orig', 'cellname', 'celltype'\n    var: 'mean', 'std'\n    uns: 'log1p', 'pca'\n    obsm: 'X_pca'\n    varm: 'PCs'"
     },
     "execution_count": 2,
     "metadata": {},
     "output_type": "execute_result"
    }
   ],
   "source": [
    "# hpancreas\n",
    "path = '/home/share/huadjyin/home/s_huluni/project/bio_model_240614/Data/INT/dataset4/hPancreas.h5ad'\n",
    "output = '/home/share/huadjyin/home/s_qiuping1/workspace/omics_model/bio_model/biollm/case/data/annotation/human/organs'\n",
    "adata = sc.read_h5ad(path)\n",
    "adata"
   ],
   "metadata": {
    "collapsed": false,
    "ExecuteTime": {
     "end_time": "2024-08-09T08:14:23.017433Z",
     "start_time": "2024-08-09T08:14:18.418815Z"
    }
   },
   "id": "38ebabb0d8dc2914",
   "execution_count": 2
  },
  {
   "cell_type": "code",
   "outputs": [
    {
     "data": {
      "text/plain": "15.35066730099875"
     },
     "execution_count": 3,
     "metadata": {},
     "output_type": "execute_result"
    }
   ],
   "source": [
    "adata.X.max()"
   ],
   "metadata": {
    "collapsed": false,
    "ExecuteTime": {
     "end_time": "2024-08-09T08:14:23.935172Z",
     "start_time": "2024-08-09T08:14:23.779831Z"
    }
   },
   "id": "eae4fea68b4b3577",
   "execution_count": 3
  },
  {
   "cell_type": "code",
   "outputs": [],
   "source": [
    "adata.obs['cell_type_ontology_term_id'] = adata.obs['celltype']"
   ],
   "metadata": {
    "collapsed": false,
    "ExecuteTime": {
     "end_time": "2024-08-09T08:14:35.344977Z",
     "start_time": "2024-08-09T08:14:35.340268Z"
    }
   },
   "id": "12e33521dfcb9e06",
   "execution_count": 4
  },
  {
   "cell_type": "code",
   "outputs": [
    {
     "data": {
      "text/plain": "1    8569\n3    2127\n2    2122\n5    1492\n4     457\nName: batch, dtype: int64"
     },
     "execution_count": 6,
     "metadata": {},
     "output_type": "execute_result"
    }
   ],
   "source": [
    "adata.obs['batch'].value_counts()"
   ],
   "metadata": {
    "collapsed": false,
    "ExecuteTime": {
     "end_time": "2024-08-09T08:15:11.898293Z",
     "start_time": "2024-08-09T08:15:11.891778Z"
    }
   },
   "id": "327b0687136455c5",
   "execution_count": 6
  },
  {
   "cell_type": "code",
   "outputs": [
    {
     "data": {
      "text/plain": "(14767, 15558)"
     },
     "execution_count": 8,
     "metadata": {},
     "output_type": "execute_result"
    }
   ],
   "source": [
    "adata.shape"
   ],
   "metadata": {
    "collapsed": false,
    "ExecuteTime": {
     "end_time": "2024-08-09T08:17:12.330696Z",
     "start_time": "2024-08-09T08:17:12.325812Z"
    }
   },
   "id": "68dc6b8f578c7c32",
   "execution_count": 8
  },
  {
   "cell_type": "code",
   "outputs": [
    {
     "data": {
      "text/plain": "1    8569\n3    2127\n2    2122\nName: batch, dtype: int64"
     },
     "execution_count": 9,
     "metadata": {},
     "output_type": "execute_result"
    }
   ],
   "source": [
    "adata[adata.obs['batch'].isin([1,2,3]), :].obs['batch'].value_counts()"
   ],
   "metadata": {
    "collapsed": false,
    "ExecuteTime": {
     "end_time": "2024-08-09T08:17:33.145065Z",
     "start_time": "2024-08-09T08:17:33.133525Z"
    }
   },
   "id": "9c5a94462c8bddbd",
   "execution_count": 9
  },
  {
   "cell_type": "code",
   "outputs": [],
   "source": [
    "train_adata = adata[adata.obs['batch'].isin([1,2,3]), :].copy()\n",
    "test_adata = adata[adata.obs['batch'].isin([4,5]), :].copy()\n",
    "if not os.path.exists(os.path.join(output, 'hpancreas_intra')):\n",
    "    os.makedirs(os.path.join(output, 'hpancreas_intra'), exist_ok=True)\n",
    "train_adata.write_h5ad(output + '/hpancreas_intra/train.h5ad')\n",
    "test_adata.write_h5ad(output + '/hpancreas_intra/test.h5ad')"
   ],
   "metadata": {
    "collapsed": false,
    "ExecuteTime": {
     "end_time": "2024-08-09T08:18:18.705880Z",
     "start_time": "2024-08-09T08:18:16.983326Z"
    }
   },
   "id": "3629d47b26684d92",
   "execution_count": 10
  },
  {
   "cell_type": "code",
   "outputs": [
    {
     "data": {
      "text/plain": "alpha           4024\nbeta            3243\nductal          1708\nacinar          1362\ndelta            908\ngamma            553\nstellate         511\nendothelial      289\nmesenchymal       80\nmacrophage        55\nmast              32\nepsilon           28\nschwann           13\nt_cell             7\nMHC class II       5\nName: Celltype, dtype: int64"
     },
     "execution_count": 13,
     "metadata": {},
     "output_type": "execute_result"
    }
   ],
   "source": [
    "train_adata.obs['Celltype'].value_counts()"
   ],
   "metadata": {
    "collapsed": false,
    "ExecuteTime": {
     "end_time": "2024-08-09T08:18:56.623505Z",
     "start_time": "2024-08-09T08:18:56.616282Z"
    }
   },
   "id": "f3c2a0fe14aa8b49",
   "execution_count": 13
  },
  {
   "cell_type": "code",
   "outputs": [
    {
     "data": {
      "text/plain": "alpha          1076\nbeta            583\ngamma           103\nductal           96\ndelta            58\nmesenchymal      27\nacinar            6\nName: Celltype, dtype: int64"
     },
     "execution_count": 14,
     "metadata": {},
     "output_type": "execute_result"
    }
   ],
   "source": [
    "test_adata.obs['Celltype'].value_counts()"
   ],
   "metadata": {
    "collapsed": false,
    "ExecuteTime": {
     "end_time": "2024-08-09T08:19:03.597700Z",
     "start_time": "2024-08-09T08:19:03.590494Z"
    }
   },
   "id": "d29717307cfa0995",
   "execution_count": 14
  },
  {
   "cell_type": "code",
   "outputs": [
    {
     "data": {
      "text/plain": "AnnData object with n_obs × n_vars = 15476 × 33694\n    obs: 'Sample', 'n_counts', 'n_genes', 'batch', 'louvain', 'anno', 'Method', 'CellType'\n    var: 'mean', 'std'\n    uns: 'log1p', 'pca'\n    obsm: 'X_pca'\n    varm: 'PCs'"
     },
     "execution_count": 15,
     "metadata": {},
     "output_type": "execute_result"
    }
   ],
   "source": [
    "# hPBMC\n",
    "path = '/home/share/huadjyin/home/s_huluni/project/bio_model_240614/Data/INT/dataset5/hPBMC.h5ad'\n",
    "output = '/home/share/huadjyin/home/s_qiuping1/workspace/omics_model/bio_model/biollm/case/data/annotation/human/organs'\n",
    "adata = sc.read_h5ad(path)\n",
    "adata"
   ],
   "metadata": {
    "collapsed": false,
    "ExecuteTime": {
     "end_time": "2024-08-09T08:21:46.780169Z",
     "start_time": "2024-08-09T08:21:41.586358Z"
    }
   },
   "id": "af66ef6fb3101048",
   "execution_count": 15
  },
  {
   "cell_type": "code",
   "outputs": [
    {
     "data": {
      "text/plain": "0    8098\n1    7378\nName: batch, dtype: int64"
     },
     "execution_count": 16,
     "metadata": {},
     "output_type": "execute_result"
    }
   ],
   "source": [
    "adata.obs['batch'].value_counts()"
   ],
   "metadata": {
    "collapsed": false,
    "ExecuteTime": {
     "end_time": "2024-08-09T08:22:26.097472Z",
     "start_time": "2024-08-09T08:22:26.090854Z"
    }
   },
   "id": "4080b049db151737",
   "execution_count": 16
  },
  {
   "cell_type": "code",
   "outputs": [],
   "source": [
    "adata.obs['cell_type_ontology_term_id'] = adata.obs['CellType']"
   ],
   "metadata": {
    "collapsed": false,
    "ExecuteTime": {
     "end_time": "2024-08-09T08:38:30.293855Z",
     "start_time": "2024-08-09T08:38:30.289219Z"
    }
   },
   "id": "753f2c230217ff7b",
   "execution_count": 20
  },
  {
   "cell_type": "code",
   "outputs": [],
   "source": [
    "train_adata = adata[adata.obs['batch'].isin([0]), :].copy()\n",
    "test_adata = adata[adata.obs['batch'].isin([1]), :].copy()\n",
    "if not os.path.exists(os.path.join(output, 'hPBMC_intra')):\n",
    "    os.makedirs(os.path.join(output, 'hPBMC_intra'), exist_ok=True)\n",
    "train_adata.write_h5ad(output + '/hPBMC_intra/train.h5ad')\n",
    "test_adata.write_h5ad(output + '/hPBMC_intra/test.h5ad')"
   ],
   "metadata": {
    "collapsed": false,
    "ExecuteTime": {
     "end_time": "2024-08-09T08:38:35.012562Z",
     "start_time": "2024-08-09T08:38:33.049436Z"
    }
   },
   "id": "fb7d6be27e7e9cc2",
   "execution_count": 21
  },
  {
   "cell_type": "code",
   "outputs": [
    {
     "data": {
      "text/plain": "CD4 T cell                     2267\nCD8 T cell                     2076\nMonocyte_CD14                  1914\nB cell                         1199\nNK cell                         303\nMonocyte_FCGR3A                 206\nPlasmacytoid dendritic cell      67\nMegakaryocyte                    49\nHematopoietic stem cell          17\nName: CellType, dtype: int64"
     },
     "execution_count": 22,
     "metadata": {},
     "output_type": "execute_result"
    }
   ],
   "source": [
    "train_adata.obs['CellType'].value_counts()"
   ],
   "metadata": {
    "collapsed": false,
    "ExecuteTime": {
     "end_time": "2024-08-09T08:38:37.116279Z",
     "start_time": "2024-08-09T08:38:37.109106Z"
    }
   },
   "id": "e97776774ebca1f6",
   "execution_count": 22
  },
  {
   "cell_type": "code",
   "outputs": [
    {
     "data": {
      "text/plain": "CD4 T cell                     2183\nMonocyte_CD14                  2176\nB cell                         1172\nCD8 T cell                     1066\nMonocyte_FCGR3A                 355\nNK cell                         290\nPlasmacytoid dendritic cell      72\nMegakaryocyte                    57\nHematopoietic stem cell           7\nName: CellType, dtype: int64"
     },
     "execution_count": 23,
     "metadata": {},
     "output_type": "execute_result"
    }
   ],
   "source": [
    "test_adata.obs['CellType'].value_counts()"
   ],
   "metadata": {
    "collapsed": false,
    "ExecuteTime": {
     "end_time": "2024-08-09T08:38:41.944139Z",
     "start_time": "2024-08-09T08:38:41.936907Z"
    }
   },
   "id": "487620937ba2734a",
   "execution_count": 23
  },
  {
   "cell_type": "code",
   "outputs": [
    {
     "name": "stderr",
     "output_type": "stream",
     "text": [
      "/home/share/huadjyin/home/s_qiuping1/app/miniconda3/envs/scgpt/lib/python3.9/site-packages/anndata/_core/anndata.py:183: ImplicitModificationWarning: Transforming to str index.\n",
      "  warnings.warn(\"Transforming to str index.\", ImplicitModificationWarning)\n"
     ]
    },
    {
     "data": {
      "text/plain": "Index(['DDX11L1', 'WASH7P', 'MIR6859-1', 'MIR1302-2HG', 'MIR1302-2', 'FAM138A',\n       'OR4G4P', 'OR4G11P', 'OR4F5', 'RP11-34P13.7',\n       ...\n       'RNU6-1314P', 'CYCSP48', 'ANKRD36P1', 'RP11-557B9.1', 'TPTE2P4',\n       'CYCSP49', 'SLC25A15P1', 'PARP4P1', 'CCNQP2', 'CTBP2P1'],\n      dtype='object', length=56445)"
     },
     "execution_count": 13,
     "metadata": {},
     "output_type": "execute_result"
    }
   ],
   "source": [
    "adata = sc.read_h5ad('/home/share/huadjyin/home/s_qiuping1/workspace/omics_model/bio_model/biollm/case/data/annotation/human/organs/eye/test.h5ad')\n",
    "adata.var_names"
   ],
   "metadata": {
    "collapsed": false,
    "ExecuteTime": {
     "end_time": "2024-07-25T09:49:39.537251Z",
     "start_time": "2024-07-25T09:49:38.433739Z"
    }
   },
   "id": "f2f4e0e04b3e8b8b",
   "execution_count": 13
  },
  {
   "cell_type": "code",
   "outputs": [
    {
     "data": {
      "text/plain": "Index(['MIR1302-2HG', 'FAM138A', 'AL627309.1', 'AL627309.3', 'AL669831.5',\n       'FAM87B', 'LINC00115', 'FAM41C', 'AL645608.7', 'AL645608.3',\n       ...\n       'AC011043.2', 'AL592183.1', 'AC007325.1', 'AC007325.4', 'AC007325.2',\n       'AL354822.1', 'AC023491.2', 'AC004556.1', 'AC240274.1', 'AC213203.1'],\n      dtype='object', length=23747)"
     },
     "execution_count": 14,
     "metadata": {},
     "output_type": "execute_result"
    }
   ],
   "source": [
    "adata = sc.read_h5ad('/home/share/huadjyin/home/s_qiuping1/workspace/omics_model/bio_model/biollm/case/data/annotation/human/organs/lung/test.h5ad')\n",
    "adata.var_names"
   ],
   "metadata": {
    "collapsed": false,
    "ExecuteTime": {
     "end_time": "2024-07-25T09:51:02.628917Z",
     "start_time": "2024-07-25T09:51:02.130560Z"
    }
   },
   "id": "ad44761b25e7890f",
   "execution_count": 14
  },
  {
   "cell_type": "code",
   "outputs": [],
   "source": [
    "from scipy.sparse import issparse\n",
    "import numpy as np\n",
    "\n",
    "max_none_zore=5000\n",
    "# adata = train_adata\n",
    "idx = adata.obs_names.tolist()\n",
    "col = adata.var_names.tolist()\n",
    "if issparse(adata.X):\n",
    "    gexpr_feature = adata.X.toarray()\n",
    "else:\n",
    "    gexpr_feature = adata.X\n",
    "if max_none_zore:\n",
    "    none_zero = gexpr_feature > 0\n",
    "    none_zero_num = none_zero.sum(1)\n",
    "    index = np.argwhere(none_zero_num > max_none_zore).reshape(-1)\n",
    "    for i in index:\n",
    "        none_zero_index = np.argwhere(none_zero[i]).reshape(-1)\n",
    "        np.random.shuffle(none_zero_index)\n",
    "        mask_num = none_zero_num[i] - max_none_zore\n",
    "        mask_index = none_zero_index[0: mask_num]\n",
    "        gexpr_feature[i][mask_index] = 0"
   ],
   "metadata": {
    "collapsed": false,
    "ExecuteTime": {
     "end_time": "2024-07-25T08:42:37.256704Z",
     "start_time": "2024-07-25T08:42:36.391076Z"
    }
   },
   "id": "83421e4ec3e5aba2",
   "execution_count": 10
  }
 ],
 "metadata": {
  "kernelspec": {
   "display_name": "Python 3",
   "language": "python",
   "name": "python3"
  },
  "language_info": {
   "codemirror_mode": {
    "name": "ipython",
    "version": 2
   },
   "file_extension": ".py",
   "mimetype": "text/x-python",
   "name": "python",
   "nbconvert_exporter": "python",
   "pygments_lexer": "ipython2",
   "version": "2.7.6"
  }
 },
 "nbformat": 4,
 "nbformat_minor": 5
}
