{
 "cells": [
  {
   "cell_type": "code",
   "outputs": [
    {
     "name": "stdout",
     "output_type": "stream",
     "text": [
      "{'mask_gene_name': False, 'gene_num': 19266, 'seq_len': 19266, 'encoder': {'hidden_dim': 768, 'depth': 12, 'heads': 12, 'dim_head': 64, 'seq_len': 19266, 'module_type': 'transformer', 'norm_first': False}, 'decoder': {'hidden_dim': 512, 'depth': 6, 'heads': 8, 'dim_head': 64, 'module_type': 'performer', 'seq_len': 19266, 'norm_first': False}, 'n_class': 104, 'pad_token_id': 103, 'mask_token_id': 102, 'bin_num': 100, 'bin_alpha': 1.0, 'rawcount': True, 'model': 'mae_autobin', 'test_valid_train_idx_dict': '/nfs_beijing/minsheng/data/os10000w-new/global_shuffle/meta.csv.train_set_idx_dict.pt', 'valid_data_path': '/nfs_beijing/minsheng/data/valid_count_10w.npz', 'num_tokens': 13, 'train_data_path': None, 'isPanA': False, 'isPlanA1': False, 'max_files_to_load': 5, 'bin_type': 'auto_bin', 'value_mask_prob': 0.3, 'zero_mask_prob': 0.03, 'replace_prob': 0.8, 'random_token_prob': 0.1, 'mask_ignore_token_ids': [0], 'decoder_add_zero': True, 'mae_encoder_max_seq_len': 15000, 'isPlanA': False, 'mask_prob': 0.3, 'model_type': 'mae_autobin', 'pos_embed': False, 'device': 'cuda'}\n"
     ]
    },
    {
     "name": "stderr",
     "output_type": "stream",
     "text": [
      "2024-03-29 10:47:55-network_task-INFO: gene gene embedding for 19264 genes.\n",
      "100%|██████████| 19264/19264 [00:00<00:00, 1166992.68it/s]\n",
      "100%|██████████| 18555086/18555086 [00:22<00:00, 836503.17it/s]\n"
     ]
    }
   ],
   "source": [
    "import os\n",
    "os.chdir(\"/home/share/huadjyin/home/s_huluni/project/bio_model/biollm/biollm\")\n",
    "\n",
    "from biollm.task.grn.network_task import GrnTask\n",
    "from biollm.evaluate.bm_metrices_grn import evaluate\n",
    "\n",
    "task4 = GrnTask(cfs_file=\"config/scfoundation_grn.toml\")\n",
    "\n",
    "g4 = task4.grn_analysis(quantile_cutoff=95, finetune=False)\n",
    "g4_eval_res = evaluate(g4, modularity = True)"
   ],
   "metadata": {
    "collapsed": false,
    "is_executing": true,
    "ExecuteTime": {
     "start_time": "2024-03-29T02:47:32.671563800Z"
    }
   },
   "id": "916adb1b15974e5a",
   "execution_count": null
  },
  {
   "cell_type": "code",
   "outputs": [
    {
     "ename": "FileNotFoundError",
     "evalue": "[Errno 2] No such file or directory: '../config/scgpt_grn.toml'",
     "output_type": "error",
     "traceback": [
      "\u001B[0;31m---------------------------------------------------------------------------\u001B[0m",
      "\u001B[0;31mFileNotFoundError\u001B[0m                         Traceback (most recent call last)",
      "Cell \u001B[0;32mIn[9], line 4\u001B[0m\n\u001B[1;32m      1\u001B[0m \u001B[38;5;28;01mfrom\u001B[39;00m \u001B[38;5;21;01mbiollm\u001B[39;00m\u001B[38;5;21;01m.\u001B[39;00m\u001B[38;5;21;01mtask\u001B[39;00m\u001B[38;5;21;01m.\u001B[39;00m\u001B[38;5;21;01mgrn\u001B[39;00m\u001B[38;5;21;01m.\u001B[39;00m\u001B[38;5;21;01mnetwork_task\u001B[39;00m \u001B[38;5;28;01mimport\u001B[39;00m GrnTask\n\u001B[1;32m      2\u001B[0m \u001B[38;5;28;01mfrom\u001B[39;00m \u001B[38;5;21;01mbiollm\u001B[39;00m\u001B[38;5;21;01m.\u001B[39;00m\u001B[38;5;21;01mevaluate\u001B[39;00m\u001B[38;5;21;01m.\u001B[39;00m\u001B[38;5;21;01mbm_metrices_grn\u001B[39;00m \u001B[38;5;28;01mimport\u001B[39;00m evaluate\n\u001B[0;32m----> 4\u001B[0m task1 \u001B[38;5;241m=\u001B[39m \u001B[43mGrnTask\u001B[49m\u001B[43m(\u001B[49m\u001B[43mcfs_file\u001B[49m\u001B[38;5;241;43m=\u001B[39;49m\u001B[38;5;124;43m\"\u001B[39;49m\u001B[38;5;124;43m../config/scgpt_grn.toml\u001B[39;49m\u001B[38;5;124;43m\"\u001B[39;49m\u001B[43m)\u001B[49m\n\u001B[1;32m      6\u001B[0m g1 \u001B[38;5;241m=\u001B[39m task1\u001B[38;5;241m.\u001B[39mgrn_analysis(quantile_cutoff\u001B[38;5;241m=\u001B[39m\u001B[38;5;241m95\u001B[39m, finetune\u001B[38;5;241m=\u001B[39m\u001B[38;5;28;01mFalse\u001B[39;00m)\n\u001B[1;32m      7\u001B[0m g1_eval_res \u001B[38;5;241m=\u001B[39m evaluate(g1, modularity \u001B[38;5;241m=\u001B[39m \u001B[38;5;28;01mTrue\u001B[39;00m)\n",
      "File \u001B[0;32m~/project/bio_model/biollm/biollm/task/grn/network_task.py:20\u001B[0m, in \u001B[0;36mGrnTask.__init__\u001B[0;34m(self, cfs_file)\u001B[0m\n\u001B[1;32m     19\u001B[0m \u001B[38;5;28;01mdef\u001B[39;00m \u001B[38;5;21m__init__\u001B[39m(\u001B[38;5;28mself\u001B[39m, cfs_file):\n\u001B[0;32m---> 20\u001B[0m     \u001B[38;5;28;43msuper\u001B[39;49m\u001B[43m(\u001B[49m\u001B[43mGrnTask\u001B[49m\u001B[43m,\u001B[49m\u001B[43m \u001B[49m\u001B[38;5;28;43mself\u001B[39;49m\u001B[43m)\u001B[49m\u001B[38;5;241;43m.\u001B[39;49m\u001B[38;5;21;43m__init__\u001B[39;49m\u001B[43m(\u001B[49m\u001B[43mcfs_file\u001B[49m\u001B[43m)\u001B[49m\n\u001B[1;32m     21\u001B[0m     \u001B[38;5;28mself\u001B[39m\u001B[38;5;241m.\u001B[39mgene2ids \u001B[38;5;241m=\u001B[39m \u001B[38;5;28mself\u001B[39m\u001B[38;5;241m.\u001B[39mload_obj\u001B[38;5;241m.\u001B[39mget_gene2idx()\n",
      "File \u001B[0;32m~/project/bio_model/biollm/biollm/base/bio_task.py:22\u001B[0m, in \u001B[0;36mBioTask.__init__\u001B[0;34m(self, cfs_file)\u001B[0m\n\u001B[1;32m     21\u001B[0m \u001B[38;5;28;01mdef\u001B[39;00m \u001B[38;5;21m__init__\u001B[39m(\u001B[38;5;28mself\u001B[39m, cfs_file):\n\u001B[0;32m---> 22\u001B[0m     \u001B[38;5;28mself\u001B[39m\u001B[38;5;241m.\u001B[39margs \u001B[38;5;241m=\u001B[39m \u001B[43mload_config\u001B[49m\u001B[43m(\u001B[49m\u001B[43mcfs_file\u001B[49m\u001B[43m)\u001B[49m\n\u001B[1;32m     23\u001B[0m     \u001B[38;5;28mself\u001B[39m\u001B[38;5;241m.\u001B[39mlogger \u001B[38;5;241m=\u001B[39m LogManager()\u001B[38;5;241m.\u001B[39mlogger\n\u001B[1;32m     24\u001B[0m     \u001B[38;5;28mself\u001B[39m\u001B[38;5;241m.\u001B[39mdevice \u001B[38;5;241m=\u001B[39m torch\u001B[38;5;241m.\u001B[39mdevice(\u001B[38;5;124m'\u001B[39m\u001B[38;5;124mcuda:\u001B[39m\u001B[38;5;124m'\u001B[39m \u001B[38;5;241m+\u001B[39m \u001B[38;5;28mself\u001B[39m\u001B[38;5;241m.\u001B[39margs\u001B[38;5;241m.\u001B[39mdevice)\n",
      "File \u001B[0;32m~/project/bio_model/biollm/biollm/utils/utils.py:16\u001B[0m, in \u001B[0;36mload_config\u001B[0;34m(config_file)\u001B[0m\n\u001B[1;32m     15\u001B[0m \u001B[38;5;28;01mdef\u001B[39;00m \u001B[38;5;21mload_config\u001B[39m(config_file):\n\u001B[0;32m---> 16\u001B[0m     args \u001B[38;5;241m=\u001B[39m munch\u001B[38;5;241m.\u001B[39mmunchify(\u001B[43mtoml\u001B[49m\u001B[38;5;241;43m.\u001B[39;49m\u001B[43mload\u001B[49m\u001B[43m(\u001B[49m\u001B[43mconfig_file\u001B[49m\u001B[43m)\u001B[49m)\n\u001B[1;32m     17\u001B[0m     \u001B[38;5;28;01mif\u001B[39;00m args\u001B[38;5;241m.\u001B[39mmodel_used \u001B[38;5;129;01min\u001B[39;00m (\u001B[38;5;124m'\u001B[39m\u001B[38;5;124mscgpt\u001B[39m\u001B[38;5;124m'\u001B[39m, \u001B[38;5;124m'\u001B[39m\u001B[38;5;124mscmamba\u001B[39m\u001B[38;5;124m'\u001B[39m):\n\u001B[1;32m     18\u001B[0m         \u001B[38;5;28;01mwith\u001B[39;00m \u001B[38;5;28mopen\u001B[39m(args\u001B[38;5;241m.\u001B[39mmodel_param_file, \u001B[38;5;124m'\u001B[39m\u001B[38;5;124mr\u001B[39m\u001B[38;5;124m'\u001B[39m) \u001B[38;5;28;01mas\u001B[39;00m fd:\n",
      "File \u001B[0;32m~/anaconda3/envs/py39_torch/lib/python3.9/site-packages/toml/decoder.py:133\u001B[0m, in \u001B[0;36mload\u001B[0;34m(f, _dict, decoder)\u001B[0m\n\u001B[1;32m    114\u001B[0m \u001B[38;5;250m\u001B[39m\u001B[38;5;124;03m\"\"\"Parses named file or files as toml and returns a dictionary\u001B[39;00m\n\u001B[1;32m    115\u001B[0m \n\u001B[1;32m    116\u001B[0m \u001B[38;5;124;03mArgs:\u001B[39;00m\n\u001B[0;32m   (...)\u001B[0m\n\u001B[1;32m    129\u001B[0m \u001B[38;5;124;03m    (Python 2 / Python 3)          file paths is passed\u001B[39;00m\n\u001B[1;32m    130\u001B[0m \u001B[38;5;124;03m\"\"\"\u001B[39;00m\n\u001B[1;32m    132\u001B[0m \u001B[38;5;28;01mif\u001B[39;00m _ispath(f):\n\u001B[0;32m--> 133\u001B[0m     \u001B[38;5;28;01mwith\u001B[39;00m \u001B[43mio\u001B[49m\u001B[38;5;241;43m.\u001B[39;49m\u001B[43mopen\u001B[49m\u001B[43m(\u001B[49m\u001B[43m_getpath\u001B[49m\u001B[43m(\u001B[49m\u001B[43mf\u001B[49m\u001B[43m)\u001B[49m\u001B[43m,\u001B[49m\u001B[43m \u001B[49m\u001B[43mencoding\u001B[49m\u001B[38;5;241;43m=\u001B[39;49m\u001B[38;5;124;43m'\u001B[39;49m\u001B[38;5;124;43mutf-8\u001B[39;49m\u001B[38;5;124;43m'\u001B[39;49m\u001B[43m)\u001B[49m \u001B[38;5;28;01mas\u001B[39;00m ffile:\n\u001B[1;32m    134\u001B[0m         \u001B[38;5;28;01mreturn\u001B[39;00m loads(ffile\u001B[38;5;241m.\u001B[39mread(), _dict, decoder)\n\u001B[1;32m    135\u001B[0m \u001B[38;5;28;01melif\u001B[39;00m \u001B[38;5;28misinstance\u001B[39m(f, \u001B[38;5;28mlist\u001B[39m):\n",
      "\u001B[0;31mFileNotFoundError\u001B[0m: [Errno 2] No such file or directory: '../config/scgpt_grn.toml'"
     ]
    }
   ],
   "source": [
    "from biollm.task.grn.network_task import GrnTask\n",
    "from biollm.evaluate.bm_metrices_grn import evaluate\n",
    "\n",
    "task1 = GrnTask(cfs_file=\"../config/scgpt_grn.toml\")\n",
    "\n",
    "g1 = task1.grn_analysis(quantile_cutoff=95, finetune=False)\n",
    "g1_eval_res = evaluate(g1, modularity = True)"
   ],
   "metadata": {
    "collapsed": false,
    "ExecuteTime": {
     "end_time": "2024-03-29T02:44:08.727718300Z",
     "start_time": "2024-03-29T02:44:08.638901Z"
    }
   },
   "id": "fcb8aa2026025ee8",
   "execution_count": 9
  },
  {
   "cell_type": "code",
   "outputs": [],
   "source": [
    "from biollm.task.grn.network_task import GrnTask\n",
    "from biollm.evaluate.bm_metrices_grn import evaluate\n",
    "\n",
    "task2 = GrnTask(cfs_file=\"../config/scmamba_grn.toml\")\n",
    "\n",
    "g2 = task2.grn_analysis(quantile_cutoff=95, finetune=False)\n",
    "g2_eval_res = evaluate(g2, modularity = True)"
   ],
   "metadata": {
    "collapsed": false,
    "ExecuteTime": {
     "end_time": "2024-03-29T02:44:08.765944400Z",
     "start_time": "2024-03-29T02:44:08.762641700Z"
    }
   },
   "id": "db1e887ecab75603"
  },
  {
   "cell_type": "code",
   "outputs": [],
   "source": [
    "from biollm.task.grn.network_task import GrnTask\n",
    "from biollm.evaluate.bm_metrices_grn import evaluate\n",
    "\n",
    "task3 = GrnTask(cfs_file=\"../config/scbert_grn.toml\")\n",
    "\n",
    "g3 = task3.grn_analysis(quantile_cutoff=95, finetune=False)\n",
    "g3_eval_res = evaluate(g3, modularity = True)"
   ],
   "metadata": {
    "collapsed": false,
    "ExecuteTime": {
     "start_time": "2024-03-29T02:44:08.762641700Z"
    }
   },
   "id": "2a08f0362286bf1"
  },
  {
   "cell_type": "markdown",
   "source": [],
   "metadata": {
    "collapsed": false
   },
   "id": "3c6dc8c6c096a08a"
  },
  {
   "cell_type": "code",
   "outputs": [],
   "source": [
    "from biollm.biollm.task.grn.network_task import GrnTask\n",
    "from biollm.biollm.evaluate.bm_metrices_grn import evaluate\n",
    "\n",
    "task1 = GrnTask(cfs_file=\"../config/scgpt_grn.toml\")\n",
    "\n",
    "i = 0\n",
    "g1_eval = []\n",
    "while i < 1:\n",
    "    i += 0.2\n",
    "    g1 = task1.grn_analysis(quantile_cutoff=i, finetune=False)\n",
    "    eval_res = evaluate(g1, modularity = True)\n",
    "    g1_eval.append(eval_res)"
   ],
   "metadata": {
    "collapsed": false,
    "ExecuteTime": {
     "start_time": "2024-03-29T02:44:08.763691900Z"
    }
   },
   "id": "2b59a3319dea7445",
   "execution_count": null
  },
  {
   "cell_type": "code",
   "outputs": [],
   "source": [
    "from biollm.biollm.task.grn.network_task import GrnTask\n",
    "from biollm.biollm.evaluate.bm_metrices_grn import evaluate\n",
    "\n",
    "task2 = GrnTask(cfs_file=\"../config/scmamba_grn.toml\")\n",
    "\n",
    "i = 0.2\n",
    "g2_eval = []\n",
    "while i < 0.7:\n",
    "    i += 0.1\n",
    "    g2 = task2.grn_analysis(threshold=i)\n",
    "    eval_res = evaluate(g2, modularity = True)\n",
    "    g2_eval.append(eval_res)"
   ],
   "metadata": {
    "collapsed": false,
    "ExecuteTime": {
     "start_time": "2024-03-29T02:44:08.829265700Z"
    }
   },
   "id": "a783d8d7a2018379",
   "execution_count": null
  },
  {
   "cell_type": "code",
   "outputs": [],
   "source": [
    "from biollm.task.grn.network_task import GrnTask\n",
    "from biollm.evaluate.bm_metrices_grn import evaluate\n",
    "\n",
    "task3 = GrnTask(cfs_file=\"../config/scbert_grn.toml\")\n",
    "\n",
    "i = 0.2\n",
    "g3_eval = []\n",
    "while i < 0.7:\n",
    "    i += 0.1\n",
    "    g3 = task3.grn_analysis(threshold=i)\n",
    "    eval_res = evaluate(g3, modularity = True)\n",
    "    g3_eval.append(eval_res)"
   ],
   "metadata": {
    "collapsed": false,
    "ExecuteTime": {
     "start_time": "2024-03-29T02:44:08.829265700Z"
    }
   },
   "id": "dc1a61f501f00dea",
   "execution_count": null
  },
  {
   "cell_type": "code",
   "outputs": [],
   "source": [
    "import sys\n",
    "sys.path.insert(0, \"/home/share/huadjyin/home/s_huluni/project/bio_model\")\n",
    "\n",
    "from biollm.biollm.task.grn.network_task import GrnTask\n",
    "from biollm.biollm.evaluate.bm_metrices_grn import evaluate\n",
    "\n",
    "task4 = GrnTask(cfs_file=\"../config/scfoundation_config.toml\")\n",
    "\n",
    "i = 0.2\n",
    "g4_eval = []\n",
    "\n",
    "while i < 0.7:\n",
    "    i += 0.1 \n",
    "    g4 = task4.grn_analysis(threshold=i)\n",
    "    eval_res = evaluate(g4, modularity = True)\n",
    "    g4_eval.append(eval_res)"
   ],
   "metadata": {
    "collapsed": false,
    "ExecuteTime": {
     "start_time": "2024-03-29T02:44:08.829265700Z"
    }
   },
   "id": "f8e5097068e64219",
   "execution_count": null
  },
  {
   "cell_type": "code",
   "outputs": [],
   "source": [
    "from biollm.biollm.model.grn import GeneEmbedding\n",
    "import numpy as np\n",
    "import torch\n",
    "\n",
    "adata = task4.read_h5ad()\n",
    "genes_list = [gene for gene in adata.var.index.to_list() if gene in task4.gene2ids]\n",
    "gene_ids = np.array([task4.gene2ids[gene] for gene in genes_list])\n",
    "gene_ids = torch.tensor(gene_ids, dtype=torch.long).to(task4.device)\n",
    "ids_embedding = task4.load_obj.get_gene_embedding(gene_ids)\n",
    "genes_embedding = {genes_list[i]: ids_embedding[i] for i in range(len(genes_list))}\n",
    "grn_embed = GeneEmbedding(genes_embedding)"
   ],
   "metadata": {
    "collapsed": false,
    "ExecuteTime": {
     "start_time": "2024-03-29T02:44:08.829265700Z"
    }
   },
   "id": "42d88eb75343dd3e",
   "execution_count": null
  },
  {
   "cell_type": "code",
   "outputs": [],
   "source": [
    "len(grn_embed.embeddings)"
   ],
   "metadata": {
    "collapsed": false,
    "ExecuteTime": {
     "start_time": "2024-03-29T02:44:08.829265700Z"
    }
   },
   "id": "1c89e051af13d9d",
   "execution_count": null
  },
  {
   "cell_type": "code",
   "outputs": [],
   "source": [
    "import pandas as pd\n",
    "a = pd.DataFrame.from_dict(grn_embed.embeddings)"
   ],
   "metadata": {
    "collapsed": false,
    "ExecuteTime": {
     "end_time": "2024-03-29T02:44:08.829265700Z",
     "start_time": "2024-03-29T02:44:08.829265700Z"
    }
   },
   "id": "8c7f1e616c158f2f",
   "execution_count": null
  },
  {
   "cell_type": "code",
   "outputs": [
    {
     "ename": "NameError",
     "evalue": "name 'a' is not defined",
     "output_type": "error",
     "traceback": [
      "\u001B[0;31m---------------------------------------------------------------------------\u001B[0m",
      "\u001B[0;31mNameError\u001B[0m                                 Traceback (most recent call last)",
      "Cell \u001B[0;32mIn[10], line 2\u001B[0m\n\u001B[1;32m      1\u001B[0m \u001B[38;5;28;01mfrom\u001B[39;00m \u001B[38;5;21;01msklearn\u001B[39;00m\u001B[38;5;21;01m.\u001B[39;00m\u001B[38;5;21;01mmetrics\u001B[39;00m\u001B[38;5;21;01m.\u001B[39;00m\u001B[38;5;21;01mpairwise\u001B[39;00m \u001B[38;5;28;01mimport\u001B[39;00m cosine_similarity\n\u001B[0;32m----> 2\u001B[0m similarities \u001B[38;5;241m=\u001B[39m cosine_similarity(\u001B[43ma\u001B[49m\u001B[38;5;241m.\u001B[39mT)\n\u001B[1;32m      3\u001B[0m similarities\u001B[38;5;241m.\u001B[39mshape\n",
      "\u001B[0;31mNameError\u001B[0m: name 'a' is not defined"
     ]
    }
   ],
   "source": [
    "from sklearn.metrics.pairwise import cosine_similarity\n",
    "similarities = cosine_similarity(a.T)\n",
    "similarities.shape"
   ],
   "metadata": {
    "collapsed": false,
    "ExecuteTime": {
     "start_time": "2024-03-29T02:44:08.829265700Z"
    }
   },
   "id": "c864a4e9cae8288f",
   "execution_count": 10
  },
  {
   "cell_type": "code",
   "outputs": [],
   "source": [
    "similarities.max()"
   ],
   "metadata": {
    "collapsed": false,
    "ExecuteTime": {
     "start_time": "2024-03-29T02:44:08.829265700Z"
    }
   },
   "id": "bb6f0d626f84636",
   "execution_count": null
  },
  {
   "cell_type": "code",
   "outputs": [],
   "source": [
    "grn_embed.embeddings[\"POU2F2\"]"
   ],
   "metadata": {
    "collapsed": false,
    "ExecuteTime": {
     "start_time": "2024-03-29T02:44:08.829265700Z"
    }
   },
   "id": "71a10af21e6309be",
   "execution_count": null
  },
  {
   "cell_type": "code",
   "outputs": [],
   "source": [
    "grn_embed.embeddings.keys()"
   ],
   "metadata": {
    "collapsed": false,
    "ExecuteTime": {
     "end_time": "2024-03-29T02:44:08.879953200Z",
     "start_time": "2024-03-29T02:44:08.879953200Z"
    }
   },
   "id": "9c10072cc5d89ca4",
   "execution_count": null
  },
  {
   "cell_type": "code",
   "outputs": [],
   "source": [
    "import matplotlib.pyplot as plt\n",
    "\n",
    "modularity_g1 = [eval_res['Modularity'] if eval_res is not None else None for eval_res in g1_eval]\n",
    "biological_index_g1 = [eval_res['Biological Index'] if eval_res is not None else None for eval_res in g1_eval]\n",
    "modularity_g2 = [eval_res['Modularity'] if eval_res is not None else None for eval_res in g2_eval]\n",
    "biological_index_g2 = [eval_res['Biological Index'] if eval_res is not None else None for eval_res in g2_eval]\n",
    "modularity_g3 = [eval_res['Modularity'] if eval_res is not None else None for eval_res in g3_eval]\n",
    "biological_index_g3 = [eval_res['Biological Index'] if eval_res is not None else None for eval_res in g3_eval]\n",
    "modularity_g4 = [eval_res['Modularity'] if eval_res is not None else None for eval_res in g4_eval]\n",
    "biological_index_g4 = [eval_res['Biological Index'] if eval_res is not None else None for eval_res in g4_eval]\n",
    "\n",
    "x_value = [ 0.3, 0.4, 0.5, 0.6, None]\n",
    "\n",
    "# 创建两个并排的子图\n",
    "plt.figure(figsize=(14, 5))\n",
    "# 子图1：比较 Modularity\n",
    "plt.subplot(1, 2, 1)\n",
    "plt.plot(x_value, modularity_g1, label='scGPT Modularity', marker='o')\n",
    "plt.plot(x_value, modularity_g2, label='scMamba Modularity', marker='x')\n",
    "plt.plot(x_value, modularity_g3, label='scBERT Modularity', marker='s')\n",
    "plt.plot(x_value, modularity_g4, label='scFoundation Modularity', marker='*')\n",
    "\n",
    "plt.xlabel('Cosine Similarity Cutoff')\n",
    "plt.ylabel('Modularity Value')\n",
    "plt.legend()\n",
    "plt.grid(True)\n",
    "\n",
    "# 子图2：比较 Biological Index\n",
    "plt.subplot(1, 2, 2)\n",
    "plt.plot(x_value, biological_index_g1, label='scGPT Biological Index', marker='o')\n",
    "plt.plot(x_value, biological_index_g2, label='scMamba Biological Index', marker='x')\n",
    "plt.plot(x_value, biological_index_g3, label='scBERT Biological Index', marker='s')\n",
    "plt.plot(x_value, biological_index_g4, label='scFoundation Biological Index', marker='*')\n",
    "\n",
    "plt.xlabel('Cosine Similarity Cutoff')\n",
    "plt.ylabel('Biological Index Value')\n",
    "plt.legend()\n",
    "\n",
    "plt.grid(True)\n",
    "plt.tight_layout()\n",
    "plt.show()"
   ],
   "metadata": {
    "collapsed": false,
    "ExecuteTime": {
     "start_time": "2024-03-29T02:44:08.879953200Z"
    }
   },
   "id": "c9c2f7b92bd4a43",
   "execution_count": null
  },
  {
   "cell_type": "code",
   "outputs": [
    {
     "ename": "NameError",
     "evalue": "name 'modularity_g4' is not defined",
     "output_type": "error",
     "traceback": [
      "\u001B[0;31m---------------------------------------------------------------------------\u001B[0m",
      "\u001B[0;31mNameError\u001B[0m                                 Traceback (most recent call last)",
      "Cell \u001B[0;32mIn[11], line 1\u001B[0m\n\u001B[0;32m----> 1\u001B[0m \u001B[43mmodularity_g4\u001B[49m\n",
      "\u001B[0;31mNameError\u001B[0m: name 'modularity_g4' is not defined"
     ]
    }
   ],
   "source": [
    "modularity_g4"
   ],
   "metadata": {
    "collapsed": false,
    "ExecuteTime": {
     "end_time": "2024-03-29T02:44:08.883068100Z",
     "start_time": "2024-03-29T02:44:08.879953200Z"
    }
   },
   "id": "f46d229a85718d55",
   "execution_count": 11
  }
 ],
 "metadata": {
  "kernelspec": {
   "display_name": "Python 3",
   "language": "python",
   "name": "python3"
  },
  "language_info": {
   "codemirror_mode": {
    "name": "ipython",
    "version": 2
   },
   "file_extension": ".py",
   "mimetype": "text/x-python",
   "name": "python",
   "nbconvert_exporter": "python",
   "pygments_lexer": "ipython2",
   "version": "2.7.6"
  }
 },
 "nbformat": 4,
 "nbformat_minor": 5
}
