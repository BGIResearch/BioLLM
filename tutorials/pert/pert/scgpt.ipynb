{
 "cells": [
  {
   "cell_type": "code",
   "outputs": [
    {
     "name": "stderr",
     "output_type": "stream",
     "text": [
      "/home/share/huadjyin/home/s_qiuping1/app/miniconda3/envs/scgpt/lib/python3.9/site-packages/lightning/fabric/plugins/environments/xla.py:18: DeprecationWarning: `ModuleAvailableCache` is a special case of `RequirementCache`. Please use `RequirementCache(module=...)` instead.\n",
      "  from lightning.fabric.accelerators.tpu import _XLA_AVAILABLE, TPUAccelerator\n",
      "/home/share/huadjyin/home/s_qiuping1/app/miniconda3/envs/scgpt/lib/python3.9/site-packages/lightning/fabric/__init__.py:36: DeprecationWarning: Deprecated call to `pkg_resources.declare_namespace('lightning.fabric')`.\n",
      "Implementing implicit namespace packages (as specified in PEP 420) is preferred to `pkg_resources.declare_namespace`. See https://setuptools.pypa.io/en/latest/references/keywords.html#keyword-namespace-packages\n",
      "  __import__(\"pkg_resources\").declare_namespace(__name__)\n",
      "/home/share/huadjyin/home/s_qiuping1/app/miniconda3/envs/scgpt/lib/python3.9/site-packages/pkg_resources/__init__.py:2348: DeprecationWarning: Deprecated call to `pkg_resources.declare_namespace('lightning')`.\n",
      "Implementing implicit namespace packages (as specified in PEP 420) is preferred to `pkg_resources.declare_namespace`. See https://setuptools.pypa.io/en/latest/references/keywords.html#keyword-namespace-packages\n",
      "  declare_namespace(parent)\n",
      "/home/share/huadjyin/home/s_qiuping1/app/miniconda3/envs/scgpt/lib/python3.9/site-packages/lightning/pytorch/__init__.py:36: DeprecationWarning: Deprecated call to `pkg_resources.declare_namespace('lightning.pytorch')`.\n",
      "Implementing implicit namespace packages (as specified in PEP 420) is preferred to `pkg_resources.declare_namespace`. See https://setuptools.pypa.io/en/latest/references/keywords.html#keyword-namespace-packages\n",
      "  __import__(\"pkg_resources\").declare_namespace(__name__)\n",
      "/home/share/huadjyin/home/s_qiuping1/app/miniconda3/envs/scgpt/lib/python3.9/site-packages/pkg_resources/__init__.py:2348: DeprecationWarning: Deprecated call to `pkg_resources.declare_namespace('lightning')`.\n",
      "Implementing implicit namespace packages (as specified in PEP 420) is preferred to `pkg_resources.declare_namespace`. See https://setuptools.pypa.io/en/latest/references/keywords.html#keyword-namespace-packages\n",
      "  declare_namespace(parent)\n",
      "/home/share/huadjyin/home/s_qiuping1/app/miniconda3/envs/scgpt/lib/python3.9/site-packages/scvi/_settings.py:63: UserWarning: Since v1.0.0, scvi-tools no longer uses a random seed by default. Run `scvi.settings.seed = 0` to reproduce results from previous versions.\n",
      "  self.seed = seed\n",
      "/home/share/huadjyin/home/s_qiuping1/app/miniconda3/envs/scgpt/lib/python3.9/site-packages/scvi/_settings.py:70: UserWarning: Setting `dl_pin_memory_gpu_training` is deprecated in v1.0 and will be removed in v1.1. Please pass in `pin_memory` to the data loaders instead.\n",
      "  self.dl_pin_memory_gpu_training = (\n",
      "/home/share/huadjyin/home/s_qiuping1/app/miniconda3/envs/scgpt/lib/python3.9/site-packages/chex/_src/pytypes.py:53: DeprecationWarning: jax.core.Shape is deprecated. Use Shape = Sequence[int | Any].\n",
      "  Shape = jax.core.Shape\n",
      "/home/share/huadjyin/home/s_qiuping1/app/miniconda3/envs/scgpt/lib/python3.9/site-packages/chex/_src/pytypes.py:54: DeprecationWarning: jax.random.KeyArray is deprecated. Use jax.Array for annotations, and jax.dtypes.issubdtype(arr.dtype, jax.dtypes.prng_key) for runtime detection of typed prng keys (i.e. keys created with jax.random.key).\n",
      "For more information, see https://jax.readthedocs.io/en/latest/jep/9263-typed-keys.html\n",
      "  PRNGKey = jax.random.KeyArray\n"
     ]
    },
    {
     "name": "stdout",
     "output_type": "stream",
     "text": [
      "Using simple batchnorm instead of domain specific batchnorm\n"
     ]
    },
    {
     "name": "stderr",
     "output_type": "stream",
     "text": [
      "Found local copy...\n"
     ]
    },
    {
     "name": "stdout",
     "output_type": "stream",
     "text": [
      "before filter: (63585, 4355)\n",
      "match 1.0 genes in vocab of size 4355\n",
      "after filter: View of AnnData object with n_obs × n_vars = 63585 × 4355\n",
      "    obs: 'condition', 'cell_type', 'dose_val', 'control', 'condition_name', 'pert_gene_in_vocab'\n",
      "    var: 'gene_name', 'is_in_vocab'\n",
      "    uns: 'non_dropout_gene_idx', 'non_zeros_gene_idx', 'rank_genes_groups_cov_all', 'top_non_dropout_de_20', 'top_non_zero_de_20'\n"
     ]
    },
    {
     "name": "stderr",
     "output_type": "stream",
     "text": [
      "Found local copy...\n",
      "Creating pyg object for each cell in the data...\n",
      "Creating dataset file...\n",
      "  0%|          | 0/76 [00:00<?, ?it/s]"
     ]
    },
    {
     "name": "stdout",
     "output_type": "stream",
     "text": [
      "Xs:  472 de_idx_list:  0\n"
     ]
    },
    {
     "name": "stderr",
     "output_type": "stream",
     "text": [
      "  1%|▏         | 1/76 [00:01<02:14,  1.79s/it]"
     ]
    },
    {
     "name": "stdout",
     "output_type": "stream",
     "text": [
      "Xs:  24263 de_idx_list:  0\n"
     ]
    },
    {
     "name": "stderr",
     "output_type": "stream",
     "text": [
      "  3%|▎         | 2/76 [14:11<10:17:24, 500.60s/it]"
     ]
    },
    {
     "name": "stdout",
     "output_type": "stream",
     "text": [
      "Xs:  517 de_idx_list:  0\n"
     ]
    },
    {
     "name": "stderr",
     "output_type": "stream",
     "text": [
      "  4%|▍         | 3/76 [14:13<5:32:02, 272.92s/it] "
     ]
    },
    {
     "name": "stdout",
     "output_type": "stream",
     "text": [
      "Xs:  504 de_idx_list:  0\n"
     ]
    },
    {
     "name": "stderr",
     "output_type": "stream",
     "text": [
      "  5%|▌         | 4/76 [14:15<3:19:06, 165.92s/it]"
     ]
    },
    {
     "name": "stdout",
     "output_type": "stream",
     "text": [
      "Xs:  435 de_idx_list:  0\n"
     ]
    },
    {
     "name": "stderr",
     "output_type": "stream",
     "text": [
      "  7%|▋         | 5/76 [14:17<2:06:14, 106.69s/it]"
     ]
    },
    {
     "name": "stdout",
     "output_type": "stream",
     "text": [
      "Xs:  524 de_idx_list:  0\n"
     ]
    },
    {
     "name": "stderr",
     "output_type": "stream",
     "text": [
      "  8%|▊         | 6/76 [14:19<1:22:56, 71.09s/it] "
     ]
    },
    {
     "name": "stdout",
     "output_type": "stream",
     "text": [
      "Xs:  962 de_idx_list:  0\n"
     ]
    },
    {
     "name": "stderr",
     "output_type": "stream",
     "text": [
      "  9%|▉         | 7/76 [14:22<56:22, 49.02s/it]  "
     ]
    },
    {
     "name": "stdout",
     "output_type": "stream",
     "text": [
      "Xs:  545 de_idx_list:  0\n"
     ]
    },
    {
     "name": "stderr",
     "output_type": "stream",
     "text": [
      " 11%|█         | 8/76 [14:24<38:36, 34.07s/it]"
     ]
    },
    {
     "name": "stdout",
     "output_type": "stream",
     "text": [
      "Xs:  1267 de_idx_list:  0\n"
     ]
    },
    {
     "name": "stderr",
     "output_type": "stream",
     "text": [
      " 12%|█▏        | 9/76 [14:29<27:46, 24.88s/it]"
     ]
    },
    {
     "name": "stdout",
     "output_type": "stream",
     "text": [
      "Xs:  1182 de_idx_list:  0\n"
     ]
    },
    {
     "name": "stderr",
     "output_type": "stream",
     "text": [
      " 13%|█▎        | 10/76 [14:33<20:24, 18.56s/it]"
     ]
    },
    {
     "name": "stdout",
     "output_type": "stream",
     "text": [
      "Xs:  618 de_idx_list:  0\n"
     ]
    },
    {
     "name": "stderr",
     "output_type": "stream",
     "text": [
      " 14%|█▍        | 11/76 [14:36<14:43, 13.60s/it]"
     ]
    },
    {
     "name": "stdout",
     "output_type": "stream",
     "text": [
      "TIMM23+ctrl\n",
      "Xs:  625 de_idx_list:  0\n"
     ]
    },
    {
     "name": "stderr",
     "output_type": "stream",
     "text": [
      " 16%|█▌        | 12/76 [14:38<10:51, 10.17s/it]"
     ]
    },
    {
     "name": "stdout",
     "output_type": "stream",
     "text": [
      "AMIGO3+ctrl\n",
      "Xs:  616 de_idx_list:  0\n"
     ]
    },
    {
     "name": "stderr",
     "output_type": "stream",
     "text": [
      " 17%|█▋        | 13/76 [14:40<08:10,  7.79s/it]"
     ]
    },
    {
     "name": "stdout",
     "output_type": "stream",
     "text": [
      "Xs:  540 de_idx_list:  0\n"
     ]
    },
    {
     "name": "stderr",
     "output_type": "stream",
     "text": [
      " 18%|█▊        | 14/76 [14:42<06:15,  6.06s/it]"
     ]
    },
    {
     "name": "stdout",
     "output_type": "stream",
     "text": [
      "Xs:  923 de_idx_list:  0\n"
     ]
    },
    {
     "name": "stderr",
     "output_type": "stream",
     "text": [
      " 20%|█▉        | 15/76 [14:46<05:30,  5.42s/it]"
     ]
    },
    {
     "name": "stdout",
     "output_type": "stream",
     "text": [
      "Xs:  383 de_idx_list:  0\n"
     ]
    },
    {
     "name": "stderr",
     "output_type": "stream",
     "text": [
      " 21%|██        | 16/76 [14:48<04:13,  4.22s/it]"
     ]
    },
    {
     "name": "stdout",
     "output_type": "stream",
     "text": [
      "Xs:  482 de_idx_list:  0\n"
     ]
    },
    {
     "name": "stderr",
     "output_type": "stream",
     "text": [
      " 22%|██▏       | 17/76 [14:50<03:26,  3.50s/it]"
     ]
    },
    {
     "name": "stdout",
     "output_type": "stream",
     "text": [
      "Xs:  513 de_idx_list:  0\n"
     ]
    },
    {
     "name": "stderr",
     "output_type": "stream",
     "text": [
      " 24%|██▎       | 18/76 [14:51<02:54,  3.02s/it]"
     ]
    },
    {
     "name": "stdout",
     "output_type": "stream",
     "text": [
      "Xs:  391 de_idx_list:  0\n"
     ]
    },
    {
     "name": "stderr",
     "output_type": "stream",
     "text": [
      " 25%|██▌       | 19/76 [14:53<02:24,  2.53s/it]"
     ]
    },
    {
     "name": "stdout",
     "output_type": "stream",
     "text": [
      "Xs:  672 de_idx_list:  0\n"
     ]
    },
    {
     "name": "stderr",
     "output_type": "stream",
     "text": [
      " 26%|██▋       | 20/76 [14:55<02:20,  2.51s/it]"
     ]
    },
    {
     "name": "stdout",
     "output_type": "stream",
     "text": [
      "Xs:  487 de_idx_list:  0\n"
     ]
    },
    {
     "name": "stderr",
     "output_type": "stream",
     "text": [
      " 28%|██▊       | 21/76 [14:57<02:06,  2.31s/it]"
     ]
    },
    {
     "name": "stdout",
     "output_type": "stream",
     "text": [
      "Xs:  376 de_idx_list:  0\n"
     ]
    },
    {
     "name": "stderr",
     "output_type": "stream",
     "text": [
      " 29%|██▉       | 22/76 [14:59<01:50,  2.04s/it]"
     ]
    },
    {
     "name": "stdout",
     "output_type": "stream",
     "text": [
      "Xs:  505 de_idx_list:  0\n"
     ]
    },
    {
     "name": "stderr",
     "output_type": "stream",
     "text": [
      " 30%|███       | 23/76 [15:00<01:46,  2.00s/it]"
     ]
    },
    {
     "name": "stdout",
     "output_type": "stream",
     "text": [
      "Xs:  553 de_idx_list:  0\n"
     ]
    },
    {
     "name": "stderr",
     "output_type": "stream",
     "text": [
      " 32%|███▏      | 24/76 [15:03<01:45,  2.03s/it]"
     ]
    },
    {
     "name": "stdout",
     "output_type": "stream",
     "text": [
      "Xs:  421 de_idx_list:  0\n"
     ]
    },
    {
     "name": "stderr",
     "output_type": "stream",
     "text": [
      " 33%|███▎      | 25/76 [15:04<01:37,  1.90s/it]"
     ]
    },
    {
     "name": "stdout",
     "output_type": "stream",
     "text": [
      "Xs:  506 de_idx_list:  0\n"
     ]
    },
    {
     "name": "stderr",
     "output_type": "stream",
     "text": [
      " 36%|███▌      | 27/76 [15:07<01:18,  1.61s/it]"
     ]
    },
    {
     "name": "stdout",
     "output_type": "stream",
     "text": [
      "Xs:  242 de_idx_list:  0\n",
      "Xs:  385 de_idx_list:  0\n"
     ]
    },
    {
     "name": "stderr",
     "output_type": "stream",
     "text": [
      " 37%|███▋      | 28/76 [15:09<01:16,  1.58s/it]"
     ]
    },
    {
     "name": "stdout",
     "output_type": "stream",
     "text": [
      "Xs:  428 de_idx_list:  0\n"
     ]
    },
    {
     "name": "stderr",
     "output_type": "stream",
     "text": [
      " 38%|███▊      | 29/76 [15:10<01:15,  1.60s/it]"
     ]
    },
    {
     "name": "stdout",
     "output_type": "stream",
     "text": [
      "Xs:  530 de_idx_list:  0\n"
     ]
    },
    {
     "name": "stderr",
     "output_type": "stream",
     "text": [
      " 39%|███▉      | 30/76 [15:12<01:19,  1.72s/it]"
     ]
    },
    {
     "name": "stdout",
     "output_type": "stream",
     "text": [
      "Xs:  518 de_idx_list:  0\n"
     ]
    },
    {
     "name": "stderr",
     "output_type": "stream",
     "text": [
      " 41%|████      | 31/76 [15:14<01:21,  1.80s/it]"
     ]
    },
    {
     "name": "stdout",
     "output_type": "stream",
     "text": [
      "Xs:  542 de_idx_list:  0\n"
     ]
    },
    {
     "name": "stderr",
     "output_type": "stream",
     "text": [
      " 42%|████▏     | 32/76 [15:16<01:22,  1.88s/it]"
     ]
    },
    {
     "name": "stdout",
     "output_type": "stream",
     "text": [
      "Xs:  389 de_idx_list:  0\n"
     ]
    },
    {
     "name": "stderr",
     "output_type": "stream",
     "text": [
      " 43%|████▎     | 33/76 [15:18<01:15,  1.76s/it]"
     ]
    },
    {
     "name": "stdout",
     "output_type": "stream",
     "text": [
      "Xs:  562 de_idx_list:  0\n"
     ]
    },
    {
     "name": "stderr",
     "output_type": "stream",
     "text": [
      " 45%|████▍     | 34/76 [15:20<01:18,  1.87s/it]"
     ]
    },
    {
     "name": "stdout",
     "output_type": "stream",
     "text": [
      "Xs:  718 de_idx_list:  0\n"
     ]
    },
    {
     "name": "stderr",
     "output_type": "stream",
     "text": [
      " 46%|████▌     | 35/76 [15:23<01:28,  2.15s/it]"
     ]
    },
    {
     "name": "stdout",
     "output_type": "stream",
     "text": [
      "Xs:  582 de_idx_list:  0\n"
     ]
    },
    {
     "name": "stderr",
     "output_type": "stream",
     "text": [
      " 47%|████▋     | 36/76 [15:25<01:26,  2.15s/it]"
     ]
    },
    {
     "name": "stdout",
     "output_type": "stream",
     "text": [
      "Xs:  786 de_idx_list:  0\n"
     ]
    },
    {
     "name": "stderr",
     "output_type": "stream",
     "text": [
      " 49%|████▊     | 37/76 [15:28<01:32,  2.37s/it]"
     ]
    },
    {
     "name": "stdout",
     "output_type": "stream",
     "text": [
      "Xs:  517 de_idx_list:  0\n"
     ]
    },
    {
     "name": "stderr",
     "output_type": "stream",
     "text": [
      " 50%|█████     | 38/76 [15:30<01:25,  2.25s/it]"
     ]
    },
    {
     "name": "stdout",
     "output_type": "stream",
     "text": [
      "Xs:  557 de_idx_list:  0\n"
     ]
    },
    {
     "name": "stderr",
     "output_type": "stream",
     "text": [
      " 51%|█████▏    | 39/76 [15:32<01:20,  2.18s/it]"
     ]
    },
    {
     "name": "stdout",
     "output_type": "stream",
     "text": [
      "Xs:  462 de_idx_list:  0\n"
     ]
    },
    {
     "name": "stderr",
     "output_type": "stream",
     "text": [
      " 54%|█████▍    | 41/76 [15:35<01:02,  1.78s/it]"
     ]
    },
    {
     "name": "stdout",
     "output_type": "stream",
     "text": [
      "Xs:  323 de_idx_list:  0\n",
      "Xs:  426 de_idx_list:  0\n"
     ]
    },
    {
     "name": "stderr",
     "output_type": "stream",
     "text": [
      " 55%|█████▌    | 42/76 [15:36<00:58,  1.72s/it]"
     ]
    },
    {
     "name": "stdout",
     "output_type": "stream",
     "text": [
      "Xs:  524 de_idx_list:  0\n"
     ]
    },
    {
     "name": "stderr",
     "output_type": "stream",
     "text": [
      " 57%|█████▋    | 43/76 [15:38<00:58,  1.78s/it]"
     ]
    },
    {
     "name": "stdout",
     "output_type": "stream",
     "text": [
      "Xs:  508 de_idx_list:  0\n"
     ]
    },
    {
     "name": "stderr",
     "output_type": "stream",
     "text": [
      " 58%|█████▊    | 44/76 [15:40<00:58,  1.82s/it]"
     ]
    },
    {
     "name": "stdout",
     "output_type": "stream",
     "text": [
      "Xs:  406 de_idx_list:  0\n"
     ]
    },
    {
     "name": "stderr",
     "output_type": "stream",
     "text": [
      " 59%|█████▉    | 45/76 [15:41<00:53,  1.73s/it]"
     ]
    },
    {
     "name": "stdout",
     "output_type": "stream",
     "text": [
      "Xs:  435 de_idx_list:  0\n"
     ]
    },
    {
     "name": "stderr",
     "output_type": "stream",
     "text": [
      " 61%|██████    | 46/76 [15:43<00:52,  1.74s/it]"
     ]
    },
    {
     "name": "stdout",
     "output_type": "stream",
     "text": [
      "Xs:  1002 de_idx_list:  0\n"
     ]
    },
    {
     "name": "stderr",
     "output_type": "stream",
     "text": [
      " 62%|██████▏   | 47/76 [15:47<01:08,  2.37s/it]"
     ]
    },
    {
     "name": "stdout",
     "output_type": "stream",
     "text": [
      "Xs:  488 de_idx_list:  0\n"
     ]
    },
    {
     "name": "stderr",
     "output_type": "stream",
     "text": [
      " 63%|██████▎   | 48/76 [15:49<01:01,  2.20s/it]"
     ]
    },
    {
     "name": "stdout",
     "output_type": "stream",
     "text": [
      "Xs:  441 de_idx_list:  0\n"
     ]
    },
    {
     "name": "stderr",
     "output_type": "stream",
     "text": [
      " 64%|██████▍   | 49/76 [15:51<00:55,  2.05s/it]"
     ]
    },
    {
     "name": "stdout",
     "output_type": "stream",
     "text": [
      "KCTD16+ctrl\n",
      "Xs:  405 de_idx_list:  0\n"
     ]
    },
    {
     "name": "stderr",
     "output_type": "stream",
     "text": [
      " 66%|██████▌   | 50/76 [15:52<00:48,  1.88s/it]"
     ]
    },
    {
     "name": "stdout",
     "output_type": "stream",
     "text": [
      "Xs:  1024 de_idx_list:  0\n"
     ]
    },
    {
     "name": "stderr",
     "output_type": "stream",
     "text": [
      " 67%|██████▋   | 51/76 [15:56<01:00,  2.43s/it]"
     ]
    },
    {
     "name": "stdout",
     "output_type": "stream",
     "text": [
      "Xs:  583 de_idx_list:  0\n"
     ]
    },
    {
     "name": "stderr",
     "output_type": "stream",
     "text": [
      " 68%|██████▊   | 52/76 [15:58<00:56,  2.36s/it]"
     ]
    },
    {
     "name": "stdout",
     "output_type": "stream",
     "text": [
      "Xs:  415 de_idx_list:  0\n"
     ]
    },
    {
     "name": "stderr",
     "output_type": "stream",
     "text": [
      " 70%|██████▉   | 53/76 [16:00<00:49,  2.14s/it]"
     ]
    },
    {
     "name": "stdout",
     "output_type": "stream",
     "text": [
      "Xs:  487 de_idx_list:  0\n"
     ]
    },
    {
     "name": "stderr",
     "output_type": "stream",
     "text": [
      " 71%|███████   | 54/76 [16:02<00:48,  2.20s/it]"
     ]
    },
    {
     "name": "stdout",
     "output_type": "stream",
     "text": [
      "Xs:  449 de_idx_list:  0\n"
     ]
    },
    {
     "name": "stderr",
     "output_type": "stream",
     "text": [
      " 72%|███████▏  | 55/76 [16:04<00:43,  2.05s/it]"
     ]
    },
    {
     "name": "stdout",
     "output_type": "stream",
     "text": [
      "Xs:  432 de_idx_list:  0\n"
     ]
    },
    {
     "name": "stderr",
     "output_type": "stream",
     "text": [
      " 75%|███████▌  | 57/76 [16:07<00:32,  1.72s/it]"
     ]
    },
    {
     "name": "stdout",
     "output_type": "stream",
     "text": [
      "Xs:  318 de_idx_list:  0\n",
      "Xs:  523 de_idx_list:  0\n"
     ]
    },
    {
     "name": "stderr",
     "output_type": "stream",
     "text": [
      " 76%|███████▋  | 58/76 [16:08<00:31,  1.77s/it]"
     ]
    },
    {
     "name": "stdout",
     "output_type": "stream",
     "text": [
      "Xs:  534 de_idx_list:  0\n"
     ]
    },
    {
     "name": "stderr",
     "output_type": "stream",
     "text": [
      " 79%|███████▉  | 60/76 [16:11<00:25,  1.61s/it]"
     ]
    },
    {
     "name": "stdout",
     "output_type": "stream",
     "text": [
      "Xs:  310 de_idx_list:  0\n",
      "Xs:  591 de_idx_list:  0\n"
     ]
    },
    {
     "name": "stderr",
     "output_type": "stream",
     "text": [
      " 82%|████████▏ | 62/76 [16:14<00:20,  1.46s/it]"
     ]
    },
    {
     "name": "stdout",
     "output_type": "stream",
     "text": [
      "Xs:  185 de_idx_list:  0\n",
      "Xs:  404 de_idx_list:  0\n"
     ]
    },
    {
     "name": "stderr",
     "output_type": "stream",
     "text": [
      " 83%|████████▎ | 63/76 [16:16<00:19,  1.48s/it]"
     ]
    },
    {
     "name": "stdout",
     "output_type": "stream",
     "text": [
      "Xs:  596 de_idx_list:  0\n"
     ]
    },
    {
     "name": "stderr",
     "output_type": "stream",
     "text": [
      " 84%|████████▍ | 64/76 [16:18<00:20,  1.74s/it]"
     ]
    },
    {
     "name": "stdout",
     "output_type": "stream",
     "text": [
      "Xs:  570 de_idx_list:  0\n"
     ]
    },
    {
     "name": "stderr",
     "output_type": "stream",
     "text": [
      " 87%|████████▋ | 66/76 [16:21<00:15,  1.54s/it]"
     ]
    },
    {
     "name": "stdout",
     "output_type": "stream",
     "text": [
      "Xs:  190 de_idx_list:  0\n",
      "Xs:  399 de_idx_list:  0\n"
     ]
    },
    {
     "name": "stderr",
     "output_type": "stream",
     "text": [
      " 89%|████████▉ | 68/76 [16:24<00:10,  1.33s/it]"
     ]
    },
    {
     "name": "stdout",
     "output_type": "stream",
     "text": [
      "Xs:  220 de_idx_list:  0\n",
      "Xs:  346 de_idx_list:  0\n"
     ]
    },
    {
     "name": "stderr",
     "output_type": "stream",
     "text": [
      " 91%|█████████ | 69/76 [16:25<00:09,  1.34s/it]"
     ]
    },
    {
     "name": "stdout",
     "output_type": "stream",
     "text": [
      "Xs:  530 de_idx_list:  0\n"
     ]
    },
    {
     "name": "stderr",
     "output_type": "stream",
     "text": [
      " 92%|█████████▏| 70/76 [16:27<00:09,  1.53s/it]"
     ]
    },
    {
     "name": "stdout",
     "output_type": "stream",
     "text": [
      "Xs:  446 de_idx_list:  0\n"
     ]
    },
    {
     "name": "stderr",
     "output_type": "stream",
     "text": [
      " 93%|█████████▎| 71/76 [16:29<00:07,  1.58s/it]"
     ]
    },
    {
     "name": "stdout",
     "output_type": "stream",
     "text": [
      "Xs:  621 de_idx_list:  0\n"
     ]
    },
    {
     "name": "stderr",
     "output_type": "stream",
     "text": [
      " 95%|█████████▍| 72/76 [16:31<00:07,  1.83s/it]"
     ]
    },
    {
     "name": "stdout",
     "output_type": "stream",
     "text": [
      "Xs:  450 de_idx_list:  0\n"
     ]
    },
    {
     "name": "stderr",
     "output_type": "stream",
     "text": [
      " 96%|█████████▌| 73/76 [16:33<00:05,  1.79s/it]"
     ]
    },
    {
     "name": "stdout",
     "output_type": "stream",
     "text": [
      "Xs:  471 de_idx_list:  0\n"
     ]
    },
    {
     "name": "stderr",
     "output_type": "stream",
     "text": [
      " 97%|█████████▋| 74/76 [16:34<00:03,  1.79s/it]"
     ]
    },
    {
     "name": "stdout",
     "output_type": "stream",
     "text": [
      "Xs:  536 de_idx_list:  0\n"
     ]
    },
    {
     "name": "stderr",
     "output_type": "stream",
     "text": [
      " 99%|█████████▊| 75/76 [16:37<00:01,  1.86s/it]"
     ]
    },
    {
     "name": "stdout",
     "output_type": "stream",
     "text": [
      "Xs:  497 de_idx_list:  0\n"
     ]
    },
    {
     "name": "stderr",
     "output_type": "stream",
     "text": [
      "100%|██████████| 76/76 [16:38<00:00, 13.14s/it]\n",
      "Done!\n",
      "Saving new dataset pyg object at /home/share/huadjyin/home/s_qiuping1/workspace/omics_model/scGPT/tutorials/data/adamson/data_pyg/cell_graphs.pkl\n",
      "Done!\n",
      "Found local copy...\n",
      "These perturbations are not in the GO graph and their perturbation can thus not be predicted\n",
      "['TIMM23+ctrl' 'AMIGO3+ctrl' 'KCTD16+ctrl']\n",
      "Local copy of pyg dataset is detected. Loading...\n",
      "Done!\n",
      "Creating new splits....\n",
      "Saving new splits at /home/share/huadjyin/home/s_qiuping1/workspace/omics_model/scGPT/tutorials/data/adamson/splits/adamson_simulation_1_0.75.pkl\n",
      "Simulation split test composition:\n",
      "combo_seen0:0\n",
      "combo_seen1:0\n",
      "combo_seen2:0\n",
      "unseen_single:18\n",
      "Done!\n",
      "Creating dataloaders....\n",
      "Done!\n",
      "2024-04-18 16:41:12-pert_task[line-67]-INFO: match 4355/4355 genes in vocabulary of size 36574.\n"
     ]
    }
   ],
   "source": [
    "from biollm.task.perturbation.pert_task import PertTask\n",
    "\n",
    "\n",
    "config_file = '../../config/pert/scgpt_pert.toml'\n",
    "obj = PertTask(config_file)\n",
    "pert_data, gene_ids = obj.make_dataset()"
   ],
   "metadata": {
    "collapsed": false,
    "ExecuteTime": {
     "end_time": "2024-04-18T08:41:12.148443180Z",
     "start_time": "2024-04-18T08:22:51.584223660Z"
    }
   },
   "id": "515566caa8ea4529",
   "execution_count": 1
  },
  {
   "cell_type": "code",
   "outputs": [],
   "source": [
    "from biollm.evaluate.bm_metrices_pert import eval_scgpt_perturb\n",
    "\n",
    "\n",
    "best_model_path = obj.args.save_dir + '/best_model.pt'\n",
    "best_model = obj.load_obj.load_pretrain_model(best_model_path, obj.model)"
   ],
   "metadata": {
    "collapsed": false,
    "ExecuteTime": {
     "end_time": "2024-04-18T08:41:12.304011288Z",
     "start_time": "2024-04-18T08:41:12.149086999Z"
    }
   },
   "id": "f259653a01d07579",
   "execution_count": 2
  },
  {
   "cell_type": "code",
   "outputs": [
    {
     "name": "stdout",
     "output_type": "stream",
     "text": [
      "start to predict: 8695\n",
      "end predict: 8695\n"
     ]
    }
   ],
   "source": [
    "test_loader = pert_data.dataloader[\"test_loader\"]\n",
    "test_res = eval_scgpt_perturb(test_loader, best_model, 'cuda:2', 'all', gene_ids)"
   ],
   "metadata": {
    "collapsed": false,
    "ExecuteTime": {
     "end_time": "2024-04-18T08:48:27.541110223Z",
     "start_time": "2024-04-18T08:47:03.771171403Z"
    }
   },
   "id": "b05347245aad0aa7",
   "execution_count": 6
  },
  {
   "cell_type": "code",
   "outputs": [],
   "source": [
    "from biollm.repo.gears.inference import evaluate, compute_metrics\n",
    "\n",
    "test_metrics, test_pert_res = compute_metrics(test_res)"
   ],
   "metadata": {
    "collapsed": false,
    "ExecuteTime": {
     "end_time": "2024-04-18T08:56:03.730670364Z",
     "start_time": "2024-04-18T08:56:03.303848837Z"
    }
   },
   "id": "9ad5fb88374bfb12",
   "execution_count": 11
  },
  {
   "cell_type": "code",
   "outputs": [
    {
     "data": {
      "text/plain": "{'mse': 0.00273933126851121,\n 'mse_de': 0.06093397819866358,\n 'pearson': 0.9962483165861986,\n 'pearson_de': 0.9846196783127752}"
     },
     "execution_count": 12,
     "metadata": {},
     "output_type": "execute_result"
    }
   ],
   "source": [
    "test_metrics"
   ],
   "metadata": {
    "collapsed": false,
    "ExecuteTime": {
     "end_time": "2024-04-18T08:56:10.064499038Z",
     "start_time": "2024-04-18T08:56:10.061700921Z"
    }
   },
   "id": "319e9f82a6e7a557",
   "execution_count": 12
  },
  {
   "cell_type": "code",
   "outputs": [
    {
     "data": {
      "text/plain": "{'ASCC3+ctrl': {'mse': 0.0029523405794619688,\n  'pearson': 0.995882020706295,\n  'mse_de': 0.03236165051044305,\n  'pearson_de': 0.9902130785737836},\n 'CHERP+ctrl': {'mse': 0.004281947712227697,\n  'pearson': 0.9937532694870067,\n  'mse_de': 0.024928976431482636,\n  'pearson_de': 0.9916145841248042},\n 'COPB1+ctrl': {'mse': 0.0032467751436858097,\n  'pearson': 0.995789881017043,\n  'mse_de': 0.00011161331093555967,\n  'pearson_de': 0.9999765443582874},\n 'DAD1+ctrl': {'mse': 0.0012100210985040885,\n  'pearson': 0.9985385068885994,\n  'mse_de': 0.009983436478645108,\n  'pearson_de': 0.9985259687096666},\n 'DDOST+ctrl': {'mse': 0.0016654822329111643,\n  'pearson': 0.9982302182504258,\n  'mse_de': 0.006313443727599816,\n  'pearson_de': 0.9984089845533795},\n 'DDRGK1+ctrl': {'mse': 0.0013774621163757548,\n  'pearson': 0.9981656171441128,\n  'mse_de': 0.01967601256974229,\n  'pearson_de': 0.9975521367213223},\n 'EIF2B2+ctrl': {'mse': 0.010324305337211962,\n  'pearson': 0.9840836616931413,\n  'mse_de': 0.5003412402175191,\n  'pearson_de': 0.8715400750844533},\n 'EIF2B4+ctrl': {'mse': 0.004975810138343021,\n  'pearson': 0.992614405691877,\n  'mse_de': 0.24449693194588712,\n  'pearson_de': 0.9258721719455116},\n 'FARSB+ctrl': {'mse': 0.0017636401930797223,\n  'pearson': 0.9975422952700377,\n  'mse_de': 0.014757885194860088,\n  'pearson_de': 0.9943756965787269},\n 'HSD17B12+ctrl': {'mse': 0.00306800357794869,\n  'pearson': 0.9957364649221588,\n  'mse_de': 0.06771386781682079,\n  'pearson_de': 0.9804590904240067},\n 'HYOU1+ctrl': {'mse': 0.0011123426980179402,\n  'pearson': 0.9988578202586187,\n  'mse_de': 0.0067665638208107975,\n  'pearson_de': 0.9991076478601149},\n 'IARS2+ctrl': {'mse': 0.0014390776118570873,\n  'pearson': 0.9980800038004068,\n  'mse_de': 0.011477909608826357,\n  'pearson_de': 0.996895036391481},\n 'OST4+ctrl': {'mse': 0.001164164204072758,\n  'pearson': 0.9989677461932066,\n  'mse_de': 0.0035017683923934256,\n  'pearson_de': 0.999479493307567},\n 'PTDSS1+ctrl': {'mse': 0.0011643453054963962,\n  'pearson': 0.9988524370794375,\n  'mse_de': 0.00755119329490832,\n  'pearson_de': 0.9987091120407203},\n 'SLC35B1+ctrl': {'mse': 0.0009101684470831183,\n  'pearson': 0.9991364094668415,\n  'mse_de': 0.007698080293811709,\n  'pearson_de': 0.999240152106615},\n 'TIMM44+ctrl': {'mse': 0.0014279310876374874,\n  'pearson': 0.9978901387043592,\n  'mse_de': 0.014255100974716352,\n  'pearson_de': 0.9955633890707754},\n 'TMEM167A+ctrl': {'mse': 0.0010893634287860452,\n  'pearson': 0.9986919175166284,\n  'mse_de': 0.004868999948334644,\n  'pearson_de': 0.9977876647789325},\n 'ZNF326+ctrl': {'mse': 0.0061347819205010675,\n  'pearson': 0.9916568844613806,\n  'mse_de': 0.1200069330382072,\n  'pearson_de': 0.9878333829998056}}"
     },
     "execution_count": 13,
     "metadata": {},
     "output_type": "execute_result"
    }
   ],
   "source": [
    "test_pert_res"
   ],
   "metadata": {
    "collapsed": false,
    "ExecuteTime": {
     "end_time": "2024-04-18T08:57:02.527482216Z",
     "start_time": "2024-04-18T08:57:02.488623553Z"
    }
   },
   "id": "b02147e8112c5eca",
   "execution_count": 13
  },
  {
   "cell_type": "code",
   "outputs": [
    {
     "name": "stdout",
     "output_type": "stream",
     "text": [
      "{'pearson': 0.9962483165861986, 'pearson_de': 0.9846196783127752, 'pearson_delta': 0.8436601087393946, 'pearson_de_delta': 0.9297923819797913}\n"
     ]
    }
   ],
   "source": [
    "# test_metrics, test_pert_res = compute_metrics(test_res)\n",
    "from biollm.evaluate.bm_metrices_pert import compute_perturbation_metrics\n",
    "test_metrics = compute_perturbation_metrics(\n",
    "    test_res, pert_data.adata[pert_data.adata.obs[\"condition\"] == \"ctrl\"]\n",
    ")\n",
    "print(test_metrics)"
   ],
   "metadata": {
    "collapsed": false,
    "ExecuteTime": {
     "end_time": "2024-04-18T08:49:23.221196445Z",
     "start_time": "2024-04-18T08:49:22.307337496Z"
    }
   },
   "id": "4519cf46ca25d663",
   "execution_count": 8
  },
  {
   "cell_type": "code",
   "execution_count": 9,
   "id": "initial_id",
   "metadata": {
    "collapsed": true,
    "ExecuteTime": {
     "end_time": "2024-04-18T08:53:02.375782497Z",
     "start_time": "2024-04-18T08:52:52.257744947Z"
    }
   },
   "outputs": [
    {
     "name": "stdout",
     "output_type": "stream",
     "text": [
      "test_combo_seen0_pearson_delta: nan\n",
      "test_combo_seen0_pearson_delta_de: nan\n",
      "test_combo_seen0_pearson_delta_top20_de_non_dropout: nan\n",
      "test_combo_seen0_pearson_top20_de_non_dropout: nan\n",
      "test_combo_seen1_pearson_delta: nan\n",
      "test_combo_seen1_pearson_delta_de: nan\n",
      "test_combo_seen1_pearson_delta_top20_de_non_dropout: nan\n",
      "test_combo_seen1_pearson_top20_de_non_dropout: nan\n",
      "test_combo_seen2_pearson_delta: nan\n",
      "test_combo_seen2_pearson_delta_de: nan\n",
      "test_combo_seen2_pearson_delta_top20_de_non_dropout: nan\n",
      "test_combo_seen2_pearson_top20_de_non_dropout: nan\n",
      "test_unseen_single_pearson_delta: 0.8436601087393947\n",
      "test_unseen_single_pearson_delta_de: 0.9297923819797913\n",
      "test_unseen_single_pearson_delta_top20_de_non_dropout: 0.9287463832873536\n",
      "test_unseen_single_pearson_top20_de_non_dropout: 0.9840293158452901\n"
     ]
    }
   ],
   "source": [
    "from biollm.repo.gears.inference import deeper_analysis, non_dropout_analysis\n",
    "import numpy as np\n",
    "\n",
    "deeper_res = deeper_analysis(pert_data.adata, test_res)\n",
    "non_dropout_res = non_dropout_analysis(pert_data.adata, test_res)\n",
    "\n",
    "metrics = [\"pearson_delta\", \"pearson_delta_de\"]\n",
    "metrics_non_dropout = [\n",
    "    \"pearson_delta_top20_de_non_dropout\",\n",
    "    \"pearson_top20_de_non_dropout\",\n",
    "]\n",
    "subgroup_analysis = {}\n",
    "for name in pert_data.subgroup[\"test_subgroup\"].keys():\n",
    "    subgroup_analysis[name] = {}\n",
    "    for m in metrics:\n",
    "        subgroup_analysis[name][m] = []\n",
    "\n",
    "    for m in metrics_non_dropout:\n",
    "        subgroup_analysis[name][m] = []\n",
    "\n",
    "for name, pert_list in pert_data.subgroup[\"test_subgroup\"].items():\n",
    "    for pert in pert_list:\n",
    "        for m in metrics:\n",
    "            subgroup_analysis[name][m].append(deeper_res[pert][m])\n",
    "\n",
    "        for m in metrics_non_dropout:\n",
    "            subgroup_analysis[name][m].append(non_dropout_res[pert][m])\n",
    "\n",
    "for name, result in subgroup_analysis.items():\n",
    "    for m in result.keys():\n",
    "        mean_value = np.mean(subgroup_analysis[name][m])\n",
    "        print(\"test_\" + name + \"_\" + m + \": \" + str(mean_value))\n"
   ]
  }
 ],
 "metadata": {
  "kernelspec": {
   "display_name": "Python 3",
   "language": "python",
   "name": "python3"
  },
  "language_info": {
   "codemirror_mode": {
    "name": "ipython",
    "version": 2
   },
   "file_extension": ".py",
   "mimetype": "text/x-python",
   "name": "python",
   "nbconvert_exporter": "python",
   "pygments_lexer": "ipython2",
   "version": "2.7.6"
  }
 },
 "nbformat": 4,
 "nbformat_minor": 5
}
