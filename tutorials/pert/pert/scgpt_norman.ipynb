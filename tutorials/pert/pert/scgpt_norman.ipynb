{
 "cells": [
  {
   "cell_type": "code",
   "outputs": [
    {
     "name": "stderr",
     "output_type": "stream",
     "text": [
      "/home/share/huadjyin/home/s_qiuping1/app/miniconda3/envs/scgpt/lib/python3.9/site-packages/lightning/fabric/plugins/environments/xla.py:18: DeprecationWarning: `ModuleAvailableCache` is a special case of `RequirementCache`. Please use `RequirementCache(module=...)` instead.\n",
      "  from lightning.fabric.accelerators.tpu import _XLA_AVAILABLE, TPUAccelerator\n",
      "/home/share/huadjyin/home/s_qiuping1/app/miniconda3/envs/scgpt/lib/python3.9/site-packages/lightning/fabric/__init__.py:36: DeprecationWarning: Deprecated call to `pkg_resources.declare_namespace('lightning.fabric')`.\n",
      "Implementing implicit namespace packages (as specified in PEP 420) is preferred to `pkg_resources.declare_namespace`. See https://setuptools.pypa.io/en/latest/references/keywords.html#keyword-namespace-packages\n",
      "  __import__(\"pkg_resources\").declare_namespace(__name__)\n",
      "/home/share/huadjyin/home/s_qiuping1/app/miniconda3/envs/scgpt/lib/python3.9/site-packages/pkg_resources/__init__.py:2348: DeprecationWarning: Deprecated call to `pkg_resources.declare_namespace('lightning')`.\n",
      "Implementing implicit namespace packages (as specified in PEP 420) is preferred to `pkg_resources.declare_namespace`. See https://setuptools.pypa.io/en/latest/references/keywords.html#keyword-namespace-packages\n",
      "  declare_namespace(parent)\n",
      "/home/share/huadjyin/home/s_qiuping1/app/miniconda3/envs/scgpt/lib/python3.9/site-packages/lightning/pytorch/__init__.py:36: DeprecationWarning: Deprecated call to `pkg_resources.declare_namespace('lightning.pytorch')`.\n",
      "Implementing implicit namespace packages (as specified in PEP 420) is preferred to `pkg_resources.declare_namespace`. See https://setuptools.pypa.io/en/latest/references/keywords.html#keyword-namespace-packages\n",
      "  __import__(\"pkg_resources\").declare_namespace(__name__)\n",
      "/home/share/huadjyin/home/s_qiuping1/app/miniconda3/envs/scgpt/lib/python3.9/site-packages/pkg_resources/__init__.py:2348: DeprecationWarning: Deprecated call to `pkg_resources.declare_namespace('lightning')`.\n",
      "Implementing implicit namespace packages (as specified in PEP 420) is preferred to `pkg_resources.declare_namespace`. See https://setuptools.pypa.io/en/latest/references/keywords.html#keyword-namespace-packages\n",
      "  declare_namespace(parent)\n",
      "/home/share/huadjyin/home/s_qiuping1/app/miniconda3/envs/scgpt/lib/python3.9/site-packages/scvi/_settings.py:63: UserWarning: Since v1.0.0, scvi-tools no longer uses a random seed by default. Run `scvi.settings.seed = 0` to reproduce results from previous versions.\n",
      "  self.seed = seed\n",
      "/home/share/huadjyin/home/s_qiuping1/app/miniconda3/envs/scgpt/lib/python3.9/site-packages/scvi/_settings.py:70: UserWarning: Setting `dl_pin_memory_gpu_training` is deprecated in v1.0 and will be removed in v1.1. Please pass in `pin_memory` to the data loaders instead.\n",
      "  self.dl_pin_memory_gpu_training = (\n",
      "/home/share/huadjyin/home/s_qiuping1/app/miniconda3/envs/scgpt/lib/python3.9/site-packages/chex/_src/pytypes.py:53: DeprecationWarning: jax.core.Shape is deprecated. Use Shape = Sequence[int | Any].\n",
      "  Shape = jax.core.Shape\n",
      "/home/share/huadjyin/home/s_qiuping1/app/miniconda3/envs/scgpt/lib/python3.9/site-packages/chex/_src/pytypes.py:54: DeprecationWarning: jax.random.KeyArray is deprecated. Use jax.Array for annotations, and jax.dtypes.issubdtype(arr.dtype, jax.dtypes.prng_key) for runtime detection of typed prng keys (i.e. keys created with jax.random.key).\n",
      "For more information, see https://jax.readthedocs.io/en/latest/jep/9263-typed-keys.html\n",
      "  PRNGKey = jax.random.KeyArray\n"
     ]
    },
    {
     "name": "stdout",
     "output_type": "stream",
     "text": [
      "Using simple batchnorm instead of domain specific batchnorm\n"
     ]
    },
    {
     "name": "stderr",
     "output_type": "stream",
     "text": [
      "Found local copy...\n"
     ]
    },
    {
     "name": "stdout",
     "output_type": "stream",
     "text": [
      "before filter: (86601, 4486)\n",
      "match 1.0 genes in vocab of size 4486\n",
      "after filter: View of AnnData object with n_obs × n_vars = 86601 × 4486\n",
      "    obs: 'condition', 'cell_type', 'dose_val', 'control', 'condition_name', 'pert_gene_in_vocab'\n",
      "    var: 'gene_name', 'is_in_vocab'\n",
      "    uns: 'non_dropout_gene_idx', 'non_zeros_gene_idx', 'rank_genes_groups_cov_all', 'top_non_dropout_de_20', 'top_non_zero_de_20'\n",
      "    layers: 'counts'\n"
     ]
    },
    {
     "name": "stderr",
     "output_type": "stream",
     "text": [
      "Found local copy...\n",
      "Local copy of pyg dataset is detected. Loading...\n",
      "Done!\n",
      "Found local copy...\n",
      "These perturbations are not in the GO graph and their perturbation can thus not be predicted\n",
      "['LYL1+IER5L' 'ctrl+IER5L' 'IER5L+ctrl']\n",
      "Local copy of split is detected. Loading...\n",
      "Simulation split test composition:\n",
      "combo_seen0:10\n",
      "combo_seen1:60\n",
      "combo_seen2:13\n",
      "unseen_single:36\n",
      "Done!\n",
      "Creating dataloaders....\n",
      "Done!\n"
     ]
    },
    {
     "name": "stdout",
     "output_type": "stream",
     "text": [
      "here1\n"
     ]
    },
    {
     "name": "stderr",
     "output_type": "stream",
     "text": [
      "2024-04-19 10:43:25-pert_task[line-67]-INFO: match 4486/4486 genes in vocabulary of size 36574.\n"
     ]
    }
   ],
   "source": [
    "from biollm.task.perturbation.pert_task import PertTask\n",
    "\n",
    "\n",
    "config_file = '../../config/pert/scgpt_pert.toml'\n",
    "obj = PertTask(config_file)\n",
    "pert_data, gene_ids = obj.make_dataset()"
   ],
   "metadata": {
    "collapsed": false,
    "ExecuteTime": {
     "end_time": "2024-04-19T02:43:25.529997306Z",
     "start_time": "2024-04-19T02:40:48.688845404Z"
    }
   },
   "id": "515566caa8ea4529",
   "execution_count": 1
  },
  {
   "cell_type": "code",
   "outputs": [],
   "source": [
    "from biollm.evaluate.bm_metrices_pert import eval_scgpt_perturb\n",
    "\n",
    "\n",
    "best_model_path = obj.args.save_dir + '/best_model.pt'\n",
    "best_model = obj.load_obj.load_pretrain_model(best_model_path, obj.model)"
   ],
   "metadata": {
    "collapsed": false,
    "ExecuteTime": {
     "end_time": "2024-04-19T02:44:51.050298871Z",
     "start_time": "2024-04-19T02:44:50.867788643Z"
    }
   },
   "id": "f259653a01d07579",
   "execution_count": 2
  },
  {
   "cell_type": "code",
   "outputs": [
    {
     "name": "stdout",
     "output_type": "stream",
     "text": [
      "start to predict:  33479\n"
     ]
    }
   ],
   "source": [
    "test_loader = pert_data.dataloader[\"test_loader\"]\n",
    "test_res = eval_scgpt_perturb(test_loader, best_model, 'cuda:2', 'all', gene_ids)"
   ],
   "metadata": {
    "collapsed": false,
    "is_executing": true,
    "ExecuteTime": {
     "start_time": "2024-04-19T02:44:54.382489056Z"
    }
   },
   "id": "b05347245aad0aa7",
   "execution_count": null
  },
  {
   "cell_type": "code",
   "outputs": [],
   "source": [
    "from biollm.repo.gears.inference import evaluate, compute_metrics\n",
    "\n",
    "test_metrics, test_pert_res = compute_metrics(test_res)"
   ],
   "metadata": {
    "collapsed": false,
    "ExecuteTime": {
     "end_time": "2024-04-18T08:56:03.730670364Z",
     "start_time": "2024-04-18T08:56:03.303848837Z"
    }
   },
   "id": "9ad5fb88374bfb12",
   "execution_count": 11
  },
  {
   "cell_type": "code",
   "outputs": [
    {
     "data": {
      "text/plain": "{'mse': 0.00273933126851121,\n 'mse_de': 0.06093397819866358,\n 'pearson': 0.9962483165861986,\n 'pearson_de': 0.9846196783127752}"
     },
     "execution_count": 12,
     "metadata": {},
     "output_type": "execute_result"
    }
   ],
   "source": [
    "test_metrics"
   ],
   "metadata": {
    "collapsed": false,
    "ExecuteTime": {
     "end_time": "2024-04-18T08:56:10.064499038Z",
     "start_time": "2024-04-18T08:56:10.061700921Z"
    }
   },
   "id": "319e9f82a6e7a557",
   "execution_count": 12
  },
  {
   "cell_type": "code",
   "outputs": [
    {
     "data": {
      "text/plain": "{'ASCC3+ctrl': {'mse': 0.0029523405794619688,\n  'pearson': 0.995882020706295,\n  'mse_de': 0.03236165051044305,\n  'pearson_de': 0.9902130785737836},\n 'CHERP+ctrl': {'mse': 0.004281947712227697,\n  'pearson': 0.9937532694870067,\n  'mse_de': 0.024928976431482636,\n  'pearson_de': 0.9916145841248042},\n 'COPB1+ctrl': {'mse': 0.0032467751436858097,\n  'pearson': 0.995789881017043,\n  'mse_de': 0.00011161331093555967,\n  'pearson_de': 0.9999765443582874},\n 'DAD1+ctrl': {'mse': 0.0012100210985040885,\n  'pearson': 0.9985385068885994,\n  'mse_de': 0.009983436478645108,\n  'pearson_de': 0.9985259687096666},\n 'DDOST+ctrl': {'mse': 0.0016654822329111643,\n  'pearson': 0.9982302182504258,\n  'mse_de': 0.006313443727599816,\n  'pearson_de': 0.9984089845533795},\n 'DDRGK1+ctrl': {'mse': 0.0013774621163757548,\n  'pearson': 0.9981656171441128,\n  'mse_de': 0.01967601256974229,\n  'pearson_de': 0.9975521367213223},\n 'EIF2B2+ctrl': {'mse': 0.010324305337211962,\n  'pearson': 0.9840836616931413,\n  'mse_de': 0.5003412402175191,\n  'pearson_de': 0.8715400750844533},\n 'EIF2B4+ctrl': {'mse': 0.004975810138343021,\n  'pearson': 0.992614405691877,\n  'mse_de': 0.24449693194588712,\n  'pearson_de': 0.9258721719455116},\n 'FARSB+ctrl': {'mse': 0.0017636401930797223,\n  'pearson': 0.9975422952700377,\n  'mse_de': 0.014757885194860088,\n  'pearson_de': 0.9943756965787269},\n 'HSD17B12+ctrl': {'mse': 0.00306800357794869,\n  'pearson': 0.9957364649221588,\n  'mse_de': 0.06771386781682079,\n  'pearson_de': 0.9804590904240067},\n 'HYOU1+ctrl': {'mse': 0.0011123426980179402,\n  'pearson': 0.9988578202586187,\n  'mse_de': 0.0067665638208107975,\n  'pearson_de': 0.9991076478601149},\n 'IARS2+ctrl': {'mse': 0.0014390776118570873,\n  'pearson': 0.9980800038004068,\n  'mse_de': 0.011477909608826357,\n  'pearson_de': 0.996895036391481},\n 'OST4+ctrl': {'mse': 0.001164164204072758,\n  'pearson': 0.9989677461932066,\n  'mse_de': 0.0035017683923934256,\n  'pearson_de': 0.999479493307567},\n 'PTDSS1+ctrl': {'mse': 0.0011643453054963962,\n  'pearson': 0.9988524370794375,\n  'mse_de': 0.00755119329490832,\n  'pearson_de': 0.9987091120407203},\n 'SLC35B1+ctrl': {'mse': 0.0009101684470831183,\n  'pearson': 0.9991364094668415,\n  'mse_de': 0.007698080293811709,\n  'pearson_de': 0.999240152106615},\n 'TIMM44+ctrl': {'mse': 0.0014279310876374874,\n  'pearson': 0.9978901387043592,\n  'mse_de': 0.014255100974716352,\n  'pearson_de': 0.9955633890707754},\n 'TMEM167A+ctrl': {'mse': 0.0010893634287860452,\n  'pearson': 0.9986919175166284,\n  'mse_de': 0.004868999948334644,\n  'pearson_de': 0.9977876647789325},\n 'ZNF326+ctrl': {'mse': 0.0061347819205010675,\n  'pearson': 0.9916568844613806,\n  'mse_de': 0.1200069330382072,\n  'pearson_de': 0.9878333829998056}}"
     },
     "execution_count": 13,
     "metadata": {},
     "output_type": "execute_result"
    }
   ],
   "source": [
    "test_pert_res"
   ],
   "metadata": {
    "collapsed": false,
    "ExecuteTime": {
     "end_time": "2024-04-18T08:57:02.527482216Z",
     "start_time": "2024-04-18T08:57:02.488623553Z"
    }
   },
   "id": "b02147e8112c5eca",
   "execution_count": 13
  },
  {
   "cell_type": "code",
   "outputs": [
    {
     "name": "stdout",
     "output_type": "stream",
     "text": [
      "{'pearson': 0.9962483165861986, 'pearson_de': 0.9846196783127752, 'pearson_delta': 0.8436601087393946, 'pearson_de_delta': 0.9297923819797913}\n"
     ]
    }
   ],
   "source": [
    "# test_metrics, test_pert_res = compute_metrics(test_res)\n",
    "from biollm.evaluate.bm_metrices_pert import compute_perturbation_metrics\n",
    "test_metrics = compute_perturbation_metrics(\n",
    "    test_res, pert_data.adata[pert_data.adata.obs[\"condition\"] == \"ctrl\"]\n",
    ")\n",
    "print(test_metrics)"
   ],
   "metadata": {
    "collapsed": false,
    "ExecuteTime": {
     "end_time": "2024-04-18T08:49:23.221196445Z",
     "start_time": "2024-04-18T08:49:22.307337496Z"
    }
   },
   "id": "4519cf46ca25d663",
   "execution_count": 8
  },
  {
   "cell_type": "code",
   "execution_count": 9,
   "id": "initial_id",
   "metadata": {
    "collapsed": true,
    "ExecuteTime": {
     "end_time": "2024-04-18T08:53:02.375782497Z",
     "start_time": "2024-04-18T08:52:52.257744947Z"
    }
   },
   "outputs": [
    {
     "name": "stdout",
     "output_type": "stream",
     "text": [
      "test_combo_seen0_pearson_delta: nan\n",
      "test_combo_seen0_pearson_delta_de: nan\n",
      "test_combo_seen0_pearson_delta_top20_de_non_dropout: nan\n",
      "test_combo_seen0_pearson_top20_de_non_dropout: nan\n",
      "test_combo_seen1_pearson_delta: nan\n",
      "test_combo_seen1_pearson_delta_de: nan\n",
      "test_combo_seen1_pearson_delta_top20_de_non_dropout: nan\n",
      "test_combo_seen1_pearson_top20_de_non_dropout: nan\n",
      "test_combo_seen2_pearson_delta: nan\n",
      "test_combo_seen2_pearson_delta_de: nan\n",
      "test_combo_seen2_pearson_delta_top20_de_non_dropout: nan\n",
      "test_combo_seen2_pearson_top20_de_non_dropout: nan\n",
      "test_unseen_single_pearson_delta: 0.8436601087393947\n",
      "test_unseen_single_pearson_delta_de: 0.9297923819797913\n",
      "test_unseen_single_pearson_delta_top20_de_non_dropout: 0.9287463832873536\n",
      "test_unseen_single_pearson_top20_de_non_dropout: 0.9840293158452901\n"
     ]
    }
   ],
   "source": [
    "from biollm.repo.gears.inference import deeper_analysis, non_dropout_analysis\n",
    "import numpy as np\n",
    "\n",
    "deeper_res = deeper_analysis(pert_data.adata, test_res)\n",
    "non_dropout_res = non_dropout_analysis(pert_data.adata, test_res)\n",
    "\n",
    "metrics = [\"pearson_delta\", \"pearson_delta_de\"]\n",
    "metrics_non_dropout = [\n",
    "    \"pearson_delta_top20_de_non_dropout\",\n",
    "    \"pearson_top20_de_non_dropout\",\n",
    "]\n",
    "subgroup_analysis = {}\n",
    "for name in pert_data.subgroup[\"test_subgroup\"].keys():\n",
    "    subgroup_analysis[name] = {}\n",
    "    for m in metrics:\n",
    "        subgroup_analysis[name][m] = []\n",
    "\n",
    "    for m in metrics_non_dropout:\n",
    "        subgroup_analysis[name][m] = []\n",
    "\n",
    "for name, pert_list in pert_data.subgroup[\"test_subgroup\"].items():\n",
    "    for pert in pert_list:\n",
    "        for m in metrics:\n",
    "            subgroup_analysis[name][m].append(deeper_res[pert][m])\n",
    "\n",
    "        for m in metrics_non_dropout:\n",
    "            subgroup_analysis[name][m].append(non_dropout_res[pert][m])\n",
    "\n",
    "for name, result in subgroup_analysis.items():\n",
    "    for m in result.keys():\n",
    "        mean_value = np.mean(subgroup_analysis[name][m])\n",
    "        print(\"test_\" + name + \"_\" + m + \": \" + str(mean_value))\n"
   ]
  }
 ],
 "metadata": {
  "kernelspec": {
   "display_name": "Python 3",
   "language": "python",
   "name": "python3"
  },
  "language_info": {
   "codemirror_mode": {
    "name": "ipython",
    "version": 2
   },
   "file_extension": ".py",
   "mimetype": "text/x-python",
   "name": "python",
   "nbconvert_exporter": "python",
   "pygments_lexer": "ipython2",
   "version": "2.7.6"
  }
 },
 "nbformat": 4,
 "nbformat_minor": 5
}
