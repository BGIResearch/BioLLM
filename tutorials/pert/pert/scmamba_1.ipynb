{
 "cells": [
  {
   "cell_type": "code",
   "outputs": [
    {
     "name": "stderr",
     "output_type": "stream",
     "text": [
      "/home/share/huadjyin/home/s_qiuping1/app/miniconda3/envs/scgpt/lib/python3.9/site-packages/lightning/fabric/plugins/environments/xla.py:18: DeprecationWarning: `ModuleAvailableCache` is a special case of `RequirementCache`. Please use `RequirementCache(module=...)` instead.\n",
      "  from lightning.fabric.accelerators.tpu import _XLA_AVAILABLE, TPUAccelerator\n",
      "/home/share/huadjyin/home/s_qiuping1/app/miniconda3/envs/scgpt/lib/python3.9/site-packages/lightning/fabric/__init__.py:36: DeprecationWarning: Deprecated call to `pkg_resources.declare_namespace('lightning.fabric')`.\n",
      "Implementing implicit namespace packages (as specified in PEP 420) is preferred to `pkg_resources.declare_namespace`. See https://setuptools.pypa.io/en/latest/references/keywords.html#keyword-namespace-packages\n",
      "  __import__(\"pkg_resources\").declare_namespace(__name__)\n",
      "/home/share/huadjyin/home/s_qiuping1/app/miniconda3/envs/scgpt/lib/python3.9/site-packages/pkg_resources/__init__.py:2348: DeprecationWarning: Deprecated call to `pkg_resources.declare_namespace('lightning')`.\n",
      "Implementing implicit namespace packages (as specified in PEP 420) is preferred to `pkg_resources.declare_namespace`. See https://setuptools.pypa.io/en/latest/references/keywords.html#keyword-namespace-packages\n",
      "  declare_namespace(parent)\n",
      "/home/share/huadjyin/home/s_qiuping1/app/miniconda3/envs/scgpt/lib/python3.9/site-packages/lightning/pytorch/__init__.py:36: DeprecationWarning: Deprecated call to `pkg_resources.declare_namespace('lightning.pytorch')`.\n",
      "Implementing implicit namespace packages (as specified in PEP 420) is preferred to `pkg_resources.declare_namespace`. See https://setuptools.pypa.io/en/latest/references/keywords.html#keyword-namespace-packages\n",
      "  __import__(\"pkg_resources\").declare_namespace(__name__)\n",
      "/home/share/huadjyin/home/s_qiuping1/app/miniconda3/envs/scgpt/lib/python3.9/site-packages/pkg_resources/__init__.py:2348: DeprecationWarning: Deprecated call to `pkg_resources.declare_namespace('lightning')`.\n",
      "Implementing implicit namespace packages (as specified in PEP 420) is preferred to `pkg_resources.declare_namespace`. See https://setuptools.pypa.io/en/latest/references/keywords.html#keyword-namespace-packages\n",
      "  declare_namespace(parent)\n",
      "/home/share/huadjyin/home/s_qiuping1/app/miniconda3/envs/scgpt/lib/python3.9/site-packages/scvi/_settings.py:63: UserWarning: Since v1.0.0, scvi-tools no longer uses a random seed by default. Run `scvi.settings.seed = 0` to reproduce results from previous versions.\n",
      "  self.seed = seed\n",
      "/home/share/huadjyin/home/s_qiuping1/app/miniconda3/envs/scgpt/lib/python3.9/site-packages/scvi/_settings.py:70: UserWarning: Setting `dl_pin_memory_gpu_training` is deprecated in v1.0 and will be removed in v1.1. Please pass in `pin_memory` to the data loaders instead.\n",
      "  self.dl_pin_memory_gpu_training = (\n",
      "/home/share/huadjyin/home/s_qiuping1/app/miniconda3/envs/scgpt/lib/python3.9/site-packages/chex/_src/pytypes.py:53: DeprecationWarning: jax.core.Shape is deprecated. Use Shape = Sequence[int | Any].\n",
      "  Shape = jax.core.Shape\n",
      "/home/share/huadjyin/home/s_qiuping1/app/miniconda3/envs/scgpt/lib/python3.9/site-packages/chex/_src/pytypes.py:54: DeprecationWarning: jax.random.KeyArray is deprecated. Use jax.Array for annotations, and jax.dtypes.issubdtype(arr.dtype, jax.dtypes.prng_key) for runtime detection of typed prng keys (i.e. keys created with jax.random.key).\n",
      "For more information, see https://jax.readthedocs.io/en/latest/jep/9263-typed-keys.html\n",
      "  PRNGKey = jax.random.KeyArray\n"
     ]
    },
    {
     "name": "stdout",
     "output_type": "stream",
     "text": [
      "Using simple batchnorm instead of domain specific batchnorm\n"
     ]
    },
    {
     "name": "stderr",
     "output_type": "stream",
     "text": [
      "Found local copy...\n"
     ]
    },
    {
     "name": "stdout",
     "output_type": "stream",
     "text": [
      "before filter: (63585, 4399)\n",
      "match 1.0 genes in vocab of size 4399\n",
      "after filter: View of AnnData object with n_obs × n_vars = 63585 × 4399\n",
      "    obs: 'condition', 'cell_type', 'dose_val', 'control', 'condition_name', 'pert_gene_in_vocab'\n",
      "    var: 'gene_name', 'is_in_vocab'\n",
      "    uns: 'non_dropout_gene_idx', 'non_zeros_gene_idx', 'rank_genes_groups_cov_all', 'top_non_dropout_de_20', 'top_non_zero_de_20'\n"
     ]
    },
    {
     "name": "stderr",
     "output_type": "stream",
     "text": [
      "Found local copy...\n",
      "Local copy of pyg dataset is detected. Loading...\n",
      "Done!\n",
      "Found local copy...\n",
      "These perturbations are not in the GO graph and their perturbation can thus not be predicted\n",
      "['TIMM23+ctrl' 'AMIGO3+ctrl' 'KCTD16+ctrl']\n",
      "Local copy of split is detected. Loading...\n",
      "Simulation split test composition:\n",
      "combo_seen0:0\n",
      "combo_seen1:0\n",
      "combo_seen2:0\n",
      "unseen_single:18\n",
      "Done!\n",
      "Creating dataloaders....\n",
      "Done!\n"
     ]
    },
    {
     "name": "stdout",
     "output_type": "stream",
     "text": [
      "here1\n"
     ]
    },
    {
     "name": "stderr",
     "output_type": "stream",
     "text": [
      "2024-04-18 18:51:22-pert_task[line-67]-INFO: match 4399/4399 genes in vocabulary of size 60697.\n"
     ]
    }
   ],
   "source": [
    "from biollm.task.perturbation.pert_task import PertTask\n",
    "\n",
    "\n",
    "config_file = '../../config/pert/scmamba_pert.toml'\n",
    "obj = PertTask(config_file)\n",
    "pert_data, gene_ids = obj.make_dataset()"
   ],
   "metadata": {
    "collapsed": false,
    "ExecuteTime": {
     "end_time": "2024-04-18T10:51:22.270426968Z",
     "start_time": "2024-04-18T10:49:08.939160906Z"
    }
   },
   "id": "515566caa8ea4529",
   "execution_count": 1
  },
  {
   "cell_type": "code",
   "outputs": [],
   "source": [
    "best_model_path = obj.args.save_dir + '/best_model.pt'\n",
    "best_model = obj.load_obj.load_pretrain_model(best_model_path, obj.model)"
   ],
   "metadata": {
    "collapsed": false,
    "ExecuteTime": {
     "end_time": "2024-04-18T10:51:22.642405433Z",
     "start_time": "2024-04-18T10:51:22.270797417Z"
    }
   },
   "id": "f259653a01d07579",
   "execution_count": 2
  },
  {
   "cell_type": "code",
   "outputs": [],
   "source": [
    "import torch\n",
    "from torch.utils.data import DataLoader\n",
    "from biollm.model.perturbation import ScgptPerturbation\n",
    "from typing import Dict, Optional\n",
    "import numpy as np\n",
    "from anndata import AnnData\n",
    "import pickle\n",
    "from biollm.repo.scmamba.scmamba.mambaLM import MambaModel\n",
    "\n",
    "def eval_scmamba_perturb(\n",
    "    loader: DataLoader, model: MambaModel, device: torch.device, include_zero_gene: str\n",
    ", gene_ids: np.ndarray) -> Dict:\n",
    "    \"\"\"\n",
    "    Run model in inference mode using a given data loader\n",
    "    \"\"\"\n",
    "    model.eval()\n",
    "    model.to(device)\n",
    "    pert_cat = []\n",
    "    pred = []\n",
    "    truth = []\n",
    "    pred_de = []\n",
    "    truth_de = []\n",
    "    results = {}\n",
    "\n",
    "    print('start to predict: ', len(loader.dataset))\n",
    "    for itr, batch in enumerate(loader):\n",
    "        batch.to(device)\n",
    "        pert_cat.extend(batch.pert)\n",
    "        sorted_index = batch.sorted_index\n",
    "        sorted_index = np.argsort(np.array(sorted_index), axis=1)\n",
    "        with torch.no_grad():\n",
    "            p = model.pred_perturb(\n",
    "                batch,\n",
    "                include_zero_gene=include_zero_gene,\n",
    "                gene_ids=gene_ids,\n",
    "            ).detach().cpu().numpy().astype(float)\n",
    "            t = batch.y.detach().cpu().numpy().astype(float)\n",
    "            # Differentially expressed genes\n",
    "            for itr, de_idx in enumerate(batch.de_idx):\n",
    "                pred_de.append(p[itr, de_idx])\n",
    "                truth_de.append(t[itr, de_idx])\n",
    "            pred.extend(p[np.arange(p.shape[0])[:, None], sorted_index])\n",
    "            truth.extend(t[np.arange(t.shape[0])[:, None], sorted_index])\n",
    "            \n",
    "            \n",
    "    print('end')\n",
    "    # all genes\n",
    "    results[\"pert_cat\"] = np.array(pert_cat)\n",
    "    pred = np.stack(pred)\n",
    "    truth = np.stack(truth)\n",
    "    results[\"pred\"] = pred\n",
    "    results[\"truth\"] = truth\n",
    "    # results['de_idx'] = de_idxs\n",
    "    pred_de = np.stack(pred_de)\n",
    "    truth_de = np.stack(truth_de)\n",
    "    results[\"pred_de\"] = pred_de\n",
    "    results[\"truth_de\"] = truth_de\n",
    "    return results"
   ],
   "metadata": {
    "collapsed": false,
    "ExecuteTime": {
     "end_time": "2024-04-18T12:00:03.149545144Z",
     "start_time": "2024-04-18T12:00:03.108036972Z"
    }
   },
   "id": "7d09692fc1c15539",
   "execution_count": 48
  },
  {
   "cell_type": "code",
   "outputs": [
    {
     "name": "stdout",
     "output_type": "stream",
     "text": [
      "start to predict:  8695\n",
      "end\n"
     ]
    }
   ],
   "source": [
    "test_loader = pert_data.dataloader[\"test_loader\"]\n",
    "test_res = eval_scmamba_perturb(test_loader, best_model, 'cuda:2', 'all', gene_ids)"
   ],
   "metadata": {
    "collapsed": false,
    "ExecuteTime": {
     "end_time": "2024-04-18T12:01:28.809098771Z",
     "start_time": "2024-04-18T12:00:07.086131987Z"
    }
   },
   "id": "b05347245aad0aa7",
   "execution_count": 49
  },
  {
   "cell_type": "code",
   "outputs": [
    {
     "data": {
      "text/plain": "{'pert_cat': array(['ZNF326+ctrl', 'ZNF326+ctrl', 'ZNF326+ctrl', ..., 'CHERP+ctrl',\n        'CHERP+ctrl', 'CHERP+ctrl'], dtype='<U13'),\n 'pred': array([[0.00795746, 0.0055275 , 0.00562668, ..., 0.00954437, 0.08312988,\n         0.07458496],\n        [0.00795746, 0.0055275 , 0.00562668, ..., 0.00839996, 0.08123779,\n         0.54931641],\n        [0.00795746, 0.0055275 , 0.00562668, ..., 0.00804138, 0.0824585 ,\n         0.46166992],\n        ...,\n        [0.00795746, 0.0055275 , 0.00562668, ..., 0.00978088, 0.08435059,\n         0.63378906],\n        [0.00795746, 0.0055275 , 0.00562668, ..., 0.00848389, 0.0769043 ,\n         0.2578125 ],\n        [0.00795746, 0.0055275 , 0.00562668, ..., 0.00813293, 0.23242188,\n         0.21643066]]),\n 'truth': array([[0.        , 0.        , 0.        , ..., 0.        , 0.        ,\n         0.        ],\n        [0.        , 0.        , 0.        , ..., 0.        , 0.98109186,\n         0.        ],\n        [0.        , 0.        , 0.        , ..., 0.        , 0.        ,\n         0.        ],\n        ...,\n        [0.        , 0.        , 0.        , ..., 0.        , 0.61142331,\n         0.61142331],\n        [0.        , 0.        , 0.        , ..., 0.        , 0.53380173,\n         0.        ],\n        [0.        , 0.        , 0.        , ..., 0.        , 0.        ,\n         0.        ]]),\n 'pred_de': array([[3.39062500e+00, 2.97070312e+00, 1.72576904e-02, ...,\n         7.29980469e-01, 5.16796875e+00, 4.69140625e+00],\n        [2.98242188e+00, 2.72070312e+00, 1.59301758e-02, ...,\n         1.42285156e+00, 5.37500000e+00, 4.09765625e+00],\n        [3.16210938e+00, 2.65625000e+00, 1.50985718e-02, ...,\n         9.90722656e-01, 5.46484375e+00, 4.48828125e+00],\n        ...,\n        [3.28369141e-02, 3.69644165e-03, 3.35156250e+00, ...,\n         9.08203125e-01, 2.95703125e+00, 2.90039062e+00],\n        [2.93945312e-01, 2.69317627e-03, 3.13281250e+00, ...,\n         1.59082031e+00, 2.91992188e+00, 2.91210938e+00],\n        [2.53417969e-01, 2.79426575e-03, 3.20507812e+00, ...,\n         1.86523438e+00, 2.90234375e+00, 2.58398438e+00]]),\n 'truth_de': array([[4.04593277, 3.68595266, 0.        , ..., 0.        , 4.59439039,\n         4.7302947 ],\n        [3.62918448, 3.79214764, 0.        , ..., 0.        , 4.80988741,\n         5.05027342],\n        [4.03840542, 3.58910203, 0.        , ..., 0.        , 5.07146072,\n         4.58296824],\n        ...,\n        [0.        , 0.        , 3.01505518, ..., 2.32957554, 3.30081105,\n         3.47174764],\n        [0.        , 0.        , 2.66741347, ..., 1.78134286, 3.16009831,\n         3.0983839 ],\n        [0.        , 0.        , 3.23824167, ..., 1.40145588, 2.90942693,\n         3.23824167]])}"
     },
     "execution_count": 50,
     "metadata": {},
     "output_type": "execute_result"
    }
   ],
   "source": [
    "test_res"
   ],
   "metadata": {
    "collapsed": false,
    "ExecuteTime": {
     "end_time": "2024-04-18T12:01:28.810635837Z",
     "start_time": "2024-04-18T12:01:28.808891167Z"
    }
   },
   "id": "e05b088d3b8791f5",
   "execution_count": 50
  },
  {
   "cell_type": "code",
   "outputs": [],
   "source": [
    "from biollm.repo.gears.inference import evaluate, compute_metrics\n",
    "\n",
    "test_metrics, test_pert_res = compute_metrics(test_res)"
   ],
   "metadata": {
    "collapsed": false,
    "ExecuteTime": {
     "end_time": "2024-04-18T12:01:29.181680386Z",
     "start_time": "2024-04-18T12:01:28.809193203Z"
    }
   },
   "id": "9ad5fb88374bfb12",
   "execution_count": 51
  },
  {
   "cell_type": "code",
   "outputs": [
    {
     "data": {
      "text/plain": "{'mse': 0.010639110014391306,\n 'mse_de': 0.182111431037015,\n 'pearson': 0.9865111277927033,\n 'pearson_de': 0.9534139080623021}"
     },
     "execution_count": 11,
     "metadata": {},
     "output_type": "execute_result"
    }
   ],
   "source": [
    "test_metrics"
   ],
   "metadata": {
    "collapsed": false,
    "ExecuteTime": {
     "end_time": "2024-04-18T10:29:43.335990501Z",
     "start_time": "2024-04-18T10:29:43.328013753Z"
    }
   },
   "id": "319e9f82a6e7a557",
   "execution_count": 11
  },
  {
   "cell_type": "code",
   "outputs": [],
   "source": [
    "test_metrics"
   ],
   "metadata": {
    "collapsed": false
   },
   "id": "b02147e8112c5eca",
   "execution_count": null
  },
  {
   "cell_type": "code",
   "outputs": [
    {
     "name": "stdout",
     "output_type": "stream",
     "text": [
      "{'pearson': 0.9865111277927006, 'pearson_de': 0.9534139080623021, 'pearson_delta': 0.34561967989313486, 'pearson_de_delta': 0.7731520751238459}\n"
     ]
    }
   ],
   "source": [
    "from biollm.evaluate.bm_metrices_pert import compute_perturbation_metrics\n",
    "\n",
    "test_metrics = compute_perturbation_metrics(\n",
    "    test_res, pert_data.adata[pert_data.adata.obs[\"condition\"] == \"ctrl\"]\n",
    ")\n",
    "print(test_metrics)"
   ],
   "metadata": {
    "collapsed": false,
    "ExecuteTime": {
     "end_time": "2024-04-18T12:01:29.854914538Z",
     "start_time": "2024-04-18T12:01:29.165272190Z"
    }
   },
   "id": "4519cf46ca25d663",
   "execution_count": 52
  },
  {
   "cell_type": "code",
   "execution_count": 53,
   "id": "initial_id",
   "metadata": {
    "collapsed": true,
    "ExecuteTime": {
     "end_time": "2024-04-18T12:01:37.077959109Z",
     "start_time": "2024-04-18T12:01:29.860272167Z"
    }
   },
   "outputs": [
    {
     "name": "stdout",
     "output_type": "stream",
     "text": [
      "test_combo_seen0_pearson_delta: nan\n",
      "test_combo_seen0_pearson_delta_de: nan\n",
      "test_combo_seen0_pearson_delta_top20_de_non_dropout: nan\n",
      "test_combo_seen0_pearson_top20_de_non_dropout: nan\n",
      "test_combo_seen1_pearson_delta: nan\n",
      "test_combo_seen1_pearson_delta_de: nan\n",
      "test_combo_seen1_pearson_delta_top20_de_non_dropout: nan\n",
      "test_combo_seen1_pearson_top20_de_non_dropout: nan\n",
      "test_combo_seen2_pearson_delta: nan\n",
      "test_combo_seen2_pearson_delta_de: nan\n",
      "test_combo_seen2_pearson_delta_top20_de_non_dropout: nan\n",
      "test_combo_seen2_pearson_top20_de_non_dropout: nan\n",
      "test_unseen_single_pearson_delta: 0.3456196798931348\n",
      "test_unseen_single_pearson_delta_de: 0.773152075123846\n",
      "test_unseen_single_pearson_delta_top20_de_non_dropout: 0.7728769223680013\n",
      "test_unseen_single_pearson_top20_de_non_dropout: 0.9508552704076959\n"
     ]
    }
   ],
   "source": [
    "from biollm.repo.gears.inference import deeper_analysis, non_dropout_analysis\n",
    "import numpy as np\n",
    "\n",
    "deeper_res = deeper_analysis(pert_data.adata, test_res)\n",
    "non_dropout_res = non_dropout_analysis(pert_data.adata, test_res)\n",
    "\n",
    "metrics = [\"pearson_delta\", \"pearson_delta_de\"]\n",
    "metrics_non_dropout = [\n",
    "    \"pearson_delta_top20_de_non_dropout\",\n",
    "    \"pearson_top20_de_non_dropout\",\n",
    "]\n",
    "subgroup_analysis = {}\n",
    "for name in pert_data.subgroup[\"test_subgroup\"].keys():\n",
    "    subgroup_analysis[name] = {}\n",
    "    for m in metrics:\n",
    "        subgroup_analysis[name][m] = []\n",
    "\n",
    "    for m in metrics_non_dropout:\n",
    "        subgroup_analysis[name][m] = []\n",
    "\n",
    "for name, pert_list in pert_data.subgroup[\"test_subgroup\"].items():\n",
    "    for pert in pert_list:\n",
    "        for m in metrics:\n",
    "            subgroup_analysis[name][m].append(deeper_res[pert][m])\n",
    "\n",
    "        for m in metrics_non_dropout:\n",
    "            subgroup_analysis[name][m].append(non_dropout_res[pert][m])\n",
    "\n",
    "for name, result in subgroup_analysis.items():\n",
    "    for m in result.keys():\n",
    "        mean_value = np.mean(subgroup_analysis[name][m])\n",
    "        print(\"test_\" + name + \"_\" + m + \": \" + str(mean_value))\n"
   ]
  }
 ],
 "metadata": {
  "kernelspec": {
   "display_name": "Python 3",
   "language": "python",
   "name": "python3"
  },
  "language_info": {
   "codemirror_mode": {
    "name": "ipython",
    "version": 2
   },
   "file_extension": ".py",
   "mimetype": "text/x-python",
   "name": "python",
   "nbconvert_exporter": "python",
   "pygments_lexer": "ipython2",
   "version": "2.7.6"
  }
 },
 "nbformat": 4,
 "nbformat_minor": 5
}
