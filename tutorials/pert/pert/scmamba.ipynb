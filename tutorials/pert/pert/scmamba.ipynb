{
 "cells": [
  {
   "cell_type": "code",
   "outputs": [
    {
     "name": "stderr",
     "output_type": "stream",
     "text": [
      "/home/share/huadjyin/home/s_qiuping1/app/miniconda3/envs/scgpt/lib/python3.9/site-packages/lightning/fabric/plugins/environments/xla.py:18: DeprecationWarning: `ModuleAvailableCache` is a special case of `RequirementCache`. Please use `RequirementCache(module=...)` instead.\n",
      "  from lightning.fabric.accelerators.tpu import _XLA_AVAILABLE, TPUAccelerator\n",
      "/home/share/huadjyin/home/s_qiuping1/app/miniconda3/envs/scgpt/lib/python3.9/site-packages/lightning/fabric/__init__.py:36: DeprecationWarning: Deprecated call to `pkg_resources.declare_namespace('lightning.fabric')`.\n",
      "Implementing implicit namespace packages (as specified in PEP 420) is preferred to `pkg_resources.declare_namespace`. See https://setuptools.pypa.io/en/latest/references/keywords.html#keyword-namespace-packages\n",
      "  __import__(\"pkg_resources\").declare_namespace(__name__)\n",
      "/home/share/huadjyin/home/s_qiuping1/app/miniconda3/envs/scgpt/lib/python3.9/site-packages/pkg_resources/__init__.py:2348: DeprecationWarning: Deprecated call to `pkg_resources.declare_namespace('lightning')`.\n",
      "Implementing implicit namespace packages (as specified in PEP 420) is preferred to `pkg_resources.declare_namespace`. See https://setuptools.pypa.io/en/latest/references/keywords.html#keyword-namespace-packages\n",
      "  declare_namespace(parent)\n",
      "/home/share/huadjyin/home/s_qiuping1/app/miniconda3/envs/scgpt/lib/python3.9/site-packages/lightning/pytorch/__init__.py:36: DeprecationWarning: Deprecated call to `pkg_resources.declare_namespace('lightning.pytorch')`.\n",
      "Implementing implicit namespace packages (as specified in PEP 420) is preferred to `pkg_resources.declare_namespace`. See https://setuptools.pypa.io/en/latest/references/keywords.html#keyword-namespace-packages\n",
      "  __import__(\"pkg_resources\").declare_namespace(__name__)\n",
      "/home/share/huadjyin/home/s_qiuping1/app/miniconda3/envs/scgpt/lib/python3.9/site-packages/pkg_resources/__init__.py:2348: DeprecationWarning: Deprecated call to `pkg_resources.declare_namespace('lightning')`.\n",
      "Implementing implicit namespace packages (as specified in PEP 420) is preferred to `pkg_resources.declare_namespace`. See https://setuptools.pypa.io/en/latest/references/keywords.html#keyword-namespace-packages\n",
      "  declare_namespace(parent)\n",
      "/home/share/huadjyin/home/s_qiuping1/app/miniconda3/envs/scgpt/lib/python3.9/site-packages/scvi/_settings.py:63: UserWarning: Since v1.0.0, scvi-tools no longer uses a random seed by default. Run `scvi.settings.seed = 0` to reproduce results from previous versions.\n",
      "  self.seed = seed\n",
      "/home/share/huadjyin/home/s_qiuping1/app/miniconda3/envs/scgpt/lib/python3.9/site-packages/scvi/_settings.py:70: UserWarning: Setting `dl_pin_memory_gpu_training` is deprecated in v1.0 and will be removed in v1.1. Please pass in `pin_memory` to the data loaders instead.\n",
      "  self.dl_pin_memory_gpu_training = (\n",
      "/home/share/huadjyin/home/s_qiuping1/app/miniconda3/envs/scgpt/lib/python3.9/site-packages/chex/_src/pytypes.py:53: DeprecationWarning: jax.core.Shape is deprecated. Use Shape = Sequence[int | Any].\n",
      "  Shape = jax.core.Shape\n",
      "/home/share/huadjyin/home/s_qiuping1/app/miniconda3/envs/scgpt/lib/python3.9/site-packages/chex/_src/pytypes.py:54: DeprecationWarning: jax.random.KeyArray is deprecated. Use jax.Array for annotations, and jax.dtypes.issubdtype(arr.dtype, jax.dtypes.prng_key) for runtime detection of typed prng keys (i.e. keys created with jax.random.key).\n",
      "For more information, see https://jax.readthedocs.io/en/latest/jep/9263-typed-keys.html\n",
      "  PRNGKey = jax.random.KeyArray\n"
     ]
    },
    {
     "name": "stdout",
     "output_type": "stream",
     "text": [
      "Using simple batchnorm instead of domain specific batchnorm\n"
     ]
    },
    {
     "name": "stderr",
     "output_type": "stream",
     "text": [
      "Found local copy...\n"
     ]
    },
    {
     "name": "stdout",
     "output_type": "stream",
     "text": [
      "before filter: (63585, 4399)\n",
      "match 1.0 genes in vocab of size 4399\n",
      "after filter: View of AnnData object with n_obs × n_vars = 63585 × 4399\n",
      "    obs: 'condition', 'cell_type', 'dose_val', 'control', 'condition_name', 'pert_gene_in_vocab'\n",
      "    var: 'gene_name', 'is_in_vocab'\n",
      "    uns: 'non_dropout_gene_idx', 'non_zeros_gene_idx', 'rank_genes_groups_cov_all', 'top_non_dropout_de_20', 'top_non_zero_de_20'\n"
     ]
    },
    {
     "name": "stderr",
     "output_type": "stream",
     "text": [
      "Found local copy...\n",
      "Local copy of pyg dataset is detected. Loading...\n",
      "Done!\n",
      "Found local copy...\n",
      "These perturbations are not in the GO graph and their perturbation can thus not be predicted\n",
      "['TIMM23+ctrl' 'AMIGO3+ctrl' 'KCTD16+ctrl']\n",
      "Local copy of split is detected. Loading...\n",
      "Simulation split test composition:\n",
      "combo_seen0:0\n",
      "combo_seen1:0\n",
      "combo_seen2:0\n",
      "unseen_single:18\n",
      "Done!\n",
      "Creating dataloaders....\n",
      "Done!\n"
     ]
    },
    {
     "name": "stdout",
     "output_type": "stream",
     "text": [
      "here1\n"
     ]
    },
    {
     "name": "stderr",
     "output_type": "stream",
     "text": [
      "2024-04-18 18:51:22-pert_task[line-67]-INFO: match 4399/4399 genes in vocabulary of size 60697.\n"
     ]
    }
   ],
   "source": [
    "from biollm.task.perturbation.pert_task import PertTask\n",
    "\n",
    "\n",
    "config_file = '../../config/pert/scmamba_pert.toml'\n",
    "obj = PertTask(config_file)\n",
    "pert_data, gene_ids = obj.make_dataset()"
   ],
   "metadata": {
    "collapsed": false,
    "ExecuteTime": {
     "end_time": "2024-04-18T10:51:22.270426968Z",
     "start_time": "2024-04-18T10:49:08.939160906Z"
    }
   },
   "id": "515566caa8ea4529",
   "execution_count": 1
  },
  {
   "cell_type": "code",
   "outputs": [],
   "source": [
    "best_model_path = obj.args.save_dir + '/best_model.pt'\n",
    "best_model = obj.load_obj.load_pretrain_model(best_model_path, obj.model)"
   ],
   "metadata": {
    "collapsed": false,
    "ExecuteTime": {
     "end_time": "2024-04-18T10:51:22.642405433Z",
     "start_time": "2024-04-18T10:51:22.270797417Z"
    }
   },
   "id": "f259653a01d07579",
   "execution_count": 2
  },
  {
   "cell_type": "code",
   "outputs": [],
   "source": [
    "import torch\n",
    "from torch.utils.data import DataLoader\n",
    "from biollm.model.perturbation import ScgptPerturbation\n",
    "from typing import Dict, Optional\n",
    "import numpy as np\n",
    "from anndata import AnnData\n",
    "import pickle\n",
    "from biollm.repo.scmamba.scmamba.mambaLM import MambaModel\n",
    "\n",
    "def eval_scmamba_perturb(\n",
    "    loader: DataLoader, model: MambaModel, device: torch.device, include_zero_gene: str\n",
    ", gene_ids: np.ndarray) -> Dict:\n",
    "    \"\"\"\n",
    "    Run model in inference mode using a given data loader\n",
    "    \"\"\"\n",
    "    model.eval()\n",
    "    model.to(device)\n",
    "    pert_cat = []\n",
    "    pred = []\n",
    "    truth = []\n",
    "    pred_de = []\n",
    "    truth_de = []\n",
    "    results = {}\n",
    "    de_idxs = {}\n",
    "    sorted_indexs = {}\n",
    "    print('start to predict: ', len(loader.dataset))\n",
    "    for itr, batch in enumerate(loader):\n",
    "        batch.to(device)\n",
    "        pert_cat.extend(batch.pert)\n",
    "        for i in range(len(batch['pert'])):\n",
    "            if batch[\"pert\"][i] not in de_idxs:\n",
    "                de_idxs[batch[\"pert\"][i]] = batch.de_idx[i]\n",
    "        for i in range(len(batch['pert'])):\n",
    "            if batch[\"pert\"][i] not in sorted_indexs:\n",
    "                sorted_indexs[batch[\"pert\"][i]] = batch.sorted_index[i]\n",
    "        with torch.no_grad():\n",
    "            p = model.pred_perturb(\n",
    "                batch,\n",
    "                include_zero_gene=include_zero_gene,\n",
    "                gene_ids=gene_ids,\n",
    "            )\n",
    "            t = batch.y\n",
    "            pred.extend(p.cpu())\n",
    "            truth.extend(t.cpu())\n",
    "            \n",
    "            # Differentially expressed genes\n",
    "            for itr, de_idx in enumerate(batch.de_idx):\n",
    "                pred_de.append(p[itr, de_idx])\n",
    "                truth_de.append(t[itr, de_idx])\n",
    "    print('end')\n",
    "    # all genes\n",
    "    results[\"pert_cat\"] = np.array(pert_cat)\n",
    "    pred = torch.stack(pred)\n",
    "    truth = torch.stack(truth)\n",
    "    results[\"pred\"] = pred.detach().cpu().numpy().astype(float)\n",
    "    results[\"truth\"] = truth.detach().cpu().numpy().astype(float)\n",
    "    results['de_idx'] = de_idxs\n",
    "    results['sorted_index'] = sorted_indexs\n",
    "    pred_de = torch.stack(pred_de)\n",
    "    truth_de = torch.stack(truth_de)\n",
    "    results[\"pred_de\"] = pred_de.detach().cpu().numpy().astype(float)\n",
    "    results[\"truth_de\"] = truth_de.detach().cpu().numpy().astype(float)\n",
    "    return results"
   ],
   "metadata": {
    "collapsed": false,
    "ExecuteTime": {
     "end_time": "2024-04-18T12:35:00.908153696Z",
     "start_time": "2024-04-18T12:35:00.813051485Z"
    }
   },
   "id": "7d09692fc1c15539",
   "execution_count": 69
  },
  {
   "cell_type": "code",
   "outputs": [
    {
     "name": "stdout",
     "output_type": "stream",
     "text": [
      "start to predict:  8695\n",
      "end\n"
     ]
    }
   ],
   "source": [
    "test_loader = pert_data.dataloader[\"test_loader\"]\n",
    "test_res = eval_scmamba_perturb(test_loader, best_model, 'cuda:2', 'all', gene_ids)"
   ],
   "metadata": {
    "collapsed": false,
    "ExecuteTime": {
     "end_time": "2024-04-18T12:36:22.773315775Z",
     "start_time": "2024-04-18T12:35:03.199558873Z"
    }
   },
   "id": "b05347245aad0aa7",
   "execution_count": 70
  },
  {
   "cell_type": "code",
   "outputs": [],
   "source": [
    "from biollm.repo.gears.inference import evaluate, compute_metrics\n",
    "\n",
    "test_metrics, test_pert_res = compute_metrics(test_res)"
   ],
   "metadata": {
    "collapsed": false,
    "ExecuteTime": {
     "end_time": "2024-04-18T12:23:49.496480025Z",
     "start_time": "2024-04-18T12:23:49.020731953Z"
    }
   },
   "id": "9ad5fb88374bfb12",
   "execution_count": 57
  },
  {
   "cell_type": "code",
   "outputs": [
    {
     "data": {
      "text/plain": "{'mse': 0.010639110014391306,\n 'mse_de': 0.182111431037015,\n 'pearson': 0.9865111277927033,\n 'pearson_de': 0.9534139080623021}"
     },
     "execution_count": 71,
     "metadata": {},
     "output_type": "execute_result"
    }
   ],
   "source": [
    "test_metrics"
   ],
   "metadata": {
    "collapsed": false,
    "ExecuteTime": {
     "end_time": "2024-04-18T12:38:51.540436455Z",
     "start_time": "2024-04-18T12:38:51.478313036Z"
    }
   },
   "id": "319e9f82a6e7a557",
   "execution_count": 71
  },
  {
   "cell_type": "code",
   "outputs": [],
   "source": [
    "test_metrics"
   ],
   "metadata": {
    "collapsed": false
   },
   "id": "b02147e8112c5eca",
   "execution_count": null
  },
  {
   "cell_type": "code",
   "outputs": [],
   "source": [
    "def compute_perturbation_metrics(\n",
    "    results: Dict,\n",
    "    ctrl_adata: AnnData,\n",
    "    de_idx: Dict,\n",
    "    sorted_index: Dict,\n",
    "    non_zero_genes: bool = False,\n",
    "    return_raw: bool = False,\n",
    "    output: Optional[str] = None\n",
    ") -> Dict:\n",
    "    \"\"\"\n",
    "    Given results from a model run and the ground truth, compute metrics\n",
    "\n",
    "    Args:\n",
    "        results (:obj:`Dict`): The results from a model run\n",
    "        ctrl_adata (:obj:`AnnData`): The adata of the control condtion\n",
    "        non_zero_genes (:obj:`bool`, optional): Whether to only consider non-zero\n",
    "            genes in the ground truth when computing metrics\n",
    "        return_raw (:obj:`bool`, optional): Whether to return the raw metrics or\n",
    "            the mean of the metrics. Default is False.\n",
    "\n",
    "    Returns:\n",
    "        :obj:`Dict`: The metrics computed\n",
    "    \"\"\"\n",
    "    from scipy.stats import pearsonr\n",
    "\n",
    "    # metrics:\n",
    "    #   Pearson correlation of expression on all genes, on DE genes,\n",
    "    #   Pearson correlation of expression change on all genes, on DE genes,\n",
    "\n",
    "    metrics_across_genes = {\n",
    "        \"pearson\": [],\n",
    "        \"pearson_de\": [],\n",
    "        \"pearson_delta\": [],\n",
    "        \"pearson_de_delta\": [],\n",
    "    }\n",
    "\n",
    "    metrics_across_conditions = {\n",
    "        \"pearson\": [],\n",
    "        \"pearson_delta\": [],\n",
    "    }\n",
    "\n",
    "    conditions = np.unique(results[\"pert_cat\"])\n",
    "    assert not \"ctrl\" in conditions, \"ctrl should not be in test conditions\"\n",
    "    condition2idx = {c: np.where(results[\"pert_cat\"] == c)[0] for c in conditions}\n",
    "\n",
    "    \n",
    "    mean_ctrl = np.array([ctrl_adata.X[:, sorted_index[c]].mean(0) for c in conditions]).reshape(len(conditions), -1)\n",
    "    assert ctrl_adata.X.max() <= 1000, \"gene expression should be log transformed\"\n",
    "\n",
    "    true_perturbed = results[\"truth\"]  # (n_cells, n_genes)\n",
    "    assert true_perturbed.max() <= 1000, \"gene expression should be log transformed\"\n",
    "    true_mean_perturbed_by_condition = np.array(\n",
    "        [true_perturbed[condition2idx[c]].mean(0) for c in conditions]\n",
    "    )  # (n_conditions, n_genes)\n",
    "    true_mean_delta_by_condition = true_mean_perturbed_by_condition - mean_ctrl\n",
    "    zero_rows = np.where(np.all(true_mean_perturbed_by_condition == 0, axis=1))[\n",
    "        0\n",
    "    ].tolist()\n",
    "    \n",
    "\n",
    "    pred_perturbed = results[\"pred\"]  # (n_cells, n_genes)\n",
    "    pred_mean_perturbed_by_condition = np.array(\n",
    "        [pred_perturbed[condition2idx[c]].mean(0) for c in conditions]\n",
    "    )  # (n_conditions, n_genes)\n",
    "    pred_mean_delta_by_condition = pred_mean_perturbed_by_condition - mean_ctrl\n",
    "\n",
    "    def corr_over_genes(x, y, conditions, res_list, skip_rows=[], non_zero_mask=None):\n",
    "        \"\"\"compute pearson correlation over genes for each condition\"\"\"\n",
    "        for i, c in enumerate(conditions):\n",
    "            if i in skip_rows:\n",
    "                continue\n",
    "            x_, y_ = x[i], y[i]\n",
    "            if non_zero_mask is not None:\n",
    "                x_ = x_[non_zero_mask[i]]\n",
    "                y_ = y_[non_zero_mask[i]]\n",
    "            res_list.append(pearsonr(x_, y_)[0])\n",
    "\n",
    "    corr_over_genes(\n",
    "        true_mean_perturbed_by_condition,\n",
    "        pred_mean_perturbed_by_condition,\n",
    "        conditions,\n",
    "        metrics_across_genes[\"pearson\"],\n",
    "        zero_rows,\n",
    "        non_zero_mask=true_mean_perturbed_by_condition != 0 if non_zero_genes else None,\n",
    "    )\n",
    "    corr_over_genes(\n",
    "        true_mean_delta_by_condition,\n",
    "        pred_mean_delta_by_condition,\n",
    "        conditions,\n",
    "        metrics_across_genes[\"pearson_delta\"],\n",
    "        zero_rows,\n",
    "        non_zero_mask=true_mean_perturbed_by_condition != 0 if non_zero_genes else None,\n",
    "    )\n",
    "    mean_ctrl_de = np.array(\n",
    "        [mean_ctrl[i, de_idx[c]] for i, c in enumerate(conditions)]\n",
    "    )  # (n_conditions, n_diff_genes)\n",
    "    true_mean_perturbed_by_condition_de = np.array(\n",
    "        [\n",
    "            true_mean_perturbed_by_condition[i, de_idx[c]]\n",
    "            for i, c in enumerate(conditions)\n",
    "        ]\n",
    "    )  # (n_conditions, n_diff_genes)\n",
    "    zero_rows_de = np.where(np.all(true_mean_perturbed_by_condition_de == 0, axis=1))[\n",
    "        0\n",
    "    ].tolist()\n",
    "    true_mean_delta_by_condition_de = true_mean_perturbed_by_condition_de - mean_ctrl_de\n",
    "\n",
    "    pred_mean_perturbed_by_condition_de = np.array(\n",
    "        [\n",
    "            pred_mean_perturbed_by_condition[i, de_idx[c]]\n",
    "            for i, c in enumerate(conditions)\n",
    "        ]\n",
    "    )  # (n_conditions, n_diff_genes)\n",
    "    pred_mean_delta_by_condition_de = pred_mean_perturbed_by_condition_de - mean_ctrl_de\n",
    "\n",
    "    corr_over_genes(\n",
    "        true_mean_perturbed_by_condition_de,\n",
    "        pred_mean_perturbed_by_condition_de,\n",
    "        conditions,\n",
    "        metrics_across_genes[\"pearson_de\"],\n",
    "        zero_rows_de,\n",
    "    )\n",
    "    corr_over_genes(\n",
    "        true_mean_delta_by_condition_de,\n",
    "        pred_mean_delta_by_condition_de,\n",
    "        conditions,\n",
    "        metrics_across_genes[\"pearson_de_delta\"],\n",
    "        zero_rows_de,\n",
    "    )\n",
    "\n",
    "    if not return_raw:\n",
    "        for k, v in metrics_across_genes.items():\n",
    "            metrics_across_genes[k] = np.mean(v)\n",
    "        for k, v in metrics_across_conditions.items():\n",
    "            metrics_across_conditions[k] = np.mean(v)\n",
    "    metrics = metrics_across_genes\n",
    "    if output is not None:\n",
    "        with open(output, 'wb') as f:\n",
    "            pickle.dump(metrics, f)\n",
    "    return metrics\n"
   ],
   "metadata": {
    "collapsed": false,
    "ExecuteTime": {
     "end_time": "2024-04-18T13:00:04.952932803Z",
     "start_time": "2024-04-18T13:00:04.917644061Z"
    }
   },
   "id": "7326ca0f60fdf3af",
   "execution_count": 81
  },
  {
   "cell_type": "code",
   "outputs": [
    {
     "name": "stdout",
     "output_type": "stream",
     "text": [
      "{'pearson': 0.9865111277927033, 'pearson_de': 0.9534139080623021, 'pearson_delta': 0.345619679893135, 'pearson_de_delta': 0.7731520751238459}\n"
     ]
    }
   ],
   "source": [
    "de_idx = test_res['de_idx']\n",
    "sorted_index = test_res['sorted_index']\n",
    "test_metrics = compute_perturbation_metrics(\n",
    "    test_res, pert_data.adata[pert_data.adata.obs[\"condition\"] == \"ctrl\"], de_idx, sorted_index\n",
    ")\n",
    "print(test_metrics)"
   ],
   "metadata": {
    "collapsed": false,
    "ExecuteTime": {
     "end_time": "2024-04-18T13:00:16.701772034Z",
     "start_time": "2024-04-18T13:00:09.946444807Z"
    }
   },
   "id": "4519cf46ca25d663",
   "execution_count": 82
  },
  {
   "cell_type": "code",
   "outputs": [],
   "source": [
    "{'pearson': 0.9865111277927033, 'pearson_de': 0.9534139080623021, 'pearson_delta': 0.9929274519015182, 'pearson_de_delta': 0.9556105969532533}"
   ],
   "metadata": {
    "collapsed": false
   },
   "id": "f6c78df4ef8abbab"
  },
  {
   "cell_type": "code",
   "execution_count": 53,
   "id": "initial_id",
   "metadata": {
    "collapsed": true,
    "ExecuteTime": {
     "end_time": "2024-04-18T12:01:37.077959109Z",
     "start_time": "2024-04-18T12:01:29.860272167Z"
    }
   },
   "outputs": [
    {
     "name": "stdout",
     "output_type": "stream",
     "text": [
      "test_combo_seen0_pearson_delta: nan\n",
      "test_combo_seen0_pearson_delta_de: nan\n",
      "test_combo_seen0_pearson_delta_top20_de_non_dropout: nan\n",
      "test_combo_seen0_pearson_top20_de_non_dropout: nan\n",
      "test_combo_seen1_pearson_delta: nan\n",
      "test_combo_seen1_pearson_delta_de: nan\n",
      "test_combo_seen1_pearson_delta_top20_de_non_dropout: nan\n",
      "test_combo_seen1_pearson_top20_de_non_dropout: nan\n",
      "test_combo_seen2_pearson_delta: nan\n",
      "test_combo_seen2_pearson_delta_de: nan\n",
      "test_combo_seen2_pearson_delta_top20_de_non_dropout: nan\n",
      "test_combo_seen2_pearson_top20_de_non_dropout: nan\n",
      "test_unseen_single_pearson_delta: 0.3456196798931348\n",
      "test_unseen_single_pearson_delta_de: 0.773152075123846\n",
      "test_unseen_single_pearson_delta_top20_de_non_dropout: 0.7728769223680013\n",
      "test_unseen_single_pearson_top20_de_non_dropout: 0.9508552704076959\n"
     ]
    }
   ],
   "source": [
    "from biollm.repo.gears.inference import deeper_analysis, non_dropout_analysis\n",
    "import numpy as np\n",
    "\n",
    "deeper_res = deeper_analysis(pert_data.adata, test_res)\n",
    "non_dropout_res = non_dropout_analysis(pert_data.adata, test_res)\n",
    "\n",
    "metrics = [\"pearson_delta\", \"pearson_delta_de\"]\n",
    "metrics_non_dropout = [\n",
    "    \"pearson_delta_top20_de_non_dropout\",\n",
    "    \"pearson_top20_de_non_dropout\",\n",
    "]\n",
    "subgroup_analysis = {}\n",
    "for name in pert_data.subgroup[\"test_subgroup\"].keys():\n",
    "    subgroup_analysis[name] = {}\n",
    "    for m in metrics:\n",
    "        subgroup_analysis[name][m] = []\n",
    "\n",
    "    for m in metrics_non_dropout:\n",
    "        subgroup_analysis[name][m] = []\n",
    "\n",
    "for name, pert_list in pert_data.subgroup[\"test_subgroup\"].items():\n",
    "    for pert in pert_list:\n",
    "        for m in metrics:\n",
    "            subgroup_analysis[name][m].append(deeper_res[pert][m])\n",
    "\n",
    "        for m in metrics_non_dropout:\n",
    "            subgroup_analysis[name][m].append(non_dropout_res[pert][m])\n",
    "\n",
    "for name, result in subgroup_analysis.items():\n",
    "    for m in result.keys():\n",
    "        mean_value = np.mean(subgroup_analysis[name][m])\n",
    "        print(\"test_\" + name + \"_\" + m + \": \" + str(mean_value))\n"
   ]
  }
 ],
 "metadata": {
  "kernelspec": {
   "display_name": "Python 3",
   "language": "python",
   "name": "python3"
  },
  "language_info": {
   "codemirror_mode": {
    "name": "ipython",
    "version": 2
   },
   "file_extension": ".py",
   "mimetype": "text/x-python",
   "name": "python",
   "nbconvert_exporter": "python",
   "pygments_lexer": "ipython2",
   "version": "2.7.6"
  }
 },
 "nbformat": 4,
 "nbformat_minor": 5
}
