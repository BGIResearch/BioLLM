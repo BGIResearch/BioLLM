{
 "cells": [
  {
   "cell_type": "code",
   "outputs": [
    {
     "name": "stdout",
     "output_type": "stream",
     "text": [
      "16585\n"
     ]
    }
   ],
   "source": [
    "import json\n",
    "\n",
    "with open('../../case/models/scbert/gene_vocab.json', 'r') as f:\n",
    "    scbert_vocab = json.load(f)\n",
    "with open('../../case/models/geneformer/gene_vocab.json', 'r') as f:\n",
    "    geneformer_vocab = json.load(f)\n",
    "with open('../../case/models/scgpt/vocab.json', 'r') as f:\n",
    "    scgpt_vocab = json.load(f)\n",
    "with open('../../case/models/scfoundation/gene_vocab.json', 'r') as f:\n",
    "    scfoundation_vocab = json.load(f)\n",
    "    \n",
    "gene_set = set(scbert_vocab.keys()).intersection(set(geneformer_vocab.keys()))\n",
    "gene_set = gene_set.intersection(scgpt_vocab.keys())\n",
    "gene_set = gene_set.intersection(scfoundation_vocab.keys())\n",
    "print(len(gene_set))"
   ],
   "metadata": {
    "collapsed": false,
    "ExecuteTime": {
     "end_time": "2024-07-30T02:38:07.999062Z",
     "start_time": "2024-07-30T02:38:07.910060Z"
    }
   },
   "id": "d6a0baaecad4d167",
   "execution_count": 63
  },
  {
   "cell_type": "code",
   "outputs": [],
   "source": [
    "import pickle\n",
    "\n",
    "pkl_file = \"/home/share/huadjyin/home/s_huluni/project/bio_model/biollm/biollm/evaluate/gene_setinfo.pkl\"\n",
    "# Load the pickle file\n",
    "with open(pkl_file, \"rb\") as file:\n",
    "    gene_pw_dict = pickle.load(file)\n"
   ],
   "metadata": {
    "collapsed": false,
    "ExecuteTime": {
     "end_time": "2024-07-30T02:38:10.428890Z",
     "start_time": "2024-07-30T02:38:10.131481Z"
    }
   },
   "id": "bde002bc99a888a6",
   "execution_count": 64
  },
  {
   "cell_type": "code",
   "outputs": [
    {
     "data": {
      "text/plain": "19477"
     },
     "execution_count": 4,
     "metadata": {},
     "output_type": "execute_result"
    }
   ],
   "source": [
    "len(gene_pw_dict)"
   ],
   "metadata": {
    "collapsed": false,
    "ExecuteTime": {
     "end_time": "2024-07-29T09:31:18.978930Z",
     "start_time": "2024-07-29T09:31:18.973305Z"
    }
   },
   "id": "7c3d3e7b85e56d4b",
   "execution_count": 4
  },
  {
   "cell_type": "code",
   "outputs": [
    {
     "data": {
      "text/plain": "15587"
     },
     "execution_count": 65,
     "metadata": {},
     "output_type": "execute_result"
    }
   ],
   "source": [
    "genes = gene_set.intersection(set(gene_pw_dict.keys()))\n",
    "len(genes)"
   ],
   "metadata": {
    "collapsed": false,
    "ExecuteTime": {
     "end_time": "2024-07-30T02:38:13.949315Z",
     "start_time": "2024-07-30T02:38:13.941037Z"
    }
   },
   "id": "26b98a4231a34daa",
   "execution_count": 65
  },
  {
   "cell_type": "code",
   "outputs": [],
   "source": [
    "import pandas as pd\n",
    "import numpy as np\n",
    "from sklearn.metrics.pairwise import cosine_similarity\n",
    "import tqdm\n",
    "from collections import defaultdict\n",
    "\n",
    "def cal_cos_similarity(embedding_dict, threshold=99):\n",
    "    a = pd.DataFrame.from_dict(embedding_dict)\n",
    "    similarities = cosine_similarity(a.T)\n",
    "    genes = list(a.columns)\n",
    "    cutoff_value = threshold\n",
    "    cutoff_value = np.percentile(similarities, threshold)\n",
    "    print(cutoff_value)\n",
    "    cutoff_value = 0 if cutoff_value < 0 else cutoff_value\n",
    "    similarities[similarities < cutoff_value] = 0\n",
    "    nodes_weight = defaultdict(list)\n",
    "    nz = list(zip(*similarities.nonzero()))\n",
    "    print('len gene paries: ', len(nz))\n",
    "    \n",
    "    for n in tqdm.tqdm(nz):\n",
    "        if n[0] != n[1]:\n",
    "            nodes_weight['g1'].append(genes[n[0]])\n",
    "            nodes_weight['g2'].append(genes[n[1]])\n",
    "            nodes_weight['score'].append(similarities[n[0], n[1]])\n",
    "            # nodes_weight.append((genes[n[0]], genes[n[1]], similarities[n[0], n[1]]))\n",
    "    df = pd.DataFrame(nodes_weight)\n",
    "    return df\n",
    "\n",
    "def cal_bio_jacard(scores_df, gene_pw_dict):\n",
    "    res = []\n",
    "    for i in scores_df.index:\n",
    "        set1 = set(gene_pw_dict[scores_df.iloc[i]['g1']])\n",
    "        set2 = set(gene_pw_dict[scores_df.iloc[i]['g2']])\n",
    "    \n",
    "        intersection = len(set1.intersection(set2))\n",
    "        union = len(set1.union(set2))\n",
    "    \n",
    "        jaccard_index = intersection / union\n",
    "        res.append(jaccard_index)\n",
    "    scores_df['jacard_dis'] = res\n",
    "\n",
    "    return scores_df\n",
    "\n"
   ],
   "metadata": {
    "collapsed": false,
    "ExecuteTime": {
     "end_time": "2024-07-30T02:44:20.866899Z",
     "start_time": "2024-07-30T02:44:20.652003Z"
    }
   },
   "id": "e98d6f9bac0dba99",
   "execution_count": 73
  },
  {
   "cell_type": "code",
   "outputs": [
    {
     "data": {
      "text/plain": "{'scbert': 0.05208201256479205,\n 'scgpt': 0.12346761217024102,\n 'scfoundation': 0.000534098729770561}"
     },
     "execution_count": 76,
     "metadata": {},
     "output_type": "execute_result"
    }
   ],
   "source": [],
   "metadata": {
    "collapsed": false,
    "ExecuteTime": {
     "end_time": "2024-07-30T03:28:07.677683Z",
     "start_time": "2024-07-30T03:28:07.673088Z"
    }
   },
   "id": "50ac98bf16035fc2",
   "execution_count": 76
  },
  {
   "cell_type": "code",
   "outputs": [
    {
     "name": "stdout",
     "output_type": "stream",
     "text": [
      "0.5802778601646423\n",
      "len gene paries:  2429547\n"
     ]
    },
    {
     "name": "stderr",
     "output_type": "stream",
     "text": [
      "100%|██████████| 2429547/2429547 [00:03<00:00, 775241.02it/s]\n"
     ]
    }
   ],
   "source": [
    "import pickle \n",
    "genes = list(genes)\n",
    "corr_score = {}\n",
    "for i in ['scbert', 'scgpt', 'scfoundation', 'geneformer']:\n",
    "    with open(f'../../case/result/zero-shot/{i}_gene_emb.pk', 'rb') as f:\n",
    "        emb = pickle.load(f)\n",
    "    if not isinstance(emb['gene_emb'], np.ndarray):\n",
    "        emb['gene_emb'] = emb['gene_emb'].cpu().detach().numpy()\n",
    "    # np.random.shuffle(genes)\n",
    "    # sub_genes = genes[0:1000]\n",
    "    model_emb = {i: emb['gene_emb'][emb['gene_names'].index(i)] for i in genes}\n",
    "    scores = cal_cos_similarity(model_emb)\n",
    "    scores_df = cal_bio_jacard(scores, gene_pw_dict)\n",
    "    corr = np.corrcoef(scores_df['score'].values, scores['jacard_dis'].values)\n",
    "    corr_score[i] = corr[0, 1]"
   ],
   "metadata": {
    "collapsed": false,
    "ExecuteTime": {
     "end_time": "2024-07-30T03:39:16.916848Z",
     "start_time": "2024-07-30T03:30:48.810630Z"
    }
   },
   "id": "8b1f4a8ffe88e05f",
   "execution_count": 80
  },
  {
   "cell_type": "code",
   "outputs": [
    {
     "data": {
      "text/plain": "{'scbert': 0.05208201256479205,\n 'scgpt': 0.12346761217024102,\n 'scfoundation': 0.000534098729770561,\n 'geneformer': 0.013951334791291634}"
     },
     "execution_count": 107,
     "metadata": {},
     "output_type": "execute_result"
    }
   ],
   "source": [
    "corr_score"
   ],
   "metadata": {
    "collapsed": false,
    "ExecuteTime": {
     "end_time": "2024-07-30T08:59:41.321881Z",
     "start_time": "2024-07-30T08:59:41.317338Z"
    }
   },
   "id": "431132a7a3be4d38",
   "execution_count": 107
  },
  {
   "cell_type": "code",
   "outputs": [
    {
     "data": {
      "text/plain": "<Figure size 360x288 with 1 Axes>",
      "image/png": "[encoded data removed]"
     },
     "metadata": {
      "needs_background": "light"
     },
     "output_type": "display_data"
    }
   ],
   "source": [
    "from matplotlib import pyplot as plt\n",
    "\n",
    "x = ['scfoundation', 'geneformer', 'scbert', 'scgpt']\n",
    "y = [corr_score[i] for i in x]\n",
    "x = ['scFoundation', 'Geneformer', 'scBert', 'scGPT']\n",
    "plt.figure(figsize=(5, 4))\n",
    "axes_1 = plt.gca()\n",
    "color_name = \"black\"\n",
    "# axes_1.spines[\"top\"].set_color(color_name)\n",
    "axes_1.spines[\"bottom\"].set_color(color_name)\n",
    "axes_1.spines[\"left\"].set_color(color_name)\n",
    "# axes_1.spines[\"right\"].set_color(color_name)\n",
    "axes_1.patch.set_facecolor(\"white\")\n",
    "axes_1.axes.xaxis.set_visible(True)\n",
    "plt.bar(x, y, width=0.6)\n",
    "for i in range(len(x)):\n",
    "    plt.annotate('%.4f' % y[i], xy = (x[i], y[i]), xytext=(x[i], y[i] + 0.001))\n",
    "plt.xticks(rotation=30)\n",
    "plt.ylabel('Pearson score')\n",
    "plt.savefig('./fig4_gene_emb_corr.pdf', bbox_inches='tight')"
   ],
   "metadata": {
    "collapsed": false,
    "ExecuteTime": {
     "end_time": "2024-07-30T08:50:17.811431Z",
     "start_time": "2024-07-30T08:50:17.522951Z"
    }
   },
   "id": "97635830df4337a2",
   "execution_count": 106
  },
  {
   "cell_type": "code",
   "outputs": [
    {
     "data": {
      "text/plain": "<Figure size 360x288 with 1 Axes>",
      "image/png": "[encoded data removed]"
     },
     "metadata": {
      "needs_background": "light"
     },
     "output_type": "display_data"
    }
   ],
   "source": [
    "corr_score1 = {'scbert': 0.13881069720483408,\n",
    " 'scgpt': 0.33598432810723,\n",
    " 'scfoundation': 3.0390867810700032e-05,\n",
    " 'geneformer': 0.0298339051030289}\n",
    "\n",
    "\n",
    "x = ['scfoundation', 'geneformer', 'scbert', 'scgpt']\n",
    "y = [corr_score1[i] for i in x]\n",
    "x = ['scFoundation', 'Geneformer', 'scBert', 'scGPT']\n",
    "plt.figure(figsize=(5, 4))\n",
    "axes_1 = plt.gca()\n",
    "color_name = \"black\"\n",
    "# axes_1.spines[\"top\"].set_color(color_name)\n",
    "axes_1.spines[\"bottom\"].set_color(color_name)\n",
    "axes_1.spines[\"left\"].set_color(color_name)\n",
    "# axes_1.spines[\"right\"].set_color(color_name)\n",
    "axes_1.patch.set_facecolor(\"white\")\n",
    "axes_1.axes.xaxis.set_visible(True)\n",
    "plt.bar(x, y, width=0.6)\n",
    "for i in range(len(x)):\n",
    "    plt.annotate('%.4f' % y[i], xy = (x[i], y[i]), xytext=(x[i], y[i] + 0.001))\n",
    "plt.xticks(rotation=30)\n",
    "plt.ylabel('Pearson score')\n",
    "plt.savefig('./fig4_gene_emb_corr_1.pdf', bbox_inches='tight')"
   ],
   "metadata": {
    "collapsed": false,
    "ExecuteTime": {
     "end_time": "2024-07-30T09:09:35.954865Z",
     "start_time": "2024-07-30T09:09:35.644886Z"
    }
   },
   "id": "89aabe80290c8d47",
   "execution_count": 109
  },
  {
   "cell_type": "code",
   "outputs": [
    {
     "data": {
      "text/plain": "<Figure size 360x288 with 1 Axes>",
      "image/png": "[encoded data removed]"
     },
     "metadata": {
      "needs_background": "light"
     },
     "output_type": "display_data"
    }
   ],
   "source": [
    "# gene-express embedding\n",
    "from matplotlib import pyplot as plt\n",
    "\n",
    "\n",
    "corr_score1 = {'scbert': 0.05155456850986517,\n",
    " 'scgpt': 0.08049992395785417,\n",
    " 'scfoundation': 0.03935163101523745,\n",
    " 'geneformer': -0.019913766772582435}\n",
    "\n",
    "x = ['scfoundation', 'geneformer', 'scbert', 'scgpt']\n",
    "y = [corr_score1[i] for i in x]\n",
    "x = ['scFoundation', 'Geneformer', 'scBert', 'scGPT']\n",
    "plt.figure(figsize=(5, 4))\n",
    "axes_1 = plt.gca()\n",
    "color_name = \"black\"\n",
    "# axes_1.spines[\"top\"].set_color(color_name)\n",
    "axes_1.spines[\"bottom\"].set_color(color_name)\n",
    "axes_1.spines[\"left\"].set_color(color_name)\n",
    "# axes_1.spines[\"right\"].set_color(color_name)\n",
    "axes_1.patch.set_facecolor(\"white\")\n",
    "axes_1.axes.xaxis.set_visible(True)\n",
    "plt.bar(x, y, width=0.6)\n",
    "for i in range(len(x)):\n",
    "    plt.annotate('%.4f' % y[i], xy = (x[i], y[i]), xytext=(x[i], y[i] + 0.001))\n",
    "plt.xticks(rotation=30)\n",
    "plt.ylabel('Pearson score')\n",
    "plt.savefig('./fig4_gene_exp_emb_corr.pdf', bbox_inches='tight')\n"
   ],
   "metadata": {
    "collapsed": false,
    "ExecuteTime": {
     "end_time": "2024-08-13T01:40:34.958254Z",
     "start_time": "2024-08-13T01:40:33.929735Z"
    }
   },
   "id": "d89786aa959f3f9b",
   "execution_count": 2
  }
 ],
 "metadata": {
  "kernelspec": {
   "display_name": "Python 3",
   "language": "python",
   "name": "python3"
  },
  "language_info": {
   "codemirror_mode": {
    "name": "ipython",
    "version": 2
   },
   "file_extension": ".py",
   "mimetype": "text/x-python",
   "name": "python",
   "nbconvert_exporter": "python",
   "pygments_lexer": "ipython2",
   "version": "2.7.6"
  }
 },
 "nbformat": 4,
 "nbformat_minor": 5
}
